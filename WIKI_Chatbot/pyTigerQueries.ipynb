{
 "cells": [
  {
   "cell_type": "code",
   "execution_count": 1,
   "id": "2dd7d2d5",
   "metadata": {},
   "outputs": [
    {
     "name": "stdout",
     "output_type": "stream",
     "text": [
      "initial connection\n",
      "kcfin85rl4hi5upmnl7k1lop19jr28me\n",
      "vsj4n80atpdq6bpk7j145q53g2aql99r\n",
      "Connected\n"
     ]
    }
   ],
   "source": [
    "import pyTigerGraph as tg\n",
    "\n",
    "################# TigerGraph Credentials ######################\"\"\n",
    "# Connection parameters\n",
    "hostName = \"https://language.i.tgcloud.io/\"\n",
    "userName = \"tigergraph\"\n",
    "password = \"tigergraph\"\n",
    "\n",
    "conn = tg.TigerGraphConnection(host=hostName, username=userName, password=password)\n",
    "\n",
    "print(\"initial connection\")\n",
    "\n",
    "conn.graphname=\"WordNet\"\n",
    "secret = conn.createSecret()\n",
    "print(secret)\n",
    "authToken = conn.getToken(secret)\n",
    "authToken = authToken[0]\n",
    "print(authToken)\n",
    "# authToken = 'rc7reopbis1667ksgcppq5v5fb99p6s1'\n",
    "conn = tg.TigerGraphConnection(host=hostName, graphname=\"WordNet\", username=userName, password=password, apiToken=authToken)\n",
    "print(\"Connected\")"
   ]
  },
  {
   "cell_type": "code",
   "execution_count": 16,
   "id": "ad35ba12",
   "metadata": {},
   "outputs": [
    {
     "name": "stdout",
     "output_type": "stream",
     "text": [
      "ability:possession of the qualities (especially mental qualities) required to do something or get something done; &quot;danger heightened his powers of discrimination&quot;@en\n",
      "bailiwick:a branch of knowledge; &quot;in what discipline is his doctorate?&quot;; &quot;teachers should be well trained in their subject&quot;; &quot;anthropology is the study of human beings&quot;@en\n"
     ]
    }
   ],
   "source": [
    "query_response = conn.runInstalledQuery(\"get_synonyms\",{\"word_query\": \"science\"})\n",
    "            \n",
    "r=query_response[0]\n",
    "w=r[\"definition\"]\n",
    "for wd in w:\n",
    "    print(wd)\n",
    "#             value = \",\".join(vals)"
   ]
  },
  {
   "cell_type": "code",
   "execution_count": 22,
   "id": "3af6f9b5",
   "metadata": {},
   "outputs": [
    {
     "name": "stdout",
     "output_type": "stream",
     "text": [
      "a\n",
      "b\n",
      "c\n"
     ]
    }
   ],
   "source": [
    "a_list = [\"a\", \"b\", \"c\"]\n",
    "\n",
    "joined_string = \"\\n\".join(a_list)\n",
    "\n",
    "print(joined_string)"
   ]
  },
  {
   "cell_type": "code",
   "execution_count": null,
   "id": "4c0cb4ca",
   "metadata": {},
   "outputs": [],
   "source": []
  }
 ],
 "metadata": {
  "kernelspec": {
   "display_name": "Python 3",
   "language": "python",
   "name": "python3"
  },
  "language_info": {
   "codemirror_mode": {
    "name": "ipython",
    "version": 3
   },
   "file_extension": ".py",
   "mimetype": "text/x-python",
   "name": "python",
   "nbconvert_exporter": "python",
   "pygments_lexer": "ipython3",
   "version": "3.8.8"
  }
 },
 "nbformat": 4,
 "nbformat_minor": 5
}
