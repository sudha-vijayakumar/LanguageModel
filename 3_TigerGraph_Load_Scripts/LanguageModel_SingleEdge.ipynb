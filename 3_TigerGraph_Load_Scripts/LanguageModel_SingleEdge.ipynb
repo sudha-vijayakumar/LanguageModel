{
 "cells": [
  {
   "cell_type": "markdown",
   "metadata": {
    "id": "owRhnxW15t_w"
   },
   "source": [
    "# Script to load wordnet, conceptnet data as separate graphs with single edge."
   ]
  },
  {
   "cell_type": "markdown",
   "metadata": {
    "id": "or29w0EYMxji"
   },
   "source": [
    "## Install pyTigerGraph"
   ]
  },
  {
   "cell_type": "code",
   "execution_count": 93,
   "metadata": {
    "colab": {
     "base_uri": "https://localhost:8080/"
    },
    "executionInfo": {
     "elapsed": 11220,
     "status": "ok",
     "timestamp": 1645432903257,
     "user": {
      "displayName": "Sudha Vijayakumar",
      "photoUrl": "https://lh3.googleusercontent.com/a/default-user=s64",
      "userId": "06644857756484093013"
     },
     "user_tz": 480
    },
    "id": "GApaHRqkMx_0",
    "outputId": "2c06f3f0-6fb9-414d-f38f-1ce48a122d6e"
   },
   "outputs": [
    {
     "name": "stdout",
     "output_type": "stream",
     "text": [
      "\u001b[33mWARNING: Ignoring invalid distribution -eras-preprocessing (/opt/anaconda3/lib/python3.8/site-packages)\u001b[0m\u001b[33m\n",
      "\u001b[0m\u001b[33mWARNING: Ignoring invalid distribution -atplotlib (/opt/anaconda3/lib/python3.8/site-packages)\u001b[0m\u001b[33m\n",
      "\u001b[0m\u001b[33mWARNING: Ignoring invalid distribution -eras-preprocessing (/opt/anaconda3/lib/python3.8/site-packages)\u001b[0m\u001b[33m\n",
      "\u001b[0m\u001b[33mWARNING: Ignoring invalid distribution -atplotlib (/opt/anaconda3/lib/python3.8/site-packages)\u001b[0m\u001b[33m\n",
      "\u001b[0mRequirement already satisfied: pyTigerGraph in /opt/anaconda3/lib/python3.8/site-packages (0.0.9.9.0)\n",
      "Requirement already satisfied: validators in /opt/anaconda3/lib/python3.8/site-packages (from pyTigerGraph) (0.18.2)\n",
      "Requirement already satisfied: requests in /opt/anaconda3/lib/python3.8/site-packages (from pyTigerGraph) (2.24.0)\n",
      "Requirement already satisfied: pandas in /opt/anaconda3/lib/python3.8/site-packages (from pyTigerGraph) (1.2.4)\n",
      "Requirement already satisfied: pyTigerDriver in /opt/anaconda3/lib/python3.8/site-packages (from pyTigerGraph) (1.0.14)\n",
      "Requirement already satisfied: python-dateutil>=2.7.3 in /opt/anaconda3/lib/python3.8/site-packages (from pandas->pyTigerGraph) (2.8.1)\n",
      "Requirement already satisfied: pytz>=2017.3 in /opt/anaconda3/lib/python3.8/site-packages (from pandas->pyTigerGraph) (2020.1)\n",
      "Requirement already satisfied: numpy>=1.16.5 in /opt/anaconda3/lib/python3.8/site-packages (from pandas->pyTigerGraph) (1.19.5)\n",
      "Requirement already satisfied: chardet<4,>=3.0.2 in /opt/anaconda3/lib/python3.8/site-packages (from requests->pyTigerGraph) (3.0.4)\n",
      "Requirement already satisfied: certifi>=2017.4.17 in /opt/anaconda3/lib/python3.8/site-packages (from requests->pyTigerGraph) (2020.12.5)\n",
      "Requirement already satisfied: idna<3,>=2.5 in /opt/anaconda3/lib/python3.8/site-packages (from requests->pyTigerGraph) (2.10)\n",
      "Requirement already satisfied: urllib3!=1.25.0,!=1.25.1,<1.26,>=1.21.1 in /opt/anaconda3/lib/python3.8/site-packages (from requests->pyTigerGraph) (1.25.11)\n",
      "Requirement already satisfied: decorator>=3.4.0 in /opt/anaconda3/lib/python3.8/site-packages (from validators->pyTigerGraph) (4.4.2)\n",
      "Requirement already satisfied: six>=1.4.0 in /opt/anaconda3/lib/python3.8/site-packages (from validators->pyTigerGraph) (1.15.0)\n",
      "\u001b[33mWARNING: Ignoring invalid distribution -eras-preprocessing (/opt/anaconda3/lib/python3.8/site-packages)\u001b[0m\u001b[33m\n",
      "\u001b[0m\u001b[33mWARNING: Ignoring invalid distribution -atplotlib (/opt/anaconda3/lib/python3.8/site-packages)\u001b[0m\u001b[33m\n",
      "\u001b[0m\u001b[33mWARNING: Ignoring invalid distribution -eras-preprocessing (/opt/anaconda3/lib/python3.8/site-packages)\u001b[0m\u001b[33m\n",
      "\u001b[0m\u001b[33mWARNING: Ignoring invalid distribution -atplotlib (/opt/anaconda3/lib/python3.8/site-packages)\u001b[0m\u001b[33m\n",
      "\u001b[0m\u001b[33mWARNING: Ignoring invalid distribution -eras-preprocessing (/opt/anaconda3/lib/python3.8/site-packages)\u001b[0m\u001b[33m\n",
      "\u001b[0m\u001b[33mWARNING: Ignoring invalid distribution -atplotlib (/opt/anaconda3/lib/python3.8/site-packages)\u001b[0m\u001b[33m\n",
      "\u001b[0m"
     ]
    }
   ],
   "source": [
    "# Setup\n",
    "!pip install pyTigerGraph"
   ]
  },
  {
   "cell_type": "markdown",
   "metadata": {
    "id": "q3OGqq4xOkyK"
   },
   "source": [
    "## Add Imports and Establish Initial Connection"
   ]
  },
  {
   "cell_type": "code",
   "execution_count": 94,
   "metadata": {
    "colab": {
     "base_uri": "https://localhost:8080/"
    },
    "executionInfo": {
     "elapsed": 16,
     "status": "ok",
     "timestamp": 1645432903259,
     "user": {
      "displayName": "Sudha Vijayakumar",
      "photoUrl": "https://lh3.googleusercontent.com/a/default-user=s64",
      "userId": "06644857756484093013"
     },
     "user_tz": 480
    },
    "id": "Uxj9bmj-OkyS",
    "outputId": "4da2ca8f-a246-4815-bb08-a9348bafaa78"
   },
   "outputs": [
    {
     "name": "stdout",
     "output_type": "stream",
     "text": [
      "Connected\n"
     ]
    }
   ],
   "source": [
    "# Imports\n",
    "import pyTigerGraph as tg\n",
    "import json\n",
    "import pandas as pd\n",
    "\n",
    "# Connection parameters\n",
    "hostName = \"https://language.i.tgcloud.io/\"\n",
    "userName = \"tigergraph\"\n",
    "password = \"tigergraph\"\n",
    "\n",
    "conn = tg.TigerGraphConnection(host=hostName, username=userName, password=password)\n",
    "\n",
    "print(\"Connected\")"
   ]
  },
  {
   "cell_type": "markdown",
   "metadata": {
    "id": "BgazrCKwR8R9"
   },
   "source": [
    "## Clone the Data"
   ]
  },
  {
   "cell_type": "code",
   "execution_count": 95,
   "metadata": {
    "colab": {
     "base_uri": "https://localhost:8080/"
    },
    "executionInfo": {
     "elapsed": 18353,
     "status": "ok",
     "timestamp": 1645432921600,
     "user": {
      "displayName": "Sudha Vijayakumar",
      "photoUrl": "https://lh3.googleusercontent.com/a/default-user=s64",
      "userId": "06644857756484093013"
     },
     "user_tz": 480
    },
    "id": "5TwgTntFR8R-",
    "outputId": "c57d68dc-4ee5-4021-b4df-cc1dabd0c877"
   },
   "outputs": [],
   "source": [
    "# from google.colab import drive\n",
    "# drive.mount('/content/drive')"
   ]
  },
  {
   "cell_type": "code",
   "execution_count": 96,
   "metadata": {
    "colab": {
     "base_uri": "https://localhost:8080/"
    },
    "executionInfo": {
     "elapsed": 16,
     "status": "ok",
     "timestamp": 1645432921601,
     "user": {
      "displayName": "Sudha Vijayakumar",
      "photoUrl": "https://lh3.googleusercontent.com/a/default-user=s64",
      "userId": "06644857756484093013"
     },
     "user_tz": 480
    },
    "id": "G6MRGBSwR8R-",
    "outputId": "25a24ca3-31c0-433f-c043-a7ab449796ae"
   },
   "outputs": [],
   "source": [
    "# cd '/content/drive/MyDrive'"
   ]
  },
  {
   "cell_type": "code",
   "execution_count": 97,
   "metadata": {
    "executionInfo": {
     "elapsed": 11,
     "status": "ok",
     "timestamp": 1645432921601,
     "user": {
      "displayName": "Sudha Vijayakumar",
      "photoUrl": "https://lh3.googleusercontent.com/a/default-user=s64",
      "userId": "06644857756484093013"
     },
     "user_tz": 480
    },
    "id": "cVwqxmQpR8R-"
   },
   "outputs": [],
   "source": [
    "#To-Do: Comment-out and clone the graph data(*.csv) once.\n",
    "\n",
    "# !git clone https://github.com/sudha-vijayakumar/LanguageModel.git"
   ]
  },
  {
   "cell_type": "markdown",
   "metadata": {
    "id": "R3SmHKm3C2Kr"
   },
   "source": [
    "## Peek into the data "
   ]
  },
  {
   "cell_type": "markdown",
   "metadata": {
    "id": "onxnjCsRDn1B"
   },
   "source": [
    "### ConceptNet - Word"
   ]
  },
  {
   "cell_type": "code",
   "execution_count": 98,
   "metadata": {
    "colab": {
     "base_uri": "https://localhost:8080/",
     "height": 0
    },
    "executionInfo": {
     "elapsed": 9332,
     "status": "ok",
     "timestamp": 1645432930923,
     "user": {
      "displayName": "Sudha Vijayakumar",
      "photoUrl": "https://lh3.googleusercontent.com/a/default-user=s64",
      "userId": "06644857756484093013"
     },
     "user_tz": 480
    },
    "id": "VtCdjyOHqkIX",
    "outputId": "ee141d36-62eb-4355-f30a-734e31289cbf"
   },
   "outputs": [
    {
     "data": {
      "text/html": [
       "<div>\n",
       "<style scoped>\n",
       "    .dataframe tbody tr th:only-of-type {\n",
       "        vertical-align: middle;\n",
       "    }\n",
       "\n",
       "    .dataframe tbody tr th {\n",
       "        vertical-align: top;\n",
       "    }\n",
       "\n",
       "    .dataframe thead th {\n",
       "        text-align: right;\n",
       "    }\n",
       "</style>\n",
       "<table border=\"1\" class=\"dataframe\">\n",
       "  <thead>\n",
       "    <tr style=\"text-align: right;\">\n",
       "      <th></th>\n",
       "      <th>id:ID</th>\n",
       "      <th>name</th>\n",
       "      <th>pos</th>\n",
       "      <th>conceptUri</th>\n",
       "      <th>:LABEL</th>\n",
       "    </tr>\n",
       "  </thead>\n",
       "  <tbody>\n",
       "    <tr>\n",
       "      <th>0</th>\n",
       "      <td>able.a</td>\n",
       "      <td>able</td>\n",
       "      <td>a</td>\n",
       "      <td>/c/en/able/a</td>\n",
       "      <td>Lemma;Concept</td>\n",
       "    </tr>\n",
       "  </tbody>\n",
       "</table>\n",
       "</div>"
      ],
      "text/plain": [
       "    id:ID  name pos    conceptUri         :LABEL\n",
       "0  able.a  able   a  /c/en/able/a  Lemma;Concept"
      ]
     },
     "execution_count": 98,
     "metadata": {},
     "output_type": "execute_result"
    }
   ],
   "source": [
    "# root='/content/drive/MyDrive/LanguageModel/Data_Processing/csv_imports/''\n",
    "root='/Users/sudhavijayakumar/Documents/GitHub/LanguageModel/1_Curated_Data/csv_imports/'\n",
    "nodes = pd.read_csv(root+'words.csv')\n",
    "nodes.head(1)"
   ]
  },
  {
   "cell_type": "markdown",
   "metadata": {
    "id": "8bljPSTyD03D"
   },
   "source": [
    "### ConceptNet - Synset"
   ]
  },
  {
   "cell_type": "code",
   "execution_count": 99,
   "metadata": {
    "colab": {
     "base_uri": "https://localhost:8080/",
     "height": 0
    },
    "executionInfo": {
     "elapsed": 1012,
     "status": "ok",
     "timestamp": 1645432931929,
     "user": {
      "displayName": "Sudha Vijayakumar",
      "photoUrl": "https://lh3.googleusercontent.com/a/default-user=s64",
      "userId": "06644857756484093013"
     },
     "user_tz": 480
    },
    "id": "8CEt_H8SD03E",
    "outputId": "7427e5b0-04db-4a48-ed67-fbf9ddb6d6da"
   },
   "outputs": [
    {
     "data": {
      "text/html": [
       "<div>\n",
       "<style scoped>\n",
       "    .dataframe tbody tr th:only-of-type {\n",
       "        vertical-align: middle;\n",
       "    }\n",
       "\n",
       "    .dataframe tbody tr th {\n",
       "        vertical-align: top;\n",
       "    }\n",
       "\n",
       "    .dataframe thead th {\n",
       "        text-align: right;\n",
       "    }\n",
       "</style>\n",
       "<table border=\"1\" class=\"dataframe\">\n",
       "  <thead>\n",
       "    <tr style=\"text-align: right;\">\n",
       "      <th></th>\n",
       "      <th>id:ID</th>\n",
       "      <th>pos:string</th>\n",
       "      <th>definition:string</th>\n",
       "      <th>:LABEL</th>\n",
       "    </tr>\n",
       "  </thead>\n",
       "  <tbody>\n",
       "    <tr>\n",
       "      <th>0</th>\n",
       "      <td>able.a.01</td>\n",
       "      <td>a</td>\n",
       "      <td>(usually followed by `to') having the necessar...</td>\n",
       "      <td>Synset</td>\n",
       "    </tr>\n",
       "  </tbody>\n",
       "</table>\n",
       "</div>"
      ],
      "text/plain": [
       "       id:ID pos:string                                  definition:string  \\\n",
       "0  able.a.01          a  (usually followed by `to') having the necessar...   \n",
       "\n",
       "   :LABEL  \n",
       "0  Synset  "
      ]
     },
     "execution_count": 99,
     "metadata": {},
     "output_type": "execute_result"
    }
   ],
   "source": [
    "synsets = pd.read_csv(root+'synsets.csv')\n",
    "synsets.head(1)"
   ]
  },
  {
   "cell_type": "markdown",
   "metadata": {
    "id": "g5EpKg8_Ee65"
   },
   "source": [
    "### ConceptNet - Edges"
   ]
  },
  {
   "cell_type": "code",
   "execution_count": 100,
   "metadata": {
    "colab": {
     "base_uri": "https://localhost:8080/",
     "height": 0
    },
    "executionInfo": {
     "elapsed": 13507,
     "status": "ok",
     "timestamp": 1645432945430,
     "user": {
      "displayName": "Sudha Vijayakumar",
      "photoUrl": "https://lh3.googleusercontent.com/a/default-user=s64",
      "userId": "06644857756484093013"
     },
     "user_tz": 480
    },
    "id": "4aOAucuvEe7A",
    "outputId": "57836ce7-0a77-47df-85b8-d65853b5d8a2"
   },
   "outputs": [
    {
     "data": {
      "text/html": [
       "<div>\n",
       "<style scoped>\n",
       "    .dataframe tbody tr th:only-of-type {\n",
       "        vertical-align: middle;\n",
       "    }\n",
       "\n",
       "    .dataframe tbody tr th {\n",
       "        vertical-align: top;\n",
       "    }\n",
       "\n",
       "    .dataframe thead th {\n",
       "        text-align: right;\n",
       "    }\n",
       "</style>\n",
       "<table border=\"1\" class=\"dataframe\">\n",
       "  <thead>\n",
       "    <tr style=\"text-align: right;\">\n",
       "      <th></th>\n",
       "      <th>:END_ID</th>\n",
       "      <th>dataset:string</th>\n",
       "      <th>weight:double</th>\n",
       "      <th>:TYPE</th>\n",
       "    </tr>\n",
       "    <tr>\n",
       "      <th>:START_ID</th>\n",
       "      <th></th>\n",
       "      <th></th>\n",
       "      <th></th>\n",
       "      <th></th>\n",
       "    </tr>\n",
       "  </thead>\n",
       "  <tbody>\n",
       "    <tr>\n",
       "      <th>able.a.01</th>\n",
       "      <td>ability.n.01</td>\n",
       "      <td>/d/wordnet/3.1</td>\n",
       "      <td>2.0</td>\n",
       "      <td>Attribute</td>\n",
       "    </tr>\n",
       "    <tr>\n",
       "      <th>able.a.01</th>\n",
       "      <td>ability.n.02</td>\n",
       "      <td>/d/wordnet/3.1</td>\n",
       "      <td>2.0</td>\n",
       "      <td>Attribute</td>\n",
       "    </tr>\n",
       "    <tr>\n",
       "      <th>able.a</th>\n",
       "      <td>able.a.01</td>\n",
       "      <td>/d/wordnet/3.1</td>\n",
       "      <td>2.0</td>\n",
       "      <td>InSynset</td>\n",
       "    </tr>\n",
       "    <tr>\n",
       "      <th>unable.a.01</th>\n",
       "      <td>ability.n.01</td>\n",
       "      <td>/d/wordnet/3.1</td>\n",
       "      <td>2.0</td>\n",
       "      <td>Attribute</td>\n",
       "    </tr>\n",
       "    <tr>\n",
       "      <th>unable.a</th>\n",
       "      <td>unable.a.01</td>\n",
       "      <td>/d/wordnet/3.1</td>\n",
       "      <td>2.0</td>\n",
       "      <td>InSynset</td>\n",
       "    </tr>\n",
       "  </tbody>\n",
       "</table>\n",
       "</div>"
      ],
      "text/plain": [
       "                  :END_ID  dataset:string  weight:double      :TYPE\n",
       ":START_ID                                                          \n",
       "able.a.01    ability.n.01  /d/wordnet/3.1            2.0  Attribute\n",
       "able.a.01    ability.n.02  /d/wordnet/3.1            2.0  Attribute\n",
       "able.a          able.a.01  /d/wordnet/3.1            2.0   InSynset\n",
       "unable.a.01  ability.n.01  /d/wordnet/3.1            2.0  Attribute\n",
       "unable.a      unable.a.01  /d/wordnet/3.1            2.0   InSynset"
      ]
     },
     "execution_count": 100,
     "metadata": {},
     "output_type": "execute_result"
    }
   ],
   "source": [
    "relationships = pd.read_csv(root+'relationships.csv',index_col=[0])\n",
    "relationships.head(5)"
   ]
  },
  {
   "cell_type": "markdown",
   "metadata": {
    "id": "qeECSBsJFENG"
   },
   "source": [
    "### ConceptNet - Part of Speech"
   ]
  },
  {
   "cell_type": "code",
   "execution_count": 101,
   "metadata": {
    "colab": {
     "base_uri": "https://localhost:8080/",
     "height": 0
    },
    "executionInfo": {
     "elapsed": 390,
     "status": "ok",
     "timestamp": 1645432945814,
     "user": {
      "displayName": "Sudha Vijayakumar",
      "photoUrl": "https://lh3.googleusercontent.com/a/default-user=s64",
      "userId": "06644857756484093013"
     },
     "user_tz": 480
    },
    "id": "07q5ET0wFENO",
    "outputId": "8723706a-0085-413c-f220-2a6143285414"
   },
   "outputs": [
    {
     "data": {
      "text/html": [
       "<div>\n",
       "<style scoped>\n",
       "    .dataframe tbody tr th:only-of-type {\n",
       "        vertical-align: middle;\n",
       "    }\n",
       "\n",
       "    .dataframe tbody tr th {\n",
       "        vertical-align: top;\n",
       "    }\n",
       "\n",
       "    .dataframe thead th {\n",
       "        text-align: right;\n",
       "    }\n",
       "</style>\n",
       "<table border=\"1\" class=\"dataframe\">\n",
       "  <thead>\n",
       "    <tr style=\"text-align: right;\">\n",
       "      <th></th>\n",
       "      <th>type</th>\n",
       "      <th>id</th>\n",
       "    </tr>\n",
       "  </thead>\n",
       "  <tbody>\n",
       "    <tr>\n",
       "      <th>0</th>\n",
       "      <td>adjective</td>\n",
       "      <td>0</td>\n",
       "    </tr>\n",
       "    <tr>\n",
       "      <th>1</th>\n",
       "      <td>noun</td>\n",
       "      <td>3</td>\n",
       "    </tr>\n",
       "    <tr>\n",
       "      <th>2</th>\n",
       "      <td>adverb</td>\n",
       "      <td>2</td>\n",
       "    </tr>\n",
       "    <tr>\n",
       "      <th>3</th>\n",
       "      <td>verb</td>\n",
       "      <td>4</td>\n",
       "    </tr>\n",
       "    <tr>\n",
       "      <th>4</th>\n",
       "      <td>adjective_satellite</td>\n",
       "      <td>1</td>\n",
       "    </tr>\n",
       "  </tbody>\n",
       "</table>\n",
       "</div>"
      ],
      "text/plain": [
       "                  type  id\n",
       "0            adjective   0\n",
       "1                 noun   3\n",
       "2               adverb   2\n",
       "3                 verb   4\n",
       "4  adjective_satellite   1"
      ]
     },
     "execution_count": 101,
     "metadata": {},
     "output_type": "execute_result"
    }
   ],
   "source": [
    "relationships = pd.read_csv(root+'encoded/pos_wn.csv',index_col=[0])\n",
    "relationships.head()"
   ]
  },
  {
   "cell_type": "markdown",
   "metadata": {
    "id": "SDPUKGDc55bJ"
   },
   "source": [
    "## Define and Publish the Schema"
   ]
  },
  {
   "cell_type": "code",
   "execution_count": 102,
   "metadata": {
    "colab": {
     "base_uri": "https://localhost:8080/"
    },
    "executionInfo": {
     "elapsed": 13879,
     "status": "ok",
     "timestamp": 1645432959686,
     "user": {
      "displayName": "Sudha Vijayakumar",
      "photoUrl": "https://lh3.googleusercontent.com/a/default-user=s64",
      "userId": "06644857756484093013"
     },
     "user_tz": 480
    },
    "id": "tbLUKiA4oSKX",
    "outputId": "900a149a-7fe2-42dd-8aa3-9102556b8b8d"
   },
   "outputs": [
    {
     "name": "stdout",
     "output_type": "stream",
     "text": [
      "Successfully created vertex types: [words].\n",
      "Successfully created edge types: [type].\n",
      "Successfully created reverse edge types: [reverse_type].\n",
      "Successfully created vertex types: [word].\n",
      "Successfully created vertex types: [synset].\n",
      "Successfully created edge types: [is_a].\n",
      "Successfully created reverse edge types: [reverse_is_a].\n"
     ]
    }
   ],
   "source": [
    "# DEFINE / CREATE ALL EDGES AND VERTICES \n",
    "results = conn.gsql('''\n",
    "  USE GLOBAL\n",
    "  CREATE VERTEX words(PRIMARY_ID id STRING, uri STRING, word STRING, pos STRING,definition STRING) WITH STATS=\"OUTDEGREE_BY_EDGETYPE\", PRIMARY_ID_AS_ATTRIBUTE=\"true\"\n",
    "  CREATE DIRECTED EDGE type(FROM words, TO words, typeOf STRING) WITH REVERSE_EDGE=\"reverse_type\"\n",
    "  CREATE VERTEX word(PRIMARY_ID id STRING, name STRING, pos STRING) WITH STATS=\"OUTDEGREE_BY_EDGETYPE\", PRIMARY_ID_AS_ATTRIBUTE=\"true\"\n",
    "  CREATE VERTEX synset(PRIMARY_ID id STRING, definition STRING) WITH STATS=\"OUTDEGREE_BY_EDGETYPE\", PRIMARY_ID_AS_ATTRIBUTE=\"true\"\n",
    "  CREATE DIRECTED EDGE is_a(FROM synset, TO word|FROM word, TO synset, type STRING) WITH REVERSE_EDGE=\"reverse_is_a\"\n",
    "''')\n",
    "print(results)"
   ]
  },
  {
   "cell_type": "markdown",
   "metadata": {
    "id": "QtAieHUn3KSp"
   },
   "source": [
    "## WordNET"
   ]
  },
  {
   "cell_type": "markdown",
   "metadata": {
    "id": "bMz6fxfx59Xz"
   },
   "source": [
    "### Create WordNet Graph"
   ]
  },
  {
   "cell_type": "code",
   "execution_count": 103,
   "metadata": {
    "colab": {
     "base_uri": "https://localhost:8080/"
    },
    "executionInfo": {
     "elapsed": 53202,
     "status": "ok",
     "timestamp": 1645433012881,
     "user": {
      "displayName": "Sudha Vijayakumar",
      "photoUrl": "https://lh3.googleusercontent.com/a/default-user=s64",
      "userId": "06644857756484093013"
     },
     "user_tz": 480
    },
    "id": "-cgC8b7OcZDd",
    "outputId": "5793a015-ded8-46b8-971a-7472933932ac"
   },
   "outputs": [
    {
     "name": "stdout",
     "output_type": "stream",
     "text": [
      "Stopping GPE GSE RESTPP\n",
      "Successfully stopped GPE GSE RESTPP in 1.462 seconds\n",
      "Starting GPE GSE RESTPP\n",
      "Successfully started GPE GSE RESTPP in 0.077 seconds\n",
      "The graph WordNet is created.\n"
     ]
    }
   ],
   "source": [
    "results = conn.gsql('CREATE GRAPH WordNet(words,type,reverse_type)')\n",
    "print(results)"
   ]
  },
  {
   "cell_type": "code",
   "execution_count": 104,
   "metadata": {
    "colab": {
     "base_uri": "https://localhost:8080/"
    },
    "executionInfo": {
     "elapsed": 1973,
     "status": "ok",
     "timestamp": 1645433014849,
     "user": {
      "displayName": "Sudha Vijayakumar",
      "photoUrl": "https://lh3.googleusercontent.com/a/default-user=s64",
      "userId": "06644857756484093013"
     },
     "user_tz": 480
    },
    "id": "SbxyEaptc2Ri",
    "outputId": "44c647da-0958-48e3-8bb1-6529b41892a8"
   },
   "outputs": [
    {
     "name": "stdout",
     "output_type": "stream",
     "text": [
      "741jvihniq5o05ga3o1caedar0n1p82d\n",
      "1bec08177onlqk0h4g8hmqdoabensfr2\n"
     ]
    }
   ],
   "source": [
    "conn.graphname=\"WordNet\"\n",
    "secret = conn.createSecret()\n",
    "print(secret)\n",
    "authToken = conn.getToken(secret)\n",
    "authToken = authToken[0]\n",
    "print(authToken)\n",
    "# authToken = 'rc7reopbis1667ksgcppq5v5fb99p6s1'\n",
    "conn = tg.TigerGraphConnection(host=hostName, graphname=\"WordNet\", username=userName, password=password, apiToken=authToken)\n",
    "\n",
    "def pprint(string):\n",
    "  print(json.dumps(string, indent=2))"
   ]
  },
  {
   "cell_type": "markdown",
   "metadata": {
    "id": "MTWWoepV6Dc0"
   },
   "source": [
    "### Create Loading Jobs"
   ]
  },
  {
   "cell_type": "markdown",
   "metadata": {
    "id": "Up4f5hmq7MZl"
   },
   "source": [
    "#### Word"
   ]
  },
  {
   "cell_type": "markdown",
   "metadata": {
    "id": "oXH8W3KIjVUC"
   },
   "source": [
    "Let's take a look at what one of our files looks like so we can write a loading job."
   ]
  },
  {
   "cell_type": "markdown",
   "metadata": {
    "id": "M7Y081TD6Xh5"
   },
   "source": [
    "- Here it's important to note that the `$0`, `$1` values line up with the columns of your data.\n",
    "  In this example:\n",
    "  - `$0` is the `uri` column,\n",
    "  - `$1` is `id`,\n",
    "  - `$2` is `word`\n",
    "  - and so on"
   ]
  },
  {
   "cell_type": "code",
   "execution_count": 105,
   "metadata": {
    "colab": {
     "base_uri": "https://localhost:8080/"
    },
    "executionInfo": {
     "elapsed": 14659,
     "status": "ok",
     "timestamp": 1645433029896,
     "user": {
      "displayName": "Sudha Vijayakumar",
      "photoUrl": "https://lh3.googleusercontent.com/a/default-user=s64",
      "userId": "06644857756484093013"
     },
     "user_tz": 480
    },
    "id": "22W6W58idFW5",
    "outputId": "86c7de14-60be-47d0-c592-9e017852547d"
   },
   "outputs": [
    {
     "name": "stdout",
     "output_type": "stream",
     "text": [
      "Using graph 'WordNet'\n",
      "Successfully created loading jobs: [load_job_WN].\n"
     ]
    }
   ],
   "source": [
    "results = conn.gsql('''\n",
    "  USE GRAPH WordNet\n",
    "  BEGIN\n",
    "  CREATE LOADING JOB load_job_WN FOR GRAPH WordNet {\n",
    "      DEFINE FILENAME MyDataSource;\n",
    "      LOAD MyDataSource TO EDGE type VALUES($0, $1, $2) USING SEPARATOR=\",\", HEADER=\"true\", EOL=\"\", QUOTE=\"double\";\n",
    "    }\n",
    "  END\n",
    "  ''')\n",
    "print(results)"
   ]
  },
  {
   "cell_type": "markdown",
   "metadata": {
    "id": "7yZhDo_q3We0"
   },
   "source": [
    "#### Word Edges"
   ]
  },
  {
   "cell_type": "code",
   "execution_count": 106,
   "metadata": {
    "colab": {
     "base_uri": "https://localhost:8080/"
    },
    "executionInfo": {
     "elapsed": 1089,
     "status": "ok",
     "timestamp": 1645433030969,
     "user": {
      "displayName": "Sudha Vijayakumar",
      "photoUrl": "https://lh3.googleusercontent.com/a/default-user=s64",
      "userId": "06644857756484093013"
     },
     "user_tz": 480
    },
    "id": "fpyLmIPd1_o7",
    "outputId": "bc3356b3-c3c4-42d1-ac58-d691b001335c"
   },
   "outputs": [
    {
     "name": "stdout",
     "output_type": "stream",
     "text": [
      "Using graph 'WordNet'\n",
      "Successfully created loading jobs: [load_job_WN_nodes].\n"
     ]
    }
   ],
   "source": [
    "results = conn.gsql('''\n",
    "  USE GRAPH WordNet\n",
    "  BEGIN\n",
    "  CREATE LOADING JOB load_job_WN_nodes FOR GRAPH WordNet {\n",
    "      DEFINE FILENAME MyDataSource;\n",
    "      LOAD MyDataSource TO VERTEX words VALUES($1, $0, $2, $3, $4) USING SEPARATOR=\",\", HEADER=\"true\", EOL=\"\", QUOTE=\"double\";\n",
    "    }\n",
    "  END\n",
    "  ''')\n",
    "print(results)"
   ]
  },
  {
   "cell_type": "markdown",
   "metadata": {
    "id": "Nm8hvEJo7YqM"
   },
   "source": [
    "### Load Data"
   ]
  },
  {
   "cell_type": "markdown",
   "metadata": {
    "id": "K1yUUv7k5soZ"
   },
   "source": [
    "#### Words"
   ]
  },
  {
   "cell_type": "code",
   "execution_count": 107,
   "metadata": {
    "colab": {
     "base_uri": "https://localhost:8080/"
    },
    "executionInfo": {
     "elapsed": 2735,
     "status": "ok",
     "timestamp": 1645433033699,
     "user": {
      "displayName": "Sudha Vijayakumar",
      "photoUrl": "https://lh3.googleusercontent.com/a/default-user=s64",
      "userId": "06644857756484093013"
     },
     "user_tz": 480
    },
    "id": "UWtWVHGg2O-p",
    "outputId": "54519acf-8685-41ea-f02b-27001726d214"
   },
   "outputs": [
    {
     "name": "stdout",
     "output_type": "stream",
     "text": [
      "[\n",
      "  {\n",
      "    \"sourceFileName\": \"Online_POST\",\n",
      "    \"statistics\": {\n",
      "      \"validLine\": 117792,\n",
      "      \"rejectLine\": 0,\n",
      "      \"failedConditionLine\": 0,\n",
      "      \"notEnoughToken\": 0,\n",
      "      \"invalidJson\": 0,\n",
      "      \"oversizeToken\": 0,\n",
      "      \"vertex\": [\n",
      "        {\n",
      "          \"typeName\": \"words\",\n",
      "          \"validObject\": 117792,\n",
      "          \"noIdFound\": 0,\n",
      "          \"invalidAttribute\": 0,\n",
      "          \"invalidVertexType\": 0,\n",
      "          \"invalidPrimaryId\": 0,\n",
      "          \"invalidSecondaryId\": 0,\n",
      "          \"incorrectFixedBinaryLength\": 0\n",
      "        }\n",
      "      ],\n",
      "      \"edge\": [],\n",
      "      \"deleteVertex\": [],\n",
      "      \"deleteEdge\": []\n",
      "    }\n",
      "  }\n",
      "]\n"
     ]
    }
   ],
   "source": [
    "# Load the posts file wiht the 'load_words' job\n",
    "load_words = root+'WN-nodes.csv'\n",
    "results = conn.uploadFile(load_words, fileTag='MyDataSource', jobName='load_job_WN_nodes')\n",
    "print(json.dumps(results, indent=2))"
   ]
  },
  {
   "cell_type": "markdown",
   "metadata": {
    "id": "jp_VKwTI5vfz"
   },
   "source": [
    "#### Edges"
   ]
  },
  {
   "cell_type": "code",
   "execution_count": 108,
   "metadata": {
    "colab": {
     "base_uri": "https://localhost:8080/"
    },
    "executionInfo": {
     "elapsed": 1861,
     "status": "ok",
     "timestamp": 1645433035555,
     "user": {
      "displayName": "Sudha Vijayakumar",
      "photoUrl": "https://lh3.googleusercontent.com/a/default-user=s64",
      "userId": "06644857756484093013"
     },
     "user_tz": 480
    },
    "id": "6y_PfFAT2PCC",
    "outputId": "68c41e9a-c0a8-4a73-fbc9-84b86ff387a5"
   },
   "outputs": [
    {
     "name": "stdout",
     "output_type": "stream",
     "text": [
      "[\n",
      "  {\n",
      "    \"sourceFileName\": \"Online_POST\",\n",
      "    \"statistics\": {\n",
      "      \"validLine\": 293652,\n",
      "      \"rejectLine\": 0,\n",
      "      \"failedConditionLine\": 0,\n",
      "      \"notEnoughToken\": 0,\n",
      "      \"invalidJson\": 0,\n",
      "      \"oversizeToken\": 0,\n",
      "      \"vertex\": [],\n",
      "      \"edge\": [\n",
      "        {\n",
      "          \"typeName\": \"type\",\n",
      "          \"validObject\": 293652,\n",
      "          \"noIdFound\": 0,\n",
      "          \"invalidAttribute\": 0,\n",
      "          \"invalidVertexType\": 0,\n",
      "          \"invalidPrimaryId\": 0,\n",
      "          \"invalidSecondaryId\": 0,\n",
      "          \"incorrectFixedBinaryLength\": 0\n",
      "        }\n",
      "      ],\n",
      "      \"deleteVertex\": [],\n",
      "      \"deleteEdge\": []\n",
      "    }\n",
      "  }\n",
      "]\n"
     ]
    }
   ],
   "source": [
    "# Load the posts file wiht the 'load_edges' job\n",
    "load_edges = root+'WN-edges.csv'\n",
    "results = conn.uploadFile(load_edges, fileTag='MyDataSource', jobName='load_job_WN')\n",
    "print(json.dumps(results, indent=2))"
   ]
  },
  {
   "cell_type": "markdown",
   "metadata": {
    "id": "gAFCKYK61nzx"
   },
   "source": [
    "### Exploring the Graph"
   ]
  },
  {
   "cell_type": "markdown",
   "metadata": {
    "id": "4rJ_Vedw7oms"
   },
   "source": [
    "#### Get Vertex and Edge Schema"
   ]
  },
  {
   "cell_type": "code",
   "execution_count": 109,
   "metadata": {
    "colab": {
     "base_uri": "https://localhost:8080/"
    },
    "executionInfo": {
     "elapsed": 218,
     "status": "ok",
     "timestamp": 1645433035769,
     "user": {
      "displayName": "Sudha Vijayakumar",
      "photoUrl": "https://lh3.googleusercontent.com/a/default-user=s64",
      "userId": "06644857756484093013"
     },
     "user_tz": 480
    },
    "id": "g9F25xMY1p0p",
    "outputId": "aaf96be5-a417-48bd-f9dd-a460d448b924"
   },
   "outputs": [
    {
     "name": "stdout",
     "output_type": "stream",
     "text": [
      "Verticies: ['words']\n",
      "Edges: ['type']\n"
     ]
    }
   ],
   "source": [
    "results = conn.getVertexTypes()\n",
    "print(f\"Verticies: {results}\")\n",
    "vertices = results\n",
    "\n",
    "results = conn.getEdgeTypes()\n",
    "print(f\"Edges: {results}\")\n",
    "edges = results"
   ]
  },
  {
   "cell_type": "code",
   "execution_count": 110,
   "metadata": {
    "colab": {
     "base_uri": "https://localhost:8080/"
    },
    "executionInfo": {
     "elapsed": 8,
     "status": "ok",
     "timestamp": 1645433035769,
     "user": {
      "displayName": "Sudha Vijayakumar",
      "photoUrl": "https://lh3.googleusercontent.com/a/default-user=s64",
      "userId": "06644857756484093013"
     },
     "user_tz": 480
    },
    "id": "RrWUEQ7p2TOK",
    "outputId": "09c9300f-c35e-4efb-d7f2-c1a3ec9dcf9d"
   },
   "outputs": [
    {
     "name": "stdout",
     "output_type": "stream",
     "text": [
      "Results for Post vertex\n",
      "{\n",
      "  \"Config\": {\n",
      "    \"TAGGABLE\": false,\n",
      "    \"STATS\": \"OUTDEGREE_BY_EDGETYPE\",\n",
      "    \"PRIMARY_ID_AS_ATTRIBUTE\": true\n",
      "  },\n",
      "  \"Attributes\": [\n",
      "    {\n",
      "      \"AttributeType\": {\n",
      "        \"Name\": \"STRING\"\n",
      "      },\n",
      "      \"IsPartOfCompositeKey\": false,\n",
      "      \"PrimaryIdAsAttribute\": false,\n",
      "      \"AttributeName\": \"uri\",\n",
      "      \"HasIndex\": false,\n",
      "      \"internalAttribute\": false,\n",
      "      \"IsPrimaryKey\": false\n",
      "    },\n",
      "    {\n",
      "      \"AttributeType\": {\n",
      "        \"Name\": \"STRING\"\n",
      "      },\n",
      "      \"IsPartOfCompositeKey\": false,\n",
      "      \"PrimaryIdAsAttribute\": false,\n",
      "      \"AttributeName\": \"word\",\n",
      "      \"HasIndex\": false,\n",
      "      \"internalAttribute\": false,\n",
      "      \"IsPrimaryKey\": false\n",
      "    },\n",
      "    {\n",
      "      \"AttributeType\": {\n",
      "        \"Name\": \"STRING\"\n",
      "      },\n",
      "      \"IsPartOfCompositeKey\": false,\n",
      "      \"PrimaryIdAsAttribute\": false,\n",
      "      \"AttributeName\": \"pos\",\n",
      "      \"HasIndex\": false,\n",
      "      \"internalAttribute\": false,\n",
      "      \"IsPrimaryKey\": false\n",
      "    },\n",
      "    {\n",
      "      \"AttributeType\": {\n",
      "        \"Name\": \"STRING\"\n",
      "      },\n",
      "      \"IsPartOfCompositeKey\": false,\n",
      "      \"PrimaryIdAsAttribute\": false,\n",
      "      \"AttributeName\": \"definition\",\n",
      "      \"HasIndex\": false,\n",
      "      \"internalAttribute\": false,\n",
      "      \"IsPrimaryKey\": false\n",
      "    }\n",
      "  ],\n",
      "  \"PrimaryId\": {\n",
      "    \"AttributeType\": {\n",
      "      \"Name\": \"STRING\"\n",
      "    },\n",
      "    \"IsPartOfCompositeKey\": false,\n",
      "    \"PrimaryIdAsAttribute\": true,\n",
      "    \"AttributeName\": \"id\",\n",
      "    \"HasIndex\": false,\n",
      "    \"internalAttribute\": false,\n",
      "    \"IsPrimaryKey\": false\n",
      "  },\n",
      "  \"Name\": \"words\"\n",
      "}\n",
      "-----------------\n",
      "Results for liked edge\n",
      "{\n",
      "  \"IsDirected\": true,\n",
      "  \"ToVertexTypeName\": \"words\",\n",
      "  \"Config\": {\n",
      "    \"REVERSE_EDGE\": \"reverse_type\"\n",
      "  },\n",
      "  \"Attributes\": [\n",
      "    {\n",
      "      \"AttributeType\": {\n",
      "        \"Name\": \"STRING\"\n",
      "      },\n",
      "      \"IsPartOfCompositeKey\": false,\n",
      "      \"PrimaryIdAsAttribute\": false,\n",
      "      \"AttributeName\": \"typeOf\",\n",
      "      \"HasIndex\": false,\n",
      "      \"internalAttribute\": false,\n",
      "      \"IsPrimaryKey\": false\n",
      "    }\n",
      "  ],\n",
      "  \"FromVertexTypeName\": \"words\",\n",
      "  \"Name\": \"type\"\n",
      "}\n"
     ]
    }
   ],
   "source": [
    "\n",
    "print(f\"Results for Post vertex\")\n",
    "pprint(conn.getVertexType(\"words\"))\n",
    "\n",
    "print(\"-----------------\")\n",
    "print(f\"Results for liked edge\")\n",
    "pprint(conn.getEdgeType(\"type\"))\n"
   ]
  },
  {
   "cell_type": "markdown",
   "metadata": {
    "id": "jWUaoSAa5ir6"
   },
   "source": [
    "### Counting Data"
   ]
  },
  {
   "cell_type": "code",
   "execution_count": 111,
   "metadata": {
    "colab": {
     "base_uri": "https://localhost:8080/"
    },
    "executionInfo": {
     "elapsed": 163,
     "status": "ok",
     "timestamp": 1645433035929,
     "user": {
      "displayName": "Sudha Vijayakumar",
      "photoUrl": "https://lh3.googleusercontent.com/a/default-user=s64",
      "userId": "06644857756484093013"
     },
     "user_tz": 480
    },
    "id": "rkFt8Y9I3kYp",
    "outputId": "35359bf3-b64a-45aa-df8b-889e25a3dc13"
   },
   "outputs": [
    {
     "name": "stdout",
     "output_type": "stream",
     "text": [
      "Vertex Counts\n",
      "There are 117792 words vertices in the graph\n",
      "--------------\n",
      "Edge Counts\n",
      "There are 0 type edges in the graph\n"
     ]
    }
   ],
   "source": [
    "print(\"Vertex Counts\")\n",
    "for vertex in vertices:\n",
    "  print(f\"There are {conn.getVertexCount(vertex)} {vertex} vertices in the graph\")\n",
    "\n",
    "print(\"--------------\")\n",
    "print(\"Edge Counts\")\n",
    "for edge in edges:\n",
    "  print(f\"There are {conn.getEdgeCount(edge)} {edge} edges in the graph\")"
   ]
  },
  {
   "cell_type": "markdown",
   "metadata": {
    "id": "TnUz48uPCxQk"
   },
   "source": [
    "### Extracting Data"
   ]
  },
  {
   "cell_type": "markdown",
   "metadata": {
    "id": "MYVeVJvwHZlP"
   },
   "source": [
    "#### Vertex/Edge Set Format"
   ]
  },
  {
   "cell_type": "markdown",
   "metadata": {
    "id": "eX3x8Ao9ENDm"
   },
   "source": [
    "##### Getting a Vertex"
   ]
  },
  {
   "cell_type": "code",
   "execution_count": 112,
   "metadata": {
    "colab": {
     "base_uri": "https://localhost:8080/"
    },
    "executionInfo": {
     "elapsed": 157,
     "status": "ok",
     "timestamp": 1645433036082,
     "user": {
      "displayName": "Sudha Vijayakumar",
      "photoUrl": "https://lh3.googleusercontent.com/a/default-user=s64",
      "userId": "06644857756484093013"
     },
     "user_tz": 480
    },
    "id": "QKIHiOeSC2IO",
    "outputId": "021be78a-0531-455a-d826-d51afa535ce9"
   },
   "outputs": [
    {
     "name": "stdout",
     "output_type": "stream",
     "text": [
      "[\n",
      "  {\n",
      "    \"v_id\": \"15314760-n\",\n",
      "    \"v_type\": \"words\",\n",
      "    \"attributes\": {\n",
      "      \"id\": \"15314760-n\",\n",
      "      \"uri\": \"http://wordnet-rdf.princeton.edu/id/15314760-n\",\n",
      "      \"word\": \"lead_time\",\n",
      "      \"pos\": \"noun\",\n",
      "      \"definition\": \"the time interval between the initiation and the completion of a production process; &quot;the lead times for many publications can vary tremendously&quot;; &quot;planning is an area where lead time can be reduced&quot;@en\"\n",
      "    }\n",
      "  }\n",
      "]\n"
     ]
    }
   ],
   "source": [
    "results = conn.getVerticesById(\"words\", \"15314760-n\")\n",
    "pprint(results)"
   ]
  },
  {
   "cell_type": "markdown",
   "metadata": {
    "id": "wvRr72nfERqZ"
   },
   "source": [
    "##### Or Multiple Vertices"
   ]
  },
  {
   "cell_type": "code",
   "execution_count": 113,
   "metadata": {
    "colab": {
     "base_uri": "https://localhost:8080/"
    },
    "executionInfo": {
     "elapsed": 177,
     "status": "ok",
     "timestamp": 1645433036257,
     "user": {
      "displayName": "Sudha Vijayakumar",
      "photoUrl": "https://lh3.googleusercontent.com/a/default-user=s64",
      "userId": "06644857756484093013"
     },
     "user_tz": 480
    },
    "id": "dCDiIakzEULm",
    "outputId": "96088f01-7736-44d6-fa72-215bad487733"
   },
   "outputs": [
    {
     "name": "stdout",
     "output_type": "stream",
     "text": [
      "[\n",
      "  {\n",
      "    \"v_id\": \"15137796-n\",\n",
      "    \"v_type\": \"words\",\n",
      "    \"attributes\": {\n",
      "      \"id\": \"15137796-n\",\n",
      "      \"uri\": \"http://wordnet-rdf.princeton.edu/id/15137796-n\",\n",
      "      \"word\": \"period\",\n",
      "      \"pos\": \"noun\",\n",
      "      \"definition\": \"an amount of time; &quot;a time period of 30 years&quot;; &quot;hastened the period of time of his recovery&quot;; &quot;Picasso's blue period&quot;@en\"\n",
      "    }\n",
      "  },\n",
      "  {\n",
      "    \"v_id\": \"15192825-n\",\n",
      "    \"v_type\": \"words\",\n",
      "    \"attributes\": {\n",
      "      \"id\": \"15192825-n\",\n",
      "      \"uri\": \"http://wordnet-rdf.princeton.edu/id/15192825-n\",\n",
      "      \"word\": \"eve\",\n",
      "      \"pos\": \"noun\",\n",
      "      \"definition\": \"the period immediately before something; &quot;on the eve of the French Revolution&quot;@en\"\n",
      "    }\n",
      "  }\n",
      "]\n"
     ]
    }
   ],
   "source": [
    "tdf1 = conn.getVerticesById(\"words\", [\"15137796-n\",\"15192825-n\"])\n",
    "pprint(tdf1)"
   ]
  },
  {
   "cell_type": "markdown",
   "metadata": {
    "id": "vqJASpgJEg6-"
   },
   "source": [
    "##### Count Edges Connected to a Vertex"
   ]
  },
  {
   "cell_type": "code",
   "execution_count": 114,
   "metadata": {
    "colab": {
     "base_uri": "https://localhost:8080/"
    },
    "executionInfo": {
     "elapsed": 165,
     "status": "ok",
     "timestamp": 1645433036420,
     "user": {
      "displayName": "Sudha Vijayakumar",
      "photoUrl": "https://lh3.googleusercontent.com/a/default-user=s64",
      "userId": "06644857756484093013"
     },
     "user_tz": 480
    },
    "id": "t-wNtrkfEj3y",
    "outputId": "24c0ed7a-9803-440d-c077-46ce89a97bce"
   },
   "outputs": [
    {
     "name": "stdout",
     "output_type": "stream",
     "text": [
      "{\n",
      "  \"type\": 1,\n",
      "  \"reverse_type\": 1\n",
      "}\n"
     ]
    }
   ],
   "source": [
    "results = conn.getEdgeCountFrom(\"words\", \"15192825-n\")\n",
    "pprint(results)"
   ]
  },
  {
   "cell_type": "markdown",
   "metadata": {
    "id": "4g2KqQmpE1KJ"
   },
   "source": [
    "##### Show all Edges Connected to a Vertex"
   ]
  },
  {
   "cell_type": "code",
   "execution_count": 115,
   "metadata": {
    "colab": {
     "base_uri": "https://localhost:8080/"
    },
    "executionInfo": {
     "elapsed": 172,
     "status": "ok",
     "timestamp": 1645433036588,
     "user": {
      "displayName": "Sudha Vijayakumar",
      "photoUrl": "https://lh3.googleusercontent.com/a/default-user=s64",
      "userId": "06644857756484093013"
     },
     "user_tz": 480
    },
    "id": "OWVCDSvCE598",
    "outputId": "4d8f328c-7802-4c46-ff9b-3c3ba369e4bb"
   },
   "outputs": [
    {
     "name": "stdout",
     "output_type": "stream",
     "text": [
      "[\n",
      "  {\n",
      "    \"e_type\": \"type\",\n",
      "    \"directed\": true,\n",
      "    \"from_id\": \"15192825-n\",\n",
      "    \"from_type\": \"words\",\n",
      "    \"to_id\": \"15137796-n\",\n",
      "    \"to_type\": \"words\",\n",
      "    \"attributes\": {\n",
      "      \"typeOf\": \"hypernym\"\n",
      "    }\n",
      "  },\n",
      "  {\n",
      "    \"e_type\": \"reverse_type\",\n",
      "    \"directed\": true,\n",
      "    \"from_id\": \"15192825-n\",\n",
      "    \"from_type\": \"words\",\n",
      "    \"to_id\": \"15137796-n\",\n",
      "    \"to_type\": \"words\",\n",
      "    \"attributes\": {\n",
      "      \"typeOf\": \"hyponym\"\n",
      "    }\n",
      "  }\n",
      "]\n"
     ]
    }
   ],
   "source": [
    "results = conn.getEdges(\"words\", \"15192825-n\")\n",
    "pprint(results)"
   ]
  },
  {
   "cell_type": "markdown",
   "metadata": {
    "id": "ckFBOkiOCzyk"
   },
   "source": [
    "#### As Pandas Dataframe\n",
    "Supports all of the above in native Pandas Dataframe format."
   ]
  },
  {
   "cell_type": "markdown",
   "metadata": {
    "id": "MqGq0jozFayA"
   },
   "source": [
    "##### All Vertices of one Type"
   ]
  },
  {
   "cell_type": "code",
   "execution_count": 116,
   "metadata": {
    "colab": {
     "base_uri": "https://localhost:8080/"
    },
    "executionInfo": {
     "elapsed": 2560,
     "status": "ok",
     "timestamp": 1645433039144,
     "user": {
      "displayName": "Sudha Vijayakumar",
      "photoUrl": "https://lh3.googleusercontent.com/a/default-user=s64",
      "userId": "06644857756484093013"
     },
     "user_tz": 480
    },
    "id": "tfUKpWbaFM3u",
    "outputId": "44e0909a-0dd0-44a8-c8f1-04635aef2b6c"
   },
   "outputs": [
    {
     "name": "stdout",
     "output_type": "stream",
     "text": [
      "              v_id          id  \\\n",
      "0       15314760-n  15314760-n   \n",
      "1       15290975-n  15290975-n   \n",
      "2       15289702-n  15289702-n   \n",
      "3       15287435-n  15287435-n   \n",
      "4       15264089-n  15264089-n   \n",
      "...            ...         ...   \n",
      "117789  04743169-n  04743169-n   \n",
      "117790  04311353-n  04311353-n   \n",
      "117791  04748435-n  04748435-n   \n",
      "117792  02754634-v  02754634-v   \n",
      "117793  07771065-n  07771065-n   \n",
      "\n",
      "                                                   uri               word  \\\n",
      "0       http://wordnet-rdf.princeton.edu/id/15314760-n          lead_time   \n",
      "1       http://wordnet-rdf.princeton.edu/id/15290975-n     starting_point   \n",
      "2       http://wordnet-rdf.princeton.edu/id/15289702-n         allegretto   \n",
      "3       http://wordnet-rdf.princeton.edu/id/15287435-n          split_run   \n",
      "4       http://wordnet-rdf.princeton.edu/id/15264089-n             season   \n",
      "...                                                ...                ...   \n",
      "117789  http://wordnet-rdf.princeton.edu/id/04743169-n    exchangeability   \n",
      "117790  http://wordnet-rdf.princeton.edu/id/04311353-n          spaceship   \n",
      "117791  http://wordnet-rdf.princeton.edu/id/04748435-n  irreplaceableness   \n",
      "117792  http://wordnet-rdf.princeton.edu/id/02754634-v               make   \n",
      "117793  http://wordnet-rdf.princeton.edu/id/07771065-n              cocoa   \n",
      "\n",
      "         pos                                         definition  \n",
      "0       noun  the time interval between the initiation and t...  \n",
      "1       noun                         earliest limiting point@en  \n",
      "2       noun  a quicker tempo than andante but not as fast a...  \n",
      "3       noun  a print run of a newspaper during which some a...  \n",
      "4       noun  a recurrent time marked by major holidays; &qu...  \n",
      "...      ...                                                ...  \n",
      "117789  noun  the quality of being capable of exchange or in...  \n",
      "117790  noun  a spacecraft designed to carry a crew into int...  \n",
      "117791  noun              the quality of being irreplaceable@en  \n",
      "117792  verb  undergo fabrication or creation; &quot;This wo...  \n",
      "117793  noun  powder of ground roasted cacao beans with most...  \n",
      "\n",
      "[117794 rows x 6 columns]\n"
     ]
    }
   ],
   "source": [
    "df1 = conn.getVertexDataframe(\"words\")\n",
    "print(df1)"
   ]
  },
  {
   "cell_type": "markdown",
   "metadata": {
    "id": "Cs5chjJBFgw8"
   },
   "source": [
    "##### One or More Vertex"
   ]
  },
  {
   "cell_type": "code",
   "execution_count": 117,
   "metadata": {
    "colab": {
     "base_uri": "https://localhost:8080/"
    },
    "executionInfo": {
     "elapsed": 222,
     "status": "ok",
     "timestamp": 1645433039345,
     "user": {
      "displayName": "Sudha Vijayakumar",
      "photoUrl": "https://lh3.googleusercontent.com/a/default-user=s64",
      "userId": "06644857756484093013"
     },
     "user_tz": 480
    },
    "id": "ZqZZ8r0EFiMg",
    "outputId": "9cd0647a-4326-4cb8-9e1c-6e8c35f1e950"
   },
   "outputs": [
    {
     "name": "stdout",
     "output_type": "stream",
     "text": [
      "         v_id          id                                             uri  \\\n",
      "0  15192825-n  15192825-n  http://wordnet-rdf.princeton.edu/id/15192825-n   \n",
      "\n",
      "  word   pos                                         definition  \n",
      "0  eve  noun  the period immediately before something; &quot...  \n"
     ]
    }
   ],
   "source": [
    "df2 = conn.getVertexDataframeById(\"words\", [\"15192825-n\"])\n",
    "print(df2)"
   ]
  },
  {
   "cell_type": "markdown",
   "metadata": {
    "id": "P5KKOIxcF7Co"
   },
   "source": [
    "##### Convert Vertex/Edge Set to Dataframe\n",
    "We'll use the results from the 'Or Multiple Vertices' cell. "
   ]
  },
  {
   "cell_type": "code",
   "execution_count": 118,
   "metadata": {
    "colab": {
     "base_uri": "https://localhost:8080/"
    },
    "executionInfo": {
     "elapsed": 12,
     "status": "ok",
     "timestamp": 1645433039346,
     "user": {
      "displayName": "Sudha Vijayakumar",
      "photoUrl": "https://lh3.googleusercontent.com/a/default-user=s64",
      "userId": "06644857756484093013"
     },
     "user_tz": 480
    },
    "id": "5toKOF-1GIjH",
    "outputId": "ac40bc95-2c1f-405c-ec2a-a660771e62a1"
   },
   "outputs": [
    {
     "name": "stdout",
     "output_type": "stream",
     "text": [
      "         v_id          id                                             uri  \\\n",
      "0  15137796-n  15137796-n  http://wordnet-rdf.princeton.edu/id/15137796-n   \n",
      "1  15192825-n  15192825-n  http://wordnet-rdf.princeton.edu/id/15192825-n   \n",
      "\n",
      "     word   pos                                         definition  \n",
      "0  period  noun  an amount of time; &quot;a time period of 30 y...  \n",
      "1     eve  noun  the period immediately before something; &quot...  \n"
     ]
    }
   ],
   "source": [
    "df3 = conn.vertexSetToDataFrame(tdf1)\n",
    "print(df3)"
   ]
  },
  {
   "cell_type": "markdown",
   "metadata": {
    "id": "zswIzwgKHnCr"
   },
   "source": [
    "##### Get Edges"
   ]
  },
  {
   "cell_type": "code",
   "execution_count": 119,
   "metadata": {
    "colab": {
     "base_uri": "https://localhost:8080/"
    },
    "executionInfo": {
     "elapsed": 9,
     "status": "ok",
     "timestamp": 1645433039346,
     "user": {
      "displayName": "Sudha Vijayakumar",
      "photoUrl": "https://lh3.googleusercontent.com/a/default-user=s64",
      "userId": "06644857756484093013"
     },
     "user_tz": 480
    },
    "id": "jnPTicB4HwpH",
    "outputId": "ab516935-0a90-4a42-b948-adc5e10af08b"
   },
   "outputs": [
    {
     "name": "stdout",
     "output_type": "stream",
     "text": [
      "  from_type     from_id to_type       to_id    typeOf\n",
      "0     words  15192825-n   words  15137796-n  hypernym\n",
      "1     words  15192825-n   words  15137796-n   hyponym\n"
     ]
    }
   ],
   "source": [
    "df4 = conn.getEdgesDataframe(\"words\", \"15192825-n\", limit=3)\n",
    "print(df4)"
   ]
  },
  {
   "cell_type": "markdown",
   "metadata": {
    "id": "AijIsGUr5fDq"
   },
   "source": [
    "### Path Finding\n",
    "Find paths between vertices.\n",
    "\n",
    "Supported are:\n",
    "- shortestPath - one shortest path between vertices\n",
    "- allPaths - all paths within the specified edge limit"
   ]
  },
  {
   "cell_type": "code",
   "execution_count": 120,
   "metadata": {
    "colab": {
     "base_uri": "https://localhost:8080/"
    },
    "executionInfo": {
     "elapsed": 189,
     "status": "ok",
     "timestamp": 1645433039531,
     "user": {
      "displayName": "Sudha Vijayakumar",
      "photoUrl": "https://lh3.googleusercontent.com/a/default-user=s64",
      "userId": "06644857756484093013"
     },
     "user_tz": 480
    },
    "id": "MxIMRX1x5UPQ",
    "outputId": "8574bb05-a814-4621-dd48-24e97b793dce"
   },
   "outputs": [
    {
     "name": "stdout",
     "output_type": "stream",
     "text": [
      "[{'type': 'words', 'id': '15192825-n'}]\n",
      "[{'type': 'words', 'id': '15161294-n'}]\n",
      "[\n",
      "  {\n",
      "    \"vertices\": [\n",
      "      {\n",
      "        \"v_id\": \"15192825-n\",\n",
      "        \"v_type\": \"words\",\n",
      "        \"attributes\": {\n",
      "          \"id\": \"15192825-n\",\n",
      "          \"uri\": \"http://wordnet-rdf.princeton.edu/id/15192825-n\",\n",
      "          \"word\": \"eve\",\n",
      "          \"pos\": \"noun\",\n",
      "          \"definition\": \"the period immediately before something; &quot;on the eve of the French Revolution&quot;@en\"\n",
      "        }\n",
      "      },\n",
      "      {\n",
      "        \"v_id\": \"15137796-n\",\n",
      "        \"v_type\": \"words\",\n",
      "        \"attributes\": {\n",
      "          \"id\": \"15137796-n\",\n",
      "          \"uri\": \"http://wordnet-rdf.princeton.edu/id/15137796-n\",\n",
      "          \"word\": \"period\",\n",
      "          \"pos\": \"noun\",\n",
      "          \"definition\": \"an amount of time; &quot;a time period of 30 years&quot;; &quot;hastened the period of time of his recovery&quot;; &quot;Picasso's blue period&quot;@en\"\n",
      "        }\n",
      "      },\n",
      "      {\n",
      "        \"v_id\": \"15161294-n\",\n",
      "        \"v_type\": \"words\",\n",
      "        \"attributes\": {\n",
      "          \"id\": \"15161294-n\",\n",
      "          \"uri\": \"http://wordnet-rdf.princeton.edu/id/15161294-n\",\n",
      "          \"word\": \"midweek\",\n",
      "          \"pos\": \"noun\",\n",
      "          \"definition\": \"the middle of a week@en\"\n",
      "        }\n",
      "      }\n",
      "    ],\n",
      "    \"edges\": [\n",
      "      {\n",
      "        \"e_type\": \"type\",\n",
      "        \"from_id\": \"15192825-n\",\n",
      "        \"from_type\": \"words\",\n",
      "        \"to_id\": \"15137796-n\",\n",
      "        \"to_type\": \"words\",\n",
      "        \"directed\": true,\n",
      "        \"attributes\": {\n",
      "          \"typeOf\": \"hypernym\"\n",
      "        }\n",
      "      },\n",
      "      {\n",
      "        \"e_type\": \"type\",\n",
      "        \"from_id\": \"15137796-n\",\n",
      "        \"from_type\": \"words\",\n",
      "        \"to_id\": \"15161294-n\",\n",
      "        \"to_type\": \"words\",\n",
      "        \"directed\": true,\n",
      "        \"attributes\": {\n",
      "          \"typeOf\": \"hyponym\"\n",
      "        }\n",
      "      }\n",
      "    ]\n",
      "  }\n",
      "]\n"
     ]
    }
   ],
   "source": [
    "results = conn.shortestPath([(\"words\", \"15192825-n\")], [(\"words\", \"15161294-n\")])\n",
    "pprint(results)"
   ]
  },
  {
   "cell_type": "markdown",
   "metadata": {
    "id": "p92Wfp-w6JJ0"
   },
   "source": [
    "## ConceptNET"
   ]
  },
  {
   "cell_type": "markdown",
   "metadata": {
    "id": "6zZCAt-N6JJ8"
   },
   "source": [
    "### Create WordNet Graph"
   ]
  },
  {
   "cell_type": "code",
   "execution_count": 121,
   "metadata": {
    "colab": {
     "base_uri": "https://localhost:8080/"
    },
    "executionInfo": {
     "elapsed": 9310,
     "status": "ok",
     "timestamp": 1645433048834,
     "user": {
      "displayName": "Sudha Vijayakumar",
      "photoUrl": "https://lh3.googleusercontent.com/a/default-user=s64",
      "userId": "06644857756484093013"
     },
     "user_tz": 480
    },
    "id": "M_xoLplS6JJ8",
    "outputId": "486ebc40-f6a4-4cad-d896-ed9a11ff05d5"
   },
   "outputs": [
    {
     "name": "stdout",
     "output_type": "stream",
     "text": [
      "The graph ConceptNET is created.\n"
     ]
    }
   ],
   "source": [
    "results = conn.gsql('CREATE GRAPH ConceptNET(word, synset, is_a, reverse_is_a)')\n",
    "print(results)"
   ]
  },
  {
   "cell_type": "code",
   "execution_count": 122,
   "metadata": {
    "colab": {
     "base_uri": "https://localhost:8080/"
    },
    "executionInfo": {
     "elapsed": 1997,
     "status": "ok",
     "timestamp": 1645433050826,
     "user": {
      "displayName": "Sudha Vijayakumar",
      "photoUrl": "https://lh3.googleusercontent.com/a/default-user=s64",
      "userId": "06644857756484093013"
     },
     "user_tz": 480
    },
    "id": "wtW9IYur6JJ9",
    "outputId": "ae416e5d-e037-4af0-a824-a1bc918b28b2"
   },
   "outputs": [
    {
     "name": "stdout",
     "output_type": "stream",
     "text": [
      "q8vnu3asej9pg8qgeari7ek3f8a6qaju\n",
      "sol9jp1gtktj9lp5b9f79ea23sa3u66l\n"
     ]
    }
   ],
   "source": [
    "conn.graphname=\"ConceptNET\"\n",
    "secret = conn.createSecret()\n",
    "print(secret)\n",
    "authToken = conn.getToken(secret)\n",
    "authToken = authToken[0]\n",
    "print(authToken)\n",
    "conn = tg.TigerGraphConnection(host=hostName, graphname=\"ConceptNET\", username=userName, password=password, apiToken=authToken)\n",
    "\n",
    "def pprint(string):\n",
    "  print(json.dumps(string, indent=2))"
   ]
  },
  {
   "cell_type": "markdown",
   "metadata": {
    "id": "ZlzmsKYZ6JJ9"
   },
   "source": [
    "#### Create Loading Jobs"
   ]
  },
  {
   "cell_type": "markdown",
   "metadata": {
    "id": "HfGxKRvo6JJ-"
   },
   "source": [
    "#### Concept/ Words Edges"
   ]
  },
  {
   "cell_type": "markdown",
   "metadata": {
    "id": "t5wwsBNT6JJ-"
   },
   "source": [
    "Let's take a look at what one of our files looks like so we can write a loading job. \n",
    "\n",
    "- has_synset(FROM rootWord, TO synset)\n",
    "is_a_synset_of(FROM synset, TO rootWord)\n"
   ]
  },
  {
   "cell_type": "code",
   "execution_count": 123,
   "metadata": {
    "colab": {
     "base_uri": "https://localhost:8080/"
    },
    "executionInfo": {
     "elapsed": 213,
     "status": "ok",
     "timestamp": 1645433051032,
     "user": {
      "displayName": "Sudha Vijayakumar",
      "photoUrl": "https://lh3.googleusercontent.com/a/default-user=s64",
      "userId": "06644857756484093013"
     },
     "user_tz": 480
    },
    "id": "LcVbs2n36JJ-",
    "outputId": "a25d6875-9050-44e3-aac4-c78e11d29670"
   },
   "outputs": [],
   "source": [
    "# !head -n 2 '/content/drive/MyDrive/LanguageModel/Data_Processing/csv_imports/words.csv'"
   ]
  },
  {
   "cell_type": "markdown",
   "metadata": {
    "id": "BqCWHZsq6JJ-"
   },
   "source": [
    "Here it's important to note that the `$0`, `$1` values line up with the columns of your data.\n",
    "In this example:\n",
    "- `$0` is the `uri` column,\n",
    "- `$1` is `id`,\n",
    "- `$2` is `word`\n",
    "- and so on"
   ]
  },
  {
   "cell_type": "code",
   "execution_count": 124,
   "metadata": {
    "colab": {
     "base_uri": "https://localhost:8080/"
    },
    "executionInfo": {
     "elapsed": 16876,
     "status": "ok",
     "timestamp": 1645433067905,
     "user": {
      "displayName": "Sudha Vijayakumar",
      "photoUrl": "https://lh3.googleusercontent.com/a/default-user=s64",
      "userId": "06644857756484093013"
     },
     "user_tz": 480
    },
    "id": "jx9wRrAF6JJ-",
    "outputId": "f8850184-7878-4e63-c3f4-c0b8f1056f53"
   },
   "outputs": [
    {
     "name": "stdout",
     "output_type": "stream",
     "text": [
      "Using graph 'ConceptNET'\n",
      "Successfully created loading jobs: [load_job_words].\n",
      "Successfully created loading jobs: [load_job_synsets].\n",
      "Successfully created loading jobs: [load_job_relationships].\n"
     ]
    }
   ],
   "source": [
    "results = conn.gsql('''\n",
    "  USE GRAPH ConceptNET\n",
    "  BEGIN\n",
    "  CREATE LOADING JOB load_job_words FOR GRAPH ConceptNET {\n",
    "      DEFINE FILENAME MyDataSource;\n",
    "      LOAD MyDataSource TO VERTEX word VALUES($0, $1, $2) USING SEPARATOR=\",\", HEADER=\"true\", EOL=\"\", QUOTE=\"double\";\n",
    "    }\n",
    "\n",
    "    CREATE LOADING JOB load_job_synsets FOR GRAPH ConceptNET {\n",
    "      DEFINE FILENAME MyDataSource;\n",
    "      LOAD MyDataSource TO VERTEX synset VALUES($0, $2) USING SEPARATOR=\",\", HEADER=\"true\", EOL=\"\", QUOTE=\"double\";\n",
    "    }\n",
    "\n",
    "\n",
    "    CREATE LOADING JOB load_job_relationships FOR GRAPH ConceptNET {\n",
    "      DEFINE FILENAME MyDataSource;\n",
    "      LOAD MyDataSource TO EDGE is_a VALUES($0 word, $1 synset, $4) USING SEPARATOR=\",\", HEADER=\"true\", EOL=\"\";\n",
    "      LOAD MyDataSource TO EDGE is_a VALUES($0 synset, $1 word, $4) USING SEPARATOR=\",\", HEADER=\"true\", EOL=\"\";\n",
    "    }\n",
    "\n",
    "  END\n",
    "  ''')\n",
    "print(results)"
   ]
  },
  {
   "cell_type": "markdown",
   "metadata": {
    "id": "rWH8nZWn6JJ-"
   },
   "source": [
    "#### Concept/ Word Root\n"
   ]
  },
  {
   "cell_type": "code",
   "execution_count": 144,
   "metadata": {
    "colab": {
     "base_uri": "https://localhost:8080/"
    },
    "executionInfo": {
     "elapsed": 18,
     "status": "ok",
     "timestamp": 1645433067905,
     "user": {
      "displayName": "Sudha Vijayakumar",
      "photoUrl": "https://lh3.googleusercontent.com/a/default-user=s64",
      "userId": "06644857756484093013"
     },
     "user_tz": 480
    },
    "id": "vnA98sWjlTOJ",
    "outputId": "ccceed81-0cec-4365-fe77-52083216bfb2"
   },
   "outputs": [],
   "source": [
    "# !head -n 2 '/content/drive/MyDrive/LanguageModel/Data_Processing/csv_imports/synsets.csv'"
   ]
  },
  {
   "cell_type": "code",
   "execution_count": 145,
   "metadata": {
    "colab": {
     "base_uri": "https://localhost:8080/"
    },
    "executionInfo": {
     "elapsed": 3094,
     "status": "ok",
     "timestamp": 1645433070985,
     "user": {
      "displayName": "Sudha Vijayakumar",
      "photoUrl": "https://lh3.googleusercontent.com/a/default-user=s64",
      "userId": "06644857756484093013"
     },
     "user_tz": 480
    },
    "id": "YiU89as36JJ-",
    "outputId": "35fda55b-ef6f-4412-8a91-bc3677b67e5e"
   },
   "outputs": [
    {
     "name": "stdout",
     "output_type": "stream",
     "text": [
      "Using graph 'ConceptNET'\n",
      "Semantic Check Fails: The job name load_job_words_csv_1644515929297 already exists in other objects!\n",
      "Failed to create loading jobs: [load_job_words_csv_1644515929297].\n"
     ]
    }
   ],
   "source": [
    "results = conn.gsql('''\n",
    "  USE GRAPH ConceptNET\n",
    "  BEGIN\n",
    "  CREATE LOADING JOB load_job_words_csv_1644515929297 FOR GRAPH ConceptNET {\n",
    "      DEFINE FILENAME MyDataSource;\n",
    "      LOAD MyDataSource TO VERTEX word VALUES($0, $1, $2) USING SEPARATOR=\",\", HEADER=\"true\", EOL=\"\\n\", QUOTE=\"double\";\n",
    "    }\n",
    "\n",
    "  CREATE LOADING JOB load_job_relationships_csv_1644515956497 FOR GRAPH ConceptNET {\n",
    "      DEFINE FILENAME MyDataSource;\n",
    "      LOAD MyDataSource TO EDGE is_a VALUES($0 synset, $1 word, $4) USING SEPARATOR=\",\", HEADER=\"true\", EOL=\"\\n\", QUOTE=\"double\";\n",
    "      LOAD MyDataSource TO EDGE is_a VALUES($0 word, $1 synset, $4) USING SEPARATOR=\",\", HEADER=\"true\", EOL=\"\\n\", QUOTE=\"double\";\n",
    "    }\n",
    "\n",
    "  CREATE LOADING JOB load_job_synsets_csv_1644515968121 FOR GRAPH ConceptNET {\n",
    "      DEFINE FILENAME MyDataSource;\n",
    "      LOAD MyDataSource TO VERTEX synset VALUES($0, $2) USING SEPARATOR=\",\", HEADER=\"true\", EOL=\"\\n\", QUOTE=\"double\";\n",
    "    }\n",
    "  END\n",
    "  ''')\n",
    "print(results)"
   ]
  },
  {
   "cell_type": "markdown",
   "metadata": {
    "id": "CyV-wdHp7hLX"
   },
   "source": [
    "#### Concept/ Synset \n",
    "- synset(PRIMARY_ID id STRING, pos STRING, definition STRING, label STRING) WITH STATS=\"OUTDEGREE_BY_EDGETYPE\", PRIMARY_ID_AS_ATTRIBUTE=\"true\"\n"
   ]
  },
  {
   "cell_type": "code",
   "execution_count": 146,
   "metadata": {
    "colab": {
     "base_uri": "https://localhost:8080/"
    },
    "executionInfo": {
     "elapsed": 200,
     "status": "ok",
     "timestamp": 1645433071164,
     "user": {
      "displayName": "Sudha Vijayakumar",
      "photoUrl": "https://lh3.googleusercontent.com/a/default-user=s64",
      "userId": "06644857756484093013"
     },
     "user_tz": 480
    },
    "id": "TFJGoh6Y7hLY",
    "outputId": "202c683c-c303-4e1c-9e96-85751b90420e"
   },
   "outputs": [
    {
     "name": "stdout",
     "output_type": "stream",
     "text": [
      "Using graph 'ConceptNET'\n",
      "Semantic Check Fails: The job name load_job_relationships already exists in other objects!\n",
      "Failed to create loading jobs: [load_job_relationships].\n"
     ]
    }
   ],
   "source": [
    "results = conn.gsql('''\n",
    "  USE GRAPH ConceptNET\n",
    "  BEGIN\n",
    "  CREATE LOADING JOB load_job_relationships FOR GRAPH ConceptNET {\n",
    "      DEFINE FILENAME MyDataSource;\n",
    "      LOAD MyDataSource TO EDGE is_a VALUES($0 word, $1 synset, $4) USING SEPARATOR=\",\", HEADER=\"true\", EOL=\"\\n\";\n",
    "      LOAD MyDataSource TO EDGE is_a VALUES($0 synset, $1 word, $4) USING SEPARATOR=\",\", HEADER=\"true\", EOL=\"\\n\";\n",
    "    }\n",
    "  END\n",
    "  ''')\n",
    "print(results)"
   ]
  },
  {
   "cell_type": "markdown",
   "metadata": {
    "id": "HnOFvxUe6JJ_"
   },
   "source": [
    "### Load Data"
   ]
  },
  {
   "cell_type": "markdown",
   "metadata": {
    "id": "gPZ2iTs-6JJ_"
   },
   "source": [
    "#### Words"
   ]
  },
  {
   "cell_type": "code",
   "execution_count": 147,
   "metadata": {
    "colab": {
     "base_uri": "https://localhost:8080/"
    },
    "executionInfo": {
     "elapsed": 13657,
     "status": "ok",
     "timestamp": 1645433084820,
     "user": {
      "displayName": "Sudha Vijayakumar",
      "photoUrl": "https://lh3.googleusercontent.com/a/default-user=s64",
      "userId": "06644857756484093013"
     },
     "user_tz": 480
    },
    "id": "IUJlXRgn6JKA",
    "outputId": "381ada22-ba42-4127-c327-471a43fde5fd"
   },
   "outputs": [
    {
     "name": "stdout",
     "output_type": "stream",
     "text": [
      "[\n",
      "  {\n",
      "    \"sourceFileName\": \"Online_POST\",\n",
      "    \"statistics\": {\n",
      "      \"validLine\": 1530137,\n",
      "      \"rejectLine\": 0,\n",
      "      \"failedConditionLine\": 0,\n",
      "      \"notEnoughToken\": 0,\n",
      "      \"invalidJson\": 0,\n",
      "      \"oversizeToken\": 0,\n",
      "      \"vertex\": [\n",
      "        {\n",
      "          \"typeName\": \"word\",\n",
      "          \"validObject\": 1530137,\n",
      "          \"noIdFound\": 0,\n",
      "          \"invalidAttribute\": 0,\n",
      "          \"invalidVertexType\": 0,\n",
      "          \"invalidPrimaryId\": 0,\n",
      "          \"invalidSecondaryId\": 0,\n",
      "          \"incorrectFixedBinaryLength\": 0\n",
      "        }\n",
      "      ],\n",
      "      \"edge\": [],\n",
      "      \"deleteVertex\": [],\n",
      "      \"deleteEdge\": []\n",
      "    }\n",
      "  }\n",
      "]\n"
     ]
    }
   ],
   "source": [
    "# Load the posts file wiht the 'load_words' job\n",
    "load_words = root+'words.csv'\n",
    "results = conn.uploadFile(load_words, timeout='100000',fileTag='MyDataSource', jobName='load_job_words_csv_1644515929297')\n",
    "print(json.dumps(results, indent=2))"
   ]
  },
  {
   "cell_type": "markdown",
   "metadata": {
    "id": "mls8aW9z_nJP"
   },
   "source": [
    "#### Synsets"
   ]
  },
  {
   "cell_type": "code",
   "execution_count": 148,
   "metadata": {
    "colab": {
     "base_uri": "https://localhost:8080/"
    },
    "executionInfo": {
     "elapsed": 12,
     "status": "ok",
     "timestamp": 1645433084821,
     "user": {
      "displayName": "Sudha Vijayakumar",
      "photoUrl": "https://lh3.googleusercontent.com/a/default-user=s64",
      "userId": "06644857756484093013"
     },
     "user_tz": 480
    },
    "id": "NUDvSM9A_nJY",
    "outputId": "e5224407-2ef5-4511-91ef-d2d77befd54d"
   },
   "outputs": [
    {
     "name": "stdout",
     "output_type": "stream",
     "text": [
      "[\n",
      "  {\n",
      "    \"sourceFileName\": \"Online_POST\",\n",
      "    \"statistics\": {\n",
      "      \"validLine\": 117660,\n",
      "      \"rejectLine\": 0,\n",
      "      \"failedConditionLine\": 0,\n",
      "      \"notEnoughToken\": 0,\n",
      "      \"invalidJson\": 0,\n",
      "      \"oversizeToken\": 0,\n",
      "      \"vertex\": [\n",
      "        {\n",
      "          \"typeName\": \"synset\",\n",
      "          \"validObject\": 117660,\n",
      "          \"noIdFound\": 0,\n",
      "          \"invalidAttribute\": 0,\n",
      "          \"invalidVertexType\": 0,\n",
      "          \"invalidPrimaryId\": 0,\n",
      "          \"invalidSecondaryId\": 0,\n",
      "          \"incorrectFixedBinaryLength\": 0\n",
      "        }\n",
      "      ],\n",
      "      \"edge\": [],\n",
      "      \"deleteVertex\": [],\n",
      "      \"deleteEdge\": []\n",
      "    }\n",
      "  }\n",
      "]\n"
     ]
    }
   ],
   "source": [
    "# Load the posts file wiht the 'load_synsets' job\n",
    "load_synsets = root+'synsets.csv'\n",
    "results = conn.uploadFile(load_synsets, timeout='100000', fileTag='MyDataSource', jobName='load_job_synsets_csv_1644515968121')\n",
    "print(json.dumps(results, indent=2))"
   ]
  },
  {
   "cell_type": "markdown",
   "metadata": {
    "id": "qQ9QVxd56JKA"
   },
   "source": [
    "#### Edges"
   ]
  },
  {
   "cell_type": "code",
   "execution_count": 149,
   "metadata": {
    "colab": {
     "base_uri": "https://localhost:8080/"
    },
    "executionInfo": {
     "elapsed": 41545,
     "status": "ok",
     "timestamp": 1645433126359,
     "user": {
      "displayName": "Sudha Vijayakumar",
      "photoUrl": "https://lh3.googleusercontent.com/a/default-user=s64",
      "userId": "06644857756484093013"
     },
     "user_tz": 480
    },
    "id": "lBn7z_3x6JKA",
    "outputId": "13d00962-f175-4222-e75f-cfe0be51660d"
   },
   "outputs": [
    {
     "name": "stdout",
     "output_type": "stream",
     "text": [
      "[\n",
      "  {\n",
      "    \"sourceFileName\": \"Online_POST\",\n",
      "    \"statistics\": {\n",
      "      \"validLine\": 3406450,\n",
      "      \"rejectLine\": 0,\n",
      "      \"failedConditionLine\": 0,\n",
      "      \"notEnoughToken\": 0,\n",
      "      \"invalidJson\": 0,\n",
      "      \"oversizeToken\": 0,\n",
      "      \"vertex\": [],\n",
      "      \"edge\": [\n",
      "        {\n",
      "          \"typeName\": \"is_a\",\n",
      "          \"validObject\": 3406450,\n",
      "          \"noIdFound\": 0,\n",
      "          \"invalidAttribute\": 0,\n",
      "          \"invalidVertexType\": 0,\n",
      "          \"invalidPrimaryId\": 0,\n",
      "          \"invalidSecondaryId\": 0,\n",
      "          \"incorrectFixedBinaryLength\": 0\n",
      "        },\n",
      "        {\n",
      "          \"typeName\": \"is_a\",\n",
      "          \"validObject\": 3406450,\n",
      "          \"noIdFound\": 0,\n",
      "          \"invalidAttribute\": 0,\n",
      "          \"invalidVertexType\": 0,\n",
      "          \"invalidPrimaryId\": 0,\n",
      "          \"invalidSecondaryId\": 0,\n",
      "          \"incorrectFixedBinaryLength\": 0\n",
      "        }\n",
      "      ],\n",
      "      \"deleteVertex\": [],\n",
      "      \"deleteEdge\": []\n",
      "    }\n",
      "  }\n",
      "]\n"
     ]
    }
   ],
   "source": [
    "# Load the posts file wiht the 'load_edges' job\n",
    "load_edges = root+'relationships.csv'\n",
    "results = conn.uploadFile(load_edges, timeout='100000', fileTag='MyDataSource', jobName='load_job_relationships_csv_1644515956497')\n",
    "print(json.dumps(results, indent=2))"
   ]
  },
  {
   "cell_type": "markdown",
   "metadata": {
    "id": "0RX9dCXC6JKA"
   },
   "source": [
    "### Exploring the Graph"
   ]
  },
  {
   "cell_type": "markdown",
   "metadata": {
    "id": "YvT6L7eH6JKA"
   },
   "source": [
    "#### Get Vertex and Edge Schema"
   ]
  },
  {
   "cell_type": "code",
   "execution_count": 150,
   "metadata": {
    "colab": {
     "base_uri": "https://localhost:8080/"
    },
    "executionInfo": {
     "elapsed": 199,
     "status": "ok",
     "timestamp": 1645433126555,
     "user": {
      "displayName": "Sudha Vijayakumar",
      "photoUrl": "https://lh3.googleusercontent.com/a/default-user=s64",
      "userId": "06644857756484093013"
     },
     "user_tz": 480
    },
    "id": "DlXSiqZq6JKA",
    "outputId": "a5b08d2f-7598-46f0-a875-55f566ae59bc"
   },
   "outputs": [
    {
     "name": "stdout",
     "output_type": "stream",
     "text": [
      "Verticies: ['word', 'synset']\n",
      "Edges: ['is_a']\n"
     ]
    }
   ],
   "source": [
    "results = conn.getVertexTypes()\n",
    "print(f\"Verticies: {results}\")\n",
    "vertices = results\n",
    "\n",
    "results = conn.getEdgeTypes()\n",
    "print(f\"Edges: {results}\")\n",
    "edges = results"
   ]
  },
  {
   "cell_type": "code",
   "execution_count": 151,
   "metadata": {
    "colab": {
     "base_uri": "https://localhost:8080/"
    },
    "executionInfo": {
     "elapsed": 7,
     "status": "ok",
     "timestamp": 1645433126556,
     "user": {
      "displayName": "Sudha Vijayakumar",
      "photoUrl": "https://lh3.googleusercontent.com/a/default-user=s64",
      "userId": "06644857756484093013"
     },
     "user_tz": 480
    },
    "id": "8SdzkThj6JKA",
    "outputId": "690f540e-8fb1-48a6-f167-d25234b4029d"
   },
   "outputs": [
    {
     "name": "stdout",
     "output_type": "stream",
     "text": [
      "-----------------\n",
      "Results for liked edge\n",
      "{\n",
      "  \"IsDirected\": true,\n",
      "  \"ToVertexTypeName\": \"*\",\n",
      "  \"Config\": {\n",
      "    \"REVERSE_EDGE\": \"reverse_is_a\"\n",
      "  },\n",
      "  \"Attributes\": [\n",
      "    {\n",
      "      \"AttributeType\": {\n",
      "        \"Name\": \"STRING\"\n",
      "      },\n",
      "      \"IsPartOfCompositeKey\": false,\n",
      "      \"PrimaryIdAsAttribute\": false,\n",
      "      \"AttributeName\": \"type\",\n",
      "      \"HasIndex\": false,\n",
      "      \"internalAttribute\": false,\n",
      "      \"IsPrimaryKey\": false\n",
      "    }\n",
      "  ],\n",
      "  \"FromVertexTypeName\": \"*\",\n",
      "  \"EdgePairs\": [\n",
      "    {\n",
      "      \"From\": \"synset\",\n",
      "      \"To\": \"word\"\n",
      "    },\n",
      "    {\n",
      "      \"From\": \"word\",\n",
      "      \"To\": \"synset\"\n",
      "    }\n",
      "  ],\n",
      "  \"Name\": \"is_a\"\n",
      "}\n"
     ]
    }
   ],
   "source": [
    "\n",
    "# print(f\"Results for Post vertex\")\n",
    "# pprint(conn.getVertexType(\"word\"))\n",
    "\n",
    "print(\"-----------------\")\n",
    "print(f\"Results for liked edge\")\n",
    "pprint(conn.getEdgeType(\"is_a\"))\n"
   ]
  },
  {
   "cell_type": "markdown",
   "metadata": {
    "id": "yy56lT-i6JKA"
   },
   "source": [
    "### Counting Data"
   ]
  },
  {
   "cell_type": "code",
   "execution_count": 152,
   "metadata": {
    "colab": {
     "base_uri": "https://localhost:8080/"
    },
    "executionInfo": {
     "elapsed": 3053,
     "status": "ok",
     "timestamp": 1645433129605,
     "user": {
      "displayName": "Sudha Vijayakumar",
      "photoUrl": "https://lh3.googleusercontent.com/a/default-user=s64",
      "userId": "06644857756484093013"
     },
     "user_tz": 480
    },
    "id": "bht_fNYO6JKB",
    "outputId": "e0b552d0-9272-4792-ca00-3dae3f41d92c"
   },
   "outputs": [
    {
     "name": "stdout",
     "output_type": "stream",
     "text": [
      "Vertex Counts\n",
      "There are 1647798 word vertices in the graph\n",
      "There are 1647798 synset vertices in the graph\n",
      "--------------\n",
      "Edge Counts\n",
      "There are 6592698 is_a edges in the graph\n"
     ]
    }
   ],
   "source": [
    "print(\"Vertex Counts\")\n",
    "for vertex in vertices:\n",
    "  print(f\"There are {conn.getVertexCount(vertex)} {vertex} vertices in the graph\")\n",
    "\n",
    "print(\"--------------\")\n",
    "print(\"Edge Counts\")\n",
    "for edge in edges:\n",
    "  print(f\"There are {conn.getEdgeCount(edge)} {edge} edges in the graph\")"
   ]
  },
  {
   "cell_type": "markdown",
   "metadata": {
    "id": "SjOkMPM36JKB"
   },
   "source": [
    "### Extracting Data"
   ]
  },
  {
   "cell_type": "markdown",
   "metadata": {
    "id": "04l0Fr-z6JKB"
   },
   "source": [
    "#### Vertex/Edge Set Format"
   ]
  },
  {
   "cell_type": "markdown",
   "metadata": {
    "id": "SER5KI2H6JKB"
   },
   "source": [
    "##### Getting a Vertex"
   ]
  },
  {
   "cell_type": "code",
   "execution_count": 153,
   "metadata": {
    "colab": {
     "base_uri": "https://localhost:8080/"
    },
    "executionInfo": {
     "elapsed": 23,
     "status": "ok",
     "timestamp": 1645433129606,
     "user": {
      "displayName": "Sudha Vijayakumar",
      "photoUrl": "https://lh3.googleusercontent.com/a/default-user=s64",
      "userId": "06644857756484093013"
     },
     "user_tz": 480
    },
    "id": "lQooNR_n6JKB",
    "outputId": "8d42d2fa-1962-4b62-9426-953622fdf002"
   },
   "outputs": [
    {
     "name": "stdout",
     "output_type": "stream",
     "text": [
      "[\n",
      "  {\n",
      "    \"v_id\": \"judicially.r.01\",\n",
      "    \"v_type\": \"synset\",\n",
      "    \"attributes\": {\n",
      "      \"id\": \"judicially.r.01\",\n",
      "      \"definition\": \"as ordered by a court\"\n",
      "    }\n",
      "  }\n",
      "]\n"
     ]
    }
   ],
   "source": [
    "results = conn.getVerticesById(\"synset\", \"judicially.r.01\")\n",
    "pprint(results)"
   ]
  },
  {
   "cell_type": "markdown",
   "metadata": {
    "id": "XyNl-phe6JKB"
   },
   "source": [
    "##### Or Multiple Vertices"
   ]
  },
  {
   "cell_type": "code",
   "execution_count": 154,
   "metadata": {
    "colab": {
     "base_uri": "https://localhost:8080/"
    },
    "executionInfo": {
     "elapsed": 218,
     "status": "ok",
     "timestamp": 1645433129804,
     "user": {
      "displayName": "Sudha Vijayakumar",
      "photoUrl": "https://lh3.googleusercontent.com/a/default-user=s64",
      "userId": "06644857756484093013"
     },
     "user_tz": 480
    },
    "id": "-xkdVX4S6JKB",
    "outputId": "7a80fa91-b422-4ac2-ce64-22f760d4c64b"
   },
   "outputs": [
    {
     "name": "stdout",
     "output_type": "stream",
     "text": [
      "[\n",
      "  {\n",
      "    \"v_id\": \"conflict.v\",\n",
      "    \"v_type\": \"word\",\n",
      "    \"attributes\": {\n",
      "      \"id\": \"conflict.v\",\n",
      "      \"name\": \"conflict\",\n",
      "      \"pos\": \"v\"\n",
      "    }\n",
      "  },\n",
      "  {\n",
      "    \"v_id\": \"clash.v.02\",\n",
      "    \"v_type\": \"word\",\n",
      "    \"attributes\": {\n",
      "      \"id\": \"\",\n",
      "      \"name\": \"\",\n",
      "      \"pos\": \"\"\n",
      "    }\n",
      "  }\n",
      "]\n"
     ]
    }
   ],
   "source": [
    "tdf1 = conn.getVerticesById(\"word\", [\"conflict.v\",\"clash.v.02\"])\n",
    "pprint(tdf1)"
   ]
  },
  {
   "cell_type": "markdown",
   "metadata": {
    "id": "kwW_9oSl6JKB"
   },
   "source": [
    "##### Count Edges Connected to a Vertex"
   ]
  },
  {
   "cell_type": "code",
   "execution_count": 155,
   "metadata": {
    "colab": {
     "base_uri": "https://localhost:8080/"
    },
    "executionInfo": {
     "elapsed": 240,
     "status": "ok",
     "timestamp": 1645433130042,
     "user": {
      "displayName": "Sudha Vijayakumar",
      "photoUrl": "https://lh3.googleusercontent.com/a/default-user=s64",
      "userId": "06644857756484093013"
     },
     "user_tz": 480
    },
    "id": "szYjJmkF6JKB",
    "outputId": "13ca51f8-8a09-4621-e71a-3b430085393c"
   },
   "outputs": [
    {
     "name": "stdout",
     "output_type": "stream",
     "text": [
      "{\n",
      "  \"is_a\": 9,\n",
      "  \"reverse_is_a\": 7\n",
      "}\n"
     ]
    }
   ],
   "source": [
    "results = conn.getEdgeCountFrom(\"word\", \"conflict.v\")\n",
    "pprint(results)"
   ]
  },
  {
   "cell_type": "markdown",
   "metadata": {
    "id": "t1Z8RtJL6JKC"
   },
   "source": [
    "##### Show all Edges Connected to a Vertex"
   ]
  },
  {
   "cell_type": "code",
   "execution_count": 156,
   "metadata": {
    "colab": {
     "base_uri": "https://localhost:8080/"
    },
    "executionInfo": {
     "elapsed": 13,
     "status": "ok",
     "timestamp": 1645433130043,
     "user": {
      "displayName": "Sudha Vijayakumar",
      "photoUrl": "https://lh3.googleusercontent.com/a/default-user=s64",
      "userId": "06644857756484093013"
     },
     "user_tz": 480
    },
    "id": "WJcZirzH6JKC",
    "outputId": "757e826b-b6fc-40f5-859c-7da7c6f03b9c"
   },
   "outputs": [
    {
     "name": "stdout",
     "output_type": "stream",
     "text": [
      "[\n",
      "  {\n",
      "    \"e_type\": \"is_a\",\n",
      "    \"directed\": true,\n",
      "    \"from_id\": \"conflict.v\",\n",
      "    \"from_type\": \"word\",\n",
      "    \"to_id\": \"contrast.v\",\n",
      "    \"to_type\": \"synset\",\n",
      "    \"attributes\": {\n",
      "      \"type\": \"MannerOf\"\n",
      "    }\n",
      "  },\n",
      "  {\n",
      "    \"e_type\": \"is_a\",\n",
      "    \"directed\": true,\n",
      "    \"from_id\": \"conflict.v\",\n",
      "    \"from_type\": \"word\",\n",
      "    \"to_id\": \"disagree\",\n",
      "    \"to_type\": \"synset\",\n",
      "    \"attributes\": {\n",
      "      \"type\": \"Synonym\"\n",
      "    }\n",
      "  },\n",
      "  {\n",
      "    \"e_type\": \"is_a\",\n",
      "    \"directed\": true,\n",
      "    \"from_id\": \"conflict.v\",\n",
      "    \"from_type\": \"word\",\n",
      "    \"to_id\": \"overlap\",\n",
      "    \"to_type\": \"synset\",\n",
      "    \"attributes\": {\n",
      "      \"type\": \"RelatedTo\"\n",
      "    }\n",
      "  },\n",
      "  {\n",
      "    \"e_type\": \"is_a\",\n",
      "    \"directed\": true,\n",
      "    \"from_id\": \"conflict.v\",\n",
      "    \"from_type\": \"word\",\n",
      "    \"to_id\": \"at_odds\",\n",
      "    \"to_type\": \"synset\",\n",
      "    \"attributes\": {\n",
      "      \"type\": \"RelatedTo\"\n",
      "    }\n",
      "  },\n",
      "  {\n",
      "    \"e_type\": \"is_a\",\n",
      "    \"directed\": true,\n",
      "    \"from_id\": \"conflict.v\",\n",
      "    \"from_type\": \"word\",\n",
      "    \"to_id\": \"conflict.v.02\",\n",
      "    \"to_type\": \"synset\",\n",
      "    \"attributes\": {\n",
      "      \"type\": \"InSynset\"\n",
      "    }\n",
      "  },\n",
      "  {\n",
      "    \"e_type\": \"is_a\",\n",
      "    \"directed\": true,\n",
      "    \"from_id\": \"conflict.v\",\n",
      "    \"from_type\": \"word\",\n",
      "    \"to_id\": \"transgress.v\",\n",
      "    \"to_type\": \"synset\",\n",
      "    \"attributes\": {\n",
      "      \"type\": \"MannerOf\"\n",
      "    }\n",
      "  },\n",
      "  {\n",
      "    \"e_type\": \"is_a\",\n",
      "    \"directed\": true,\n",
      "    \"from_id\": \"conflict.v\",\n",
      "    \"from_type\": \"word\",\n",
      "    \"to_id\": \"incompatible\",\n",
      "    \"to_type\": \"synset\",\n",
      "    \"attributes\": {\n",
      "      \"type\": \"RelatedTo\"\n",
      "    }\n",
      "  },\n",
      "  {\n",
      "    \"e_type\": \"is_a\",\n",
      "    \"directed\": true,\n",
      "    \"from_id\": \"conflict.v\",\n",
      "    \"from_type\": \"word\",\n",
      "    \"to_id\": \"schedule\",\n",
      "    \"to_type\": \"synset\",\n",
      "    \"attributes\": {\n",
      "      \"type\": \"RelatedTo\"\n",
      "    }\n",
      "  },\n",
      "  {\n",
      "    \"e_type\": \"is_a\",\n",
      "    \"directed\": true,\n",
      "    \"from_id\": \"conflict.v\",\n",
      "    \"from_type\": \"word\",\n",
      "    \"to_id\": \"conflict.v.01\",\n",
      "    \"to_type\": \"synset\",\n",
      "    \"attributes\": {\n",
      "      \"type\": \"InSynset\"\n",
      "    }\n",
      "  },\n",
      "  {\n",
      "    \"e_type\": \"reverse_is_a\",\n",
      "    \"directed\": true,\n",
      "    \"from_id\": \"conflict.v\",\n",
      "    \"from_type\": \"word\",\n",
      "    \"to_id\": \"infringe.v\",\n",
      "    \"to_type\": \"synset\",\n",
      "    \"attributes\": {\n",
      "      \"type\": \"Synonym\"\n",
      "    }\n",
      "  },\n",
      "  {\n",
      "    \"e_type\": \"reverse_is_a\",\n",
      "    \"directed\": true,\n",
      "    \"from_id\": \"conflict.v\",\n",
      "    \"from_type\": \"word\",\n",
      "    \"to_id\": \"run_afoul.v\",\n",
      "    \"to_type\": \"synset\",\n",
      "    \"attributes\": {\n",
      "      \"type\": \"Synonym\"\n",
      "    }\n",
      "  },\n",
      "  {\n",
      "    \"e_type\": \"reverse_is_a\",\n",
      "    \"directed\": true,\n",
      "    \"from_id\": \"conflict.v\",\n",
      "    \"from_type\": \"word\",\n",
      "    \"to_id\": \"conflicting\",\n",
      "    \"to_type\": \"synset\",\n",
      "    \"attributes\": {\n",
      "      \"type\": \"FormOf\"\n",
      "    }\n",
      "  },\n",
      "  {\n",
      "    \"e_type\": \"reverse_is_a\",\n",
      "    \"directed\": true,\n",
      "    \"from_id\": \"conflict.v\",\n",
      "    \"from_type\": \"word\",\n",
      "    \"to_id\": \"contravene.v\",\n",
      "    \"to_type\": \"synset\",\n",
      "    \"attributes\": {\n",
      "      \"type\": \"Synonym\"\n",
      "    }\n",
      "  },\n",
      "  {\n",
      "    \"e_type\": \"reverse_is_a\",\n",
      "    \"directed\": true,\n",
      "    \"from_id\": \"conflict.v\",\n",
      "    \"from_type\": \"word\",\n",
      "    \"to_id\": \"clash.v\",\n",
      "    \"to_type\": \"synset\",\n",
      "    \"attributes\": {\n",
      "      \"type\": \"MannerOf\"\n",
      "    }\n",
      "  },\n",
      "  {\n",
      "    \"e_type\": \"reverse_is_a\",\n",
      "    \"directed\": true,\n",
      "    \"from_id\": \"conflict.v\",\n",
      "    \"from_type\": \"word\",\n",
      "    \"to_id\": \"conflicted\",\n",
      "    \"to_type\": \"synset\",\n",
      "    \"attributes\": {\n",
      "      \"type\": \"FormOf\"\n",
      "    }\n",
      "  },\n",
      "  {\n",
      "    \"e_type\": \"reverse_is_a\",\n",
      "    \"directed\": true,\n",
      "    \"from_id\": \"conflict.v\",\n",
      "    \"from_type\": \"word\",\n",
      "    \"to_id\": \"conflicts\",\n",
      "    \"to_type\": \"synset\",\n",
      "    \"attributes\": {\n",
      "      \"type\": \"FormOf\"\n",
      "    }\n",
      "  }\n",
      "]\n"
     ]
    }
   ],
   "source": [
    "results = conn.getEdges(\"word\", \"conflict.v\")\n",
    "pprint(results)"
   ]
  },
  {
   "cell_type": "markdown",
   "metadata": {
    "id": "RC3afJn96JKC"
   },
   "source": [
    "#### As Pandas Dataframe\n",
    "Supports all of the above in native Pandas Dataframe format."
   ]
  },
  {
   "cell_type": "markdown",
   "metadata": {
    "id": "eeYEpdk_6JKC"
   },
   "source": [
    "##### All Vertices of one Type"
   ]
  },
  {
   "cell_type": "code",
   "execution_count": 157,
   "metadata": {
    "colab": {
     "base_uri": "https://localhost:8080/"
    },
    "executionInfo": {
     "elapsed": 33461,
     "status": "ok",
     "timestamp": 1645433163496,
     "user": {
      "displayName": "Sudha Vijayakumar",
      "photoUrl": "https://lh3.googleusercontent.com/a/default-user=s64",
      "userId": "06644857756484093013"
     },
     "user_tz": 480
    },
    "id": "jXj_23C_6JKC",
    "outputId": "064eb003-2b15-4504-d04f-2e0aa374b2c8"
   },
   "outputs": [
    {
     "name": "stdout",
     "output_type": "stream",
     "text": [
      "                                 v_id                            id  \\\n",
      "0                    friend_to_friend              friend_to_friend   \n",
      "1        making_objects_appear_closer  making_objects_appear_closer   \n",
      "2                   conveying_message             conveying_message   \n",
      "3                   enhance_orchestra             enhance_orchestra   \n",
      "4                 playing_flute_music           playing_flute_music   \n",
      "...                               ...                           ...   \n",
      "1647793        intradepartmental.a.01                                 \n",
      "1647794                cybernate.v.01                                 \n",
      "1647795              hystricidae.n.01                                 \n",
      "1647796                 sedition.n.01                                 \n",
      "1647797                     dull.s.05                                 \n",
      "\n",
      "                                 name pos  \n",
      "0                    friend_to_friend      \n",
      "1        making_objects_appear_closer      \n",
      "2                   conveying_message      \n",
      "3                   enhance_orchestra      \n",
      "4                 playing_flute_music      \n",
      "...                               ...  ..  \n",
      "1647793                                    \n",
      "1647794                                    \n",
      "1647795                                    \n",
      "1647796                                    \n",
      "1647797                                    \n",
      "\n",
      "[1647798 rows x 4 columns]\n"
     ]
    }
   ],
   "source": [
    "df1 = conn.getVertexDataframe(\"word\")\n",
    "print(df1)"
   ]
  },
  {
   "cell_type": "markdown",
   "metadata": {
    "id": "UWfjw0B96JKC"
   },
   "source": [
    "##### One or More Vertex"
   ]
  },
  {
   "cell_type": "code",
   "execution_count": 158,
   "metadata": {
    "colab": {
     "base_uri": "https://localhost:8080/"
    },
    "executionInfo": {
     "elapsed": 314,
     "status": "ok",
     "timestamp": 1645433163805,
     "user": {
      "displayName": "Sudha Vijayakumar",
      "photoUrl": "https://lh3.googleusercontent.com/a/default-user=s64",
      "userId": "06644857756484093013"
     },
     "user_tz": 480
    },
    "id": "XRYvVvSr6JKC",
    "outputId": "b6d3c0bc-812d-4e97-d8dd-d021ade3578c"
   },
   "outputs": [
    {
     "name": "stdout",
     "output_type": "stream",
     "text": [
      "         v_id          id      name pos\n",
      "0  conflict.v  conflict.v  conflict   v\n"
     ]
    }
   ],
   "source": [
    "df2 = conn.getVertexDataframeById(\"word\", \"conflict.v\")\n",
    "print(df2)"
   ]
  },
  {
   "cell_type": "markdown",
   "metadata": {
    "id": "ygoA74mF6JKC"
   },
   "source": [
    "##### Convert Vertex/Edge Set to Dataframe\n",
    "We'll use the results from the 'Or Multiple Vertices' cell. "
   ]
  },
  {
   "cell_type": "code",
   "execution_count": 159,
   "metadata": {
    "colab": {
     "base_uri": "https://localhost:8080/"
    },
    "executionInfo": {
     "elapsed": 10,
     "status": "ok",
     "timestamp": 1645433163806,
     "user": {
      "displayName": "Sudha Vijayakumar",
      "photoUrl": "https://lh3.googleusercontent.com/a/default-user=s64",
      "userId": "06644857756484093013"
     },
     "user_tz": 480
    },
    "id": "hxmhfBz76JKC",
    "outputId": "dc6aa245-be28-455a-907c-dbd2cee486fd"
   },
   "outputs": [
    {
     "name": "stdout",
     "output_type": "stream",
     "text": [
      "         v_id          id      name pos\n",
      "0  conflict.v  conflict.v  conflict   v\n",
      "1  clash.v.02                          \n"
     ]
    }
   ],
   "source": [
    "df3 = conn.vertexSetToDataFrame(tdf1)\n",
    "print(df3)"
   ]
  },
  {
   "cell_type": "markdown",
   "metadata": {
    "id": "YUpuxOfy6JKD"
   },
   "source": [
    "##### Get Edges"
   ]
  },
  {
   "cell_type": "code",
   "execution_count": 160,
   "metadata": {
    "colab": {
     "base_uri": "https://localhost:8080/"
    },
    "executionInfo": {
     "elapsed": 8,
     "status": "ok",
     "timestamp": 1645433163806,
     "user": {
      "displayName": "Sudha Vijayakumar",
      "photoUrl": "https://lh3.googleusercontent.com/a/default-user=s64",
      "userId": "06644857756484093013"
     },
     "user_tz": 480
    },
    "id": "5lqlRe436JKD",
    "outputId": "ecef3330-a263-424b-ea59-7889e29fce95"
   },
   "outputs": [
    {
     "name": "stdout",
     "output_type": "stream",
     "text": [
      "  from_type     from_id to_type       to_id       type\n",
      "0      word  conflict.v  synset  contrast.v   MannerOf\n",
      "1      word  conflict.v  synset    disagree    Synonym\n",
      "2      word  conflict.v  synset     overlap  RelatedTo\n"
     ]
    }
   ],
   "source": [
    "df4 = conn.getEdgesDataframe(\"word\", \"conflict.v\",limit=3)\n",
    "print(df4)"
   ]
  },
  {
   "cell_type": "markdown",
   "metadata": {
    "id": "MXMv3rJV6JKD"
   },
   "source": [
    "### Path Finding\n",
    "Find paths between vertices.\n",
    "\n",
    "Supported are:\n",
    "- shortestPath - one shortest path between vertices\n",
    "- allPaths - all paths within the specified edge limit"
   ]
  },
  {
   "cell_type": "code",
   "execution_count": 161,
   "metadata": {
    "colab": {
     "base_uri": "https://localhost:8080/"
    },
    "executionInfo": {
     "elapsed": 216,
     "status": "ok",
     "timestamp": 1645433164017,
     "user": {
      "displayName": "Sudha Vijayakumar",
      "photoUrl": "https://lh3.googleusercontent.com/a/default-user=s64",
      "userId": "06644857756484093013"
     },
     "user_tz": 480
    },
    "id": "cWs7y08c6JKD",
    "outputId": "88e79ed6-ea24-4b46-c313-abd423ab3609"
   },
   "outputs": [
    {
     "name": "stdout",
     "output_type": "stream",
     "text": [
      "[{'type': 'word', 'id': 'in_due_time.r'}]\n",
      "[{'type': 'word', 'id': 'in_due_season.r'}]\n",
      "[\n",
      "  {\n",
      "    \"vertices\": [\n",
      "      {\n",
      "        \"v_id\": \"when_time_comes.r\",\n",
      "        \"v_type\": \"synset\",\n",
      "        \"attributes\": {\n",
      "          \"id\": \"\",\n",
      "          \"definition\": \"\"\n",
      "        }\n",
      "      },\n",
      "      {\n",
      "        \"v_id\": \"in_due_time.r\",\n",
      "        \"v_type\": \"word\",\n",
      "        \"attributes\": {\n",
      "          \"id\": \"in_due_time.r\",\n",
      "          \"name\": \"in_due_time\",\n",
      "          \"pos\": \"r\"\n",
      "        }\n",
      "      },\n",
      "      {\n",
      "        \"v_id\": \"in_due_season.r\",\n",
      "        \"v_type\": \"word\",\n",
      "        \"attributes\": {\n",
      "          \"id\": \"in_due_season.r\",\n",
      "          \"name\": \"in_due_season\",\n",
      "          \"pos\": \"r\"\n",
      "        }\n",
      "      }\n",
      "    ],\n",
      "    \"edges\": [\n",
      "      {\n",
      "        \"e_type\": \"reverse_is_a\",\n",
      "        \"from_id\": \"when_time_comes.r\",\n",
      "        \"from_type\": \"synset\",\n",
      "        \"to_id\": \"in_due_season.r\",\n",
      "        \"to_type\": \"word\",\n",
      "        \"directed\": true,\n",
      "        \"attributes\": {\n",
      "          \"type\": \"Synonym\"\n",
      "        }\n",
      "      },\n",
      "      {\n",
      "        \"e_type\": \"is_a\",\n",
      "        \"from_id\": \"in_due_time.r\",\n",
      "        \"from_type\": \"word\",\n",
      "        \"to_id\": \"when_time_comes.r\",\n",
      "        \"to_type\": \"synset\",\n",
      "        \"directed\": true,\n",
      "        \"attributes\": {\n",
      "          \"type\": \"Synonym\"\n",
      "        }\n",
      "      }\n",
      "    ]\n",
      "  }\n",
      "]\n"
     ]
    }
   ],
   "source": [
    "results = conn.shortestPath([(\"word\", \"in_due_time.r\")], [(\"word\", \"in_due_season.r\")])\n",
    "pprint(results)"
   ]
  },
  {
   "cell_type": "markdown",
   "metadata": {
    "id": "1J9PbEfeJZdY"
   },
   "source": [
    "# Clear the Whole Graph\n",
    "DANGER ZONE"
   ]
  },
  {
   "cell_type": "code",
   "execution_count": 162,
   "metadata": {
    "executionInfo": {
     "elapsed": 9,
     "status": "ok",
     "timestamp": 1645433164018,
     "user": {
      "displayName": "Sudha Vijayakumar",
      "photoUrl": "https://lh3.googleusercontent.com/a/default-user=s64",
      "userId": "06644857756484093013"
     },
     "user_tz": 480
    },
    "id": "2uNaRku7ixVK"
   },
   "outputs": [],
   "source": [
    "# conn.gsql('''\n",
    "# USE GLOBAL\n",
    "# DROP ALL\n",
    "# ''')"
   ]
  },
  {
   "cell_type": "code",
   "execution_count": null,
   "metadata": {
    "executionInfo": {
     "elapsed": 10,
     "status": "ok",
     "timestamp": 1645433164019,
     "user": {
      "displayName": "Sudha Vijayakumar",
      "photoUrl": "https://lh3.googleusercontent.com/a/default-user=s64",
      "userId": "06644857756484093013"
     },
     "user_tz": 480
    },
    "id": "E8LePQlwWrs5"
   },
   "outputs": [],
   "source": []
  }
 ],
 "metadata": {
  "colab": {
   "collapsed_sections": [
    "owRhnxW15t_w",
    "or29w0EYMxji",
    "BgazrCKwR8R9",
    "R3SmHKm3C2Kr",
    "pSsJAzc_5yNN",
    "SDPUKGDc55bJ",
    "6zZCAt-N6JJ8",
    "1J9PbEfeJZdY"
   ],
   "name": "LanguageModel_SingleEdge.ipynb",
   "provenance": [
    {
     "file_id": "1JhYcnGVWT51KswcXZzyPzKqCoPP5htcC",
     "timestamp": 1644360292961
    },
    {
     "file_id": "1k5QkLupaKnOIRrq3Aj1E82mtkT9uQZhO",
     "timestamp": 1628101159582
    }
   ]
  },
  "kernelspec": {
   "display_name": "Python 3",
   "language": "python",
   "name": "python3"
  },
  "language_info": {
   "codemirror_mode": {
    "name": "ipython",
    "version": 3
   },
   "file_extension": ".py",
   "mimetype": "text/x-python",
   "name": "python",
   "nbconvert_exporter": "python",
   "pygments_lexer": "ipython3",
   "version": "3.8.8"
  }
 },
 "nbformat": 4,
 "nbformat_minor": 1
}
