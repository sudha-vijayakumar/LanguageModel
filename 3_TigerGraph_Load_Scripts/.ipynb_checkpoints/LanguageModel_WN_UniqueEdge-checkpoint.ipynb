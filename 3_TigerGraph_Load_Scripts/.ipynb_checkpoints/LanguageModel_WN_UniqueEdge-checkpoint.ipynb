{
 "cells": [
  {
   "cell_type": "markdown",
   "metadata": {
    "id": "owRhnxW15t_w"
   },
   "source": [
    "## Install pyTigerGraph"
   ]
  },
  {
   "cell_type": "code",
   "execution_count": 4,
   "metadata": {
    "colab": {
     "base_uri": "https://localhost:8080/"
    },
    "executionInfo": {
     "elapsed": 3431,
     "status": "ok",
     "timestamp": 1645135101805,
     "user": {
      "displayName": "Sudha Vijayakumar",
      "photoUrl": "https://lh3.googleusercontent.com/a/default-user=s64",
      "userId": "06644857756484093013"
     },
     "user_tz": 480
    },
    "id": "JmsrV-SNnx31",
    "outputId": "9908a207-438b-4986-8834-02787e2d7cb0"
   },
   "outputs": [
    {
     "name": "stdout",
     "output_type": "stream",
     "text": [
      "\u001b[33mWARNING: Ignoring invalid distribution -eras-preprocessing (/opt/anaconda3/lib/python3.8/site-packages)\u001b[0m\u001b[33m\n",
      "\u001b[0m\u001b[33mWARNING: Ignoring invalid distribution -atplotlib (/opt/anaconda3/lib/python3.8/site-packages)\u001b[0m\u001b[33m\n",
      "\u001b[0m\u001b[33mWARNING: Ignoring invalid distribution -eras-preprocessing (/opt/anaconda3/lib/python3.8/site-packages)\u001b[0m\u001b[33m\n",
      "\u001b[0m\u001b[33mWARNING: Ignoring invalid distribution -atplotlib (/opt/anaconda3/lib/python3.8/site-packages)\u001b[0m\u001b[33m\n",
      "\u001b[0mRequirement already satisfied: pyTigerGraph in /opt/anaconda3/lib/python3.8/site-packages (0.0.9.9.0)\n",
      "Requirement already satisfied: requests in /opt/anaconda3/lib/python3.8/site-packages (from pyTigerGraph) (2.24.0)\n",
      "Requirement already satisfied: pyTigerDriver in /opt/anaconda3/lib/python3.8/site-packages (from pyTigerGraph) (1.0.14)\n",
      "Requirement already satisfied: validators in /opt/anaconda3/lib/python3.8/site-packages (from pyTigerGraph) (0.18.2)\n",
      "Requirement already satisfied: pandas in /opt/anaconda3/lib/python3.8/site-packages (from pyTigerGraph) (1.2.4)\n",
      "Requirement already satisfied: python-dateutil>=2.7.3 in /opt/anaconda3/lib/python3.8/site-packages (from pandas->pyTigerGraph) (2.8.1)\n",
      "Requirement already satisfied: pytz>=2017.3 in /opt/anaconda3/lib/python3.8/site-packages (from pandas->pyTigerGraph) (2020.1)\n",
      "Requirement already satisfied: numpy>=1.16.5 in /opt/anaconda3/lib/python3.8/site-packages (from pandas->pyTigerGraph) (1.19.5)\n",
      "Requirement already satisfied: idna<3,>=2.5 in /opt/anaconda3/lib/python3.8/site-packages (from requests->pyTigerGraph) (2.10)\n",
      "Requirement already satisfied: urllib3!=1.25.0,!=1.25.1,<1.26,>=1.21.1 in /opt/anaconda3/lib/python3.8/site-packages (from requests->pyTigerGraph) (1.25.11)\n",
      "Requirement already satisfied: chardet<4,>=3.0.2 in /opt/anaconda3/lib/python3.8/site-packages (from requests->pyTigerGraph) (3.0.4)\n",
      "Requirement already satisfied: certifi>=2017.4.17 in /opt/anaconda3/lib/python3.8/site-packages (from requests->pyTigerGraph) (2020.12.5)\n",
      "Requirement already satisfied: six>=1.4.0 in /opt/anaconda3/lib/python3.8/site-packages (from validators->pyTigerGraph) (1.15.0)\n",
      "Requirement already satisfied: decorator>=3.4.0 in /opt/anaconda3/lib/python3.8/site-packages (from validators->pyTigerGraph) (4.4.2)\n",
      "\u001b[33mWARNING: Ignoring invalid distribution -eras-preprocessing (/opt/anaconda3/lib/python3.8/site-packages)\u001b[0m\u001b[33m\n",
      "\u001b[0m\u001b[33mWARNING: Ignoring invalid distribution -atplotlib (/opt/anaconda3/lib/python3.8/site-packages)\u001b[0m\u001b[33m\n",
      "\u001b[0m\u001b[33mWARNING: Ignoring invalid distribution -eras-preprocessing (/opt/anaconda3/lib/python3.8/site-packages)\u001b[0m\u001b[33m\n",
      "\u001b[0m\u001b[33mWARNING: Ignoring invalid distribution -atplotlib (/opt/anaconda3/lib/python3.8/site-packages)\u001b[0m\u001b[33m\n",
      "\u001b[0m\u001b[33mWARNING: Ignoring invalid distribution -eras-preprocessing (/opt/anaconda3/lib/python3.8/site-packages)\u001b[0m\u001b[33m\n",
      "\u001b[0m\u001b[33mWARNING: Ignoring invalid distribution -atplotlib (/opt/anaconda3/lib/python3.8/site-packages)\u001b[0m\u001b[33m\n",
      "\u001b[0m"
     ]
    }
   ],
   "source": [
    "# Setup\n",
    "!pip install pyTigerGraph"
   ]
  },
  {
   "cell_type": "markdown",
   "metadata": {
    "id": "pSsJAzc_5yNN"
   },
   "source": [
    "## Add Imports and Establish Initial Connection"
   ]
  },
  {
   "cell_type": "code",
   "execution_count": 5,
   "metadata": {
    "colab": {
     "base_uri": "https://localhost:8080/"
    },
    "executionInfo": {
     "elapsed": 8,
     "status": "ok",
     "timestamp": 1645135101805,
     "user": {
      "displayName": "Sudha Vijayakumar",
      "photoUrl": "https://lh3.googleusercontent.com/a/default-user=s64",
      "userId": "06644857756484093013"
     },
     "user_tz": 480
    },
    "id": "vqpwQh1_noLK",
    "outputId": "8578502c-fb6f-468d-c2ff-8b62036206d3"
   },
   "outputs": [
    {
     "name": "stdout",
     "output_type": "stream",
     "text": [
      "Connected\n"
     ]
    }
   ],
   "source": [
    "# Imports\n",
    "import pyTigerGraph as tg\n",
    "import json\n",
    "import pandas as pd\n",
    "\n",
    "# Connection parameters\n",
    "hostName = \"https://language.i.tgcloud.io\"\n",
    "userName = \"tigergraph\"\n",
    "password = \"tigergraph\"\n",
    "\n",
    "conn = tg.TigerGraphConnection(host=hostName, username=userName, password=password)\n",
    "\n",
    "print(\"Connected\")"
   ]
  },
  {
   "cell_type": "markdown",
   "metadata": {
    "id": "BgazrCKwR8R9"
   },
   "source": [
    "## Clone the Data"
   ]
  },
  {
   "cell_type": "code",
   "execution_count": 6,
   "metadata": {
    "colab": {
     "base_uri": "https://localhost:8080/"
    },
    "executionInfo": {
     "elapsed": 882,
     "status": "ok",
     "timestamp": 1645135102681,
     "user": {
      "displayName": "Sudha Vijayakumar",
      "photoUrl": "https://lh3.googleusercontent.com/a/default-user=s64",
      "userId": "06644857756484093013"
     },
     "user_tz": 480
    },
    "id": "5TwgTntFR8R-",
    "outputId": "a89f62ee-b145-42a0-dae3-7c54a642ca92"
   },
   "outputs": [
    {
     "ename": "ModuleNotFoundError",
     "evalue": "No module named 'google.colab'",
     "output_type": "error",
     "traceback": [
      "\u001b[0;31m---------------------------------------------------------------------------\u001b[0m",
      "\u001b[0;31mModuleNotFoundError\u001b[0m                       Traceback (most recent call last)",
      "\u001b[0;32m<ipython-input-6-d5df0069828e>\u001b[0m in \u001b[0;36m<module>\u001b[0;34m\u001b[0m\n\u001b[0;32m----> 1\u001b[0;31m \u001b[0;32mfrom\u001b[0m \u001b[0mgoogle\u001b[0m\u001b[0;34m.\u001b[0m\u001b[0mcolab\u001b[0m \u001b[0;32mimport\u001b[0m \u001b[0mdrive\u001b[0m\u001b[0;34m\u001b[0m\u001b[0;34m\u001b[0m\u001b[0m\n\u001b[0m\u001b[1;32m      2\u001b[0m \u001b[0mdrive\u001b[0m\u001b[0;34m.\u001b[0m\u001b[0mmount\u001b[0m\u001b[0;34m(\u001b[0m\u001b[0;34m'/content/drive'\u001b[0m\u001b[0;34m)\u001b[0m\u001b[0;34m\u001b[0m\u001b[0;34m\u001b[0m\u001b[0m\n",
      "\u001b[0;31mModuleNotFoundError\u001b[0m: No module named 'google.colab'"
     ]
    }
   ],
   "source": [
    "# from google.colab import drive\n",
    "# drive.mount('/content/drive')"
   ]
  },
  {
   "cell_type": "code",
   "execution_count": null,
   "metadata": {
    "colab": {
     "base_uri": "https://localhost:8080/"
    },
    "executionInfo": {
     "elapsed": 4,
     "status": "ok",
     "timestamp": 1645135102682,
     "user": {
      "displayName": "Sudha Vijayakumar",
      "photoUrl": "https://lh3.googleusercontent.com/a/default-user=s64",
      "userId": "06644857756484093013"
     },
     "user_tz": 480
    },
    "id": "G6MRGBSwR8R-",
    "outputId": "a26f041c-19cf-4e01-de9a-3ab4ea2c99a0"
   },
   "outputs": [],
   "source": [
    "# cd '/content/drive/MyDrive'"
   ]
  },
  {
   "cell_type": "code",
   "execution_count": null,
   "metadata": {
    "executionInfo": {
     "elapsed": 3,
     "status": "ok",
     "timestamp": 1645135102682,
     "user": {
      "displayName": "Sudha Vijayakumar",
      "photoUrl": "https://lh3.googleusercontent.com/a/default-user=s64",
      "userId": "06644857756484093013"
     },
     "user_tz": 480
    },
    "id": "cVwqxmQpR8R-"
   },
   "outputs": [],
   "source": [
    "# !git clone https://github.com/sudha-vijayakumar/LanguageModel.git"
   ]
  },
  {
   "cell_type": "markdown",
   "metadata": {
    "id": "R3SmHKm3C2Kr"
   },
   "source": [
    "## Peek into the data "
   ]
  },
  {
   "cell_type": "markdown",
   "metadata": {
    "id": "onxnjCsRDn1B"
   },
   "source": [
    "### ConceptNet - Word"
   ]
  },
  {
   "cell_type": "code",
   "execution_count": null,
   "metadata": {
    "colab": {
     "base_uri": "https://localhost:8080/",
     "height": 80
    },
    "executionInfo": {
     "elapsed": 972,
     "status": "ok",
     "timestamp": 1645135103651,
     "user": {
      "displayName": "Sudha Vijayakumar",
      "photoUrl": "https://lh3.googleusercontent.com/a/default-user=s64",
      "userId": "06644857756484093013"
     },
     "user_tz": 480
    },
    "id": "VtCdjyOHqkIX",
    "outputId": "518e8d3f-0b03-49de-fdfa-ca6b48b9ae10"
   },
   "outputs": [],
   "source": [
    "# root='/content/drive/MyDrive/LanguageModel/Data_Processing/csv_imports/'\n",
    "root='/Users/sudhavijayakumar/Documents/GitHub/LanguageModel/1_Curated_Data'\n",
    "nodes = pd.read_csv(root+'WN-nodes.csv')\n",
    "nodes.head(1)"
   ]
  },
  {
   "cell_type": "markdown",
   "metadata": {
    "id": "8bljPSTyD03D"
   },
   "source": [
    "### ConceptNet - Subject"
   ]
  },
  {
   "cell_type": "code",
   "execution_count": null,
   "metadata": {
    "colab": {
     "base_uri": "https://localhost:8080/",
     "height": 206
    },
    "executionInfo": {
     "elapsed": 5,
     "status": "ok",
     "timestamp": 1645135103651,
     "user": {
      "displayName": "Sudha Vijayakumar",
      "photoUrl": "https://lh3.googleusercontent.com/a/default-user=s64",
      "userId": "06644857756484093013"
     },
     "user_tz": 480
    },
    "id": "8CEt_H8SD03E",
    "outputId": "2fed8d9b-80f3-4311-b4d9-7ed2ee9ae930"
   },
   "outputs": [],
   "source": [
    "synsets = pd.read_csv(root+'subject_wn.csv')\n",
    "synsets.head()"
   ]
  },
  {
   "cell_type": "markdown",
   "metadata": {
    "id": "g5EpKg8_Ee65"
   },
   "source": [
    "### ConceptNet - Edges"
   ]
  },
  {
   "cell_type": "code",
   "execution_count": null,
   "metadata": {
    "colab": {
     "base_uri": "https://localhost:8080/",
     "height": 237
    },
    "executionInfo": {
     "elapsed": 368,
     "status": "ok",
     "timestamp": 1645135104016,
     "user": {
      "displayName": "Sudha Vijayakumar",
      "photoUrl": "https://lh3.googleusercontent.com/a/default-user=s64",
      "userId": "06644857756484093013"
     },
     "user_tz": 480
    },
    "id": "4aOAucuvEe7A",
    "outputId": "6c70bf51-1771-4a02-a384-78d7ff87561a"
   },
   "outputs": [],
   "source": [
    "relationships = pd.read_csv(root+'WN-edges.csv',index_col=[0])\n",
    "relationships.head(5)"
   ]
  },
  {
   "cell_type": "markdown",
   "metadata": {
    "id": "qeECSBsJFENG"
   },
   "source": [
    "### ConceptNet - Part of Speech"
   ]
  },
  {
   "cell_type": "code",
   "execution_count": null,
   "metadata": {
    "colab": {
     "base_uri": "https://localhost:8080/",
     "height": 206
    },
    "executionInfo": {
     "elapsed": 5,
     "status": "ok",
     "timestamp": 1645135104016,
     "user": {
      "displayName": "Sudha Vijayakumar",
      "photoUrl": "https://lh3.googleusercontent.com/a/default-user=s64",
      "userId": "06644857756484093013"
     },
     "user_tz": 480
    },
    "id": "07q5ET0wFENO",
    "outputId": "945f197d-31b3-408d-99fa-8d7299044278"
   },
   "outputs": [],
   "source": [
    "relationships = pd.read_csv(root+'encoded/pos_wn.csv',index_col=[0])\n",
    "relationships.head()"
   ]
  },
  {
   "cell_type": "markdown",
   "metadata": {
    "id": "SDPUKGDc55bJ"
   },
   "source": [
    "## Define and Publish the Schema"
   ]
  },
  {
   "cell_type": "code",
   "execution_count": null,
   "metadata": {
    "colab": {
     "base_uri": "https://localhost:8080/"
    },
    "executionInfo": {
     "elapsed": 13684,
     "status": "ok",
     "timestamp": 1645135117696,
     "user": {
      "displayName": "Sudha Vijayakumar",
      "photoUrl": "https://lh3.googleusercontent.com/a/default-user=s64",
      "userId": "06644857756484093013"
     },
     "user_tz": 480
    },
    "id": "tbLUKiA4oSKX",
    "outputId": "74990e16-ed0e-4fe2-d1ef-fd21f31da15f"
   },
   "outputs": [],
   "source": [
    "# DEFINE / CREATE ALL EDGES AND VERTICES \n",
    "results = conn.gsql('''\n",
    "  USE GLOBAL\n",
    "  CREATE VERTEX word(PRIMARY_ID id STRING, uri STRING, name STRING, definition STRING) WITH STATS=\"OUTDEGREE_BY_EDGETYPE\", PRIMARY_ID_AS_ATTRIBUTE=\"true\"\n",
    "  CREATE VERTEX subject(PRIMARY_ID id STRING, type STRING) WITH STATS=\"OUTDEGREE_BY_EDGETYPE\", PRIMARY_ID_AS_ATTRIBUTE=\"true\"\n",
    "  CREATE VERTEX pos(PRIMARY_ID id STRING, type STRING) WITH STATS=\"OUTDEGREE_BY_EDGETYPE\", PRIMARY_ID_AS_ATTRIBUTE=\"true\"\n",
    "  CREATE DIRECTED EDGE has_subject(FROM word, TO subject) WITH REVERSE_EDGE=\"reverse_has_subject\"\n",
    "  CREATE DIRECTED EDGE part_of_speech(FROM word, TO pos) WITH REVERSE_EDGE=\"reverse_part_of_speech\"\n",
    "  CREATE DIRECTED EDGE attribute(FROM word, TO word) WITH REVERSE_EDGE=\"reverse_attribute\"\n",
    "  CREATE DIRECTED EDGE hyponym(FROM word, TO word) WITH REVERSE_EDGE=\"reverse_hyponym\"\n",
    "  CREATE DIRECTED EDGE entails(FROM word, TO word) WITH REVERSE_EDGE=\"reverse_entails\"\n",
    "  CREATE DIRECTED EDGE similar(FROM word, TO word) WITH REVERSE_EDGE=\"reverse_similar\"\n",
    "  CREATE DIRECTED EDGE hypernym(FROM word, TO word) WITH REVERSE_EDGE=\"reverse_hypernym\"\n",
    "  CREATE DIRECTED EDGE domain_topic(FROM word, TO word) WITH REVERSE_EDGE=\"reverse_domain_topic\"\n",
    "  CREATE DIRECTED EDGE mero_part(FROM word, TO word) WITH REVERSE_EDGE=\"reverse_mero_part\"\n",
    "  CREATE DIRECTED EDGE exemplifies(FROM word, TO word) WITH REVERSE_EDGE=\"reverse_exemplifies\"\n",
    "  CREATE DIRECTED EDGE has_domain_topic(FROM word, TO word) WITH REVERSE_EDGE=\"reverse_has_domain_topic\"\n",
    "  CREATE DIRECTED EDGE also(FROM word, TO word) WITH REVERSE_EDGE=\"reverse_also\"\n",
    "  CREATE DIRECTED EDGE mero_substance(FROM word, TO word) WITH REVERSE_EDGE=\"reverse_mero_substance\"\n",
    "  CREATE DIRECTED EDGE domain_region(FROM word, TO word) WITH REVERSE_EDGE=\"reverse_domain_region\"\n",
    "  CREATE DIRECTED EDGE holo_part(FROM word, TO word) WITH REVERSE_EDGE=\"reverse_holo_part\"\n",
    "  CREATE DIRECTED EDGE holo_member(FROM word, TO word) WITH REVERSE_EDGE=\"reverse_holo_member\"\n",
    "  CREATE DIRECTED EDGE causes(FROM word, TO word) WITH REVERSE_EDGE=\"reverse_causes\"\n",
    "  CREATE DIRECTED EDGE instance_hyponym(FROM word, TO word) WITH REVERSE_EDGE=\"reverse_instance_hyponym\"\n",
    "  CREATE DIRECTED EDGE instance_hypernym(FROM word, TO word) WITH REVERSE_EDGE=\"reverse_instance_hypernym\"\n",
    "  CREATE DIRECTED EDGE mero_member(FROM word, TO word) WITH REVERSE_EDGE=\"reverse_mero_member\"\n",
    "  CREATE DIRECTED EDGE is_exemplified_by(FROM word, TO word) WITH REVERSE_EDGE=\"reverse_is_exemplified_by\"\n",
    "  CREATE DIRECTED EDGE holo_substance(FROM word, TO word) WITH REVERSE_EDGE=\"reverse_holo_substance\"\n",
    "  CREATE DIRECTED EDGE has_domain_region(FROM word, TO word) WITH REVERSE_EDGE=\"reverse_has_domain_region\"\n",
    "  CREATE DIRECTED EDGE antonym(FROM word, TO word) WITH REVERSE_EDGE=\"reverse_antonym\"\n",
    "\n",
    "''')\n",
    "print(results)"
   ]
  },
  {
   "cell_type": "markdown",
   "metadata": {
    "id": "QtAieHUn3KSp"
   },
   "source": [
    "# WordNET"
   ]
  },
  {
   "cell_type": "markdown",
   "metadata": {
    "id": "bMz6fxfx59Xz"
   },
   "source": [
    "## Create WordNet Graph"
   ]
  },
  {
   "cell_type": "code",
   "execution_count": null,
   "metadata": {
    "colab": {
     "base_uri": "https://localhost:8080/"
    },
    "executionInfo": {
     "elapsed": 53531,
     "status": "ok",
     "timestamp": 1645135171223,
     "user": {
      "displayName": "Sudha Vijayakumar",
      "photoUrl": "https://lh3.googleusercontent.com/a/default-user=s64",
      "userId": "06644857756484093013"
     },
     "user_tz": 480
    },
    "id": "-cgC8b7OcZDd",
    "outputId": "b7aed6b4-2a31-44dc-b44f-8b2e7caff8a8"
   },
   "outputs": [],
   "source": [
    "results = conn.gsql('CREATE GRAPH WordNet(word, subject, pos, has_subject, part_of_speech, attribute, hyponym, entails, similar, hypernym, domain_topic, mero_part, exemplifies, has_domain_topic, also, mero_substance, domain_region, holo_part, holo_member, causes, instance_hyponym, instance_hypernym, mero_member, is_exemplified_by, holo_substance, has_domain_region, antonym)')\n",
    "print(results)"
   ]
  },
  {
   "cell_type": "code",
   "execution_count": null,
   "metadata": {
    "colab": {
     "base_uri": "https://localhost:8080/"
    },
    "executionInfo": {
     "elapsed": 1985,
     "status": "ok",
     "timestamp": 1645135173197,
     "user": {
      "displayName": "Sudha Vijayakumar",
      "photoUrl": "https://lh3.googleusercontent.com/a/default-user=s64",
      "userId": "06644857756484093013"
     },
     "user_tz": 480
    },
    "id": "SbxyEaptc2Ri",
    "outputId": "1dde7b59-892b-41a7-8fc2-f3abe49bb44a"
   },
   "outputs": [],
   "source": [
    "conn.graphname=\"WordNet\"\n",
    "secret = conn.createSecret()\n",
    "print(secret)\n",
    "authToken = conn.getToken(secret)\n",
    "authToken = authToken[0]\n",
    "print(authToken)\n",
    "# authToken = 'rc7reopbis1667ksgcppq5v5fb99p6s1'\n",
    "conn = tg.TigerGraphConnection(host=hostName, graphname=\"WordNet\", username=userName, password=password, apiToken=authToken)\n",
    "\n",
    "def pprint(string):\n",
    "  print(json.dumps(string, indent=2))"
   ]
  },
  {
   "cell_type": "markdown",
   "metadata": {
    "id": "MTWWoepV6Dc0"
   },
   "source": [
    "## Create Loading Jobs"
   ]
  },
  {
   "cell_type": "markdown",
   "metadata": {
    "id": "Up4f5hmq7MZl"
   },
   "source": [
    "### Word"
   ]
  },
  {
   "cell_type": "markdown",
   "metadata": {
    "id": "oXH8W3KIjVUC"
   },
   "source": [
    "Let's take a look at what one of our files looks like so we can write a loading job."
   ]
  },
  {
   "cell_type": "code",
   "execution_count": null,
   "metadata": {
    "colab": {
     "base_uri": "https://localhost:8080/"
    },
    "executionInfo": {
     "elapsed": 205,
     "status": "ok",
     "timestamp": 1645135173399,
     "user": {
      "displayName": "Sudha Vijayakumar",
      "photoUrl": "https://lh3.googleusercontent.com/a/default-user=s64",
      "userId": "06644857756484093013"
     },
     "user_tz": 480
    },
    "id": "dV1wMpIMeZaY",
    "outputId": "980e4ce4-be29-4762-d1b6-e4d4fcd4d3ae"
   },
   "outputs": [],
   "source": [
    "# !head -n 2 '/content/drive/MyDrive/LanguageModel/Data_Processing/csv_imports/WN-nodes.csv'"
   ]
  },
  {
   "cell_type": "markdown",
   "metadata": {
    "id": "M7Y081TD6Xh5"
   },
   "source": [
    "Here it's important to note that the `$0`, `$1` values line up with the columns of your data.\n",
    "In this example:\n",
    "- `$0` is the `uri` column,\n",
    "- `$1` is `id`,\n",
    "- `$2` is `word`\n",
    "- and so on"
   ]
  },
  {
   "cell_type": "code",
   "execution_count": null,
   "metadata": {
    "colab": {
     "base_uri": "https://localhost:8080/"
    },
    "executionInfo": {
     "elapsed": 24842,
     "status": "ok",
     "timestamp": 1645135198239,
     "user": {
      "displayName": "Sudha Vijayakumar",
      "photoUrl": "https://lh3.googleusercontent.com/a/default-user=s64",
      "userId": "06644857756484093013"
     },
     "user_tz": 480
    },
    "id": "22W6W58idFW5",
    "outputId": "bd47d684-a478-4c09-c5ac-56d932d09f10"
   },
   "outputs": [],
   "source": [
    "results = conn.gsql('''\n",
    "  USE GRAPH WordNet\n",
    "  BEGIN\n",
    "  CREATE LOADING JOB load_job_WN_edges FOR GRAPH WordNet {\n",
    "      DEFINE FILENAME MyDataSource;\n",
    "      LOAD MyDataSource TO EDGE mero_part VALUES($0, $1) WHERE $2 == \"mero_part\" USING SEPARATOR=\"\\t\", HEADER=\"true\", EOL=\"\\n\", QUOTE=\"double\";\n",
    "      LOAD MyDataSource TO EDGE domain_topic VALUES($0, $1) WHERE $2 == \"domain_topic\" USING SEPARATOR=\"\\t\", HEADER=\"true\", EOL=\"\\n\", QUOTE=\"double\";\n",
    "      LOAD MyDataSource TO EDGE hypernym VALUES($0, $1) WHERE $2 == \"hypernym\" USING SEPARATOR=\"\\t\", HEADER=\"true\", EOL=\"\\n\", QUOTE=\"double\";\n",
    "      LOAD MyDataSource TO EDGE similar VALUES($0, $1) WHERE $2 == \"similar\" USING SEPARATOR=\"\\t\", HEADER=\"true\", EOL=\"\\n\", QUOTE=\"double\";\n",
    "      LOAD MyDataSource TO EDGE entails VALUES($0, $1) WHERE $2 == \"entails\" USING SEPARATOR=\"\\t\", HEADER=\"true\", EOL=\"\\n\", QUOTE=\"double\";\n",
    "      LOAD MyDataSource TO EDGE hyponym VALUES($0, $1) WHERE $2 == \"hyponym\" USING SEPARATOR=\"\\t\", HEADER=\"true\", EOL=\"\\n\", QUOTE=\"double\";\n",
    "      LOAD MyDataSource TO EDGE attribute VALUES($0, $1) WHERE $2 == \"attribute\" USING SEPARATOR=\"\\t\", HEADER=\"true\", EOL=\"\\n\", QUOTE=\"double\";\n",
    "      LOAD MyDataSource TO EDGE antonym VALUES($0, $1) WHERE $2 == \"antonym\" USING SEPARATOR=\"\\t\", HEADER=\"true\", EOL=\"\\n\", QUOTE=\"double\";\n",
    "      LOAD MyDataSource TO EDGE has_domain_region VALUES($0, $1) WHERE $2 == \"has_domain_region\" USING SEPARATOR=\"\\t\", HEADER=\"true\", EOL=\"\\n\", QUOTE=\"double\";\n",
    "      LOAD MyDataSource TO EDGE holo_substance VALUES($0, $1) WHERE $2 == \"holo_substance\" USING SEPARATOR=\"\\t\", HEADER=\"true\", EOL=\"\\n\", QUOTE=\"double\";\n",
    "      LOAD MyDataSource TO EDGE is_exemplified_by VALUES($0, $1) WHERE $2 == \"is_exemplified_by\" USING SEPARATOR=\"\\t\", HEADER=\"true\", EOL=\"\\n\", QUOTE=\"double\";\n",
    "      LOAD MyDataSource TO EDGE mero_member VALUES($0, $1) WHERE $2 == \"mero_member\" USING SEPARATOR=\"\\t\", HEADER=\"true\", EOL=\"\\n\", QUOTE=\"double\";\n",
    "      LOAD MyDataSource TO EDGE instance_hypernym VALUES($0, $1) WHERE $2 == \"instance_hypernym\" USING SEPARATOR=\"\\t\", HEADER=\"true\", EOL=\"\\n\", QUOTE=\"double\";\n",
    "      LOAD MyDataSource TO EDGE instance_hyponym VALUES($0, $1) WHERE $2 == \"instance_hyponym\" USING SEPARATOR=\"\\t\", HEADER=\"true\", EOL=\"\\n\", QUOTE=\"double\";\n",
    "      LOAD MyDataSource TO EDGE causes VALUES($0, $1) WHERE $2 == \"causes\" USING SEPARATOR=\"\\t\", HEADER=\"true\", EOL=\"\\n\", QUOTE=\"double\";\n",
    "      LOAD MyDataSource TO EDGE holo_member VALUES($0, $1) WHERE $2 == \"holo_member\" USING SEPARATOR=\"\\t\", HEADER=\"true\", EOL=\"\\n\", QUOTE=\"double\";\n",
    "      LOAD MyDataSource TO EDGE holo_part VALUES($0, $1) WHERE $2 == \"holo_part\" USING SEPARATOR=\"\\t\", HEADER=\"true\", EOL=\"\\n\", QUOTE=\"double\";\n",
    "      LOAD MyDataSource TO EDGE domain_region VALUES($0, $1) WHERE $2 == \"domain_region\" USING SEPARATOR=\"\\t\", HEADER=\"true\", EOL=\"\\n\", QUOTE=\"double\";\n",
    "      LOAD MyDataSource TO EDGE mero_substance VALUES($0, $1) WHERE $2 == \"mero_substance\" USING SEPARATOR=\"\\t\", HEADER=\"true\", EOL=\"\\n\", QUOTE=\"double\";\n",
    "      LOAD MyDataSource TO EDGE exemplifies VALUES($0, $1) WHERE $2 == \"exemplifies\" USING SEPARATOR=\"\\t\", HEADER=\"true\", EOL=\"\\n\", QUOTE=\"double\";\n",
    "      LOAD MyDataSource TO EDGE has_domain_topic VALUES($0, $1) WHERE $2 == \"has_domain_topic\" USING SEPARATOR=\"\\t\", HEADER=\"true\", EOL=\"\\n\", QUOTE=\"double\";\n",
    "      LOAD MyDataSource TO EDGE also VALUES($0, $1) WHERE $2 == \"also\" USING SEPARATOR=\"\\t\", HEADER=\"true\", EOL=\"\\n\", QUOTE=\"double\";\n",
    "\n",
    "    }\n",
    "\n",
    "    CREATE LOADING JOB load_job_WN_nodes_encoded FOR GRAPH WordNet {\n",
    "      DEFINE FILENAME MyDataSource;\n",
    "      LOAD MyDataSource TO VERTEX word VALUES($1, $0, $2, $4) USING SEPARATOR=\",\", HEADER=\"true\", EOL=\"\\n\", QUOTE=\"double\";\n",
    "      LOAD MyDataSource TO EDGE has_subject VALUES($1, $5) USING SEPARATOR=\",\", HEADER=\"true\", EOL=\"\\n\", QUOTE=\"double\";\n",
    "      LOAD MyDataSource TO EDGE part_of_speech VALUES($1, $3) USING SEPARATOR=\",\", HEADER=\"true\", EOL=\"\\n\", QUOTE=\"double\";\n",
    "    }\n",
    "\n",
    "\n",
    "    CREATE LOADING JOB load_job_subject_wn FOR GRAPH WordNet {\n",
    "      DEFINE FILENAME MyDataSource;\n",
    "      LOAD MyDataSource TO VERTEX subject VALUES($2, $1) USING SEPARATOR=\",\", HEADER=\"true\", EOL=\"\\n\", QUOTE=\"double\";\n",
    "    }\n",
    "\n",
    "\n",
    "  CREATE LOADING JOB load_job_pos_wn FOR GRAPH WordNet {\n",
    "      DEFINE FILENAME MyDataSource;\n",
    "      LOAD MyDataSource TO VERTEX pos VALUES($2, $1) USING SEPARATOR=\",\", HEADER=\"true\", EOL=\"\\n\", QUOTE=\"double\";\n",
    "    }\n",
    "\n",
    "\n",
    "  END\n",
    "  ''')\n",
    "print(results)"
   ]
  },
  {
   "cell_type": "markdown",
   "metadata": {
    "id": "Nm8hvEJo7YqM"
   },
   "source": [
    "## Load Data"
   ]
  },
  {
   "cell_type": "markdown",
   "metadata": {
    "id": "K1yUUv7k5soZ"
   },
   "source": [
    "### Words"
   ]
  },
  {
   "cell_type": "code",
   "execution_count": null,
   "metadata": {
    "colab": {
     "base_uri": "https://localhost:8080/"
    },
    "executionInfo": {
     "elapsed": 3333,
     "status": "ok",
     "timestamp": 1645135201569,
     "user": {
      "displayName": "Sudha Vijayakumar",
      "photoUrl": "https://lh3.googleusercontent.com/a/default-user=s64",
      "userId": "06644857756484093013"
     },
     "user_tz": 480
    },
    "id": "UWtWVHGg2O-p",
    "outputId": "9c86e8f5-7748-4cde-a6e4-60803f9d96f0"
   },
   "outputs": [],
   "source": [
    "# Load the posts file wiht the 'load_words' job\n",
    "load_words = root+'WN-edges.csv'\n",
    "results = conn.uploadFile(load_words, fileTag='MyDataSource', jobName='load_job_WN_edges')\n",
    "print(json.dumps(results, indent=2))"
   ]
  },
  {
   "cell_type": "code",
   "execution_count": null,
   "metadata": {
    "colab": {
     "base_uri": "https://localhost:8080/"
    },
    "executionInfo": {
     "elapsed": 2222,
     "status": "ok",
     "timestamp": 1645135203782,
     "user": {
      "displayName": "Sudha Vijayakumar",
      "photoUrl": "https://lh3.googleusercontent.com/a/default-user=s64",
      "userId": "06644857756484093013"
     },
     "user_tz": 480
    },
    "id": "EU19agwpRIV-",
    "outputId": "475a1702-d4a3-4825-aaab-db155b682b09"
   },
   "outputs": [],
   "source": [
    "# Load the posts file wiht the 'load_words' job\n",
    "load_words = root+'encoded/WN-nodes-encoded.csv'\n",
    "results = conn.uploadFile(load_words, fileTag='MyDataSource', jobName='load_job_WN_nodes_encoded')\n",
    "print(json.dumps(results, indent=2))"
   ]
  },
  {
   "cell_type": "markdown",
   "metadata": {
    "id": "jp_VKwTI5vfz"
   },
   "source": [
    "### Edges"
   ]
  },
  {
   "cell_type": "code",
   "execution_count": null,
   "metadata": {
    "colab": {
     "base_uri": "https://localhost:8080/"
    },
    "executionInfo": {
     "elapsed": 409,
     "status": "ok",
     "timestamp": 1645135204189,
     "user": {
      "displayName": "Sudha Vijayakumar",
      "photoUrl": "https://lh3.googleusercontent.com/a/default-user=s64",
      "userId": "06644857756484093013"
     },
     "user_tz": 480
    },
    "id": "6y_PfFAT2PCC",
    "outputId": "4b1e425d-72b8-4d96-e20a-a2bce9cc1e24"
   },
   "outputs": [],
   "source": [
    "# Load the posts file wiht the 'load_edges' job\n",
    "load_edges = root+'encoded/subject_wn.csv'\n",
    "results = conn.uploadFile(load_edges, fileTag='MyDataSource', jobName='load_job_subject_wn')\n",
    "print(json.dumps(results, indent=2))"
   ]
  },
  {
   "cell_type": "code",
   "execution_count": null,
   "metadata": {
    "colab": {
     "base_uri": "https://localhost:8080/"
    },
    "executionInfo": {
     "elapsed": 6,
     "status": "ok",
     "timestamp": 1645135204190,
     "user": {
      "displayName": "Sudha Vijayakumar",
      "photoUrl": "https://lh3.googleusercontent.com/a/default-user=s64",
      "userId": "06644857756484093013"
     },
     "user_tz": 480
    },
    "id": "4VJAcr4pRrbW",
    "outputId": "d6ce20bd-59c8-44fe-fdb4-5b36edb70d76"
   },
   "outputs": [],
   "source": [
    "# Load the posts file wiht the 'load_edges' job\n",
    "load_edges = root+'encoded/pos_wn.csv'\n",
    "results = conn.uploadFile(load_edges, fileTag='MyDataSource', jobName='load_job_pos_wn')\n",
    "print(json.dumps(results, indent=2))"
   ]
  },
  {
   "cell_type": "markdown",
   "metadata": {
    "id": "gAFCKYK61nzx"
   },
   "source": [
    "## Exploring the Graph"
   ]
  },
  {
   "cell_type": "markdown",
   "metadata": {
    "id": "4rJ_Vedw7oms"
   },
   "source": [
    "### Get Vertex and Edge Schema"
   ]
  },
  {
   "cell_type": "code",
   "execution_count": null,
   "metadata": {
    "colab": {
     "base_uri": "https://localhost:8080/"
    },
    "executionInfo": {
     "elapsed": 259,
     "status": "ok",
     "timestamp": 1645135204446,
     "user": {
      "displayName": "Sudha Vijayakumar",
      "photoUrl": "https://lh3.googleusercontent.com/a/default-user=s64",
      "userId": "06644857756484093013"
     },
     "user_tz": 480
    },
    "id": "g9F25xMY1p0p",
    "outputId": "d280f2b5-6cca-4e9c-c16a-238893ea8be7"
   },
   "outputs": [],
   "source": [
    "results = conn.getVertexTypes()\n",
    "print(f\"Verticies: {results}\")\n",
    "vertices = results\n",
    "\n",
    "results = conn.getEdgeTypes()\n",
    "print(f\"Edges: {results}\")\n",
    "edges = results"
   ]
  },
  {
   "cell_type": "code",
   "execution_count": null,
   "metadata": {
    "colab": {
     "base_uri": "https://localhost:8080/"
    },
    "executionInfo": {
     "elapsed": 4,
     "status": "ok",
     "timestamp": 1645135204446,
     "user": {
      "displayName": "Sudha Vijayakumar",
      "photoUrl": "https://lh3.googleusercontent.com/a/default-user=s64",
      "userId": "06644857756484093013"
     },
     "user_tz": 480
    },
    "id": "RrWUEQ7p2TOK",
    "outputId": "c835c777-e88f-4f9e-c731-29a530de6b43"
   },
   "outputs": [],
   "source": [
    "\n",
    "print(f\"Results for Post vertex\")\n",
    "pprint(conn.getVertexType(\"word\"))\n",
    "\n",
    "print(\"-----------------\")\n",
    "print(f\"Results for liked edge\")\n",
    "pprint(conn.getEdgeType(\"type\"))\n"
   ]
  },
  {
   "cell_type": "markdown",
   "metadata": {
    "id": "jWUaoSAa5ir6"
   },
   "source": [
    "## Counting Data"
   ]
  },
  {
   "cell_type": "code",
   "execution_count": null,
   "metadata": {
    "colab": {
     "base_uri": "https://localhost:8080/"
    },
    "executionInfo": {
     "elapsed": 2836,
     "status": "ok",
     "timestamp": 1645135207280,
     "user": {
      "displayName": "Sudha Vijayakumar",
      "photoUrl": "https://lh3.googleusercontent.com/a/default-user=s64",
      "userId": "06644857756484093013"
     },
     "user_tz": 480
    },
    "id": "rkFt8Y9I3kYp",
    "outputId": "87fe47a7-c8c9-4734-94a7-1464633f0db7"
   },
   "outputs": [],
   "source": [
    "print(\"Vertex Counts\")\n",
    "for vertex in vertices:\n",
    "  print(f\"There are {conn.getVertexCount(vertex)} {vertex} vertices in the graph\")\n",
    "\n",
    "print(\"--------------\")\n",
    "print(\"Edge Counts\")\n",
    "for edge in edges:\n",
    "  print(f\"There are {conn.getEdgeCount(edge)} {edge} edges in the graph\")"
   ]
  },
  {
   "cell_type": "markdown",
   "metadata": {
    "id": "TnUz48uPCxQk"
   },
   "source": [
    "## Extracting Data"
   ]
  },
  {
   "cell_type": "markdown",
   "metadata": {
    "id": "MYVeVJvwHZlP"
   },
   "source": [
    "### Vertex/Edge Set Format"
   ]
  },
  {
   "cell_type": "markdown",
   "metadata": {
    "id": "eX3x8Ao9ENDm"
   },
   "source": [
    "#### Getting a Vertex"
   ]
  },
  {
   "cell_type": "code",
   "execution_count": null,
   "metadata": {
    "colab": {
     "base_uri": "https://localhost:8080/"
    },
    "executionInfo": {
     "elapsed": 209,
     "status": "ok",
     "timestamp": 1645135207475,
     "user": {
      "displayName": "Sudha Vijayakumar",
      "photoUrl": "https://lh3.googleusercontent.com/a/default-user=s64",
      "userId": "06644857756484093013"
     },
     "user_tz": 480
    },
    "id": "QKIHiOeSC2IO",
    "outputId": "a04b4fca-be2d-43fd-ea6e-dd965bc736ee"
   },
   "outputs": [],
   "source": [
    "results = conn.getVerticesById(\"word\", \"15314760-n\")\n",
    "pprint(results)"
   ]
  },
  {
   "cell_type": "markdown",
   "metadata": {
    "id": "wvRr72nfERqZ"
   },
   "source": [
    "#### Or Multiple Vertices"
   ]
  },
  {
   "cell_type": "code",
   "execution_count": null,
   "metadata": {
    "colab": {
     "base_uri": "https://localhost:8080/"
    },
    "executionInfo": {
     "elapsed": 171,
     "status": "ok",
     "timestamp": 1645135207643,
     "user": {
      "displayName": "Sudha Vijayakumar",
      "photoUrl": "https://lh3.googleusercontent.com/a/default-user=s64",
      "userId": "06644857756484093013"
     },
     "user_tz": 480
    },
    "id": "dCDiIakzEULm",
    "outputId": "fa44996a-066b-454b-c002-e3e0356ddd3f"
   },
   "outputs": [],
   "source": [
    "tdf1 = conn.getVerticesById(\"word\", [\"15137796-n\",\"15192825-n\"])\n",
    "pprint(tdf1)"
   ]
  },
  {
   "cell_type": "markdown",
   "metadata": {
    "id": "vqJASpgJEg6-"
   },
   "source": [
    "#### Count Edges Connected to a Vertex"
   ]
  },
  {
   "cell_type": "code",
   "execution_count": null,
   "metadata": {
    "colab": {
     "base_uri": "https://localhost:8080/"
    },
    "executionInfo": {
     "elapsed": 185,
     "status": "ok",
     "timestamp": 1645135207825,
     "user": {
      "displayName": "Sudha Vijayakumar",
      "photoUrl": "https://lh3.googleusercontent.com/a/default-user=s64",
      "userId": "06644857756484093013"
     },
     "user_tz": 480
    },
    "id": "t-wNtrkfEj3y",
    "outputId": "3f7603eb-39e2-470c-e475-623bc785bdff"
   },
   "outputs": [],
   "source": [
    "results = conn.getEdgeCountFrom(\"word\", \"15192825-n\")\n",
    "pprint(results)"
   ]
  },
  {
   "cell_type": "markdown",
   "metadata": {
    "id": "4g2KqQmpE1KJ"
   },
   "source": [
    "#### Show all Edges Connected to a Vertex"
   ]
  },
  {
   "cell_type": "code",
   "execution_count": null,
   "metadata": {
    "colab": {
     "base_uri": "https://localhost:8080/"
    },
    "executionInfo": {
     "elapsed": 6,
     "status": "ok",
     "timestamp": 1645135207825,
     "user": {
      "displayName": "Sudha Vijayakumar",
      "photoUrl": "https://lh3.googleusercontent.com/a/default-user=s64",
      "userId": "06644857756484093013"
     },
     "user_tz": 480
    },
    "id": "OWVCDSvCE598",
    "outputId": "57f9a491-5102-45cd-b222-7babfe1c9d2b"
   },
   "outputs": [],
   "source": [
    "results = conn.getEdges(\"word\", \"15192825-n\")\n",
    "pprint(results)"
   ]
  },
  {
   "cell_type": "markdown",
   "metadata": {
    "id": "ckFBOkiOCzyk"
   },
   "source": [
    "### As Pandas Dataframe\n",
    "Supports all of the above in native Pandas Dataframe format."
   ]
  },
  {
   "cell_type": "markdown",
   "metadata": {
    "id": "MqGq0jozFayA"
   },
   "source": [
    "#### All Vertices of one Type"
   ]
  },
  {
   "cell_type": "code",
   "execution_count": null,
   "metadata": {
    "colab": {
     "base_uri": "https://localhost:8080/"
    },
    "executionInfo": {
     "elapsed": 2497,
     "status": "ok",
     "timestamp": 1645135210320,
     "user": {
      "displayName": "Sudha Vijayakumar",
      "photoUrl": "https://lh3.googleusercontent.com/a/default-user=s64",
      "userId": "06644857756484093013"
     },
     "user_tz": 480
    },
    "id": "tfUKpWbaFM3u",
    "outputId": "84be52a0-ccf6-4f32-ac5f-d71aea35e173"
   },
   "outputs": [],
   "source": [
    "df1 = conn.getVertexDataframe(\"word\")\n",
    "print(df1)"
   ]
  },
  {
   "cell_type": "markdown",
   "metadata": {
    "id": "Cs5chjJBFgw8"
   },
   "source": [
    "#### One or More Vertex"
   ]
  },
  {
   "cell_type": "code",
   "execution_count": null,
   "metadata": {
    "colab": {
     "base_uri": "https://localhost:8080/"
    },
    "executionInfo": {
     "elapsed": 14,
     "status": "ok",
     "timestamp": 1645135210320,
     "user": {
      "displayName": "Sudha Vijayakumar",
      "photoUrl": "https://lh3.googleusercontent.com/a/default-user=s64",
      "userId": "06644857756484093013"
     },
     "user_tz": 480
    },
    "id": "ZqZZ8r0EFiMg",
    "outputId": "5ee85bb6-a136-44b6-a081-656102a2c79d"
   },
   "outputs": [],
   "source": [
    "df2 = conn.getVertexDataframeById(\"word\", [\"15192825-n\"])\n",
    "print(df2)"
   ]
  },
  {
   "cell_type": "markdown",
   "metadata": {
    "id": "P5KKOIxcF7Co"
   },
   "source": [
    "#### Convert Vertex/Edge Set to Dataframe\n",
    "We'll use the results from the 'Or Multiple Vertices' cell. "
   ]
  },
  {
   "cell_type": "code",
   "execution_count": null,
   "metadata": {
    "colab": {
     "base_uri": "https://localhost:8080/"
    },
    "executionInfo": {
     "elapsed": 11,
     "status": "ok",
     "timestamp": 1645135210321,
     "user": {
      "displayName": "Sudha Vijayakumar",
      "photoUrl": "https://lh3.googleusercontent.com/a/default-user=s64",
      "userId": "06644857756484093013"
     },
     "user_tz": 480
    },
    "id": "5toKOF-1GIjH",
    "outputId": "8c8435d7-a469-4289-d468-3e779aa3504e"
   },
   "outputs": [],
   "source": [
    "df3 = conn.vertexSetToDataFrame(tdf1)\n",
    "print(df3)"
   ]
  },
  {
   "cell_type": "markdown",
   "metadata": {
    "id": "zswIzwgKHnCr"
   },
   "source": [
    "#### Get Edges"
   ]
  },
  {
   "cell_type": "code",
   "execution_count": null,
   "metadata": {
    "colab": {
     "base_uri": "https://localhost:8080/"
    },
    "executionInfo": {
     "elapsed": 256,
     "status": "ok",
     "timestamp": 1645135210573,
     "user": {
      "displayName": "Sudha Vijayakumar",
      "photoUrl": "https://lh3.googleusercontent.com/a/default-user=s64",
      "userId": "06644857756484093013"
     },
     "user_tz": 480
    },
    "id": "jnPTicB4HwpH",
    "outputId": "6070728b-27da-4ad5-f0ed-5b1fe17afaa0"
   },
   "outputs": [],
   "source": [
    "df4 = conn.getEdgesDataframe(\"word\", \"15192825-n\", limit=3)\n",
    "print(df4)"
   ]
  },
  {
   "cell_type": "markdown",
   "metadata": {
    "id": "AijIsGUr5fDq"
   },
   "source": [
    "## Path Finding\n",
    "Find paths between vertices.\n",
    "\n",
    "Supported are:\n",
    "- shortestPath - one shortest path between vertices\n",
    "- allPaths - all paths within the specified edge limit"
   ]
  },
  {
   "cell_type": "code",
   "execution_count": null,
   "metadata": {
    "colab": {
     "base_uri": "https://localhost:8080/"
    },
    "executionInfo": {
     "elapsed": 9,
     "status": "ok",
     "timestamp": 1645135210574,
     "user": {
      "displayName": "Sudha Vijayakumar",
      "photoUrl": "https://lh3.googleusercontent.com/a/default-user=s64",
      "userId": "06644857756484093013"
     },
     "user_tz": 480
    },
    "id": "MxIMRX1x5UPQ",
    "outputId": "ca626650-aad1-4c8a-fde5-0294a5b3ee05"
   },
   "outputs": [],
   "source": [
    "results = conn.shortestPath([(\"word\", \"15192825-n\")], [(\"word\", \"15161294-n\")])\n",
    "pprint(results)"
   ]
  },
  {
   "cell_type": "markdown",
   "metadata": {
    "id": "1J9PbEfeJZdY"
   },
   "source": [
    "## Clear the Whole Graph\n",
    "DANGER ZONE"
   ]
  },
  {
   "cell_type": "code",
   "execution_count": null,
   "metadata": {
    "colab": {
     "base_uri": "https://localhost:8080/",
     "height": 71
    },
    "executionInfo": {
     "elapsed": 33279,
     "status": "ok",
     "timestamp": 1645136170458,
     "user": {
      "displayName": "Sudha Vijayakumar",
      "photoUrl": "https://lh3.googleusercontent.com/a/default-user=s64",
      "userId": "06644857756484093013"
     },
     "user_tz": 480
    },
    "id": "2uNaRku7ixVK",
    "outputId": "a412a27c-cd57-49d9-a276-182a89fd5f3f"
   },
   "outputs": [],
   "source": [
    "# conn.gsql('''\n",
    "# USE GLOBAL\n",
    "# DROP ALL\n",
    "# ''')"
   ]
  }
 ],
 "metadata": {
  "colab": {
   "collapsed_sections": [
    "owRhnxW15t_w",
    "pSsJAzc_5yNN",
    "BgazrCKwR8R9",
    "SDPUKGDc55bJ",
    "bMz6fxfx59Xz",
    "MTWWoepV6Dc0",
    "Nm8hvEJo7YqM",
    "gAFCKYK61nzx",
    "jWUaoSAa5ir6",
    "AijIsGUr5fDq"
   ],
   "name": "LanguageModel_WN_UniqueEdge.ipynb",
   "provenance": [
    {
     "file_id": "15tSSqBjkhQZ_CZ53Y5kug7017-RqwxYc",
     "timestamp": 1644531582665
    },
    {
     "file_id": "1JhYcnGVWT51KswcXZzyPzKqCoPP5htcC",
     "timestamp": 1644360292961
    },
    {
     "file_id": "1k5QkLupaKnOIRrq3Aj1E82mtkT9uQZhO",
     "timestamp": 1628101159582
    }
   ]
  },
  "kernelspec": {
   "display_name": "Python 3",
   "language": "python",
   "name": "python3"
  },
  "language_info": {
   "codemirror_mode": {
    "name": "ipython",
    "version": 3
   },
   "file_extension": ".py",
   "mimetype": "text/x-python",
   "name": "python",
   "nbconvert_exporter": "python",
   "pygments_lexer": "ipython3",
   "version": "3.8.8"
  }
 },
 "nbformat": 4,
 "nbformat_minor": 4
}
