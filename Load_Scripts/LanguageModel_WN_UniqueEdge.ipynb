{
 "cells": [
  {
   "cell_type": "markdown",
   "metadata": {
    "id": "owRhnxW15t_w"
   },
   "source": [
    "## Install pyTigerGraph"
   ]
  },
  {
   "cell_type": "code",
   "execution_count": 1,
   "metadata": {
    "colab": {
     "base_uri": "https://localhost:8080/"
    },
    "id": "JmsrV-SNnx31",
    "outputId": "9982ebee-406a-4f84-dbac-67c464224e4b"
   },
   "outputs": [
    {
     "name": "stdout",
     "output_type": "stream",
     "text": [
      "Requirement already satisfied: pyTigerGraph in /opt/anaconda3/lib/python3.9/site-packages (0.0.9.9.0)\n",
      "Requirement already satisfied: requests in /opt/anaconda3/lib/python3.9/site-packages (from pyTigerGraph) (2.26.0)\n",
      "Requirement already satisfied: validators in /opt/anaconda3/lib/python3.9/site-packages (from pyTigerGraph) (0.18.2)\n",
      "Requirement already satisfied: pyTigerDriver in /opt/anaconda3/lib/python3.9/site-packages (from pyTigerGraph) (1.0.14)\n",
      "Requirement already satisfied: pandas in /opt/anaconda3/lib/python3.9/site-packages (from pyTigerGraph) (1.3.4)\n",
      "Requirement already satisfied: python-dateutil>=2.7.3 in /opt/anaconda3/lib/python3.9/site-packages (from pandas->pyTigerGraph) (2.8.2)\n",
      "Requirement already satisfied: pytz>=2017.3 in /opt/anaconda3/lib/python3.9/site-packages (from pandas->pyTigerGraph) (2021.3)\n",
      "Requirement already satisfied: numpy>=1.17.3 in /opt/anaconda3/lib/python3.9/site-packages (from pandas->pyTigerGraph) (1.20.3)\n",
      "Requirement already satisfied: six>=1.5 in /opt/anaconda3/lib/python3.9/site-packages (from python-dateutil>=2.7.3->pandas->pyTigerGraph) (1.16.0)\n",
      "Requirement already satisfied: certifi>=2017.4.17 in /opt/anaconda3/lib/python3.9/site-packages (from requests->pyTigerGraph) (2021.10.8)\n",
      "Requirement already satisfied: idna<4,>=2.5 in /opt/anaconda3/lib/python3.9/site-packages (from requests->pyTigerGraph) (3.2)\n",
      "Requirement already satisfied: urllib3<1.27,>=1.21.1 in /opt/anaconda3/lib/python3.9/site-packages (from requests->pyTigerGraph) (1.26.7)\n",
      "Requirement already satisfied: charset-normalizer~=2.0.0 in /opt/anaconda3/lib/python3.9/site-packages (from requests->pyTigerGraph) (2.0.4)\n",
      "Requirement already satisfied: decorator>=3.4.0 in /opt/anaconda3/lib/python3.9/site-packages (from validators->pyTigerGraph) (5.1.0)\n"
     ]
    }
   ],
   "source": [
    "# Setup\n",
    "!pip install -U pyTigerGraph"
   ]
  },
  {
   "cell_type": "markdown",
   "metadata": {
    "id": "pSsJAzc_5yNN"
   },
   "source": [
    "## Add Imports and Establish Initial Connection"
   ]
  },
  {
   "cell_type": "code",
   "execution_count": 2,
   "metadata": {
    "colab": {
     "base_uri": "https://localhost:8080/"
    },
    "id": "vqpwQh1_noLK",
    "outputId": "c59f7383-b347-422c-8366-b94d138863e1"
   },
   "outputs": [
    {
     "name": "stdout",
     "output_type": "stream",
     "text": [
      "Connected\n"
     ]
    }
   ],
   "source": [
    "# Imports\n",
    "import pyTigerGraph as tg\n",
    "import json\n",
    "import pandas as pd\n",
    "\n",
    "# Connection parameters\n",
    "hostName = \"https://lang.i.tgcloud.io/\"\n",
    "userName = \"tigergraph\"\n",
    "password = \"tigergraph\"\n",
    "\n",
    "conn = tg.TigerGraphConnection(host=hostName, username=userName, password=password)\n",
    "\n",
    "print(\"Connected\")"
   ]
  },
  {
   "cell_type": "markdown",
   "metadata": {
    "id": "BgazrCKwR8R9"
   },
   "source": [
    "## Clone the Data"
   ]
  },
  {
   "cell_type": "code",
   "execution_count": 3,
   "metadata": {
    "colab": {
     "base_uri": "https://localhost:8080/"
    },
    "id": "5TwgTntFR8R-",
    "outputId": "6b97f0ac-2d78-40e4-bfdf-045d64889059"
   },
   "outputs": [],
   "source": [
    "# from google.colab import drive\n",
    "# drive.mount('/content/drive')"
   ]
  },
  {
   "cell_type": "code",
   "execution_count": 4,
   "metadata": {
    "colab": {
     "base_uri": "https://localhost:8080/"
    },
    "id": "G6MRGBSwR8R-",
    "outputId": "25d7aefe-a7c8-4cf8-a98c-e3c17d0b94ad"
   },
   "outputs": [],
   "source": [
    "# cd '/content/drive/MyDrive'"
   ]
  },
  {
   "cell_type": "code",
   "execution_count": 5,
   "metadata": {
    "id": "cVwqxmQpR8R-"
   },
   "outputs": [],
   "source": [
    "# !git clone https://github.com/sudha-vijayakumar/LanguageModel.git\n",
    "\n",
    "# root = '/content/drive/MyDrive'\n",
    "\n",
    "root = '/Users/sudha.vijayakumar/Documents/GitHub/LanguageModel/Curated_Data/'"
   ]
  },
  {
   "cell_type": "markdown",
   "metadata": {
    "id": "SDPUKGDc55bJ"
   },
   "source": [
    "## Define and Publish the Schema"
   ]
  },
  {
   "cell_type": "code",
   "execution_count": 6,
   "metadata": {
    "colab": {
     "base_uri": "https://localhost:8080/"
    },
    "id": "tbLUKiA4oSKX",
    "outputId": "f68ba0f6-404d-4fef-c1fd-5d23d291f489"
   },
   "outputs": [
    {
     "ename": "KeyboardInterrupt",
     "evalue": "",
     "output_type": "error",
     "traceback": [
      "\u001b[0;31m---------------------------------------------------------------------------\u001b[0m",
      "\u001b[0;31mKeyboardInterrupt\u001b[0m                         Traceback (most recent call last)",
      "\u001b[0;32m/var/folders/gq/997tv2qn771c91tc8jjwwx5r0000gn/T/ipykernel_2919/1122600581.py\u001b[0m in \u001b[0;36m<module>\u001b[0;34m\u001b[0m\n\u001b[1;32m      1\u001b[0m \u001b[0;31m# DEFINE / CREATE ALL EDGES AND VERTICES\u001b[0m\u001b[0;34m\u001b[0m\u001b[0;34m\u001b[0m\u001b[0m\n\u001b[0;32m----> 2\u001b[0;31m results = conn.gsql('''\n\u001b[0m\u001b[1;32m      3\u001b[0m   \u001b[0mUSE\u001b[0m \u001b[0mGLOBAL\u001b[0m\u001b[0;34m\u001b[0m\u001b[0;34m\u001b[0m\u001b[0m\n\u001b[1;32m      4\u001b[0m   \u001b[0mCREATE\u001b[0m \u001b[0mVERTEX\u001b[0m \u001b[0mword\u001b[0m\u001b[0;34m(\u001b[0m\u001b[0mPRIMARY_ID\u001b[0m \u001b[0mid\u001b[0m \u001b[0mSTRING\u001b[0m\u001b[0;34m,\u001b[0m \u001b[0muri\u001b[0m \u001b[0mSTRING\u001b[0m\u001b[0;34m,\u001b[0m \u001b[0mname\u001b[0m \u001b[0mSTRING\u001b[0m\u001b[0;34m,\u001b[0m \u001b[0mdefinition\u001b[0m \u001b[0mSTRING\u001b[0m\u001b[0;34m)\u001b[0m \u001b[0mWITH\u001b[0m \u001b[0mSTATS\u001b[0m\u001b[0;34m=\u001b[0m\u001b[0;34m\"OUTDEGREE_BY_EDGETYPE\"\u001b[0m\u001b[0;34m,\u001b[0m \u001b[0mPRIMARY_ID_AS_ATTRIBUTE\u001b[0m\u001b[0;34m=\u001b[0m\u001b[0;34m\"true\"\u001b[0m\u001b[0;34m\u001b[0m\u001b[0;34m\u001b[0m\u001b[0m\n\u001b[1;32m      5\u001b[0m   \u001b[0mCREATE\u001b[0m \u001b[0mVERTEX\u001b[0m \u001b[0msubject\u001b[0m\u001b[0;34m(\u001b[0m\u001b[0mPRIMARY_ID\u001b[0m \u001b[0mid\u001b[0m \u001b[0mSTRING\u001b[0m\u001b[0;34m,\u001b[0m \u001b[0mtype\u001b[0m \u001b[0mSTRING\u001b[0m\u001b[0;34m)\u001b[0m \u001b[0mWITH\u001b[0m \u001b[0mSTATS\u001b[0m\u001b[0;34m=\u001b[0m\u001b[0;34m\"OUTDEGREE_BY_EDGETYPE\"\u001b[0m\u001b[0;34m,\u001b[0m \u001b[0mPRIMARY_ID_AS_ATTRIBUTE\u001b[0m\u001b[0;34m=\u001b[0m\u001b[0;34m\"true\"\u001b[0m\u001b[0;34m\u001b[0m\u001b[0;34m\u001b[0m\u001b[0m\n",
      "\u001b[0;32m/opt/anaconda3/lib/python3.9/site-packages/pyTigerGraph/pyTigerGraph.py\u001b[0m in \u001b[0;36mgsql\u001b[0;34m(self, query, graphname, options)\u001b[0m\n\u001b[1;32m   1707\u001b[0m             \u001b[0mgraphname\u001b[0m \u001b[0;34m=\u001b[0m \u001b[0;34m\"\"\u001b[0m\u001b[0;34m\u001b[0m\u001b[0;34m\u001b[0m\u001b[0m\n\u001b[1;32m   1708\u001b[0m         \u001b[0;32mif\u001b[0m \u001b[0;32mnot\u001b[0m \u001b[0mself\u001b[0m\u001b[0;34m.\u001b[0m\u001b[0mgsqlInitiated\u001b[0m\u001b[0;34m:\u001b[0m\u001b[0;34m\u001b[0m\u001b[0;34m\u001b[0m\u001b[0m\n\u001b[0;32m-> 1709\u001b[0;31m             \u001b[0mself\u001b[0m\u001b[0;34m.\u001b[0m\u001b[0mgsqlInitiated\u001b[0m \u001b[0;34m=\u001b[0m \u001b[0mself\u001b[0m\u001b[0;34m.\u001b[0m\u001b[0minitGsql\u001b[0m\u001b[0;34m(\u001b[0m\u001b[0;34m)\u001b[0m\u001b[0;34m\u001b[0m\u001b[0;34m\u001b[0m\u001b[0m\n\u001b[0m\u001b[1;32m   1710\u001b[0m         \u001b[0;32mif\u001b[0m \u001b[0mself\u001b[0m\u001b[0;34m.\u001b[0m\u001b[0mgsqlInitiated\u001b[0m\u001b[0;34m:\u001b[0m\u001b[0;34m\u001b[0m\u001b[0;34m\u001b[0m\u001b[0m\n\u001b[1;32m   1711\u001b[0m             \u001b[0;32mif\u001b[0m \u001b[0;34m\"\\n\"\u001b[0m \u001b[0;32mnot\u001b[0m \u001b[0;32min\u001b[0m \u001b[0mquery\u001b[0m\u001b[0;34m:\u001b[0m\u001b[0;34m\u001b[0m\u001b[0;34m\u001b[0m\u001b[0m\n",
      "\u001b[0;32m/opt/anaconda3/lib/python3.9/site-packages/pyTigerGraph/pyTigerGraph.py\u001b[0m in \u001b[0;36minitGsql\u001b[0;34m(self, certLocation)\u001b[0m\n\u001b[1;32m   1687\u001b[0m                                           \u001b[0mpassword\u001b[0m\u001b[0;34m=\u001b[0m\u001b[0mself\u001b[0m\u001b[0;34m.\u001b[0m\u001b[0mpassword\u001b[0m\u001b[0;34m,\u001b[0m\u001b[0;34m\u001b[0m\u001b[0;34m\u001b[0m\u001b[0m\n\u001b[1;32m   1688\u001b[0m                                           gsPort=self.gsPort,restpp=self.restppPort,debug=self.debug)\n\u001b[0;32m-> 1689\u001b[0;31m             \u001b[0mself\u001b[0m\u001b[0;34m.\u001b[0m\u001b[0mClient\u001b[0m\u001b[0;34m.\u001b[0m\u001b[0mlogin\u001b[0m\u001b[0;34m(\u001b[0m\u001b[0;34m)\u001b[0m\u001b[0;34m\u001b[0m\u001b[0;34m\u001b[0m\u001b[0m\n\u001b[0m\u001b[1;32m   1690\u001b[0m             \u001b[0mself\u001b[0m\u001b[0;34m.\u001b[0m\u001b[0mgsqlInitiated\u001b[0m \u001b[0;34m=\u001b[0m \u001b[0;32mTrue\u001b[0m\u001b[0;34m\u001b[0m\u001b[0;34m\u001b[0m\u001b[0m\n\u001b[1;32m   1691\u001b[0m             \u001b[0;32mreturn\u001b[0m \u001b[0;32mTrue\u001b[0m\u001b[0;34m\u001b[0m\u001b[0;34m\u001b[0m\u001b[0m\n",
      "\u001b[0;32m/opt/anaconda3/lib/python3.9/site-packages/pyTigerDriver/pyDriver.py\u001b[0m in \u001b[0;36mlogin\u001b[0;34m(self, commit_try, version_try)\u001b[0m\n\u001b[1;32m    372\u001b[0m                 \u001b[0;31m# print( '\\033[33m' + \"==== Trying Version : {}\".format(k))\u001b[0m\u001b[0;34m\u001b[0m\u001b[0;34m\u001b[0m\u001b[0m\n\u001b[1;32m    373\u001b[0m \u001b[0;34m\u001b[0m\u001b[0m\n\u001b[0;32m--> 374\u001b[0;31m                 \u001b[0;32mif\u001b[0m \u001b[0;34m(\u001b[0m\u001b[0mself\u001b[0m\u001b[0;34m.\u001b[0m\u001b[0mlogin\u001b[0m\u001b[0;34m(\u001b[0m\u001b[0mversion_try\u001b[0m\u001b[0;34m=\u001b[0m\u001b[0mk\u001b[0m\u001b[0;34m,\u001b[0m \u001b[0mcommit_try\u001b[0m\u001b[0;34m=\u001b[0m\u001b[0mVERSION_COMMIT\u001b[0m\u001b[0;34m[\u001b[0m\u001b[0mk\u001b[0m\u001b[0;34m]\u001b[0m\u001b[0;34m)\u001b[0m \u001b[0;34m==\u001b[0m \u001b[0;32mTrue\u001b[0m\u001b[0;34m)\u001b[0m\u001b[0;34m:\u001b[0m\u001b[0;34m\u001b[0m\u001b[0;34m\u001b[0m\u001b[0m\n\u001b[0m\u001b[1;32m    375\u001b[0m                     \u001b[0;31m# print('\\x1b[6;30;42m' + \"Succeded ! your version is {}\".format(k) + '\\x1b[0m')\u001b[0m\u001b[0;34m\u001b[0m\u001b[0;34m\u001b[0m\u001b[0m\n\u001b[1;32m    376\u001b[0m \u001b[0;34m\u001b[0m\u001b[0m\n",
      "\u001b[0;32m/opt/anaconda3/lib/python3.9/site-packages/pyTigerDriver/pyDriver.py\u001b[0m in \u001b[0;36mlogin\u001b[0;34m(self, commit_try, version_try)\u001b[0m\n\u001b[1;32m    400\u001b[0m                 \u001b[0;31m# print(res)\u001b[0m\u001b[0;34m\u001b[0m\u001b[0;34m\u001b[0m\u001b[0m\n\u001b[1;32m    401\u001b[0m                 \u001b[0;32mimport\u001b[0m \u001b[0mtime\u001b[0m\u001b[0;34m\u001b[0m\u001b[0;34m\u001b[0m\u001b[0m\n\u001b[0;32m--> 402\u001b[0;31m                 \u001b[0mtime\u001b[0m\u001b[0;34m.\u001b[0m\u001b[0msleep\u001b[0m\u001b[0;34m(\u001b[0m\u001b[0;36m1\u001b[0m\u001b[0;34m)\u001b[0m\u001b[0;34m\u001b[0m\u001b[0;34m\u001b[0m\u001b[0m\n\u001b[0m\u001b[1;32m    403\u001b[0m                 \u001b[0;32mif\u001b[0m \u001b[0;34m\"License expired\"\u001b[0m \u001b[0;32min\u001b[0m \u001b[0mres\u001b[0m\u001b[0;34m.\u001b[0m\u001b[0mget\u001b[0m\u001b[0;34m(\u001b[0m\u001b[0;34m\"message\"\u001b[0m\u001b[0;34m,\u001b[0m \u001b[0;34m\"\"\u001b[0m\u001b[0;34m)\u001b[0m\u001b[0;34m:\u001b[0m\u001b[0;34m\u001b[0m\u001b[0;34m\u001b[0m\u001b[0m\n\u001b[1;32m    404\u001b[0m                     \u001b[0;32mraise\u001b[0m \u001b[0mException\u001b[0m\u001b[0;34m(\u001b[0m\u001b[0;34m\"TigerGraph Server License is expired! Please update your license!\"\u001b[0m\u001b[0;34m)\u001b[0m\u001b[0;34m\u001b[0m\u001b[0;34m\u001b[0m\u001b[0m\n",
      "\u001b[0;31mKeyboardInterrupt\u001b[0m: "
     ]
    }
   ],
   "source": [
    "# DEFINE / CREATE ALL EDGES AND VERTICES \n",
    "results = conn.gsql('''\n",
    "  USE GLOBAL\n",
    "  CREATE VERTEX word(PRIMARY_ID id STRING, uri STRING, name STRING, definition STRING) WITH STATS=\"OUTDEGREE_BY_EDGETYPE\", PRIMARY_ID_AS_ATTRIBUTE=\"true\"\n",
    "  CREATE VERTEX subject(PRIMARY_ID id STRING, type STRING) WITH STATS=\"OUTDEGREE_BY_EDGETYPE\", PRIMARY_ID_AS_ATTRIBUTE=\"true\"\n",
    "  CREATE VERTEX pos(PRIMARY_ID id STRING, type STRING) WITH STATS=\"OUTDEGREE_BY_EDGETYPE\", PRIMARY_ID_AS_ATTRIBUTE=\"true\"\n",
    "  CREATE DIRECTED EDGE has_subject(FROM word, TO subject) WITH REVERSE_EDGE=\"reverse_has_subject\"\n",
    "  CREATE DIRECTED EDGE part_of_speech(FROM word, TO pos) WITH REVERSE_EDGE=\"reverse_part_of_speech\"\n",
    "  CREATE DIRECTED EDGE attribute(FROM word, TO word) WITH REVERSE_EDGE=\"reverse_attribute\"\n",
    "  CREATE DIRECTED EDGE hyponym(FROM word, TO word) WITH REVERSE_EDGE=\"reverse_hyponym\"\n",
    "  CREATE DIRECTED EDGE entails(FROM word, TO word) WITH REVERSE_EDGE=\"reverse_entails\"\n",
    "  CREATE DIRECTED EDGE similar(FROM word, TO word) WITH REVERSE_EDGE=\"reverse_similar\"\n",
    "  CREATE DIRECTED EDGE hypernym(FROM word, TO word) WITH REVERSE_EDGE=\"reverse_hypernym\"\n",
    "  CREATE DIRECTED EDGE domain_topic(FROM word, TO word) WITH REVERSE_EDGE=\"reverse_domain_topic\"\n",
    "  CREATE DIRECTED EDGE mero_part(FROM word, TO word) WITH REVERSE_EDGE=\"reverse_mero_part\"\n",
    "  CREATE DIRECTED EDGE exemplifies(FROM word, TO word) WITH REVERSE_EDGE=\"reverse_exemplifies\"\n",
    "  CREATE DIRECTED EDGE has_domain_topic(FROM word, TO word) WITH REVERSE_EDGE=\"reverse_has_domain_topic\"\n",
    "  CREATE DIRECTED EDGE also(FROM word, TO word) WITH REVERSE_EDGE=\"reverse_also\"\n",
    "  CREATE DIRECTED EDGE mero_substance(FROM word, TO word) WITH REVERSE_EDGE=\"reverse_mero_substance\"\n",
    "  CREATE DIRECTED EDGE domain_region(FROM word, TO word) WITH REVERSE_EDGE=\"reverse_domain_region\"\n",
    "  CREATE DIRECTED EDGE holo_part(FROM word, TO word) WITH REVERSE_EDGE=\"reverse_holo_part\"\n",
    "  CREATE DIRECTED EDGE holo_member(FROM word, TO word) WITH REVERSE_EDGE=\"reverse_holo_member\"\n",
    "  CREATE DIRECTED EDGE causes(FROM word, TO word) WITH REVERSE_EDGE=\"reverse_causes\"\n",
    "  CREATE DIRECTED EDGE instance_hyponym(FROM word, TO word) WITH REVERSE_EDGE=\"reverse_instance_hyponym\"\n",
    "  CREATE DIRECTED EDGE instance_hypernym(FROM word, TO word) WITH REVERSE_EDGE=\"reverse_instance_hypernym\"\n",
    "  CREATE DIRECTED EDGE mero_member(FROM word, TO word) WITH REVERSE_EDGE=\"reverse_mero_member\"\n",
    "  CREATE DIRECTED EDGE is_exemplified_by(FROM word, TO word) WITH REVERSE_EDGE=\"reverse_is_exemplified_by\"\n",
    "  CREATE DIRECTED EDGE holo_substance(FROM word, TO word) WITH REVERSE_EDGE=\"reverse_holo_substance\"\n",
    "  CREATE DIRECTED EDGE has_domain_region(FROM word, TO word) WITH REVERSE_EDGE=\"reverse_has_domain_region\"\n",
    "  CREATE DIRECTED EDGE antonym(FROM word, TO word) WITH REVERSE_EDGE=\"reverse_antonym\"\n",
    "\n",
    "''')\n",
    "print(results)"
   ]
  },
  {
   "cell_type": "markdown",
   "metadata": {
    "id": "QtAieHUn3KSp"
   },
   "source": [
    "# WordNET"
   ]
  },
  {
   "cell_type": "markdown",
   "metadata": {
    "id": "bMz6fxfx59Xz"
   },
   "source": [
    "## Create WordNet Graph"
   ]
  },
  {
   "cell_type": "code",
   "execution_count": 64,
   "metadata": {
    "colab": {
     "base_uri": "https://localhost:8080/"
    },
    "id": "-cgC8b7OcZDd",
    "outputId": "34a8490b-d0c8-454d-f0f3-141cdcc1fd8f"
   },
   "outputs": [
    {
     "name": "stdout",
     "output_type": "stream",
     "text": [
      "The graph WordNet is created.\n"
     ]
    }
   ],
   "source": [
    "results = conn.gsql('CREATE GRAPH WordNet(word, subject, pos, has_subject, part_of_speech, attribute, hyponym, entails, similar, hypernym, domain_topic, mero_part, exemplifies, has_domain_topic, also, mero_substance, domain_region, holo_part, holo_member, causes, instance_hyponym, instance_hypernym, mero_member, is_exemplified_by, holo_substance, has_domain_region, antonym)')\n",
    "print(results)"
   ]
  },
  {
   "cell_type": "code",
   "execution_count": 7,
   "metadata": {
    "colab": {
     "base_uri": "https://localhost:8080/"
    },
    "id": "SbxyEaptc2Ri",
    "outputId": "54d9b358-c591-42ab-f187-0196d74ab807"
   },
   "outputs": [
    {
     "name": "stdout",
     "output_type": "stream",
     "text": [
      "c9civ2kcuga9j52ec3uch5h769vg2088\n"
     ]
    },
    {
     "ename": "TigerGraphException",
     "evalue": "('The request cannot be processed: expected a JSON payload, but a query string was given.\\nPlease visit https://docs.tigergraph.com/tigergraph-server/current/api/built-in-endpoints#_authentication for more information.', 'REST-1101')",
     "output_type": "error",
     "traceback": [
      "\u001b[0;31m---------------------------------------------------------------------------\u001b[0m",
      "\u001b[0;31mTigerGraphException\u001b[0m                       Traceback (most recent call last)",
      "\u001b[0;32m/var/folders/gq/997tv2qn771c91tc8jjwwx5r0000gn/T/ipykernel_2919/1561579874.py\u001b[0m in \u001b[0;36m<module>\u001b[0;34m\u001b[0m\n\u001b[1;32m      2\u001b[0m \u001b[0msecret\u001b[0m \u001b[0;34m=\u001b[0m \u001b[0mconn\u001b[0m\u001b[0;34m.\u001b[0m\u001b[0mcreateSecret\u001b[0m\u001b[0;34m(\u001b[0m\u001b[0;34m)\u001b[0m\u001b[0;34m\u001b[0m\u001b[0;34m\u001b[0m\u001b[0m\n\u001b[1;32m      3\u001b[0m \u001b[0mprint\u001b[0m\u001b[0;34m(\u001b[0m\u001b[0msecret\u001b[0m\u001b[0;34m)\u001b[0m\u001b[0;34m\u001b[0m\u001b[0;34m\u001b[0m\u001b[0m\n\u001b[0;32m----> 4\u001b[0;31m \u001b[0mauthToken\u001b[0m \u001b[0;34m=\u001b[0m \u001b[0mconn\u001b[0m\u001b[0;34m.\u001b[0m\u001b[0mgetToken\u001b[0m\u001b[0;34m(\u001b[0m\u001b[0msecret\u001b[0m\u001b[0;34m)\u001b[0m\u001b[0;34m\u001b[0m\u001b[0;34m\u001b[0m\u001b[0m\n\u001b[0m\u001b[1;32m      5\u001b[0m \u001b[0mauthToken\u001b[0m \u001b[0;34m=\u001b[0m \u001b[0mauthToken\u001b[0m\u001b[0;34m[\u001b[0m\u001b[0;36m0\u001b[0m\u001b[0;34m]\u001b[0m\u001b[0;34m\u001b[0m\u001b[0;34m\u001b[0m\u001b[0m\n\u001b[1;32m      6\u001b[0m \u001b[0mprint\u001b[0m\u001b[0;34m(\u001b[0m\u001b[0mauthToken\u001b[0m\u001b[0;34m)\u001b[0m\u001b[0;34m\u001b[0m\u001b[0;34m\u001b[0m\u001b[0m\n",
      "\u001b[0;32m/opt/anaconda3/lib/python3.9/site-packages/pyTigerGraph/pyTigerGraph.py\u001b[0m in \u001b[0;36mgetToken\u001b[0;34m(self, secret, setToken, lifetime)\u001b[0m\n\u001b[1;32m   1413\u001b[0m         \u001b[0;32mif\u001b[0m \u001b[0;34m\"Endpoint is not found from url = /requesttoken\"\u001b[0m \u001b[0;32min\u001b[0m \u001b[0mres\u001b[0m\u001b[0;34m[\u001b[0m\u001b[0;34m\"message\"\u001b[0m\u001b[0;34m]\u001b[0m\u001b[0;34m:\u001b[0m\u001b[0;34m\u001b[0m\u001b[0;34m\u001b[0m\u001b[0m\n\u001b[1;32m   1414\u001b[0m             \u001b[0;32mraise\u001b[0m \u001b[0mTigerGraphException\u001b[0m\u001b[0;34m(\u001b[0m\u001b[0;34m\"REST++ authentication is not enabled, can't generate token.\"\u001b[0m\u001b[0;34m,\u001b[0m \u001b[0;32mNone\u001b[0m\u001b[0;34m)\u001b[0m\u001b[0;34m\u001b[0m\u001b[0;34m\u001b[0m\u001b[0m\n\u001b[0;32m-> 1415\u001b[0;31m         \u001b[0;32mraise\u001b[0m \u001b[0mTigerGraphException\u001b[0m\u001b[0;34m(\u001b[0m\u001b[0mres\u001b[0m\u001b[0;34m[\u001b[0m\u001b[0;34m\"message\"\u001b[0m\u001b[0;34m]\u001b[0m\u001b[0;34m,\u001b[0m \u001b[0;34m(\u001b[0m\u001b[0mres\u001b[0m\u001b[0;34m[\u001b[0m\u001b[0;34m\"code\"\u001b[0m\u001b[0;34m]\u001b[0m \u001b[0;32mif\u001b[0m \u001b[0;34m\"code\"\u001b[0m \u001b[0;32min\u001b[0m \u001b[0mres\u001b[0m \u001b[0;32melse\u001b[0m \u001b[0;32mNone\u001b[0m\u001b[0;34m)\u001b[0m\u001b[0;34m)\u001b[0m\u001b[0;34m\u001b[0m\u001b[0;34m\u001b[0m\u001b[0m\n\u001b[0m\u001b[1;32m   1416\u001b[0m \u001b[0;34m\u001b[0m\u001b[0m\n\u001b[1;32m   1417\u001b[0m     \u001b[0;32mdef\u001b[0m \u001b[0mrefreshToken\u001b[0m\u001b[0;34m(\u001b[0m\u001b[0mself\u001b[0m\u001b[0;34m,\u001b[0m \u001b[0msecret\u001b[0m\u001b[0;34m,\u001b[0m \u001b[0mtoken\u001b[0m\u001b[0;34m=\u001b[0m\u001b[0;32mNone\u001b[0m\u001b[0;34m,\u001b[0m \u001b[0mlifetime\u001b[0m\u001b[0;34m=\u001b[0m\u001b[0;36m2592000\u001b[0m\u001b[0;34m)\u001b[0m\u001b[0;34m:\u001b[0m\u001b[0;34m\u001b[0m\u001b[0;34m\u001b[0m\u001b[0m\n",
      "\u001b[0;31mTigerGraphException\u001b[0m: ('The request cannot be processed: expected a JSON payload, but a query string was given.\\nPlease visit https://docs.tigergraph.com/tigergraph-server/current/api/built-in-endpoints#_authentication for more information.', 'REST-1101')"
     ]
    }
   ],
   "source": [
    "conn.graphname=\"WordNet\"\n",
    "secret = conn.createSecret()\n",
    "print(secret)\n",
    "authToken = conn.getToken(secret)\n",
    "authToken = authToken[0]\n",
    "print(authToken)\n",
    "# authToken = 'rc7reopbis1667ksgcppq5v5fb99p6s1'\n",
    "conn = tg.TigerGraphConnection(host=hostName, graphname=\"WordNet\", username=userName, password=password, apiToken=authToken)\n",
    "\n",
    "def pprint(string):\n",
    "  print(json.dumps(string, indent=2))"
   ]
  },
  {
   "cell_type": "markdown",
   "metadata": {
    "id": "MTWWoepV6Dc0"
   },
   "source": [
    "## Create Loading Jobs"
   ]
  },
  {
   "cell_type": "markdown",
   "metadata": {
    "id": "Up4f5hmq7MZl"
   },
   "source": [
    "### Word"
   ]
  },
  {
   "cell_type": "markdown",
   "metadata": {
    "id": "oXH8W3KIjVUC"
   },
   "source": [
    "Let's take a look at what one of our files looks like so we can write a loading job."
   ]
  },
  {
   "cell_type": "code",
   "execution_count": 66,
   "metadata": {
    "colab": {
     "base_uri": "https://localhost:8080/"
    },
    "id": "dV1wMpIMeZaY",
    "outputId": "425c4861-8bb8-48f6-c21e-667c51f371e8"
   },
   "outputs": [
    {
     "name": "stdout",
     "output_type": "stream",
     "text": [
      "head: root+/csv_imports/WN-nodes.csv: No such file or directory\n"
     ]
    }
   ],
   "source": [
    "!head -n 2 root+'/csv_imports/WN-nodes.csv'"
   ]
  },
  {
   "cell_type": "markdown",
   "metadata": {
    "id": "M7Y081TD6Xh5"
   },
   "source": [
    "Here it's important to note that the `$0`, `$1` values line up with the columns of your data.\n",
    "In this example:\n",
    "- `$0` is the `uri` column,\n",
    "- `$1` is `id`,\n",
    "- `$2` is `word`\n",
    "- and so on"
   ]
  },
  {
   "cell_type": "code",
   "execution_count": 67,
   "metadata": {
    "colab": {
     "base_uri": "https://localhost:8080/"
    },
    "id": "22W6W58idFW5",
    "outputId": "4fe19258-01ed-43c7-dbbe-157a4a42a39c"
   },
   "outputs": [
    {
     "name": "stdout",
     "output_type": "stream",
     "text": [
      "Using graph 'WordNet'\n",
      "Successfully created loading jobs: [load_job_WN_edges].\n",
      "Successfully created loading jobs: [load_job_WN_nodes_encoded].\n",
      "Successfully created loading jobs: [load_job_subject_wn].\n",
      "Successfully created loading jobs: [load_job_pos_wn].\n"
     ]
    }
   ],
   "source": [
    "results = conn.gsql('''\n",
    "  USE GRAPH WordNet\n",
    "  BEGIN\n",
    "  CREATE LOADING JOB load_job_WN_edges FOR GRAPH WordNet {\n",
    "      DEFINE FILENAME MyDataSource;\n",
    "      LOAD MyDataSource TO EDGE mero_part VALUES($0, $1) WHERE $2 == \"mero_part\" USING SEPARATOR=\"\\t\", HEADER=\"true\", EOL=\"\\n\", QUOTE=\"double\";\n",
    "      LOAD MyDataSource TO EDGE domain_topic VALUES($0, $1) WHERE $2 == \"domain_topic\" USING SEPARATOR=\"\\t\", HEADER=\"true\", EOL=\"\\n\", QUOTE=\"double\";\n",
    "      LOAD MyDataSource TO EDGE hypernym VALUES($0, $1) WHERE $2 == \"hypernym\" USING SEPARATOR=\"\\t\", HEADER=\"true\", EOL=\"\\n\", QUOTE=\"double\";\n",
    "      LOAD MyDataSource TO EDGE similar VALUES($0, $1) WHERE $2 == \"similar\" USING SEPARATOR=\"\\t\", HEADER=\"true\", EOL=\"\\n\", QUOTE=\"double\";\n",
    "      LOAD MyDataSource TO EDGE entails VALUES($0, $1) WHERE $2 == \"entails\" USING SEPARATOR=\"\\t\", HEADER=\"true\", EOL=\"\\n\", QUOTE=\"double\";\n",
    "      LOAD MyDataSource TO EDGE hyponym VALUES($0, $1) WHERE $2 == \"hyponym\" USING SEPARATOR=\"\\t\", HEADER=\"true\", EOL=\"\\n\", QUOTE=\"double\";\n",
    "      LOAD MyDataSource TO EDGE attribute VALUES($0, $1) WHERE $2 == \"attribute\" USING SEPARATOR=\"\\t\", HEADER=\"true\", EOL=\"\\n\", QUOTE=\"double\";\n",
    "      LOAD MyDataSource TO EDGE antonym VALUES($0, $1) WHERE $2 == \"antonym\" USING SEPARATOR=\"\\t\", HEADER=\"true\", EOL=\"\\n\", QUOTE=\"double\";\n",
    "      LOAD MyDataSource TO EDGE has_domain_region VALUES($0, $1) WHERE $2 == \"has_domain_region\" USING SEPARATOR=\"\\t\", HEADER=\"true\", EOL=\"\\n\", QUOTE=\"double\";\n",
    "      LOAD MyDataSource TO EDGE holo_substance VALUES($0, $1) WHERE $2 == \"holo_substance\" USING SEPARATOR=\"\\t\", HEADER=\"true\", EOL=\"\\n\", QUOTE=\"double\";\n",
    "      LOAD MyDataSource TO EDGE is_exemplified_by VALUES($0, $1) WHERE $2 == \"is_exemplified_by\" USING SEPARATOR=\"\\t\", HEADER=\"true\", EOL=\"\\n\", QUOTE=\"double\";\n",
    "      LOAD MyDataSource TO EDGE mero_member VALUES($0, $1) WHERE $2 == \"mero_member\" USING SEPARATOR=\"\\t\", HEADER=\"true\", EOL=\"\\n\", QUOTE=\"double\";\n",
    "      LOAD MyDataSource TO EDGE instance_hypernym VALUES($0, $1) WHERE $2 == \"instance_hypernym\" USING SEPARATOR=\"\\t\", HEADER=\"true\", EOL=\"\\n\", QUOTE=\"double\";\n",
    "      LOAD MyDataSource TO EDGE instance_hyponym VALUES($0, $1) WHERE $2 == \"instance_hyponym\" USING SEPARATOR=\"\\t\", HEADER=\"true\", EOL=\"\\n\", QUOTE=\"double\";\n",
    "      LOAD MyDataSource TO EDGE causes VALUES($0, $1) WHERE $2 == \"causes\" USING SEPARATOR=\"\\t\", HEADER=\"true\", EOL=\"\\n\", QUOTE=\"double\";\n",
    "      LOAD MyDataSource TO EDGE holo_member VALUES($0, $1) WHERE $2 == \"holo_member\" USING SEPARATOR=\"\\t\", HEADER=\"true\", EOL=\"\\n\", QUOTE=\"double\";\n",
    "      LOAD MyDataSource TO EDGE holo_part VALUES($0, $1) WHERE $2 == \"holo_part\" USING SEPARATOR=\"\\t\", HEADER=\"true\", EOL=\"\\n\", QUOTE=\"double\";\n",
    "      LOAD MyDataSource TO EDGE domain_region VALUES($0, $1) WHERE $2 == \"domain_region\" USING SEPARATOR=\"\\t\", HEADER=\"true\", EOL=\"\\n\", QUOTE=\"double\";\n",
    "      LOAD MyDataSource TO EDGE mero_substance VALUES($0, $1) WHERE $2 == \"mero_substance\" USING SEPARATOR=\"\\t\", HEADER=\"true\", EOL=\"\\n\", QUOTE=\"double\";\n",
    "      LOAD MyDataSource TO EDGE exemplifies VALUES($0, $1) WHERE $2 == \"exemplifies\" USING SEPARATOR=\"\\t\", HEADER=\"true\", EOL=\"\\n\", QUOTE=\"double\";\n",
    "      LOAD MyDataSource TO EDGE has_domain_topic VALUES($0, $1) WHERE $2 == \"has_domain_topic\" USING SEPARATOR=\"\\t\", HEADER=\"true\", EOL=\"\\n\", QUOTE=\"double\";\n",
    "      LOAD MyDataSource TO EDGE also VALUES($0, $1) WHERE $2 == \"also\" USING SEPARATOR=\"\\t\", HEADER=\"true\", EOL=\"\\n\", QUOTE=\"double\";\n",
    "\n",
    "    }\n",
    "\n",
    "    CREATE LOADING JOB load_job_WN_nodes_encoded FOR GRAPH WordNet {\n",
    "      DEFINE FILENAME MyDataSource;\n",
    "      LOAD MyDataSource TO VERTEX word VALUES($1, $0, $2, $4) USING SEPARATOR=\",\", HEADER=\"true\", EOL=\"\\n\", QUOTE=\"double\";\n",
    "      LOAD MyDataSource TO EDGE has_subject VALUES($1, $5) USING SEPARATOR=\",\", HEADER=\"true\", EOL=\"\\n\", QUOTE=\"double\";\n",
    "      LOAD MyDataSource TO EDGE part_of_speech VALUES($1, $3) USING SEPARATOR=\",\", HEADER=\"true\", EOL=\"\\n\", QUOTE=\"double\";\n",
    "    }\n",
    "\n",
    "\n",
    "    CREATE LOADING JOB load_job_subject_wn FOR GRAPH WordNet {\n",
    "      DEFINE FILENAME MyDataSource;\n",
    "      LOAD MyDataSource TO VERTEX subject VALUES($2, $1) USING SEPARATOR=\",\", HEADER=\"true\", EOL=\"\\n\", QUOTE=\"double\";\n",
    "    }\n",
    "\n",
    "\n",
    "  CREATE LOADING JOB load_job_pos_wn FOR GRAPH WordNet {\n",
    "      DEFINE FILENAME MyDataSource;\n",
    "      LOAD MyDataSource TO VERTEX pos VALUES($2, $1) USING SEPARATOR=\",\", HEADER=\"true\", EOL=\"\\n\", QUOTE=\"double\";\n",
    "    }\n",
    "\n",
    "\n",
    "  END\n",
    "  ''')\n",
    "print(results)"
   ]
  },
  {
   "cell_type": "markdown",
   "metadata": {
    "id": "Nm8hvEJo7YqM"
   },
   "source": [
    "## Load Data"
   ]
  },
  {
   "cell_type": "markdown",
   "metadata": {
    "id": "K1yUUv7k5soZ"
   },
   "source": [
    "### Words"
   ]
  },
  {
   "cell_type": "code",
   "execution_count": 68,
   "metadata": {
    "id": "UWtWVHGg2O-p"
   },
   "outputs": [],
   "source": [
    "# Load the posts file wiht the 'load_words' job\n",
    "load_words = root+'csv_imports/WN-edges.csv'\n",
    "results = conn.uploadFile(load_words, fileTag='MyDataSource', jobName='load_job_WN_edges')\n",
    "# print(json.dumps(results, indent=2))"
   ]
  },
  {
   "cell_type": "code",
   "execution_count": 69,
   "metadata": {
    "id": "EU19agwpRIV-"
   },
   "outputs": [],
   "source": [
    "# Load the posts file wiht the 'load_words' job\n",
    "load_words = root+'csv_imports/encoded/WN-nodes-encoded.csv'\n",
    "results = conn.uploadFile(load_words, fileTag='MyDataSource', jobName='load_job_WN_nodes_encoded')\n",
    "# print(json.dumps(results, indent=2))"
   ]
  },
  {
   "cell_type": "markdown",
   "metadata": {
    "id": "jp_VKwTI5vfz"
   },
   "source": [
    "### Edges"
   ]
  },
  {
   "cell_type": "code",
   "execution_count": 70,
   "metadata": {
    "id": "6y_PfFAT2PCC"
   },
   "outputs": [],
   "source": [
    "# Load the posts file wiht the 'load_edges' job\n",
    "load_edges = root+'csv_imports/encoded/subject_wn.csv'\n",
    "results = conn.uploadFile(load_edges, fileTag='MyDataSource', jobName='load_job_subject_wn')\n",
    "# print(json.dumps(results, indent=2))"
   ]
  },
  {
   "cell_type": "code",
   "execution_count": 71,
   "metadata": {
    "id": "4VJAcr4pRrbW"
   },
   "outputs": [
    {
     "name": "stdout",
     "output_type": "stream",
     "text": [
      "[\n",
      "  {\n",
      "    \"sourceFileName\": \"Online_POST\",\n",
      "    \"statistics\": {\n",
      "      \"validLine\": 6,\n",
      "      \"rejectLine\": 0,\n",
      "      \"failedConditionLine\": 0,\n",
      "      \"notEnoughToken\": 0,\n",
      "      \"invalidJson\": 0,\n",
      "      \"oversizeToken\": 0,\n",
      "      \"vertex\": [\n",
      "        {\n",
      "          \"typeName\": \"pos\",\n",
      "          \"validObject\": 6,\n",
      "          \"noIdFound\": 0,\n",
      "          \"invalidAttribute\": 0,\n",
      "          \"invalidVertexType\": 0,\n",
      "          \"invalidPrimaryId\": 0,\n",
      "          \"invalidSecondaryId\": 0,\n",
      "          \"incorrectFixedBinaryLength\": 0\n",
      "        }\n",
      "      ],\n",
      "      \"edge\": [],\n",
      "      \"deleteVertex\": [],\n",
      "      \"deleteEdge\": []\n",
      "    }\n",
      "  }\n",
      "]\n"
     ]
    }
   ],
   "source": [
    "# Load the posts file wiht the 'load_edges' job\n",
    "load_edges = root+'csv_imports/encoded/pos_wn.csv'\n",
    "results = conn.uploadFile(load_edges, fileTag='MyDataSource', jobName='load_job_pos_wn')\n",
    "print(json.dumps(results, indent=2))"
   ]
  },
  {
   "cell_type": "markdown",
   "metadata": {
    "id": "gAFCKYK61nzx"
   },
   "source": [
    "## Exploring the Graph"
   ]
  },
  {
   "cell_type": "markdown",
   "metadata": {
    "id": "4rJ_Vedw7oms"
   },
   "source": [
    "### Get Vertex and Edge Schema"
   ]
  },
  {
   "cell_type": "code",
   "execution_count": 72,
   "metadata": {
    "colab": {
     "base_uri": "https://localhost:8080/"
    },
    "id": "g9F25xMY1p0p",
    "outputId": "026c3d32-69bf-47f6-9a0d-665ad4d50883"
   },
   "outputs": [
    {
     "name": "stdout",
     "output_type": "stream",
     "text": [
      "Verticies: ['word', 'subject', 'pos']\n",
      "Edges: ['has_subject', 'part_of_speech', 'attribute', 'hyponym', 'entails', 'similar', 'hypernym', 'domain_topic', 'mero_part', 'exemplifies', 'has_domain_topic', 'also', 'mero_substance', 'domain_region', 'holo_part', 'holo_member', 'causes', 'instance_hyponym', 'instance_hypernym', 'mero_member', 'is_exemplified_by', 'holo_substance', 'has_domain_region', 'antonym']\n"
     ]
    }
   ],
   "source": [
    "results = conn.getVertexTypes()\n",
    "print(f\"Verticies: {results}\")\n",
    "vertices = results\n",
    "\n",
    "results = conn.getEdgeTypes()\n",
    "print(f\"Edges: {results}\")\n",
    "edges = results"
   ]
  },
  {
   "cell_type": "code",
   "execution_count": 73,
   "metadata": {
    "colab": {
     "base_uri": "https://localhost:8080/"
    },
    "id": "RrWUEQ7p2TOK",
    "outputId": "731bea22-0e63-431b-f38d-097b0d4e5932"
   },
   "outputs": [
    {
     "name": "stdout",
     "output_type": "stream",
     "text": [
      "Results for Post vertex\n",
      "{\n",
      "  \"Config\": {\n",
      "    \"TAGGABLE\": false,\n",
      "    \"STATS\": \"OUTDEGREE_BY_EDGETYPE\",\n",
      "    \"PRIMARY_ID_AS_ATTRIBUTE\": true\n",
      "  },\n",
      "  \"Attributes\": [\n",
      "    {\n",
      "      \"AttributeType\": {\n",
      "        \"Name\": \"STRING\"\n",
      "      },\n",
      "      \"IsPartOfCompositeKey\": false,\n",
      "      \"PrimaryIdAsAttribute\": false,\n",
      "      \"AttributeName\": \"uri\",\n",
      "      \"HasIndex\": false,\n",
      "      \"internalAttribute\": false,\n",
      "      \"IsPrimaryKey\": false\n",
      "    },\n",
      "    {\n",
      "      \"AttributeType\": {\n",
      "        \"Name\": \"STRING\"\n",
      "      },\n",
      "      \"IsPartOfCompositeKey\": false,\n",
      "      \"PrimaryIdAsAttribute\": false,\n",
      "      \"AttributeName\": \"name\",\n",
      "      \"HasIndex\": false,\n",
      "      \"internalAttribute\": false,\n",
      "      \"IsPrimaryKey\": false\n",
      "    },\n",
      "    {\n",
      "      \"AttributeType\": {\n",
      "        \"Name\": \"STRING\"\n",
      "      },\n",
      "      \"IsPartOfCompositeKey\": false,\n",
      "      \"PrimaryIdAsAttribute\": false,\n",
      "      \"AttributeName\": \"definition\",\n",
      "      \"HasIndex\": false,\n",
      "      \"internalAttribute\": false,\n",
      "      \"IsPrimaryKey\": false\n",
      "    }\n",
      "  ],\n",
      "  \"PrimaryId\": {\n",
      "    \"AttributeType\": {\n",
      "      \"Name\": \"STRING\"\n",
      "    },\n",
      "    \"IsPartOfCompositeKey\": false,\n",
      "    \"PrimaryIdAsAttribute\": true,\n",
      "    \"AttributeName\": \"id\",\n",
      "    \"HasIndex\": false,\n",
      "    \"internalAttribute\": false,\n",
      "    \"IsPrimaryKey\": false\n",
      "  },\n",
      "  \"Name\": \"word\"\n",
      "}\n",
      "-----------------\n",
      "Results for liked edge\n",
      "{}\n"
     ]
    }
   ],
   "source": [
    "\n",
    "print(f\"Results for Post vertex\")\n",
    "pprint(conn.getVertexType(\"word\"))\n",
    "\n",
    "print(\"-----------------\")\n",
    "print(f\"Results for liked edge\")\n",
    "pprint(conn.getEdgeType(\"type\"))\n"
   ]
  },
  {
   "cell_type": "markdown",
   "metadata": {
    "id": "jWUaoSAa5ir6"
   },
   "source": [
    "## Counting Data"
   ]
  },
  {
   "cell_type": "code",
   "execution_count": 84,
   "metadata": {
    "colab": {
     "base_uri": "https://localhost:8080/"
    },
    "id": "rkFt8Y9I3kYp",
    "outputId": "511bd549-4b4c-40c1-f21d-3a1cf99ab8a9"
   },
   "outputs": [
    {
     "name": "stdout",
     "output_type": "stream",
     "text": [
      "Vertex Counts\n",
      "There are 116610 word vertices in the graph\n",
      "There are 45 subject vertices in the graph\n",
      "There are 7 pos vertices in the graph\n",
      "--------------\n",
      "Edge Counts\n",
      "There are 95762 has_subject edges in the graph\n",
      "There are 95762 part_of_speech edges in the graph\n",
      "There are 1278 attribute edges in the graph\n",
      "There are 89172 hyponym edges in the graph\n",
      "There are 408 entails edges in the graph\n",
      "There are 23176 similar edges in the graph\n",
      "There are 89172 hypernym edges in the graph\n",
      "There are 6676 domain_topic edges in the graph\n",
      "There are 9111 mero_part edges in the graph\n",
      "There are 970 exemplifies edges in the graph\n",
      "There are 6676 has_domain_topic edges in the graph\n",
      "There are 2697 also edges in the graph\n",
      "There are 797 mero_substance edges in the graph\n",
      "There are 1341 domain_region edges in the graph\n",
      "There are 9111 holo_part edges in the graph\n",
      "There are 12288 holo_member edges in the graph\n",
      "There are 221 causes edges in the graph\n",
      "There are 8589 instance_hyponym edges in the graph\n",
      "There are 8589 instance_hypernym edges in the graph\n",
      "There are 12288 mero_member edges in the graph\n",
      "There are 970 is_exemplified_by edges in the graph\n",
      "There are 797 holo_substance edges in the graph\n",
      "There are 1341 has_domain_region edges in the graph\n",
      "There are 7604 antonym edges in the graph\n"
     ]
    }
   ],
   "source": [
    "print(\"Vertex Counts\")\n",
    "for vertex in vertices:\n",
    "  print(f\"There are {conn.getVertexCount(vertex)} {vertex} vertices in the graph\")\n",
    "\n",
    "print(\"--------------\")\n",
    "print(\"Edge Counts\")\n",
    "for edge in edges:\n",
    "  print(f\"There are {conn.getEdgeCount(edge)} {edge} edges in the graph\")"
   ]
  },
  {
   "cell_type": "markdown",
   "metadata": {
    "id": "TnUz48uPCxQk"
   },
   "source": [
    "## Extracting Data"
   ]
  },
  {
   "cell_type": "markdown",
   "metadata": {
    "id": "MYVeVJvwHZlP"
   },
   "source": [
    "### Vertex/Edge Set Format"
   ]
  },
  {
   "cell_type": "markdown",
   "metadata": {
    "id": "eX3x8Ao9ENDm"
   },
   "source": [
    "#### Getting a Vertex"
   ]
  },
  {
   "cell_type": "code",
   "execution_count": 85,
   "metadata": {
    "colab": {
     "base_uri": "https://localhost:8080/"
    },
    "id": "QKIHiOeSC2IO",
    "outputId": "fbbc97e2-cc75-4fe0-c2d9-18c9b0a7783e"
   },
   "outputs": [
    {
     "name": "stdout",
     "output_type": "stream",
     "text": [
      "[\n",
      "  {\n",
      "    \"v_id\": \"15314760-n\",\n",
      "    \"v_type\": \"word\",\n",
      "    \"attributes\": {\n",
      "      \"id\": \"15314760-n\",\n",
      "      \"uri\": \"http://wordnet-rdf.princeton.edu/id/15314760-n\",\n",
      "      \"name\": \"lead_time\",\n",
      "      \"definition\": \"the time interval between the initiation and the completion of a production process; &quot;the lead times for many publications can vary tremendously&quot;; &quot;planning is an area where lead time can be reduced&quot;@en\"\n",
      "    }\n",
      "  }\n",
      "]\n"
     ]
    }
   ],
   "source": [
    "results = conn.getVerticesById(\"word\", \"15314760-n\")\n",
    "pprint(results)"
   ]
  },
  {
   "cell_type": "markdown",
   "metadata": {
    "id": "wvRr72nfERqZ"
   },
   "source": [
    "#### Or Multiple Vertices"
   ]
  },
  {
   "cell_type": "code",
   "execution_count": 86,
   "metadata": {
    "colab": {
     "base_uri": "https://localhost:8080/"
    },
    "id": "dCDiIakzEULm",
    "outputId": "f429bff3-2485-4403-a3e7-bb825c6bd744"
   },
   "outputs": [
    {
     "name": "stdout",
     "output_type": "stream",
     "text": [
      "[\n",
      "  {\n",
      "    \"v_id\": \"15137796-n\",\n",
      "    \"v_type\": \"word\",\n",
      "    \"attributes\": {\n",
      "      \"id\": \"15137796-n\",\n",
      "      \"uri\": \"http://wordnet-rdf.princeton.edu/id/15137796-n\",\n",
      "      \"name\": \"period\",\n",
      "      \"definition\": \"an amount of time; &quot;a time period of 30 years&quot;; &quot;hastened the period of time of his recovery&quot;; &quot;Picasso's blue period&quot;@en\"\n",
      "    }\n",
      "  },\n",
      "  {\n",
      "    \"v_id\": \"15192825-n\",\n",
      "    \"v_type\": \"word\",\n",
      "    \"attributes\": {\n",
      "      \"id\": \"15192825-n\",\n",
      "      \"uri\": \"http://wordnet-rdf.princeton.edu/id/15192825-n\",\n",
      "      \"name\": \"eve\",\n",
      "      \"definition\": \"the period immediately before something; &quot;on the eve of the French Revolution&quot;@en\"\n",
      "    }\n",
      "  }\n",
      "]\n"
     ]
    }
   ],
   "source": [
    "tdf1 = conn.getVerticesById(\"word\", [\"15137796-n\",\"15192825-n\"])\n",
    "pprint(tdf1)"
   ]
  },
  {
   "cell_type": "markdown",
   "metadata": {
    "id": "vqJASpgJEg6-"
   },
   "source": [
    "#### Count Edges Connected to a Vertex"
   ]
  },
  {
   "cell_type": "code",
   "execution_count": 87,
   "metadata": {
    "colab": {
     "base_uri": "https://localhost:8080/"
    },
    "id": "t-wNtrkfEj3y",
    "outputId": "569bba61-3ec4-45fb-afd1-a58a2647d166"
   },
   "outputs": [
    {
     "name": "stdout",
     "output_type": "stream",
     "text": [
      "{\n",
      "  \"has_subject\": 1,\n",
      "  \"reverse_has_subject\": 0,\n",
      "  \"part_of_speech\": 1,\n",
      "  \"reverse_part_of_speech\": 0,\n",
      "  \"attribute\": 0,\n",
      "  \"reverse_attribute\": 0,\n",
      "  \"hyponym\": 0,\n",
      "  \"reverse_hyponym\": 1,\n",
      "  \"entails\": 0,\n",
      "  \"reverse_entails\": 0,\n",
      "  \"similar\": 0,\n",
      "  \"reverse_similar\": 0,\n",
      "  \"hypernym\": 1,\n",
      "  \"reverse_hypernym\": 0,\n",
      "  \"domain_topic\": 0,\n",
      "  \"reverse_domain_topic\": 0,\n",
      "  \"mero_part\": 0,\n",
      "  \"reverse_mero_part\": 0,\n",
      "  \"exemplifies\": 0,\n",
      "  \"reverse_exemplifies\": 0,\n",
      "  \"has_domain_topic\": 0,\n",
      "  \"reverse_has_domain_topic\": 0,\n",
      "  \"also\": 0,\n",
      "  \"reverse_also\": 0,\n",
      "  \"mero_substance\": 0,\n",
      "  \"reverse_mero_substance\": 0,\n",
      "  \"domain_region\": 0,\n",
      "  \"reverse_domain_region\": 0,\n",
      "  \"holo_part\": 0,\n",
      "  \"reverse_holo_part\": 0,\n",
      "  \"holo_member\": 0,\n",
      "  \"reverse_holo_member\": 0,\n",
      "  \"causes\": 0,\n",
      "  \"reverse_causes\": 0,\n",
      "  \"instance_hyponym\": 0,\n",
      "  \"reverse_instance_hyponym\": 0,\n",
      "  \"instance_hypernym\": 0,\n",
      "  \"reverse_instance_hypernym\": 0,\n",
      "  \"mero_member\": 0,\n",
      "  \"reverse_mero_member\": 0,\n",
      "  \"is_exemplified_by\": 0,\n",
      "  \"reverse_is_exemplified_by\": 0,\n",
      "  \"holo_substance\": 0,\n",
      "  \"reverse_holo_substance\": 0,\n",
      "  \"has_domain_region\": 0,\n",
      "  \"reverse_has_domain_region\": 0,\n",
      "  \"antonym\": 0,\n",
      "  \"reverse_antonym\": 0\n",
      "}\n"
     ]
    }
   ],
   "source": [
    "results = conn.getEdgeCountFrom(\"word\", \"15192825-n\")\n",
    "pprint(results)"
   ]
  },
  {
   "cell_type": "markdown",
   "metadata": {
    "id": "4g2KqQmpE1KJ"
   },
   "source": [
    "#### Show all Edges Connected to a Vertex"
   ]
  },
  {
   "cell_type": "code",
   "execution_count": 88,
   "metadata": {
    "colab": {
     "base_uri": "https://localhost:8080/"
    },
    "id": "OWVCDSvCE598",
    "outputId": "1de93155-0c78-4688-80f1-d67c271ed430"
   },
   "outputs": [
    {
     "name": "stdout",
     "output_type": "stream",
     "text": [
      "[\n",
      "  {\n",
      "    \"e_type\": \"has_subject\",\n",
      "    \"directed\": true,\n",
      "    \"from_id\": \"15192825-n\",\n",
      "    \"from_type\": \"word\",\n",
      "    \"to_id\": \"29\",\n",
      "    \"to_type\": \"subject\",\n",
      "    \"attributes\": {}\n",
      "  },\n",
      "  {\n",
      "    \"e_type\": \"part_of_speech\",\n",
      "    \"directed\": true,\n",
      "    \"from_id\": \"15192825-n\",\n",
      "    \"from_type\": \"word\",\n",
      "    \"to_id\": \"3\",\n",
      "    \"to_type\": \"pos\",\n",
      "    \"attributes\": {}\n",
      "  },\n",
      "  {\n",
      "    \"e_type\": \"reverse_hyponym\",\n",
      "    \"directed\": true,\n",
      "    \"from_id\": \"15192825-n\",\n",
      "    \"from_type\": \"word\",\n",
      "    \"to_id\": \"15137796-n\",\n",
      "    \"to_type\": \"word\",\n",
      "    \"attributes\": {}\n",
      "  },\n",
      "  {\n",
      "    \"e_type\": \"hypernym\",\n",
      "    \"directed\": true,\n",
      "    \"from_id\": \"15192825-n\",\n",
      "    \"from_type\": \"word\",\n",
      "    \"to_id\": \"15137796-n\",\n",
      "    \"to_type\": \"word\",\n",
      "    \"attributes\": {}\n",
      "  }\n",
      "]\n"
     ]
    }
   ],
   "source": [
    "results = conn.getEdges(\"word\", \"15192825-n\")\n",
    "pprint(results)"
   ]
  },
  {
   "cell_type": "markdown",
   "metadata": {
    "id": "ckFBOkiOCzyk"
   },
   "source": [
    "### As Pandas Dataframe\n",
    "Supports all of the above in native Pandas Dataframe format."
   ]
  },
  {
   "cell_type": "markdown",
   "metadata": {
    "id": "MqGq0jozFayA"
   },
   "source": [
    "#### All Vertices of one Type"
   ]
  },
  {
   "cell_type": "code",
   "execution_count": 89,
   "metadata": {
    "colab": {
     "base_uri": "https://localhost:8080/"
    },
    "id": "tfUKpWbaFM3u",
    "outputId": "4b37d926-8438-444e-dde9-69fb75cd8e94"
   },
   "outputs": [
    {
     "name": "stdout",
     "output_type": "stream",
     "text": [
      "              v_id          id  \\\n",
      "0       00218444-r  00218444-r   \n",
      "1       00451658-r  00451658-r   \n",
      "2       01781174-a  01781174-a   \n",
      "3       02136387-a  02136387-a   \n",
      "4       03162312-a  03162312-a   \n",
      "...            ...         ...   \n",
      "117787  03102240-a  03102240-a   \n",
      "117788  00390494-r  00390494-r   \n",
      "117789  02699570-a  02699570-a   \n",
      "117790  00506737-r  00506737-r   \n",
      "117791  00518777-r  00518777-r   \n",
      "\n",
      "                                                   uri             name  \\\n",
      "0       http://wordnet-rdf.princeton.edu/id/00218444-r    thoughtlessly   \n",
      "1       http://wordnet-rdf.princeton.edu/id/00451658-r  unsentimentally   \n",
      "2       http://wordnet-rdf.princeton.edu/id/01781174-a      puncturable   \n",
      "3       http://wordnet-rdf.princeton.edu/id/02136387-a        migratory   \n",
      "4       http://wordnet-rdf.princeton.edu/id/03162312-a           malted   \n",
      "...                                                ...              ...   \n",
      "117787  http://wordnet-rdf.princeton.edu/id/03102240-a          Nicaean   \n",
      "117788  http://wordnet-rdf.princeton.edu/id/00390494-r    lethargically   \n",
      "117789  http://wordnet-rdf.princeton.edu/id/02699570-a       cerebellar   \n",
      "117790  http://wordnet-rdf.princeton.edu/id/00506737-r         directly   \n",
      "117791  http://wordnet-rdf.princeton.edu/id/00518777-r       ulteriorly   \n",
      "\n",
      "                                               definition  \n",
      "0       showing thoughtlessness; &quot;he treated his ...  \n",
      "1       in an unsentimental manner; &quot;unsentimenta...  \n",
      "2                           capable of being punctured@en  \n",
      "3       used of animals that move seasonally; &quot;mi...  \n",
      "4       of grain that has been converted into malt; &q...  \n",
      "...                                                   ...  \n",
      "117787  of or relating to the ancient city of Nicaea i...  \n",
      "117788  without energy; in a lethargic manner; &quot;h...  \n",
      "117789  relating to or associated with the cerebellum;...  \n",
      "117790  without anyone or anything intervening; &quot;...  \n",
      "117791                           in an ulterior manner@en  \n",
      "\n",
      "[117792 rows x 5 columns]\n"
     ]
    }
   ],
   "source": [
    "df1 = conn.getVertexDataframe(\"word\")\n",
    "print(df1)"
   ]
  },
  {
   "cell_type": "markdown",
   "metadata": {
    "id": "Cs5chjJBFgw8"
   },
   "source": [
    "#### One or More Vertex"
   ]
  },
  {
   "cell_type": "code",
   "execution_count": 90,
   "metadata": {
    "colab": {
     "base_uri": "https://localhost:8080/"
    },
    "id": "ZqZZ8r0EFiMg",
    "outputId": "445487d8-2ad5-47e1-b0a6-d4a6d8588243"
   },
   "outputs": [
    {
     "name": "stdout",
     "output_type": "stream",
     "text": [
      "         v_id          id                                             uri  \\\n",
      "0  15192825-n  15192825-n  http://wordnet-rdf.princeton.edu/id/15192825-n   \n",
      "\n",
      "  name                                         definition  \n",
      "0  eve  the period immediately before something; &quot...  \n"
     ]
    }
   ],
   "source": [
    "df2 = conn.getVertexDataframeById(\"word\", [\"15192825-n\"])\n",
    "print(df2)"
   ]
  },
  {
   "cell_type": "markdown",
   "metadata": {
    "id": "P5KKOIxcF7Co"
   },
   "source": [
    "#### Convert Vertex/Edge Set to Dataframe\n",
    "We'll use the results from the 'Or Multiple Vertices' cell. "
   ]
  },
  {
   "cell_type": "code",
   "execution_count": 91,
   "metadata": {
    "colab": {
     "base_uri": "https://localhost:8080/"
    },
    "id": "5toKOF-1GIjH",
    "outputId": "1813dbe4-d6d7-411e-aad9-66e9a1977e76"
   },
   "outputs": [
    {
     "name": "stdout",
     "output_type": "stream",
     "text": [
      "         v_id          id                                             uri  \\\n",
      "0  15137796-n  15137796-n  http://wordnet-rdf.princeton.edu/id/15137796-n   \n",
      "1  15192825-n  15192825-n  http://wordnet-rdf.princeton.edu/id/15192825-n   \n",
      "\n",
      "     name                                         definition  \n",
      "0  period  an amount of time; &quot;a time period of 30 y...  \n",
      "1     eve  the period immediately before something; &quot...  \n"
     ]
    }
   ],
   "source": [
    "df3 = conn.vertexSetToDataFrame(tdf1)\n",
    "print(df3)"
   ]
  },
  {
   "cell_type": "markdown",
   "metadata": {
    "id": "zswIzwgKHnCr"
   },
   "source": [
    "#### Get Edges"
   ]
  },
  {
   "cell_type": "code",
   "execution_count": 92,
   "metadata": {
    "colab": {
     "base_uri": "https://localhost:8080/"
    },
    "id": "jnPTicB4HwpH",
    "outputId": "8ae53dde-e575-432e-fb2e-c55908d19ce0"
   },
   "outputs": [
    {
     "name": "stdout",
     "output_type": "stream",
     "text": [
      "  from_type     from_id  to_type       to_id\n",
      "0      word  15192825-n  subject          29\n",
      "1      word  15192825-n      pos           3\n",
      "2      word  15192825-n     word  15137796-n\n"
     ]
    }
   ],
   "source": [
    "df4 = conn.getEdgesDataframe(\"word\", \"15192825-n\", limit=3)\n",
    "print(df4)"
   ]
  },
  {
   "cell_type": "markdown",
   "metadata": {
    "id": "AijIsGUr5fDq"
   },
   "source": [
    "## Path Finding\n",
    "Find paths between vertices.\n",
    "\n",
    "Supported are:\n",
    "- shortestPath - one shortest path between vertices\n",
    "- allPaths - all paths within the specified edge limit"
   ]
  },
  {
   "cell_type": "code",
   "execution_count": 93,
   "metadata": {
    "colab": {
     "base_uri": "https://localhost:8080/"
    },
    "id": "MxIMRX1x5UPQ",
    "outputId": "f40ccaec-227d-44f4-e926-fddd2fd80246"
   },
   "outputs": [
    {
     "name": "stdout",
     "output_type": "stream",
     "text": [
      "[{'type': 'word', 'id': '15192825-n'}]\n",
      "[{'type': 'word', 'id': '15161294-n'}]\n",
      "[{'vertices': [{'v_id': '15161294-n', 'v_type': 'word', 'attributes': {'id': '15161294-n', 'uri': 'http://wordnet-rdf.princeton.edu/id/15161294-n', 'name': 'midweek', 'definition': 'the middle of a week@en'}}, {'v_id': '29', 'v_type': 'subject', 'attributes': {'id': '29', 'type': 'noun.time'}}, {'v_id': '15192825-n', 'v_type': 'word', 'attributes': {'id': '15192825-n', 'uri': 'http://wordnet-rdf.princeton.edu/id/15192825-n', 'name': 'eve', 'definition': 'the period immediately before something; &quot;on the eve of the French Revolution&quot;@en'}}], 'edges': [{'e_type': 'reverse_has_subject', 'from_id': '29', 'from_type': 'subject', 'to_id': '15161294-n', 'to_type': 'word', 'directed': True, 'attributes': {}}, {'e_type': 'has_subject', 'from_id': '15192825-n', 'from_type': 'word', 'to_id': '29', 'to_type': 'subject', 'directed': True, 'attributes': {}}]}]\n"
     ]
    }
   ],
   "source": [
    "results = conn.shortestPath([(\"word\", \"15192825-n\")], [(\"word\", \"15161294-n\")])\n",
    "print(results)"
   ]
  },
  {
   "cell_type": "code",
   "execution_count": null,
   "metadata": {},
   "outputs": [],
   "source": []
  }
 ],
 "metadata": {
  "colab": {
   "collapsed_sections": [
    "owRhnxW15t_w",
    "pSsJAzc_5yNN",
    "BgazrCKwR8R9",
    "TnUz48uPCxQk",
    "AijIsGUr5fDq",
    "p92Wfp-w6JJ0",
    "CyV-wdHp7hLX",
    "gPZ2iTs-6JJ_"
   ],
   "name": "LanguageModel_WN_UniqueEdge.ipynb",
   "provenance": []
  },
  "kernelspec": {
   "display_name": "Python 3 (ipykernel)",
   "language": "python",
   "name": "python3"
  },
  "language_info": {
   "codemirror_mode": {
    "name": "ipython",
    "version": 3
   },
   "file_extension": ".py",
   "mimetype": "text/x-python",
   "name": "python",
   "nbconvert_exporter": "python",
   "pygments_lexer": "ipython3",
   "version": "3.9.7"
  }
 },
 "nbformat": 4,
 "nbformat_minor": 4
}
