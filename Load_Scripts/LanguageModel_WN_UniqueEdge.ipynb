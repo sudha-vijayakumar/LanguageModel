{
  "nbformat": 4,
  "nbformat_minor": 0,
  "metadata": {
    "colab": {
      "name": "LanguageModel_WN_UniqueEdge.ipynb",
      "provenance": [],
      "collapsed_sections": [
        "owRhnxW15t_w",
        "pSsJAzc_5yNN",
        "BgazrCKwR8R9",
        "TnUz48uPCxQk",
        "AijIsGUr5fDq",
        "p92Wfp-w6JJ0",
        "CyV-wdHp7hLX",
        "gPZ2iTs-6JJ_"
      ]
    },
    "kernelspec": {
      "display_name": "Python 3",
      "name": "python3"
    },
    "language_info": {
      "name": "python"
    }
  },
  "cells": [
    {
      "cell_type": "markdown",
      "metadata": {
        "id": "owRhnxW15t_w"
      },
      "source": [
        "## Install pyTigerGraph"
      ]
    },
    {
      "cell_type": "code",
      "metadata": {
        "id": "JmsrV-SNnx31",
        "colab": {
          "base_uri": "https://localhost:8080/"
        },
        "outputId": "9982ebee-406a-4f84-dbac-67c464224e4b"
      },
      "source": [
        "# Setup\n",
        "!pip install pyTigerGraph"
      ],
      "execution_count": 1,
      "outputs": [
        {
          "output_type": "stream",
          "name": "stdout",
          "text": [
            "Collecting pyTigerGraph\n",
            "  Downloading pyTigerGraph-0.0.9.9.0-py3-none-any.whl (22 kB)\n",
            "Collecting pyTigerDriver\n",
            "  Downloading pyTigerDriver-1.0.14-py3-none-any.whl (8.7 kB)\n",
            "Collecting validators\n",
            "  Downloading validators-0.18.2-py3-none-any.whl (19 kB)\n",
            "Requirement already satisfied: pandas in /usr/local/lib/python3.7/dist-packages (from pyTigerGraph) (1.3.5)\n",
            "Requirement already satisfied: requests in /usr/local/lib/python3.7/dist-packages (from pyTigerGraph) (2.23.0)\n",
            "Requirement already satisfied: pytz>=2017.3 in /usr/local/lib/python3.7/dist-packages (from pandas->pyTigerGraph) (2018.9)\n",
            "Requirement already satisfied: python-dateutil>=2.7.3 in /usr/local/lib/python3.7/dist-packages (from pandas->pyTigerGraph) (2.8.2)\n",
            "Requirement already satisfied: numpy>=1.17.3 in /usr/local/lib/python3.7/dist-packages (from pandas->pyTigerGraph) (1.19.5)\n",
            "Requirement already satisfied: six>=1.5 in /usr/local/lib/python3.7/dist-packages (from python-dateutil>=2.7.3->pandas->pyTigerGraph) (1.15.0)\n",
            "Requirement already satisfied: idna<3,>=2.5 in /usr/local/lib/python3.7/dist-packages (from requests->pyTigerGraph) (2.10)\n",
            "Requirement already satisfied: chardet<4,>=3.0.2 in /usr/local/lib/python3.7/dist-packages (from requests->pyTigerGraph) (3.0.4)\n",
            "Requirement already satisfied: certifi>=2017.4.17 in /usr/local/lib/python3.7/dist-packages (from requests->pyTigerGraph) (2021.10.8)\n",
            "Requirement already satisfied: urllib3!=1.25.0,!=1.25.1,<1.26,>=1.21.1 in /usr/local/lib/python3.7/dist-packages (from requests->pyTigerGraph) (1.24.3)\n",
            "Requirement already satisfied: decorator>=3.4.0 in /usr/local/lib/python3.7/dist-packages (from validators->pyTigerGraph) (4.4.2)\n",
            "Installing collected packages: validators, pyTigerDriver, pyTigerGraph\n",
            "Successfully installed pyTigerDriver-1.0.14 pyTigerGraph-0.0.9.9.0 validators-0.18.2\n"
          ]
        }
      ]
    },
    {
      "cell_type": "markdown",
      "metadata": {
        "id": "pSsJAzc_5yNN"
      },
      "source": [
        "## Add Imports and Establish Initial Connection"
      ]
    },
    {
      "cell_type": "code",
      "metadata": {
        "colab": {
          "base_uri": "https://localhost:8080/"
        },
        "id": "vqpwQh1_noLK",
        "outputId": "c59f7383-b347-422c-8366-b94d138863e1"
      },
      "source": [
        "# Imports\n",
        "import pyTigerGraph as tg\n",
        "import json\n",
        "import pandas as pd\n",
        "\n",
        "# Connection parameters\n",
        "hostName = \"https://language.i.tgcloud.io\"\n",
        "userName = \"tigergraph\"\n",
        "password = \"tigergraph\"\n",
        "\n",
        "conn = tg.TigerGraphConnection(host=hostName, username=userName, password=password)\n",
        "\n",
        "print(\"Connected\")"
      ],
      "execution_count": 41,
      "outputs": [
        {
          "output_type": "stream",
          "name": "stdout",
          "text": [
            "Connected\n"
          ]
        }
      ]
    },
    {
      "cell_type": "markdown",
      "metadata": {
        "id": "BgazrCKwR8R9"
      },
      "source": [
        "## Clone the Data"
      ]
    },
    {
      "cell_type": "code",
      "source": [
        "from google.colab import drive\n",
        "drive.mount('/content/drive')"
      ],
      "metadata": {
        "colab": {
          "base_uri": "https://localhost:8080/"
        },
        "outputId": "6b97f0ac-2d78-40e4-bfdf-045d64889059",
        "id": "5TwgTntFR8R-"
      },
      "execution_count": 3,
      "outputs": [
        {
          "output_type": "stream",
          "name": "stdout",
          "text": [
            "Mounted at /content/drive\n"
          ]
        }
      ]
    },
    {
      "cell_type": "code",
      "source": [
        "cd '/content/drive/MyDrive'"
      ],
      "metadata": {
        "colab": {
          "base_uri": "https://localhost:8080/"
        },
        "outputId": "25d7aefe-a7c8-4cf8-a98c-e3c17d0b94ad",
        "id": "G6MRGBSwR8R-"
      },
      "execution_count": 4,
      "outputs": [
        {
          "output_type": "stream",
          "name": "stdout",
          "text": [
            "/content/drive/MyDrive\n"
          ]
        }
      ]
    },
    {
      "cell_type": "code",
      "metadata": {
        "id": "cVwqxmQpR8R-"
      },
      "source": [
        "# !git clone https://github.com/sudha-vijayakumar/LanguageModel.git"
      ],
      "execution_count": 5,
      "outputs": []
    },
    {
      "cell_type": "markdown",
      "metadata": {
        "id": "SDPUKGDc55bJ"
      },
      "source": [
        "## Define and Publish the Schema"
      ]
    },
    {
      "cell_type": "code",
      "metadata": {
        "id": "tbLUKiA4oSKX",
        "colab": {
          "base_uri": "https://localhost:8080/"
        },
        "outputId": "f68ba0f6-404d-4fef-c1fd-5d23d291f489"
      },
      "source": [
        "# DEFINE / CREATE ALL EDGES AND VERTICES \n",
        "results = conn.gsql('''\n",
        "  USE GLOBAL\n",
        "  CREATE VERTEX word(PRIMARY_ID id STRING, uri STRING, name STRING, definition STRING) WITH STATS=\"OUTDEGREE_BY_EDGETYPE\", PRIMARY_ID_AS_ATTRIBUTE=\"true\"\n",
        "  CREATE VERTEX subject(PRIMARY_ID id STRING, type STRING) WITH STATS=\"OUTDEGREE_BY_EDGETYPE\", PRIMARY_ID_AS_ATTRIBUTE=\"true\"\n",
        "  CREATE VERTEX pos(PRIMARY_ID id STRING, type STRING) WITH STATS=\"OUTDEGREE_BY_EDGETYPE\", PRIMARY_ID_AS_ATTRIBUTE=\"true\"\n",
        "  CREATE DIRECTED EDGE has_subject(FROM word, TO subject) WITH REVERSE_EDGE=\"reverse_has_subject\"\n",
        "  CREATE DIRECTED EDGE part_of_speech(FROM word, TO pos) WITH REVERSE_EDGE=\"reverse_part_of_speech\"\n",
        "  CREATE DIRECTED EDGE attribute(FROM word, TO word) WITH REVERSE_EDGE=\"reverse_attribute\"\n",
        "  CREATE DIRECTED EDGE hyponym(FROM word, TO word) WITH REVERSE_EDGE=\"reverse_hyponym\"\n",
        "  CREATE DIRECTED EDGE entails(FROM word, TO word) WITH REVERSE_EDGE=\"reverse_entails\"\n",
        "  CREATE DIRECTED EDGE similar(FROM word, TO word) WITH REVERSE_EDGE=\"reverse_similar\"\n",
        "  CREATE DIRECTED EDGE hypernym(FROM word, TO word) WITH REVERSE_EDGE=\"reverse_hypernym\"\n",
        "  CREATE DIRECTED EDGE domain_topic(FROM word, TO word) WITH REVERSE_EDGE=\"reverse_domain_topic\"\n",
        "  CREATE DIRECTED EDGE mero_part(FROM word, TO word) WITH REVERSE_EDGE=\"reverse_mero_part\"\n",
        "  CREATE DIRECTED EDGE exemplifies(FROM word, TO word) WITH REVERSE_EDGE=\"reverse_exemplifies\"\n",
        "  CREATE DIRECTED EDGE has_domain_topic(FROM word, TO word) WITH REVERSE_EDGE=\"reverse_has_domain_topic\"\n",
        "  CREATE DIRECTED EDGE also(FROM word, TO word) WITH REVERSE_EDGE=\"reverse_also\"\n",
        "  CREATE DIRECTED EDGE mero_substance(FROM word, TO word) WITH REVERSE_EDGE=\"reverse_mero_substance\"\n",
        "  CREATE DIRECTED EDGE domain_region(FROM word, TO word) WITH REVERSE_EDGE=\"reverse_domain_region\"\n",
        "  CREATE DIRECTED EDGE holo_part(FROM word, TO word) WITH REVERSE_EDGE=\"reverse_holo_part\"\n",
        "  CREATE DIRECTED EDGE holo_member(FROM word, TO word) WITH REVERSE_EDGE=\"reverse_holo_member\"\n",
        "  CREATE DIRECTED EDGE causes(FROM word, TO word) WITH REVERSE_EDGE=\"reverse_causes\"\n",
        "  CREATE DIRECTED EDGE instance_hyponym(FROM word, TO word) WITH REVERSE_EDGE=\"reverse_instance_hyponym\"\n",
        "  CREATE DIRECTED EDGE instance_hypernym(FROM word, TO word) WITH REVERSE_EDGE=\"reverse_instance_hypernym\"\n",
        "  CREATE DIRECTED EDGE mero_member(FROM word, TO word) WITH REVERSE_EDGE=\"reverse_mero_member\"\n",
        "  CREATE DIRECTED EDGE is_exemplified_by(FROM word, TO word) WITH REVERSE_EDGE=\"reverse_is_exemplified_by\"\n",
        "  CREATE DIRECTED EDGE holo_substance(FROM word, TO word) WITH REVERSE_EDGE=\"reverse_holo_substance\"\n",
        "  CREATE DIRECTED EDGE has_domain_region(FROM word, TO word) WITH REVERSE_EDGE=\"reverse_has_domain_region\"\n",
        "  CREATE DIRECTED EDGE antonym(FROM word, TO word) WITH REVERSE_EDGE=\"reverse_antonym\"\n",
        "\n",
        "''')\n",
        "print(results)"
      ],
      "execution_count": 42,
      "outputs": [
        {
          "output_type": "stream",
          "name": "stdout",
          "text": [
            "Successfully created vertex types: [word].\n",
            "Successfully created vertex types: [subject].\n",
            "Successfully created vertex types: [pos].\n",
            "Successfully created edge types: [has_subject].\n",
            "Successfully created reverse edge types: [reverse_has_subject].\n",
            "Successfully created edge types: [part_of_speech].\n",
            "Successfully created reverse edge types: [reverse_part_of_speech].\n",
            "Successfully created edge types: [attribute].\n",
            "Successfully created reverse edge types: [reverse_attribute].\n",
            "Successfully created edge types: [hyponym].\n",
            "Successfully created reverse edge types: [reverse_hyponym].\n",
            "Successfully created edge types: [entails].\n",
            "Successfully created reverse edge types: [reverse_entails].\n",
            "Successfully created edge types: [similar].\n",
            "Successfully created reverse edge types: [reverse_similar].\n",
            "Successfully created edge types: [hypernym].\n",
            "Successfully created reverse edge types: [reverse_hypernym].\n",
            "Successfully created edge types: [domain_topic].\n",
            "Successfully created reverse edge types: [reverse_domain_topic].\n",
            "Successfully created edge types: [mero_part].\n",
            "Successfully created reverse edge types: [reverse_mero_part].\n",
            "Successfully created edge types: [exemplifies].\n",
            "Successfully created reverse edge types: [reverse_exemplifies].\n",
            "Successfully created edge types: [has_domain_topic].\n",
            "Successfully created reverse edge types: [reverse_has_domain_topic].\n",
            "Successfully created edge types: [also].\n",
            "Successfully created reverse edge types: [reverse_also].\n",
            "Successfully created edge types: [mero_substance].\n",
            "Successfully created reverse edge types: [reverse_mero_substance].\n",
            "Successfully created edge types: [domain_region].\n",
            "Successfully created reverse edge types: [reverse_domain_region].\n",
            "Successfully created edge types: [holo_part].\n",
            "Successfully created reverse edge types: [reverse_holo_part].\n",
            "Successfully created edge types: [holo_member].\n",
            "Successfully created reverse edge types: [reverse_holo_member].\n",
            "Successfully created edge types: [causes].\n",
            "Successfully created reverse edge types: [reverse_causes].\n",
            "Successfully created edge types: [instance_hyponym].\n",
            "Successfully created reverse edge types: [reverse_instance_hyponym].\n",
            "Successfully created edge types: [instance_hypernym].\n",
            "Successfully created reverse edge types: [reverse_instance_hypernym].\n",
            "Successfully created edge types: [mero_member].\n",
            "Successfully created reverse edge types: [reverse_mero_member].\n",
            "Successfully created edge types: [is_exemplified_by].\n",
            "Successfully created reverse edge types: [reverse_is_exemplified_by].\n",
            "Successfully created edge types: [holo_substance].\n",
            "Successfully created reverse edge types: [reverse_holo_substance].\n",
            "Successfully created edge types: [has_domain_region].\n",
            "Successfully created reverse edge types: [reverse_has_domain_region].\n",
            "Successfully created edge types: [antonym].\n",
            "Successfully created reverse edge types: [reverse_antonym].\n"
          ]
        }
      ]
    },
    {
      "cell_type": "markdown",
      "source": [
        "# WordNET"
      ],
      "metadata": {
        "id": "QtAieHUn3KSp"
      }
    },
    {
      "cell_type": "markdown",
      "metadata": {
        "id": "bMz6fxfx59Xz"
      },
      "source": [
        "## Create WordNet Graph"
      ]
    },
    {
      "cell_type": "code",
      "metadata": {
        "id": "-cgC8b7OcZDd",
        "colab": {
          "base_uri": "https://localhost:8080/"
        },
        "outputId": "34a8490b-d0c8-454d-f0f3-141cdcc1fd8f"
      },
      "source": [
        "results = conn.gsql('CREATE GRAPH WordNet(word, subject, pos, has_subject, part_of_speech, attribute, hyponym, entails, similar, hypernym, domain_topic, mero_part, exemplifies, has_domain_topic, also, mero_substance, domain_region, holo_part, holo_member, causes, instance_hyponym, instance_hypernym, mero_member, is_exemplified_by, holo_substance, has_domain_region, antonym)')\n",
        "print(results)"
      ],
      "execution_count": 43,
      "outputs": [
        {
          "output_type": "stream",
          "name": "stdout",
          "text": [
            "The graph WordNet is created.\n"
          ]
        }
      ]
    },
    {
      "cell_type": "code",
      "metadata": {
        "id": "SbxyEaptc2Ri",
        "colab": {
          "base_uri": "https://localhost:8080/"
        },
        "outputId": "54d9b358-c591-42ab-f187-0196d74ab807"
      },
      "source": [
        "conn.graphname=\"WordNet\"\n",
        "secret = conn.createSecret()\n",
        "print(secret)\n",
        "authToken = conn.getToken(secret)\n",
        "authToken = authToken[0]\n",
        "print(authToken)\n",
        "# authToken = 'rc7reopbis1667ksgcppq5v5fb99p6s1'\n",
        "conn = tg.TigerGraphConnection(host=hostName, graphname=\"WordNet\", username=userName, password=password, apiToken=authToken)\n",
        "\n",
        "def pprint(string):\n",
        "  print(json.dumps(string, indent=2))"
      ],
      "execution_count": 44,
      "outputs": [
        {
          "output_type": "stream",
          "name": "stdout",
          "text": [
            "4m4kdmkcjr1rtqgi3c95sfndadv29jdu\n",
            "vbk4uo5st2dg3und0cdt2krnbg8n7f10\n"
          ]
        }
      ]
    },
    {
      "cell_type": "markdown",
      "metadata": {
        "id": "MTWWoepV6Dc0"
      },
      "source": [
        "## Create Loading Jobs"
      ]
    },
    {
      "cell_type": "markdown",
      "metadata": {
        "id": "Up4f5hmq7MZl"
      },
      "source": [
        "### Word"
      ]
    },
    {
      "cell_type": "markdown",
      "metadata": {
        "id": "oXH8W3KIjVUC"
      },
      "source": [
        "Let's take a look at what one of our files looks like so we can write a loading job."
      ]
    },
    {
      "cell_type": "code",
      "metadata": {
        "id": "dV1wMpIMeZaY",
        "colab": {
          "base_uri": "https://localhost:8080/"
        },
        "outputId": "425c4861-8bb8-48f6-c21e-667c51f371e8"
      },
      "source": [
        "!head -n 2 '/content/drive/MyDrive/LanguageModel/Data_Processing/csv_imports/WN-nodes.csv'"
      ],
      "execution_count": 45,
      "outputs": [
        {
          "output_type": "stream",
          "name": "stdout",
          "text": [
            "uri,id,word,pos,definition,subject\n",
            "\"http://wordnet-rdf.princeton.edu/id/00001740-a\",\"00001740-a\",\"able\",\"adjective\",\"(usually followed by `to') having the necessary means or skill or know-how or authority to do something; &quot;able to swim&quot;; &quot;she was able to program her computer&quot;; &quot;we were at last able to buy a car&quot;; &quot;able to get a grant for the project&quot;@en\",\"adj.all\"\n"
          ]
        }
      ]
    },
    {
      "cell_type": "markdown",
      "metadata": {
        "id": "M7Y081TD6Xh5"
      },
      "source": [
        "Here it's important to note that the `$0`, `$1` values line up with the columns of your data.\n",
        "In this example:\n",
        "- `$0` is the `uri` column,\n",
        "- `$1` is `id`,\n",
        "- `$2` is `word`\n",
        "- and so on"
      ]
    },
    {
      "cell_type": "code",
      "metadata": {
        "id": "22W6W58idFW5",
        "colab": {
          "base_uri": "https://localhost:8080/"
        },
        "outputId": "4fe19258-01ed-43c7-dbbe-157a4a42a39c"
      },
      "source": [
        "results = conn.gsql('''\n",
        "  USE GRAPH WordNet\n",
        "  BEGIN\n",
        "  CREATE LOADING JOB load_job_WN_edges FOR GRAPH WordNet {\n",
        "      DEFINE FILENAME MyDataSource;\n",
        "      LOAD MyDataSource TO EDGE mero_part VALUES($0, $1) WHERE $2 == \"mero_part\" USING SEPARATOR=\"\\t\", HEADER=\"true\", EOL=\"\\n\", QUOTE=\"double\";\n",
        "      LOAD MyDataSource TO EDGE domain_topic VALUES($0, $1) WHERE $2 == \"domain_topic\" USING SEPARATOR=\"\\t\", HEADER=\"true\", EOL=\"\\n\", QUOTE=\"double\";\n",
        "      LOAD MyDataSource TO EDGE hypernym VALUES($0, $1) WHERE $2 == \"hypernym\" USING SEPARATOR=\"\\t\", HEADER=\"true\", EOL=\"\\n\", QUOTE=\"double\";\n",
        "      LOAD MyDataSource TO EDGE similar VALUES($0, $1) WHERE $2 == \"similar\" USING SEPARATOR=\"\\t\", HEADER=\"true\", EOL=\"\\n\", QUOTE=\"double\";\n",
        "      LOAD MyDataSource TO EDGE entails VALUES($0, $1) WHERE $2 == \"entails\" USING SEPARATOR=\"\\t\", HEADER=\"true\", EOL=\"\\n\", QUOTE=\"double\";\n",
        "      LOAD MyDataSource TO EDGE hyponym VALUES($0, $1) WHERE $2 == \"hyponym\" USING SEPARATOR=\"\\t\", HEADER=\"true\", EOL=\"\\n\", QUOTE=\"double\";\n",
        "      LOAD MyDataSource TO EDGE attribute VALUES($0, $1) WHERE $2 == \"attribute\" USING SEPARATOR=\"\\t\", HEADER=\"true\", EOL=\"\\n\", QUOTE=\"double\";\n",
        "      LOAD MyDataSource TO EDGE antonym VALUES($0, $1) WHERE $2 == \"antonym\" USING SEPARATOR=\"\\t\", HEADER=\"true\", EOL=\"\\n\", QUOTE=\"double\";\n",
        "      LOAD MyDataSource TO EDGE has_domain_region VALUES($0, $1) WHERE $2 == \"has_domain_region\" USING SEPARATOR=\"\\t\", HEADER=\"true\", EOL=\"\\n\", QUOTE=\"double\";\n",
        "      LOAD MyDataSource TO EDGE holo_substance VALUES($0, $1) WHERE $2 == \"holo_substance\" USING SEPARATOR=\"\\t\", HEADER=\"true\", EOL=\"\\n\", QUOTE=\"double\";\n",
        "      LOAD MyDataSource TO EDGE is_exemplified_by VALUES($0, $1) WHERE $2 == \"is_exemplified_by\" USING SEPARATOR=\"\\t\", HEADER=\"true\", EOL=\"\\n\", QUOTE=\"double\";\n",
        "      LOAD MyDataSource TO EDGE mero_member VALUES($0, $1) WHERE $2 == \"mero_member\" USING SEPARATOR=\"\\t\", HEADER=\"true\", EOL=\"\\n\", QUOTE=\"double\";\n",
        "      LOAD MyDataSource TO EDGE instance_hypernym VALUES($0, $1) WHERE $2 == \"instance_hypernym\" USING SEPARATOR=\"\\t\", HEADER=\"true\", EOL=\"\\n\", QUOTE=\"double\";\n",
        "      LOAD MyDataSource TO EDGE instance_hyponym VALUES($0, $1) WHERE $2 == \"instance_hyponym\" USING SEPARATOR=\"\\t\", HEADER=\"true\", EOL=\"\\n\", QUOTE=\"double\";\n",
        "      LOAD MyDataSource TO EDGE causes VALUES($0, $1) WHERE $2 == \"causes\" USING SEPARATOR=\"\\t\", HEADER=\"true\", EOL=\"\\n\", QUOTE=\"double\";\n",
        "      LOAD MyDataSource TO EDGE holo_member VALUES($0, $1) WHERE $2 == \"holo_member\" USING SEPARATOR=\"\\t\", HEADER=\"true\", EOL=\"\\n\", QUOTE=\"double\";\n",
        "      LOAD MyDataSource TO EDGE holo_part VALUES($0, $1) WHERE $2 == \"holo_part\" USING SEPARATOR=\"\\t\", HEADER=\"true\", EOL=\"\\n\", QUOTE=\"double\";\n",
        "      LOAD MyDataSource TO EDGE domain_region VALUES($0, $1) WHERE $2 == \"domain_region\" USING SEPARATOR=\"\\t\", HEADER=\"true\", EOL=\"\\n\", QUOTE=\"double\";\n",
        "      LOAD MyDataSource TO EDGE mero_substance VALUES($0, $1) WHERE $2 == \"mero_substance\" USING SEPARATOR=\"\\t\", HEADER=\"true\", EOL=\"\\n\", QUOTE=\"double\";\n",
        "      LOAD MyDataSource TO EDGE exemplifies VALUES($0, $1) WHERE $2 == \"exemplifies\" USING SEPARATOR=\"\\t\", HEADER=\"true\", EOL=\"\\n\", QUOTE=\"double\";\n",
        "      LOAD MyDataSource TO EDGE has_domain_topic VALUES($0, $1) WHERE $2 == \"has_domain_topic\" USING SEPARATOR=\"\\t\", HEADER=\"true\", EOL=\"\\n\", QUOTE=\"double\";\n",
        "      LOAD MyDataSource TO EDGE also VALUES($0, $1) WHERE $2 == \"also\" USING SEPARATOR=\"\\t\", HEADER=\"true\", EOL=\"\\n\", QUOTE=\"double\";\n",
        "\n",
        "    }\n",
        "\n",
        "    CREATE LOADING JOB load_job_WN_nodes_encoded FOR GRAPH WordNet {\n",
        "      DEFINE FILENAME MyDataSource;\n",
        "      LOAD MyDataSource TO VERTEX word VALUES($1, $0, $2, $4) USING SEPARATOR=\",\", HEADER=\"true\", EOL=\"\\n\", QUOTE=\"double\";\n",
        "      LOAD MyDataSource TO EDGE has_subject VALUES($1, $5) USING SEPARATOR=\",\", HEADER=\"true\", EOL=\"\\n\", QUOTE=\"double\";\n",
        "      LOAD MyDataSource TO EDGE part_of_speech VALUES($1, $3) USING SEPARATOR=\",\", HEADER=\"true\", EOL=\"\\n\", QUOTE=\"double\";\n",
        "    }\n",
        "\n",
        "\n",
        "    CREATE LOADING JOB load_job_subject_wn FOR GRAPH WordNet {\n",
        "      DEFINE FILENAME MyDataSource;\n",
        "      LOAD MyDataSource TO VERTEX subject VALUES($2, $1) USING SEPARATOR=\",\", HEADER=\"true\", EOL=\"\\n\", QUOTE=\"double\";\n",
        "    }\n",
        "\n",
        "\n",
        "  CREATE LOADING JOB load_job_pos_wn FOR GRAPH WordNet {\n",
        "      DEFINE FILENAME MyDataSource;\n",
        "      LOAD MyDataSource TO VERTEX pos VALUES($2, $1) USING SEPARATOR=\",\", HEADER=\"true\", EOL=\"\\n\", QUOTE=\"double\";\n",
        "    }\n",
        "\n",
        "\n",
        "  END\n",
        "  ''')\n",
        "print(results)"
      ],
      "execution_count": 46,
      "outputs": [
        {
          "output_type": "stream",
          "name": "stdout",
          "text": [
            "Using graph 'WordNet'\n",
            "Successfully created loading jobs: [load_job_WN_edges].\n",
            "Successfully created loading jobs: [load_job_WN_nodes_encoded].\n",
            "Successfully created loading jobs: [load_job_subject_wn].\n",
            "Successfully created loading jobs: [load_job_pos_wn].\n"
          ]
        }
      ]
    },
    {
      "cell_type": "markdown",
      "metadata": {
        "id": "Nm8hvEJo7YqM"
      },
      "source": [
        "## Load Data"
      ]
    },
    {
      "cell_type": "markdown",
      "source": [
        "### Words"
      ],
      "metadata": {
        "id": "K1yUUv7k5soZ"
      }
    },
    {
      "cell_type": "code",
      "source": [
        "# Load the posts file wiht the 'load_words' job\n",
        "load_words = '/content/drive/MyDrive/LanguageModel/Data_Processing/csv_imports/WN-edges.csv'\n",
        "results = conn.uploadFile(load_words, fileTag='MyDataSource', jobName='load_job_WN_edges')\n",
        "# print(json.dumps(results, indent=2))"
      ],
      "metadata": {
        "id": "UWtWVHGg2O-p"
      },
      "execution_count": 47,
      "outputs": []
    },
    {
      "cell_type": "code",
      "source": [
        "# Load the posts file wiht the 'load_words' job\n",
        "load_words = '/content/drive/MyDrive/LanguageModel/Data_Processing/csv_imports/encoded/WN-nodes-encoded.csv'\n",
        "results = conn.uploadFile(load_words, fileTag='MyDataSource', jobName='load_job_WN_nodes_encoded')\n",
        "# print(json.dumps(results, indent=2))"
      ],
      "metadata": {
        "id": "EU19agwpRIV-"
      },
      "execution_count": 48,
      "outputs": []
    },
    {
      "cell_type": "markdown",
      "source": [
        "### Edges"
      ],
      "metadata": {
        "id": "jp_VKwTI5vfz"
      }
    },
    {
      "cell_type": "code",
      "source": [
        "# Load the posts file wiht the 'load_edges' job\n",
        "load_edges = '/content/drive/MyDrive/LanguageModel/Data_Processing/csv_imports/encoded/subject_wn.csv'\n",
        "results = conn.uploadFile(load_edges, fileTag='MyDataSource', jobName='load_job_subject_wn')\n",
        "# print(json.dumps(results, indent=2))"
      ],
      "metadata": {
        "id": "6y_PfFAT2PCC"
      },
      "execution_count": 49,
      "outputs": []
    },
    {
      "cell_type": "code",
      "source": [
        "# Load the posts file wiht the 'load_edges' job\n",
        "load_edges = '/content/drive/MyDrive/LanguageModel/Data_Processing/csv_imports/encoded/pos_wn.csv'\n",
        "results = conn.uploadFile(load_edges, fileTag='MyDataSource', jobName='load_job_pos_wn')\n",
        "# print(json.dumps(results, indent=2))"
      ],
      "metadata": {
        "id": "4VJAcr4pRrbW"
      },
      "execution_count": 50,
      "outputs": []
    },
    {
      "cell_type": "markdown",
      "metadata": {
        "id": "gAFCKYK61nzx"
      },
      "source": [
        "## Exploring the Graph"
      ]
    },
    {
      "cell_type": "markdown",
      "metadata": {
        "id": "4rJ_Vedw7oms"
      },
      "source": [
        "### Get Vertex and Edge Schema"
      ]
    },
    {
      "cell_type": "code",
      "metadata": {
        "id": "g9F25xMY1p0p",
        "colab": {
          "base_uri": "https://localhost:8080/"
        },
        "outputId": "026c3d32-69bf-47f6-9a0d-665ad4d50883"
      },
      "source": [
        "results = conn.getVertexTypes()\n",
        "print(f\"Verticies: {results}\")\n",
        "vertices = results\n",
        "\n",
        "results = conn.getEdgeTypes()\n",
        "print(f\"Edges: {results}\")\n",
        "edges = results"
      ],
      "execution_count": 51,
      "outputs": [
        {
          "output_type": "stream",
          "name": "stdout",
          "text": [
            "Verticies: ['word', 'subject', 'pos']\n",
            "Edges: ['has_subject', 'part_of_speech', 'attribute', 'hyponym', 'entails', 'similar', 'hypernym', 'domain_topic', 'mero_part', 'exemplifies', 'has_domain_topic', 'also', 'mero_substance', 'domain_region', 'holo_part', 'holo_member', 'causes', 'instance_hyponym', 'instance_hypernym', 'mero_member', 'is_exemplified_by', 'holo_substance', 'has_domain_region', 'antonym']\n"
          ]
        }
      ]
    },
    {
      "cell_type": "code",
      "metadata": {
        "id": "RrWUEQ7p2TOK",
        "colab": {
          "base_uri": "https://localhost:8080/"
        },
        "outputId": "731bea22-0e63-431b-f38d-097b0d4e5932"
      },
      "source": [
        "\n",
        "print(f\"Results for Post vertex\")\n",
        "pprint(conn.getVertexType(\"word\"))\n",
        "\n",
        "print(\"-----------------\")\n",
        "print(f\"Results for liked edge\")\n",
        "pprint(conn.getEdgeType(\"type\"))\n"
      ],
      "execution_count": 52,
      "outputs": [
        {
          "output_type": "stream",
          "name": "stdout",
          "text": [
            "Results for Post vertex\n",
            "{\n",
            "  \"Config\": {\n",
            "    \"TAGGABLE\": false,\n",
            "    \"STATS\": \"OUTDEGREE_BY_EDGETYPE\",\n",
            "    \"PRIMARY_ID_AS_ATTRIBUTE\": true\n",
            "  },\n",
            "  \"Attributes\": [\n",
            "    {\n",
            "      \"AttributeType\": {\n",
            "        \"Name\": \"STRING\"\n",
            "      },\n",
            "      \"IsPartOfCompositeKey\": false,\n",
            "      \"PrimaryIdAsAttribute\": false,\n",
            "      \"AttributeName\": \"uri\",\n",
            "      \"HasIndex\": false,\n",
            "      \"internalAttribute\": false,\n",
            "      \"IsPrimaryKey\": false\n",
            "    },\n",
            "    {\n",
            "      \"AttributeType\": {\n",
            "        \"Name\": \"STRING\"\n",
            "      },\n",
            "      \"IsPartOfCompositeKey\": false,\n",
            "      \"PrimaryIdAsAttribute\": false,\n",
            "      \"AttributeName\": \"name\",\n",
            "      \"HasIndex\": false,\n",
            "      \"internalAttribute\": false,\n",
            "      \"IsPrimaryKey\": false\n",
            "    },\n",
            "    {\n",
            "      \"AttributeType\": {\n",
            "        \"Name\": \"STRING\"\n",
            "      },\n",
            "      \"IsPartOfCompositeKey\": false,\n",
            "      \"PrimaryIdAsAttribute\": false,\n",
            "      \"AttributeName\": \"definition\",\n",
            "      \"HasIndex\": false,\n",
            "      \"internalAttribute\": false,\n",
            "      \"IsPrimaryKey\": false\n",
            "    }\n",
            "  ],\n",
            "  \"PrimaryId\": {\n",
            "    \"AttributeType\": {\n",
            "      \"Name\": \"STRING\"\n",
            "    },\n",
            "    \"IsPartOfCompositeKey\": false,\n",
            "    \"PrimaryIdAsAttribute\": true,\n",
            "    \"AttributeName\": \"id\",\n",
            "    \"HasIndex\": false,\n",
            "    \"internalAttribute\": false,\n",
            "    \"IsPrimaryKey\": false\n",
            "  },\n",
            "  \"Name\": \"word\"\n",
            "}\n",
            "-----------------\n",
            "Results for liked edge\n",
            "{}\n"
          ]
        }
      ]
    },
    {
      "cell_type": "markdown",
      "metadata": {
        "id": "jWUaoSAa5ir6"
      },
      "source": [
        "## Counting Data"
      ]
    },
    {
      "cell_type": "code",
      "metadata": {
        "id": "rkFt8Y9I3kYp",
        "colab": {
          "base_uri": "https://localhost:8080/"
        },
        "outputId": "511bd549-4b4c-40c1-f21d-3a1cf99ab8a9"
      },
      "source": [
        "print(\"Vertex Counts\")\n",
        "for vertex in vertices:\n",
        "  print(f\"There are {conn.getVertexCount(vertex)} {vertex} vertices in the graph\")\n",
        "\n",
        "print(\"--------------\")\n",
        "print(\"Edge Counts\")\n",
        "for edge in edges:\n",
        "  print(f\"There are {conn.getEdgeCount(edge)} {edge} edges in the graph\")"
      ],
      "execution_count": 53,
      "outputs": [
        {
          "output_type": "stream",
          "name": "stdout",
          "text": [
            "Vertex Counts\n",
            "There are 46275 word vertices in the graph\n",
            "There are 1 subject vertices in the graph\n",
            "There are 0 pos vertices in the graph\n",
            "--------------\n",
            "Edge Counts\n",
            "There are 13403 has_subject edges in the graph\n",
            "There are 17071 part_of_speech edges in the graph\n",
            "There are 626 attribute edges in the graph\n",
            "There are 43845 hyponym edges in the graph\n",
            "There are 240 entails edges in the graph\n",
            "There are 12293 similar edges in the graph\n",
            "There are 47616 hypernym edges in the graph\n",
            "There are 3830 domain_topic edges in the graph\n",
            "There are 5545 mero_part edges in the graph\n",
            "There are 582 exemplifies edges in the graph\n",
            "There are 4545 has_domain_topic edges in the graph\n",
            "There are 1774 also edges in the graph\n",
            "There are 543 mero_substance edges in the graph\n",
            "There are 916 domain_region edges in the graph\n",
            "There are 6296 holo_part edges in the graph\n",
            "There are 8925 holo_member edges in the graph\n",
            "There are 163 causes edges in the graph\n",
            "There are 6522 instance_hyponym edges in the graph\n",
            "There are 6464 instance_hypernym edges in the graph\n",
            "There are 9888 mero_member edges in the graph\n",
            "There are 772 is_exemplified_by edges in the graph\n",
            "There are 626 holo_substance edges in the graph\n",
            "There are 1212 has_domain_region edges in the graph\n",
            "There are 6473 antonym edges in the graph\n"
          ]
        }
      ]
    },
    {
      "cell_type": "markdown",
      "metadata": {
        "id": "TnUz48uPCxQk"
      },
      "source": [
        "## Extracting Data"
      ]
    },
    {
      "cell_type": "markdown",
      "metadata": {
        "id": "MYVeVJvwHZlP"
      },
      "source": [
        "### Vertex/Edge Set Format"
      ]
    },
    {
      "cell_type": "markdown",
      "metadata": {
        "id": "eX3x8Ao9ENDm"
      },
      "source": [
        "#### Getting a Vertex"
      ]
    },
    {
      "cell_type": "code",
      "metadata": {
        "id": "QKIHiOeSC2IO",
        "colab": {
          "base_uri": "https://localhost:8080/"
        },
        "outputId": "fbbc97e2-cc75-4fe0-c2d9-18c9b0a7783e"
      },
      "source": [
        "results = conn.getVerticesById(\"word\", \"15314760-n\")\n",
        "pprint(results)"
      ],
      "execution_count": 54,
      "outputs": [
        {
          "output_type": "stream",
          "name": "stdout",
          "text": [
            "[\n",
            "  {\n",
            "    \"v_id\": \"15314760-n\",\n",
            "    \"v_type\": \"word\",\n",
            "    \"attributes\": {\n",
            "      \"id\": \"15314760-n\",\n",
            "      \"uri\": \"http://wordnet-rdf.princeton.edu/id/15314760-n\",\n",
            "      \"name\": \"lead_time\",\n",
            "      \"definition\": \"the time interval between the initiation and the completion of a production process; &quot;the lead times for many publications can vary tremendously&quot;; &quot;planning is an area where lead time can be reduced&quot;@en\"\n",
            "    }\n",
            "  }\n",
            "]\n"
          ]
        }
      ]
    },
    {
      "cell_type": "markdown",
      "metadata": {
        "id": "wvRr72nfERqZ"
      },
      "source": [
        "#### Or Multiple Vertices"
      ]
    },
    {
      "cell_type": "code",
      "metadata": {
        "id": "dCDiIakzEULm",
        "colab": {
          "base_uri": "https://localhost:8080/"
        },
        "outputId": "f429bff3-2485-4403-a3e7-bb825c6bd744"
      },
      "source": [
        "tdf1 = conn.getVerticesById(\"word\", [\"15137796-n\",\"15192825-n\"])\n",
        "pprint(tdf1)"
      ],
      "execution_count": 55,
      "outputs": [
        {
          "output_type": "stream",
          "name": "stdout",
          "text": [
            "[\n",
            "  {\n",
            "    \"v_id\": \"15137796-n\",\n",
            "    \"v_type\": \"word\",\n",
            "    \"attributes\": {\n",
            "      \"id\": \"15137796-n\",\n",
            "      \"uri\": \"http://wordnet-rdf.princeton.edu/id/15137796-n\",\n",
            "      \"name\": \"period\",\n",
            "      \"definition\": \"an amount of time; &quot;a time period of 30 years&quot;; &quot;hastened the period of time of his recovery&quot;; &quot;Picasso's blue period&quot;@en\"\n",
            "    }\n",
            "  },\n",
            "  {\n",
            "    \"v_id\": \"15192825-n\",\n",
            "    \"v_type\": \"word\",\n",
            "    \"attributes\": {\n",
            "      \"id\": \"15192825-n\",\n",
            "      \"uri\": \"http://wordnet-rdf.princeton.edu/id/15192825-n\",\n",
            "      \"name\": \"eve\",\n",
            "      \"definition\": \"the period immediately before something; &quot;on the eve of the French Revolution&quot;@en\"\n",
            "    }\n",
            "  }\n",
            "]\n"
          ]
        }
      ]
    },
    {
      "cell_type": "markdown",
      "metadata": {
        "id": "vqJASpgJEg6-"
      },
      "source": [
        "#### Count Edges Connected to a Vertex"
      ]
    },
    {
      "cell_type": "code",
      "metadata": {
        "id": "t-wNtrkfEj3y",
        "colab": {
          "base_uri": "https://localhost:8080/"
        },
        "outputId": "569bba61-3ec4-45fb-afd1-a58a2647d166"
      },
      "source": [
        "results = conn.getEdgeCountFrom(\"word\", \"15192825-n\")\n",
        "pprint(results)"
      ],
      "execution_count": 56,
      "outputs": [
        {
          "output_type": "stream",
          "name": "stdout",
          "text": [
            "{\n",
            "  \"has_subject\": 1,\n",
            "  \"reverse_has_subject\": 0,\n",
            "  \"part_of_speech\": 1,\n",
            "  \"reverse_part_of_speech\": 0,\n",
            "  \"attribute\": 0,\n",
            "  \"reverse_attribute\": 0,\n",
            "  \"hyponym\": 0,\n",
            "  \"reverse_hyponym\": 1,\n",
            "  \"entails\": 0,\n",
            "  \"reverse_entails\": 0,\n",
            "  \"similar\": 0,\n",
            "  \"reverse_similar\": 0,\n",
            "  \"hypernym\": 1,\n",
            "  \"reverse_hypernym\": 0,\n",
            "  \"domain_topic\": 0,\n",
            "  \"reverse_domain_topic\": 0,\n",
            "  \"mero_part\": 0,\n",
            "  \"reverse_mero_part\": 0,\n",
            "  \"exemplifies\": 0,\n",
            "  \"reverse_exemplifies\": 0,\n",
            "  \"has_domain_topic\": 0,\n",
            "  \"reverse_has_domain_topic\": 0,\n",
            "  \"also\": 0,\n",
            "  \"reverse_also\": 0,\n",
            "  \"mero_substance\": 0,\n",
            "  \"reverse_mero_substance\": 0,\n",
            "  \"domain_region\": 0,\n",
            "  \"reverse_domain_region\": 0,\n",
            "  \"holo_part\": 0,\n",
            "  \"reverse_holo_part\": 0,\n",
            "  \"holo_member\": 0,\n",
            "  \"reverse_holo_member\": 0,\n",
            "  \"causes\": 0,\n",
            "  \"reverse_causes\": 0,\n",
            "  \"instance_hyponym\": 0,\n",
            "  \"reverse_instance_hyponym\": 0,\n",
            "  \"instance_hypernym\": 0,\n",
            "  \"reverse_instance_hypernym\": 0,\n",
            "  \"mero_member\": 0,\n",
            "  \"reverse_mero_member\": 0,\n",
            "  \"is_exemplified_by\": 0,\n",
            "  \"reverse_is_exemplified_by\": 0,\n",
            "  \"holo_substance\": 0,\n",
            "  \"reverse_holo_substance\": 0,\n",
            "  \"has_domain_region\": 0,\n",
            "  \"reverse_has_domain_region\": 0,\n",
            "  \"antonym\": 0,\n",
            "  \"reverse_antonym\": 0\n",
            "}\n"
          ]
        }
      ]
    },
    {
      "cell_type": "markdown",
      "metadata": {
        "id": "4g2KqQmpE1KJ"
      },
      "source": [
        "#### Show all Edges Connected to a Vertex"
      ]
    },
    {
      "cell_type": "code",
      "metadata": {
        "id": "OWVCDSvCE598",
        "colab": {
          "base_uri": "https://localhost:8080/"
        },
        "outputId": "1de93155-0c78-4688-80f1-d67c271ed430"
      },
      "source": [
        "results = conn.getEdges(\"word\", \"15192825-n\")\n",
        "pprint(results)"
      ],
      "execution_count": 57,
      "outputs": [
        {
          "output_type": "stream",
          "name": "stdout",
          "text": [
            "[\n",
            "  {\n",
            "    \"e_type\": \"has_subject\",\n",
            "    \"directed\": true,\n",
            "    \"from_id\": \"15192825-n\",\n",
            "    \"from_type\": \"word\",\n",
            "    \"to_id\": \"29\",\n",
            "    \"to_type\": \"subject\",\n",
            "    \"attributes\": {}\n",
            "  },\n",
            "  {\n",
            "    \"e_type\": \"part_of_speech\",\n",
            "    \"directed\": true,\n",
            "    \"from_id\": \"15192825-n\",\n",
            "    \"from_type\": \"word\",\n",
            "    \"to_id\": \"3\",\n",
            "    \"to_type\": \"pos\",\n",
            "    \"attributes\": {}\n",
            "  },\n",
            "  {\n",
            "    \"e_type\": \"reverse_hyponym\",\n",
            "    \"directed\": true,\n",
            "    \"from_id\": \"15192825-n\",\n",
            "    \"from_type\": \"word\",\n",
            "    \"to_id\": \"15137796-n\",\n",
            "    \"to_type\": \"word\",\n",
            "    \"attributes\": {}\n",
            "  },\n",
            "  {\n",
            "    \"e_type\": \"hypernym\",\n",
            "    \"directed\": true,\n",
            "    \"from_id\": \"15192825-n\",\n",
            "    \"from_type\": \"word\",\n",
            "    \"to_id\": \"15137796-n\",\n",
            "    \"to_type\": \"word\",\n",
            "    \"attributes\": {}\n",
            "  }\n",
            "]\n"
          ]
        }
      ]
    },
    {
      "cell_type": "markdown",
      "metadata": {
        "id": "ckFBOkiOCzyk"
      },
      "source": [
        "### As Pandas Dataframe\n",
        "Supports all of the above in native Pandas Dataframe format."
      ]
    },
    {
      "cell_type": "markdown",
      "metadata": {
        "id": "MqGq0jozFayA"
      },
      "source": [
        "#### All Vertices of one Type"
      ]
    },
    {
      "cell_type": "code",
      "metadata": {
        "id": "tfUKpWbaFM3u",
        "colab": {
          "base_uri": "https://localhost:8080/"
        },
        "outputId": "4b37d926-8438-444e-dde9-69fb75cd8e94"
      },
      "source": [
        "df1 = conn.getVertexDataframe(\"word\")\n",
        "print(df1)"
      ],
      "execution_count": 58,
      "outputs": [
        {
          "output_type": "stream",
          "name": "stdout",
          "text": [
            "              v_id  ...                                         definition\n",
            "0       02274768-a  ...  explained or answered; &quot;mysteries solved ...\n",
            "1       00451658-r  ...  in an unsentimental manner; &quot;unsentimenta...\n",
            "2       01969807-a  ...  that can be renewed or extended; &quot;a renew...\n",
            "3       01971600-a  ...  marked by the absence of repetition; &quot;non...\n",
            "4       00490971-r  ...  in a natural or normal manner; &quot;speak nat...\n",
            "...            ...  ...                                                ...\n",
            "117787  00230832-r  ...                                          in bed@en\n",
            "117788  00504939-r  ...  in a gentle manner; &quot;he talked gently to ...\n",
            "117789  02855304-a  ...                   of or relating to craniometry@en\n",
            "117790  00502957-r  ...                           in an imminent manner@en\n",
            "117791  03090888-a  ...  of or relating to the former English royal hou...\n",
            "\n",
            "[117792 rows x 5 columns]\n"
          ]
        }
      ]
    },
    {
      "cell_type": "markdown",
      "metadata": {
        "id": "Cs5chjJBFgw8"
      },
      "source": [
        "#### One or More Vertex"
      ]
    },
    {
      "cell_type": "code",
      "metadata": {
        "id": "ZqZZ8r0EFiMg",
        "colab": {
          "base_uri": "https://localhost:8080/"
        },
        "outputId": "445487d8-2ad5-47e1-b0a6-d4a6d8588243"
      },
      "source": [
        "df2 = conn.getVertexDataframeById(\"word\", [\"15192825-n\"])\n",
        "print(df2)"
      ],
      "execution_count": 59,
      "outputs": [
        {
          "output_type": "stream",
          "name": "stdout",
          "text": [
            "         v_id  ...                                         definition\n",
            "0  15192825-n  ...  the period immediately before something; &quot...\n",
            "\n",
            "[1 rows x 5 columns]\n"
          ]
        }
      ]
    },
    {
      "cell_type": "markdown",
      "metadata": {
        "id": "P5KKOIxcF7Co"
      },
      "source": [
        "#### Convert Vertex/Edge Set to Dataframe\n",
        "We'll use the results from the 'Or Multiple Vertices' cell. "
      ]
    },
    {
      "cell_type": "code",
      "metadata": {
        "id": "5toKOF-1GIjH",
        "colab": {
          "base_uri": "https://localhost:8080/"
        },
        "outputId": "1813dbe4-d6d7-411e-aad9-66e9a1977e76"
      },
      "source": [
        "df3 = conn.vertexSetToDataFrame(tdf1)\n",
        "print(df3)"
      ],
      "execution_count": 60,
      "outputs": [
        {
          "output_type": "stream",
          "name": "stdout",
          "text": [
            "         v_id  ...                                         definition\n",
            "0  15137796-n  ...  an amount of time; &quot;a time period of 30 y...\n",
            "1  15192825-n  ...  the period immediately before something; &quot...\n",
            "\n",
            "[2 rows x 5 columns]\n"
          ]
        }
      ]
    },
    {
      "cell_type": "markdown",
      "metadata": {
        "id": "zswIzwgKHnCr"
      },
      "source": [
        "#### Get Edges"
      ]
    },
    {
      "cell_type": "code",
      "metadata": {
        "id": "jnPTicB4HwpH",
        "colab": {
          "base_uri": "https://localhost:8080/"
        },
        "outputId": "8ae53dde-e575-432e-fb2e-c55908d19ce0"
      },
      "source": [
        "df4 = conn.getEdgesDataframe(\"word\", \"15192825-n\", limit=3)\n",
        "print(df4)"
      ],
      "execution_count": 61,
      "outputs": [
        {
          "output_type": "stream",
          "name": "stdout",
          "text": [
            "  from_type     from_id  to_type       to_id\n",
            "0      word  15192825-n  subject          29\n",
            "1      word  15192825-n      pos           3\n",
            "2      word  15192825-n     word  15137796-n\n"
          ]
        }
      ]
    },
    {
      "cell_type": "markdown",
      "metadata": {
        "id": "AijIsGUr5fDq"
      },
      "source": [
        "## Path Finding\n",
        "Find paths between vertices.\n",
        "\n",
        "Supported are:\n",
        "- shortestPath - one shortest path between vertices\n",
        "- allPaths - all paths within the specified edge limit"
      ]
    },
    {
      "cell_type": "code",
      "metadata": {
        "id": "MxIMRX1x5UPQ",
        "colab": {
          "base_uri": "https://localhost:8080/"
        },
        "outputId": "f40ccaec-227d-44f4-e926-fddd2fd80246"
      },
      "source": [
        "results = conn.shortestPath([(\"word\", \"15192825-n\")], [(\"word\", \"15161294-n\")])\n",
        "pprint(results)"
      ],
      "execution_count": 62,
      "outputs": [
        {
          "output_type": "stream",
          "name": "stdout",
          "text": [
            "[{'type': 'word', 'id': '15192825-n'}]\n",
            "[{'type': 'word', 'id': '15161294-n'}]\n",
            "[\n",
            "  {\n",
            "    \"vertices\": [\n",
            "      {\n",
            "        \"v_id\": \"15161294-n\",\n",
            "        \"v_type\": \"word\",\n",
            "        \"attributes\": {\n",
            "          \"id\": \"15161294-n\",\n",
            "          \"uri\": \"http://wordnet-rdf.princeton.edu/id/15161294-n\",\n",
            "          \"name\": \"midweek\",\n",
            "          \"definition\": \"the middle of a week@en\"\n",
            "        }\n",
            "      },\n",
            "      {\n",
            "        \"v_id\": \"29\",\n",
            "        \"v_type\": \"subject\",\n",
            "        \"attributes\": {\n",
            "          \"id\": \"29\",\n",
            "          \"type\": \"noun.time\"\n",
            "        }\n",
            "      },\n",
            "      {\n",
            "        \"v_id\": \"15192825-n\",\n",
            "        \"v_type\": \"word\",\n",
            "        \"attributes\": {\n",
            "          \"id\": \"15192825-n\",\n",
            "          \"uri\": \"http://wordnet-rdf.princeton.edu/id/15192825-n\",\n",
            "          \"name\": \"eve\",\n",
            "          \"definition\": \"the period immediately before something; &quot;on the eve of the French Revolution&quot;@en\"\n",
            "        }\n",
            "      }\n",
            "    ],\n",
            "    \"edges\": [\n",
            "      {\n",
            "        \"e_type\": \"reverse_has_subject\",\n",
            "        \"from_id\": \"29\",\n",
            "        \"from_type\": \"subject\",\n",
            "        \"to_id\": \"15161294-n\",\n",
            "        \"to_type\": \"word\",\n",
            "        \"directed\": true,\n",
            "        \"attributes\": {}\n",
            "      },\n",
            "      {\n",
            "        \"e_type\": \"has_subject\",\n",
            "        \"from_id\": \"15192825-n\",\n",
            "        \"from_type\": \"word\",\n",
            "        \"to_id\": \"29\",\n",
            "        \"to_type\": \"subject\",\n",
            "        \"directed\": true,\n",
            "        \"attributes\": {}\n",
            "      }\n",
            "    ]\n",
            "  }\n",
            "]\n"
          ]
        }
      ]
    }
  ]
}