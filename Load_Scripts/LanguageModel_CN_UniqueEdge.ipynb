{
 "cells": [
  {
   "cell_type": "markdown",
   "metadata": {
    "id": "owRhnxW15t_w"
   },
   "source": [
    "## Install pyTigerGraph"
   ]
  },
  {
   "cell_type": "code",
   "execution_count": 1,
   "metadata": {
    "colab": {
     "base_uri": "https://localhost:8080/"
    },
    "id": "JmsrV-SNnx31",
    "outputId": "bb960cb4-55f2-4364-979e-33fe16ad8865"
   },
   "outputs": [
    {
     "name": "stdout",
     "output_type": "stream",
     "text": [
      "Requirement already satisfied: pyTigerGraph in /opt/anaconda3/lib/python3.9/site-packages (0.0.9.8.6)\n",
      "Requirement already satisfied: pandas in /opt/anaconda3/lib/python3.9/site-packages (from pyTigerGraph) (1.3.4)\n",
      "Requirement already satisfied: requests in /opt/anaconda3/lib/python3.9/site-packages (from pyTigerGraph) (2.26.0)\n",
      "Requirement already satisfied: validators in /opt/anaconda3/lib/python3.9/site-packages (from pyTigerGraph) (0.18.2)\n",
      "Requirement already satisfied: pyTigerDriver in /opt/anaconda3/lib/python3.9/site-packages (from pyTigerGraph) (1.0.14)\n",
      "Requirement already satisfied: python-dateutil>=2.7.3 in /opt/anaconda3/lib/python3.9/site-packages (from pandas->pyTigerGraph) (2.8.2)\n",
      "Requirement already satisfied: pytz>=2017.3 in /opt/anaconda3/lib/python3.9/site-packages (from pandas->pyTigerGraph) (2021.3)\n",
      "Requirement already satisfied: numpy>=1.17.3 in /opt/anaconda3/lib/python3.9/site-packages (from pandas->pyTigerGraph) (1.20.3)\n",
      "Requirement already satisfied: six>=1.5 in /opt/anaconda3/lib/python3.9/site-packages (from python-dateutil>=2.7.3->pandas->pyTigerGraph) (1.16.0)\n",
      "Requirement already satisfied: charset-normalizer~=2.0.0 in /opt/anaconda3/lib/python3.9/site-packages (from requests->pyTigerGraph) (2.0.4)\n",
      "Requirement already satisfied: idna<4,>=2.5 in /opt/anaconda3/lib/python3.9/site-packages (from requests->pyTigerGraph) (3.2)\n",
      "Requirement already satisfied: certifi>=2017.4.17 in /opt/anaconda3/lib/python3.9/site-packages (from requests->pyTigerGraph) (2021.10.8)\n",
      "Requirement already satisfied: urllib3<1.27,>=1.21.1 in /opt/anaconda3/lib/python3.9/site-packages (from requests->pyTigerGraph) (1.26.7)\n",
      "Requirement already satisfied: decorator>=3.4.0 in /opt/anaconda3/lib/python3.9/site-packages (from validators->pyTigerGraph) (5.1.0)\n"
     ]
    }
   ],
   "source": [
    "# Setup\n",
    "!pip install pyTigerGraph"
   ]
  },
  {
   "cell_type": "markdown",
   "metadata": {
    "id": "_TrPXJV8Eis0"
   },
   "source": [
    "To-do: include db/ unique edges"
   ]
  },
  {
   "cell_type": "markdown",
   "metadata": {
    "id": "pSsJAzc_5yNN"
   },
   "source": [
    "## Add Imports and Establish Initial Connection"
   ]
  },
  {
   "cell_type": "code",
   "execution_count": 2,
   "metadata": {
    "colab": {
     "base_uri": "https://localhost:8080/"
    },
    "id": "vqpwQh1_noLK",
    "outputId": "92129e43-5131-4d03-f757-361989d34486"
   },
   "outputs": [
    {
     "name": "stdout",
     "output_type": "stream",
     "text": [
      "Connected\n"
     ]
    }
   ],
   "source": [
    "# Imports\n",
    "import pyTigerGraph as tg\n",
    "import json\n",
    "import pandas as pd\n",
    "\n",
    "# Connection parameters\n",
    "hostName = \"https://language.i.tgcloud.io\"\n",
    "userName = \"tigergraph\"\n",
    "password = \"tigergraph\"\n",
    "\n",
    "conn = tg.TigerGraphConnection(host=hostName, username=userName, password=password)\n",
    "\n",
    "print(\"Connected\")"
   ]
  },
  {
   "cell_type": "markdown",
   "metadata": {
    "id": "BgazrCKwR8R9"
   },
   "source": [
    "## Clone the Data"
   ]
  },
  {
   "cell_type": "code",
   "execution_count": 3,
   "metadata": {
    "colab": {
     "base_uri": "https://localhost:8080/"
    },
    "id": "5TwgTntFR8R-",
    "outputId": "91f06254-714b-4a46-8a9a-a6112c06e99d"
   },
   "outputs": [],
   "source": [
    "# from google.colab import drive\n",
    "# drive.mount('/content/drive')"
   ]
  },
  {
   "cell_type": "code",
   "execution_count": 4,
   "metadata": {
    "colab": {
     "base_uri": "https://localhost:8080/"
    },
    "id": "G6MRGBSwR8R-",
    "outputId": "892c31cf-bdcd-4cc5-ea78-983f84c714cf"
   },
   "outputs": [],
   "source": [
    "# cd '/content/drive/MyDrive'"
   ]
  },
  {
   "cell_type": "code",
   "execution_count": 5,
   "metadata": {
    "id": "cVwqxmQpR8R-"
   },
   "outputs": [],
   "source": [
    "# !git clone https://github.com/sudha-vijayakumar/LanguageModel.git"
   ]
  },
  {
   "cell_type": "code",
   "execution_count": 6,
   "metadata": {},
   "outputs": [],
   "source": [
    "root = '/Users/sudha.vijayakumar/Documents/GitHub/LanguageModel/Curated_Data/'"
   ]
  },
  {
   "cell_type": "markdown",
   "metadata": {
    "id": "SDPUKGDc55bJ"
   },
   "source": [
    "## Define and Publish the Schema"
   ]
  },
  {
   "cell_type": "code",
   "execution_count": 7,
   "metadata": {
    "colab": {
     "base_uri": "https://localhost:8080/"
    },
    "id": "ibBRF18a8KSA",
    "outputId": "9aa24ea8-52f1-4420-bacf-697a5a01f3cd"
   },
   "outputs": [
    {
     "name": "stdout",
     "output_type": "stream",
     "text": [
      "CREATE DIRECTED EDGE Attribute(FROM synset, TO synset|FROM synset, TO word|FROM word, TO synset|FROM word, TO word) WITH REVERSE_EDGE=\"reverse_Attribute\"\n",
      "CREATE DIRECTED EDGE InSynset(FROM synset, TO synset|FROM synset, TO word|FROM word, TO synset|FROM word, TO word) WITH REVERSE_EDGE=\"reverse_InSynset\"\n",
      "CREATE DIRECTED EDGE Domain(FROM synset, TO synset|FROM synset, TO word|FROM word, TO synset|FROM word, TO word) WITH REVERSE_EDGE=\"reverse_Domain\"\n",
      "CREATE DIRECTED EDGE SimilarTo(FROM synset, TO synset|FROM synset, TO word|FROM word, TO synset|FROM word, TO word) WITH REVERSE_EDGE=\"reverse_SimilarTo\"\n",
      "CREATE DIRECTED EDGE AlsoSee(FROM synset, TO synset|FROM synset, TO word|FROM word, TO synset|FROM word, TO word) WITH REVERSE_EDGE=\"reverse_AlsoSee\"\n",
      "CREATE DIRECTED EDGE IsA(FROM synset, TO synset|FROM synset, TO word|FROM word, TO synset|FROM word, TO word) WITH REVERSE_EDGE=\"reverse_IsA\"\n",
      "CREATE DIRECTED EDGE PartOf(FROM synset, TO synset|FROM synset, TO word|FROM word, TO synset|FROM word, TO word) WITH REVERSE_EDGE=\"reverse_PartOf\"\n",
      "CREATE DIRECTED EDGE Entailment(FROM synset, TO synset|FROM synset, TO word|FROM word, TO synset|FROM word, TO word) WITH REVERSE_EDGE=\"reverse_Entailment\"\n",
      "CREATE DIRECTED EDGE VerbGroup(FROM synset, TO synset|FROM synset, TO word|FROM word, TO synset|FROM word, TO word) WITH REVERSE_EDGE=\"reverse_VerbGroup\"\n",
      "CREATE DIRECTED EDGE Cause(FROM synset, TO synset|FROM synset, TO word|FROM word, TO synset|FROM word, TO word) WITH REVERSE_EDGE=\"reverse_Cause\"\n",
      "CREATE DIRECTED EDGE Antonym(FROM synset, TO synset|FROM synset, TO word|FROM word, TO synset|FROM word, TO word) WITH REVERSE_EDGE=\"reverse_Antonym\"\n",
      "CREATE DIRECTED EDGE AtLocation(FROM synset, TO synset|FROM synset, TO word|FROM word, TO synset|FROM word, TO word) WITH REVERSE_EDGE=\"reverse_AtLocation\"\n",
      "CREATE DIRECTED EDGE CapableOf(FROM synset, TO synset|FROM synset, TO word|FROM word, TO synset|FROM word, TO word) WITH REVERSE_EDGE=\"reverse_CapableOf\"\n",
      "CREATE DIRECTED EDGE Causes(FROM synset, TO synset|FROM synset, TO word|FROM word, TO synset|FROM word, TO word) WITH REVERSE_EDGE=\"reverse_Causes\"\n",
      "CREATE DIRECTED EDGE CausesDesire(FROM synset, TO synset|FROM synset, TO word|FROM word, TO synset|FROM word, TO word) WITH REVERSE_EDGE=\"reverse_CausesDesire\"\n",
      "CREATE DIRECTED EDGE CreatedBy(FROM synset, TO synset|FROM synset, TO word|FROM word, TO synset|FROM word, TO word) WITH REVERSE_EDGE=\"reverse_CreatedBy\"\n",
      "CREATE DIRECTED EDGE DefinedAs(FROM synset, TO synset|FROM synset, TO word|FROM word, TO synset|FROM word, TO word) WITH REVERSE_EDGE=\"reverse_DefinedAs\"\n",
      "CREATE DIRECTED EDGE DerivedFrom(FROM synset, TO synset|FROM synset, TO word|FROM word, TO synset|FROM word, TO word) WITH REVERSE_EDGE=\"reverse_DerivedFrom\"\n",
      "CREATE DIRECTED EDGE Desires(FROM synset, TO synset|FROM synset, TO word|FROM word, TO synset|FROM word, TO word) WITH REVERSE_EDGE=\"reverse_Desires\"\n",
      "CREATE DIRECTED EDGE DistinctFrom(FROM synset, TO synset|FROM synset, TO word|FROM word, TO synset|FROM word, TO word) WITH REVERSE_EDGE=\"reverse_DistinctFrom\"\n",
      "CREATE DIRECTED EDGE Entails(FROM synset, TO synset|FROM synset, TO word|FROM word, TO synset|FROM word, TO word) WITH REVERSE_EDGE=\"reverse_Entails\"\n",
      "CREATE DIRECTED EDGE EtymologicallyDerivedFrom(FROM synset, TO synset|FROM synset, TO word|FROM word, TO synset|FROM word, TO word) WITH REVERSE_EDGE=\"reverse_EtymologicallyDerivedFrom\"\n",
      "CREATE DIRECTED EDGE EtymologicallyRelatedTo(FROM synset, TO synset|FROM synset, TO word|FROM word, TO synset|FROM word, TO word) WITH REVERSE_EDGE=\"reverse_EtymologicallyRelatedTo\"\n",
      "CREATE DIRECTED EDGE FormOf(FROM synset, TO synset|FROM synset, TO word|FROM word, TO synset|FROM word, TO word) WITH REVERSE_EDGE=\"reverse_FormOf\"\n",
      "CREATE DIRECTED EDGE HasA(FROM synset, TO synset|FROM synset, TO word|FROM word, TO synset|FROM word, TO word) WITH REVERSE_EDGE=\"reverse_HasA\"\n",
      "CREATE DIRECTED EDGE HasContext(FROM synset, TO synset|FROM synset, TO word|FROM word, TO synset|FROM word, TO word) WITH REVERSE_EDGE=\"reverse_HasContext\"\n",
      "CREATE DIRECTED EDGE HasFirstSubevent(FROM synset, TO synset|FROM synset, TO word|FROM word, TO synset|FROM word, TO word) WITH REVERSE_EDGE=\"reverse_HasFirstSubevent\"\n",
      "CREATE DIRECTED EDGE HasLastSubevent(FROM synset, TO synset|FROM synset, TO word|FROM word, TO synset|FROM word, TO word) WITH REVERSE_EDGE=\"reverse_HasLastSubevent\"\n",
      "CREATE DIRECTED EDGE HasPrerequisite(FROM synset, TO synset|FROM synset, TO word|FROM word, TO synset|FROM word, TO word) WITH REVERSE_EDGE=\"reverse_HasPrerequisite\"\n",
      "CREATE DIRECTED EDGE HasProperty(FROM synset, TO synset|FROM synset, TO word|FROM word, TO synset|FROM word, TO word) WITH REVERSE_EDGE=\"reverse_HasProperty\"\n",
      "CREATE DIRECTED EDGE HasSubevent(FROM synset, TO synset|FROM synset, TO word|FROM word, TO synset|FROM word, TO word) WITH REVERSE_EDGE=\"reverse_HasSubevent\"\n",
      "CREATE DIRECTED EDGE InstanceOf(FROM synset, TO synset|FROM synset, TO word|FROM word, TO synset|FROM word, TO word) WITH REVERSE_EDGE=\"reverse_InstanceOf\"\n",
      "CREATE DIRECTED EDGE LocatedNear(FROM synset, TO synset|FROM synset, TO word|FROM word, TO synset|FROM word, TO word) WITH REVERSE_EDGE=\"reverse_LocatedNear\"\n",
      "CREATE DIRECTED EDGE MadeOf(FROM synset, TO synset|FROM synset, TO word|FROM word, TO synset|FROM word, TO word) WITH REVERSE_EDGE=\"reverse_MadeOf\"\n",
      "CREATE DIRECTED EDGE MannerOf(FROM synset, TO synset|FROM synset, TO word|FROM word, TO synset|FROM word, TO word) WITH REVERSE_EDGE=\"reverse_MannerOf\"\n",
      "CREATE DIRECTED EDGE MotivatedByGoal(FROM synset, TO synset|FROM synset, TO word|FROM word, TO synset|FROM word, TO word) WITH REVERSE_EDGE=\"reverse_MotivatedByGoal\"\n",
      "CREATE DIRECTED EDGE NotCapableOf(FROM synset, TO synset|FROM synset, TO word|FROM word, TO synset|FROM word, TO word) WITH REVERSE_EDGE=\"reverse_NotCapableOf\"\n",
      "CREATE DIRECTED EDGE NotDesires(FROM synset, TO synset|FROM synset, TO word|FROM word, TO synset|FROM word, TO word) WITH REVERSE_EDGE=\"reverse_NotDesires\"\n",
      "CREATE DIRECTED EDGE NotHasProperty(FROM synset, TO synset|FROM synset, TO word|FROM word, TO synset|FROM word, TO word) WITH REVERSE_EDGE=\"reverse_NotHasProperty\"\n",
      "CREATE DIRECTED EDGE ReceivesAction(FROM synset, TO synset|FROM synset, TO word|FROM word, TO synset|FROM word, TO word) WITH REVERSE_EDGE=\"reverse_ReceivesAction\"\n",
      "CREATE DIRECTED EDGE RelatedTo(FROM synset, TO synset|FROM synset, TO word|FROM word, TO synset|FROM word, TO word) WITH REVERSE_EDGE=\"reverse_RelatedTo\"\n",
      "CREATE DIRECTED EDGE SymbolOf(FROM synset, TO synset|FROM synset, TO word|FROM word, TO synset|FROM word, TO word) WITH REVERSE_EDGE=\"reverse_SymbolOf\"\n",
      "CREATE DIRECTED EDGE Synonym(FROM synset, TO synset|FROM synset, TO word|FROM word, TO synset|FROM word, TO word) WITH REVERSE_EDGE=\"reverse_Synonym\"\n",
      "CREATE DIRECTED EDGE UsedFor(FROM synset, TO synset|FROM synset, TO word|FROM word, TO synset|FROM word, TO word) WITH REVERSE_EDGE=\"reverse_UsedFor\"\n",
      "CREATE DIRECTED EDGE dbpedia/capital(FROM synset, TO synset|FROM synset, TO word|FROM word, TO synset|FROM word, TO word) WITH REVERSE_EDGE=\"reverse_dbpedia/capital\"\n",
      "CREATE DIRECTED EDGE dbpedia/field(FROM synset, TO synset|FROM synset, TO word|FROM word, TO synset|FROM word, TO word) WITH REVERSE_EDGE=\"reverse_dbpedia/field\"\n",
      "CREATE DIRECTED EDGE dbpedia/genre(FROM synset, TO synset|FROM synset, TO word|FROM word, TO synset|FROM word, TO word) WITH REVERSE_EDGE=\"reverse_dbpedia/genre\"\n",
      "CREATE DIRECTED EDGE dbpedia/genus(FROM synset, TO synset|FROM synset, TO word|FROM word, TO synset|FROM word, TO word) WITH REVERSE_EDGE=\"reverse_dbpedia/genus\"\n",
      "CREATE DIRECTED EDGE dbpedia/influencedBy(FROM synset, TO synset|FROM synset, TO word|FROM word, TO synset|FROM word, TO word) WITH REVERSE_EDGE=\"reverse_dbpedia/influencedBy\"\n",
      "CREATE DIRECTED EDGE dbpedia/knownFor(FROM synset, TO synset|FROM synset, TO word|FROM word, TO synset|FROM word, TO word) WITH REVERSE_EDGE=\"reverse_dbpedia/knownFor\"\n",
      "CREATE DIRECTED EDGE dbpedia/language(FROM synset, TO synset|FROM synset, TO word|FROM word, TO synset|FROM word, TO word) WITH REVERSE_EDGE=\"reverse_dbpedia/language\"\n",
      "CREATE DIRECTED EDGE dbpedia/leader(FROM synset, TO synset|FROM synset, TO word|FROM word, TO synset|FROM word, TO word) WITH REVERSE_EDGE=\"reverse_dbpedia/leader\"\n",
      "CREATE DIRECTED EDGE dbpedia/occupation(FROM synset, TO synset|FROM synset, TO word|FROM word, TO synset|FROM word, TO word) WITH REVERSE_EDGE=\"reverse_dbpedia/occupation\"\n",
      "CREATE DIRECTED EDGE dbpedia/product(FROM synset, TO synset|FROM synset, TO word|FROM word, TO synset|FROM word, TO word) WITH REVERSE_EDGE=\"reverse_dbpedia/product\"\n",
      "\n"
     ]
    }
   ],
   "source": [
    "rel_type = pd.read_csv(root+'csv_imports/encoded/type_rel.csv')\n",
    "rel = rel_type['type']\n",
    "\n",
    "str_=\"\"\n",
    "for r in rel:\n",
    "  str_+=\"CREATE DIRECTED EDGE \"+r+\"(FROM synset, TO synset|FROM synset, TO word|FROM word, TO synset|FROM word, TO word) WITH REVERSE_EDGE=\\\"reverse_\"+r+\"\\\"\"\n",
    "  str_+=\"\\n\"\n",
    "print(str_)"
   ]
  },
  {
   "cell_type": "code",
   "execution_count": 8,
   "metadata": {
    "colab": {
     "base_uri": "https://localhost:8080/"
    },
    "id": "tbLUKiA4oSKX",
    "outputId": "61509db2-7895-4eb0-ead2-524b9d28b637"
   },
   "outputs": [
    {
     "name": "stdout",
     "output_type": "stream",
     "text": [
      "Successfully created vertex types: [synset].\n",
      "Successfully created vertex types: [word].\n",
      "Successfully created vertex types: [part_of_speech].\n",
      "Successfully created edge types: [has_pos].\n",
      "Successfully created reverse edge types: [reverse_has_pos].\n",
      "Successfully created edge types: [is_pos_of].\n",
      "Successfully created reverse edge types: [reverse_is_pos_of].\n",
      "Successfully created edge types: [Attribute].\n",
      "Successfully created reverse edge types: [reverse_Attribute].\n",
      "Successfully created edge types: [InSynset].\n",
      "Successfully created reverse edge types: [reverse_InSynset].\n",
      "Successfully created edge types: [Domain].\n",
      "Successfully created reverse edge types: [reverse_Domain].\n",
      "Successfully created edge types: [SimilarTo].\n",
      "Successfully created reverse edge types: [reverse_SimilarTo].\n",
      "Successfully created edge types: [AlsoSee].\n",
      "Successfully created reverse edge types: [reverse_AlsoSee].\n",
      "Successfully created edge types: [IsA].\n",
      "Successfully created reverse edge types: [reverse_IsA].\n",
      "Successfully created edge types: [PartOf].\n",
      "Successfully created reverse edge types: [reverse_PartOf].\n",
      "Successfully created edge types: [Entailment].\n",
      "Successfully created reverse edge types: [reverse_Entailment].\n",
      "Successfully created edge types: [VerbGroup].\n",
      "Successfully created reverse edge types: [reverse_VerbGroup].\n",
      "Successfully created edge types: [Cause].\n",
      "Successfully created reverse edge types: [reverse_Cause].\n",
      "Successfully created edge types: [Antonym].\n",
      "Successfully created reverse edge types: [reverse_Antonym].\n",
      "Successfully created edge types: [AtLocation].\n",
      "Successfully created reverse edge types: [reverse_AtLocation].\n",
      "Successfully created edge types: [CapableOf].\n",
      "Successfully created reverse edge types: [reverse_CapableOf].\n",
      "Successfully created edge types: [Causes].\n",
      "Successfully created reverse edge types: [reverse_Causes].\n",
      "Successfully created edge types: [CausesDesire].\n",
      "Successfully created reverse edge types: [reverse_CausesDesire].\n",
      "Successfully created edge types: [CreatedBy].\n",
      "Successfully created reverse edge types: [reverse_CreatedBy].\n",
      "Successfully created edge types: [DefinedAs].\n",
      "Successfully created reverse edge types: [reverse_DefinedAs].\n",
      "Successfully created edge types: [DerivedFrom].\n",
      "Successfully created reverse edge types: [reverse_DerivedFrom].\n",
      "Successfully created edge types: [Desires].\n",
      "Successfully created reverse edge types: [reverse_Desires].\n",
      "Successfully created edge types: [DistinctFrom].\n",
      "Successfully created reverse edge types: [reverse_DistinctFrom].\n",
      "Successfully created edge types: [Entails].\n",
      "Successfully created reverse edge types: [reverse_Entails].\n",
      "Successfully created edge types: [EtymologicallyDerivedFrom].\n",
      "Successfully created reverse edge types: [reverse_EtymologicallyDerivedFrom].\n",
      "Successfully created edge types: [EtymologicallyRelatedTo].\n",
      "Successfully created reverse edge types: [reverse_EtymologicallyRelatedTo].\n",
      "Successfully created edge types: [FormOf].\n",
      "Successfully created reverse edge types: [reverse_FormOf].\n",
      "Successfully created edge types: [HasA].\n",
      "Successfully created reverse edge types: [reverse_HasA].\n",
      "Successfully created edge types: [HasContext].\n",
      "Successfully created reverse edge types: [reverse_HasContext].\n",
      "Successfully created edge types: [HasFirstSubevent].\n",
      "Successfully created reverse edge types: [reverse_HasFirstSubevent].\n",
      "Successfully created edge types: [HasLastSubevent].\n",
      "Successfully created reverse edge types: [reverse_HasLastSubevent].\n",
      "Successfully created edge types: [HasPrerequisite].\n",
      "Successfully created reverse edge types: [reverse_HasPrerequisite].\n",
      "Successfully created edge types: [HasProperty].\n",
      "Successfully created reverse edge types: [reverse_HasProperty].\n",
      "Successfully created edge types: [HasSubevent].\n",
      "Successfully created reverse edge types: [reverse_HasSubevent].\n",
      "Successfully created edge types: [InstanceOf].\n",
      "Successfully created reverse edge types: [reverse_InstanceOf].\n",
      "Successfully created edge types: [LocatedNear].\n",
      "Successfully created reverse edge types: [reverse_LocatedNear].\n",
      "Successfully created edge types: [MadeOf].\n",
      "Successfully created reverse edge types: [reverse_MadeOf].\n",
      "Successfully created edge types: [MannerOf].\n",
      "Successfully created reverse edge types: [reverse_MannerOf].\n",
      "Successfully created edge types: [MotivatedByGoal].\n",
      "Successfully created reverse edge types: [reverse_MotivatedByGoal].\n",
      "Successfully created edge types: [NotCapableOf].\n",
      "Successfully created reverse edge types: [reverse_NotCapableOf].\n",
      "Successfully created edge types: [NotDesires].\n",
      "Successfully created reverse edge types: [reverse_NotDesires].\n",
      "Successfully created edge types: [NotHasProperty].\n",
      "Successfully created reverse edge types: [reverse_NotHasProperty].\n",
      "Successfully created edge types: [ReceivesAction].\n",
      "Successfully created reverse edge types: [reverse_ReceivesAction].\n",
      "Successfully created edge types: [RelatedTo].\n",
      "Successfully created reverse edge types: [reverse_RelatedTo].\n",
      "Successfully created edge types: [SymbolOf].\n",
      "Successfully created reverse edge types: [reverse_SymbolOf].\n",
      "Successfully created edge types: [Synonym].\n",
      "Successfully created reverse edge types: [reverse_Synonym].\n",
      "Successfully created edge types: [UsedFor].\n",
      "Successfully created reverse edge types: [reverse_UsedFor].\n"
     ]
    }
   ],
   "source": [
    "# DEFINE / CREATE ALL EDGES AND VERTICES \n",
    "results = conn.gsql('''\n",
    "  USE GLOBAL\n",
    "  CREATE VERTEX synset(PRIMARY_ID id STRING, definition STRING, pos STRING) WITH STATS=\"OUTDEGREE_BY_EDGETYPE\", PRIMARY_ID_AS_ATTRIBUTE=\"true\"\n",
    "  CREATE VERTEX word(PRIMARY_ID id STRING, name STRING, pos STRING, conceptUri STRING, label STRING) WITH STATS=\"OUTDEGREE_BY_EDGETYPE\", PRIMARY_ID_AS_ATTRIBUTE=\"true\"\n",
    "  CREATE VERTEX part_of_speech(PRIMARY_ID id STRING, type STRING) WITH STATS=\"OUTDEGREE_BY_EDGETYPE\", PRIMARY_ID_AS_ATTRIBUTE=\"true\"\n",
    "  CREATE DIRECTED EDGE has_pos(FROM synset, TO part_of_speech|FROM word, TO part_of_speech) WITH REVERSE_EDGE=\"reverse_has_pos\"\n",
    "  CREATE DIRECTED EDGE is_pos_of(FROM part_of_speech, TO synset|FROM part_of_speech, TO word) WITH REVERSE_EDGE=\"reverse_is_pos_of\"\n",
    "\n",
    "  CREATE DIRECTED EDGE Attribute(FROM synset, TO synset|FROM synset, TO word|FROM word, TO synset|FROM word, TO word) WITH REVERSE_EDGE=\"reverse_Attribute\"\n",
    "  CREATE DIRECTED EDGE InSynset(FROM synset, TO synset|FROM synset, TO word|FROM word, TO synset|FROM word, TO word) WITH REVERSE_EDGE=\"reverse_InSynset\"\n",
    "  CREATE DIRECTED EDGE Domain(FROM synset, TO synset|FROM synset, TO word|FROM word, TO synset|FROM word, TO word) WITH REVERSE_EDGE=\"reverse_Domain\"\n",
    "  CREATE DIRECTED EDGE SimilarTo(FROM synset, TO synset|FROM synset, TO word|FROM word, TO synset|FROM word, TO word) WITH REVERSE_EDGE=\"reverse_SimilarTo\"\n",
    "  CREATE DIRECTED EDGE AlsoSee(FROM synset, TO synset|FROM synset, TO word|FROM word, TO synset|FROM word, TO word) WITH REVERSE_EDGE=\"reverse_AlsoSee\"\n",
    "  CREATE DIRECTED EDGE IsA(FROM synset, TO synset|FROM synset, TO word|FROM word, TO synset|FROM word, TO word) WITH REVERSE_EDGE=\"reverse_IsA\"\n",
    "  CREATE DIRECTED EDGE PartOf(FROM synset, TO synset|FROM synset, TO word|FROM word, TO synset|FROM word, TO word) WITH REVERSE_EDGE=\"reverse_PartOf\"\n",
    "  CREATE DIRECTED EDGE Entailment(FROM synset, TO synset|FROM synset, TO word|FROM word, TO synset|FROM word, TO word) WITH REVERSE_EDGE=\"reverse_Entailment\"\n",
    "  CREATE DIRECTED EDGE VerbGroup(FROM synset, TO synset|FROM synset, TO word|FROM word, TO synset|FROM word, TO word) WITH REVERSE_EDGE=\"reverse_VerbGroup\"\n",
    "  CREATE DIRECTED EDGE Cause(FROM synset, TO synset|FROM synset, TO word|FROM word, TO synset|FROM word, TO word) WITH REVERSE_EDGE=\"reverse_Cause\"\n",
    "  CREATE DIRECTED EDGE Antonym(FROM synset, TO synset|FROM synset, TO word|FROM word, TO synset|FROM word, TO word) WITH REVERSE_EDGE=\"reverse_Antonym\"\n",
    "  CREATE DIRECTED EDGE AtLocation(FROM synset, TO synset|FROM synset, TO word|FROM word, TO synset|FROM word, TO word) WITH REVERSE_EDGE=\"reverse_AtLocation\"\n",
    "  CREATE DIRECTED EDGE CapableOf(FROM synset, TO synset|FROM synset, TO word|FROM word, TO synset|FROM word, TO word) WITH REVERSE_EDGE=\"reverse_CapableOf\"\n",
    "  CREATE DIRECTED EDGE Causes(FROM synset, TO synset|FROM synset, TO word|FROM word, TO synset|FROM word, TO word) WITH REVERSE_EDGE=\"reverse_Causes\"\n",
    "  CREATE DIRECTED EDGE CausesDesire(FROM synset, TO synset|FROM synset, TO word|FROM word, TO synset|FROM word, TO word) WITH REVERSE_EDGE=\"reverse_CausesDesire\"\n",
    "  CREATE DIRECTED EDGE CreatedBy(FROM synset, TO synset|FROM synset, TO word|FROM word, TO synset|FROM word, TO word) WITH REVERSE_EDGE=\"reverse_CreatedBy\"\n",
    "  CREATE DIRECTED EDGE DefinedAs(FROM synset, TO synset|FROM synset, TO word|FROM word, TO synset|FROM word, TO word) WITH REVERSE_EDGE=\"reverse_DefinedAs\"\n",
    "  CREATE DIRECTED EDGE DerivedFrom(FROM synset, TO synset|FROM synset, TO word|FROM word, TO synset|FROM word, TO word) WITH REVERSE_EDGE=\"reverse_DerivedFrom\"\n",
    "  CREATE DIRECTED EDGE Desires(FROM synset, TO synset|FROM synset, TO word|FROM word, TO synset|FROM word, TO word) WITH REVERSE_EDGE=\"reverse_Desires\"\n",
    "  CREATE DIRECTED EDGE DistinctFrom(FROM synset, TO synset|FROM synset, TO word|FROM word, TO synset|FROM word, TO word) WITH REVERSE_EDGE=\"reverse_DistinctFrom\"\n",
    "  CREATE DIRECTED EDGE Entails(FROM synset, TO synset|FROM synset, TO word|FROM word, TO synset|FROM word, TO word) WITH REVERSE_EDGE=\"reverse_Entails\"\n",
    "  CREATE DIRECTED EDGE EtymologicallyDerivedFrom(FROM synset, TO synset|FROM synset, TO word|FROM word, TO synset|FROM word, TO word) WITH REVERSE_EDGE=\"reverse_EtymologicallyDerivedFrom\"\n",
    "  CREATE DIRECTED EDGE EtymologicallyRelatedTo(FROM synset, TO synset|FROM synset, TO word|FROM word, TO synset|FROM word, TO word) WITH REVERSE_EDGE=\"reverse_EtymologicallyRelatedTo\"\n",
    "  CREATE DIRECTED EDGE FormOf(FROM synset, TO synset|FROM synset, TO word|FROM word, TO synset|FROM word, TO word) WITH REVERSE_EDGE=\"reverse_FormOf\"\n",
    "  CREATE DIRECTED EDGE HasA(FROM synset, TO synset|FROM synset, TO word|FROM word, TO synset|FROM word, TO word) WITH REVERSE_EDGE=\"reverse_HasA\"\n",
    "  CREATE DIRECTED EDGE HasContext(FROM synset, TO synset|FROM synset, TO word|FROM word, TO synset|FROM word, TO word) WITH REVERSE_EDGE=\"reverse_HasContext\"\n",
    "  CREATE DIRECTED EDGE HasFirstSubevent(FROM synset, TO synset|FROM synset, TO word|FROM word, TO synset|FROM word, TO word) WITH REVERSE_EDGE=\"reverse_HasFirstSubevent\"\n",
    "  CREATE DIRECTED EDGE HasLastSubevent(FROM synset, TO synset|FROM synset, TO word|FROM word, TO synset|FROM word, TO word) WITH REVERSE_EDGE=\"reverse_HasLastSubevent\"\n",
    "  CREATE DIRECTED EDGE HasPrerequisite(FROM synset, TO synset|FROM synset, TO word|FROM word, TO synset|FROM word, TO word) WITH REVERSE_EDGE=\"reverse_HasPrerequisite\"\n",
    "  CREATE DIRECTED EDGE HasProperty(FROM synset, TO synset|FROM synset, TO word|FROM word, TO synset|FROM word, TO word) WITH REVERSE_EDGE=\"reverse_HasProperty\"\n",
    "  CREATE DIRECTED EDGE HasSubevent(FROM synset, TO synset|FROM synset, TO word|FROM word, TO synset|FROM word, TO word) WITH REVERSE_EDGE=\"reverse_HasSubevent\"\n",
    "  CREATE DIRECTED EDGE InstanceOf(FROM synset, TO synset|FROM synset, TO word|FROM word, TO synset|FROM word, TO word) WITH REVERSE_EDGE=\"reverse_InstanceOf\"\n",
    "  CREATE DIRECTED EDGE LocatedNear(FROM synset, TO synset|FROM synset, TO word|FROM word, TO synset|FROM word, TO word) WITH REVERSE_EDGE=\"reverse_LocatedNear\"\n",
    "  CREATE DIRECTED EDGE MadeOf(FROM synset, TO synset|FROM synset, TO word|FROM word, TO synset|FROM word, TO word) WITH REVERSE_EDGE=\"reverse_MadeOf\"\n",
    "  CREATE DIRECTED EDGE MannerOf(FROM synset, TO synset|FROM synset, TO word|FROM word, TO synset|FROM word, TO word) WITH REVERSE_EDGE=\"reverse_MannerOf\"\n",
    "  CREATE DIRECTED EDGE MotivatedByGoal(FROM synset, TO synset|FROM synset, TO word|FROM word, TO synset|FROM word, TO word) WITH REVERSE_EDGE=\"reverse_MotivatedByGoal\"\n",
    "  CREATE DIRECTED EDGE NotCapableOf(FROM synset, TO synset|FROM synset, TO word|FROM word, TO synset|FROM word, TO word) WITH REVERSE_EDGE=\"reverse_NotCapableOf\"\n",
    "  CREATE DIRECTED EDGE NotDesires(FROM synset, TO synset|FROM synset, TO word|FROM word, TO synset|FROM word, TO word) WITH REVERSE_EDGE=\"reverse_NotDesires\"\n",
    "  CREATE DIRECTED EDGE NotHasProperty(FROM synset, TO synset|FROM synset, TO word|FROM word, TO synset|FROM word, TO word) WITH REVERSE_EDGE=\"reverse_NotHasProperty\"\n",
    "  CREATE DIRECTED EDGE ReceivesAction(FROM synset, TO synset|FROM synset, TO word|FROM word, TO synset|FROM word, TO word) WITH REVERSE_EDGE=\"reverse_ReceivesAction\"\n",
    "  CREATE DIRECTED EDGE RelatedTo(FROM synset, TO synset|FROM synset, TO word|FROM word, TO synset|FROM word, TO word) WITH REVERSE_EDGE=\"reverse_RelatedTo\"\n",
    "  CREATE DIRECTED EDGE SymbolOf(FROM synset, TO synset|FROM synset, TO word|FROM word, TO synset|FROM word, TO word) WITH REVERSE_EDGE=\"reverse_SymbolOf\"\n",
    "  CREATE DIRECTED EDGE Synonym(FROM synset, TO synset|FROM synset, TO word|FROM word, TO synset|FROM word, TO word) WITH REVERSE_EDGE=\"reverse_Synonym\"\n",
    "  CREATE DIRECTED EDGE UsedFor(FROM synset, TO synset|FROM synset, TO word|FROM word, TO synset|FROM word, TO word) WITH REVERSE_EDGE=\"reverse_UsedFor\"\n",
    "  ''')\n",
    "print(results)"
   ]
  },
  {
   "cell_type": "markdown",
   "metadata": {
    "id": "QtAieHUn3KSp"
   },
   "source": [
    "# WordNET"
   ]
  },
  {
   "cell_type": "markdown",
   "metadata": {
    "id": "bMz6fxfx59Xz"
   },
   "source": [
    "## Create WordNet Graph"
   ]
  },
  {
   "cell_type": "code",
   "execution_count": 9,
   "metadata": {
    "colab": {
     "base_uri": "https://localhost:8080/"
    },
    "id": "98SpRc_zAzRY",
    "outputId": "9441ee8e-1456-4757-9492-5681677f4ed1"
   },
   "outputs": [
    {
     "name": "stdout",
     "output_type": "stream",
     "text": [
      "Attribute,InSynset,Domain,SimilarTo,AlsoSee,IsA,PartOf,Entailment,VerbGroup,Cause,Antonym,AtLocation,CapableOf,Causes,CausesDesire,CreatedBy,DefinedAs,DerivedFrom,Desires,DistinctFrom,Entails,EtymologicallyDerivedFrom,EtymologicallyRelatedTo,FormOf,HasA,HasContext,HasFirstSubevent,HasLastSubevent,HasPrerequisite,HasProperty,HasSubevent,InstanceOf,LocatedNear,MadeOf,MannerOf,MotivatedByGoal,NotCapableOf,NotDesires,NotHasProperty,ReceivesAction,RelatedTo,SymbolOf,Synonym,UsedFor,dbpedia/capital,dbpedia/field,dbpedia/genre,dbpedia/genus,dbpedia/influencedBy,dbpedia/knownFor,dbpedia/language,dbpedia/leader,dbpedia/occupation,dbpedia/product,\n"
     ]
    }
   ],
   "source": [
    "rel = rel_type['type']\n",
    "\n",
    "str_=\"\"\n",
    "for r in rel:\n",
    "  str_+=r+\",\"\n",
    "print(str_)"
   ]
  },
  {
   "cell_type": "code",
   "execution_count": 10,
   "metadata": {
    "colab": {
     "base_uri": "https://localhost:8080/"
    },
    "id": "-cgC8b7OcZDd",
    "outputId": "a18c7d33-c72d-4e83-b90f-8df299077e45"
   },
   "outputs": [
    {
     "name": "stdout",
     "output_type": "stream",
     "text": [
      "The graph ConceptNet is created.\n"
     ]
    }
   ],
   "source": [
    "results = conn.gsql('CREATE GRAPH ConceptNet(synset, word, part_of_speech, Attribute,InSynset,Domain,SimilarTo,AlsoSee,IsA,PartOf,Entailment,VerbGroup,Cause,Antonym,AtLocation,CapableOf,Causes,CausesDesire,CreatedBy,DefinedAs,DerivedFrom,Desires,DistinctFrom,Entails,EtymologicallyDerivedFrom,EtymologicallyRelatedTo,FormOf,HasA,HasContext,HasFirstSubevent,HasLastSubevent,HasPrerequisite,HasProperty,HasSubevent,InstanceOf,LocatedNear,MadeOf,MannerOf,MotivatedByGoal,NotCapableOf,NotDesires,NotHasProperty,ReceivesAction,RelatedTo,SymbolOf,Synonym,UsedFor,has_pos, is_pos_of)')\n",
    "print(results)"
   ]
  },
  {
   "cell_type": "code",
   "execution_count": 11,
   "metadata": {
    "colab": {
     "base_uri": "https://localhost:8080/"
    },
    "id": "SbxyEaptc2Ri",
    "outputId": "76339408-7b48-49ec-f404-2492e5b47c85"
   },
   "outputs": [
    {
     "name": "stdout",
     "output_type": "stream",
     "text": [
      "omlqveaiq0gmtmpiuvn6mppqc1kb2u23\n",
      "kgprarmhs1cj04s0qa8ibo292a731r9l\n"
     ]
    }
   ],
   "source": [
    "conn.graphname=\"ConceptNet\"\n",
    "secret = conn.createSecret()\n",
    "print(secret)\n",
    "authToken = conn.getToken(secret)\n",
    "authToken = authToken[0]\n",
    "print(authToken)\n",
    "# authToken = 'rc7reopbis1667ksgcppq5v5fb99p6s1'\n",
    "conn = tg.TigerGraphConnection(host=hostName, graphname=\"ConceptNet\", username=userName, password=password, apiToken=authToken)\n",
    "\n",
    "def pprint(string):\n",
    "  print(json.dumps(string, indent=2))"
   ]
  },
  {
   "cell_type": "markdown",
   "metadata": {
    "id": "MTWWoepV6Dc0"
   },
   "source": [
    "## Create Loading Jobs"
   ]
  },
  {
   "cell_type": "markdown",
   "metadata": {
    "id": "Up4f5hmq7MZl"
   },
   "source": [
    "### Word"
   ]
  },
  {
   "cell_type": "markdown",
   "metadata": {
    "id": "oXH8W3KIjVUC"
   },
   "source": [
    "Let's take a look at what one of our files looks like so we can write a loading job."
   ]
  },
  {
   "cell_type": "code",
   "execution_count": 12,
   "metadata": {
    "colab": {
     "base_uri": "https://localhost:8080/"
    },
    "id": "dV1wMpIMeZaY",
    "outputId": "425c4861-8bb8-48f6-c21e-667c51f371e8"
   },
   "outputs": [
    {
     "name": "stdout",
     "output_type": "stream",
     "text": [
      "head: root+csv_imports/WN-nodes.csv: No such file or directory\n"
     ]
    }
   ],
   "source": [
    "!head -n 2 root+'csv_imports/WN-nodes.csv'"
   ]
  },
  {
   "cell_type": "markdown",
   "metadata": {
    "id": "M7Y081TD6Xh5"
   },
   "source": [
    "Here it's important to note that the `$0`, `$1` values line up with the columns of your data.\n",
    "In this example:\n",
    "- `$0` is the `uri` column,\n",
    "- `$1` is `id`,\n",
    "- `$2` is `word`\n",
    "- and so on"
   ]
  },
  {
   "cell_type": "code",
   "execution_count": 13,
   "metadata": {
    "colab": {
     "base_uri": "https://localhost:8080/"
    },
    "id": "xy0KKV29B0iY",
    "outputId": "d481e2c0-d8d9-43ce-94eb-7c54c4bcb692"
   },
   "outputs": [
    {
     "name": "stdout",
     "output_type": "stream",
     "text": [
      "LOAD MyDataSource TO EDGE  Attribute VALUES($0 synset, $1 synset) WHERE $4 == \"Attribute\" USING SEPARATOR=\",\", HEADER=\"true\";\n",
      "LOAD MyDataSource TO EDGE  InSynset VALUES($0 synset, $1 synset) WHERE $4 == \"InSynset\" USING SEPARATOR=\",\", HEADER=\"true\";\n",
      "LOAD MyDataSource TO EDGE  Domain VALUES($0 synset, $1 synset) WHERE $4 == \"Domain\" USING SEPARATOR=\",\", HEADER=\"true\";\n",
      "LOAD MyDataSource TO EDGE  SimilarTo VALUES($0 synset, $1 synset) WHERE $4 == \"SimilarTo\" USING SEPARATOR=\",\", HEADER=\"true\";\n",
      "LOAD MyDataSource TO EDGE  AlsoSee VALUES($0 synset, $1 synset) WHERE $4 == \"AlsoSee\" USING SEPARATOR=\",\", HEADER=\"true\";\n",
      "LOAD MyDataSource TO EDGE  IsA VALUES($0 synset, $1 synset) WHERE $4 == \"IsA\" USING SEPARATOR=\",\", HEADER=\"true\";\n",
      "LOAD MyDataSource TO EDGE  PartOf VALUES($0 synset, $1 synset) WHERE $4 == \"PartOf\" USING SEPARATOR=\",\", HEADER=\"true\";\n",
      "LOAD MyDataSource TO EDGE  Entailment VALUES($0 synset, $1 synset) WHERE $4 == \"Entailment\" USING SEPARATOR=\",\", HEADER=\"true\";\n",
      "LOAD MyDataSource TO EDGE  VerbGroup VALUES($0 synset, $1 synset) WHERE $4 == \"VerbGroup\" USING SEPARATOR=\",\", HEADER=\"true\";\n",
      "LOAD MyDataSource TO EDGE  Cause VALUES($0 synset, $1 synset) WHERE $4 == \"Cause\" USING SEPARATOR=\",\", HEADER=\"true\";\n",
      "LOAD MyDataSource TO EDGE  Antonym VALUES($0 synset, $1 synset) WHERE $4 == \"Antonym\" USING SEPARATOR=\",\", HEADER=\"true\";\n",
      "LOAD MyDataSource TO EDGE  AtLocation VALUES($0 synset, $1 synset) WHERE $4 == \"AtLocation\" USING SEPARATOR=\",\", HEADER=\"true\";\n",
      "LOAD MyDataSource TO EDGE  CapableOf VALUES($0 synset, $1 synset) WHERE $4 == \"CapableOf\" USING SEPARATOR=\",\", HEADER=\"true\";\n",
      "LOAD MyDataSource TO EDGE  Causes VALUES($0 synset, $1 synset) WHERE $4 == \"Causes\" USING SEPARATOR=\",\", HEADER=\"true\";\n",
      "LOAD MyDataSource TO EDGE  CausesDesire VALUES($0 synset, $1 synset) WHERE $4 == \"CausesDesire\" USING SEPARATOR=\",\", HEADER=\"true\";\n",
      "LOAD MyDataSource TO EDGE  CreatedBy VALUES($0 synset, $1 synset) WHERE $4 == \"CreatedBy\" USING SEPARATOR=\",\", HEADER=\"true\";\n",
      "LOAD MyDataSource TO EDGE  DefinedAs VALUES($0 synset, $1 synset) WHERE $4 == \"DefinedAs\" USING SEPARATOR=\",\", HEADER=\"true\";\n",
      "LOAD MyDataSource TO EDGE  DerivedFrom VALUES($0 synset, $1 synset) WHERE $4 == \"DerivedFrom\" USING SEPARATOR=\",\", HEADER=\"true\";\n",
      "LOAD MyDataSource TO EDGE  Desires VALUES($0 synset, $1 synset) WHERE $4 == \"Desires\" USING SEPARATOR=\",\", HEADER=\"true\";\n",
      "LOAD MyDataSource TO EDGE  DistinctFrom VALUES($0 synset, $1 synset) WHERE $4 == \"DistinctFrom\" USING SEPARATOR=\",\", HEADER=\"true\";\n",
      "LOAD MyDataSource TO EDGE  Entails VALUES($0 synset, $1 synset) WHERE $4 == \"Entails\" USING SEPARATOR=\",\", HEADER=\"true\";\n",
      "LOAD MyDataSource TO EDGE  EtymologicallyDerivedFrom VALUES($0 synset, $1 synset) WHERE $4 == \"EtymologicallyDerivedFrom\" USING SEPARATOR=\",\", HEADER=\"true\";\n",
      "LOAD MyDataSource TO EDGE  EtymologicallyRelatedTo VALUES($0 synset, $1 synset) WHERE $4 == \"EtymologicallyRelatedTo\" USING SEPARATOR=\",\", HEADER=\"true\";\n",
      "LOAD MyDataSource TO EDGE  FormOf VALUES($0 synset, $1 synset) WHERE $4 == \"FormOf\" USING SEPARATOR=\",\", HEADER=\"true\";\n",
      "LOAD MyDataSource TO EDGE  HasA VALUES($0 synset, $1 synset) WHERE $4 == \"HasA\" USING SEPARATOR=\",\", HEADER=\"true\";\n",
      "LOAD MyDataSource TO EDGE  HasContext VALUES($0 synset, $1 synset) WHERE $4 == \"HasContext\" USING SEPARATOR=\",\", HEADER=\"true\";\n",
      "LOAD MyDataSource TO EDGE  HasFirstSubevent VALUES($0 synset, $1 synset) WHERE $4 == \"HasFirstSubevent\" USING SEPARATOR=\",\", HEADER=\"true\";\n",
      "LOAD MyDataSource TO EDGE  HasLastSubevent VALUES($0 synset, $1 synset) WHERE $4 == \"HasLastSubevent\" USING SEPARATOR=\",\", HEADER=\"true\";\n",
      "LOAD MyDataSource TO EDGE  HasPrerequisite VALUES($0 synset, $1 synset) WHERE $4 == \"HasPrerequisite\" USING SEPARATOR=\",\", HEADER=\"true\";\n",
      "LOAD MyDataSource TO EDGE  HasProperty VALUES($0 synset, $1 synset) WHERE $4 == \"HasProperty\" USING SEPARATOR=\",\", HEADER=\"true\";\n",
      "LOAD MyDataSource TO EDGE  HasSubevent VALUES($0 synset, $1 synset) WHERE $4 == \"HasSubevent\" USING SEPARATOR=\",\", HEADER=\"true\";\n",
      "LOAD MyDataSource TO EDGE  InstanceOf VALUES($0 synset, $1 synset) WHERE $4 == \"InstanceOf\" USING SEPARATOR=\",\", HEADER=\"true\";\n",
      "LOAD MyDataSource TO EDGE  LocatedNear VALUES($0 synset, $1 synset) WHERE $4 == \"LocatedNear\" USING SEPARATOR=\",\", HEADER=\"true\";\n",
      "LOAD MyDataSource TO EDGE  MadeOf VALUES($0 synset, $1 synset) WHERE $4 == \"MadeOf\" USING SEPARATOR=\",\", HEADER=\"true\";\n",
      "LOAD MyDataSource TO EDGE  MannerOf VALUES($0 synset, $1 synset) WHERE $4 == \"MannerOf\" USING SEPARATOR=\",\", HEADER=\"true\";\n",
      "LOAD MyDataSource TO EDGE  MotivatedByGoal VALUES($0 synset, $1 synset) WHERE $4 == \"MotivatedByGoal\" USING SEPARATOR=\",\", HEADER=\"true\";\n",
      "LOAD MyDataSource TO EDGE  NotCapableOf VALUES($0 synset, $1 synset) WHERE $4 == \"NotCapableOf\" USING SEPARATOR=\",\", HEADER=\"true\";\n",
      "LOAD MyDataSource TO EDGE  NotDesires VALUES($0 synset, $1 synset) WHERE $4 == \"NotDesires\" USING SEPARATOR=\",\", HEADER=\"true\";\n",
      "LOAD MyDataSource TO EDGE  NotHasProperty VALUES($0 synset, $1 synset) WHERE $4 == \"NotHasProperty\" USING SEPARATOR=\",\", HEADER=\"true\";\n",
      "LOAD MyDataSource TO EDGE  ReceivesAction VALUES($0 synset, $1 synset) WHERE $4 == \"ReceivesAction\" USING SEPARATOR=\",\", HEADER=\"true\";\n",
      "LOAD MyDataSource TO EDGE  RelatedTo VALUES($0 synset, $1 synset) WHERE $4 == \"RelatedTo\" USING SEPARATOR=\",\", HEADER=\"true\";\n",
      "LOAD MyDataSource TO EDGE  SymbolOf VALUES($0 synset, $1 synset) WHERE $4 == \"SymbolOf\" USING SEPARATOR=\",\", HEADER=\"true\";\n",
      "LOAD MyDataSource TO EDGE  Synonym VALUES($0 synset, $1 synset) WHERE $4 == \"Synonym\" USING SEPARATOR=\",\", HEADER=\"true\";\n",
      "LOAD MyDataSource TO EDGE  UsedFor VALUES($0 synset, $1 synset) WHERE $4 == \"UsedFor\" USING SEPARATOR=\",\", HEADER=\"true\";\n",
      "LOAD MyDataSource TO EDGE  dbpedia/capital VALUES($0 synset, $1 synset) WHERE $4 == \"dbpedia/capital\" USING SEPARATOR=\",\", HEADER=\"true\";\n",
      "LOAD MyDataSource TO EDGE  dbpedia/field VALUES($0 synset, $1 synset) WHERE $4 == \"dbpedia/field\" USING SEPARATOR=\",\", HEADER=\"true\";\n",
      "LOAD MyDataSource TO EDGE  dbpedia/genre VALUES($0 synset, $1 synset) WHERE $4 == \"dbpedia/genre\" USING SEPARATOR=\",\", HEADER=\"true\";\n",
      "LOAD MyDataSource TO EDGE  dbpedia/genus VALUES($0 synset, $1 synset) WHERE $4 == \"dbpedia/genus\" USING SEPARATOR=\",\", HEADER=\"true\";\n",
      "LOAD MyDataSource TO EDGE  dbpedia/influencedBy VALUES($0 synset, $1 synset) WHERE $4 == \"dbpedia/influencedBy\" USING SEPARATOR=\",\", HEADER=\"true\";\n",
      "LOAD MyDataSource TO EDGE  dbpedia/knownFor VALUES($0 synset, $1 synset) WHERE $4 == \"dbpedia/knownFor\" USING SEPARATOR=\",\", HEADER=\"true\";\n",
      "LOAD MyDataSource TO EDGE  dbpedia/language VALUES($0 synset, $1 synset) WHERE $4 == \"dbpedia/language\" USING SEPARATOR=\",\", HEADER=\"true\";\n",
      "LOAD MyDataSource TO EDGE  dbpedia/leader VALUES($0 synset, $1 synset) WHERE $4 == \"dbpedia/leader\" USING SEPARATOR=\",\", HEADER=\"true\";\n",
      "LOAD MyDataSource TO EDGE  dbpedia/occupation VALUES($0 synset, $1 synset) WHERE $4 == \"dbpedia/occupation\" USING SEPARATOR=\",\", HEADER=\"true\";\n",
      "LOAD MyDataSource TO EDGE  dbpedia/product VALUES($0 synset, $1 synset) WHERE $4 == \"dbpedia/product\" USING SEPARATOR=\",\", HEADER=\"true\";\n",
      "\n"
     ]
    }
   ],
   "source": [
    "rel_type = pd.read_csv(root+'csv_imports/encoded/type_rel.csv')\n",
    "rel = rel_type['type']\n",
    "\n",
    "str_=\"\"\n",
    "for r in rel:\n",
    "  str_+=\"LOAD MyDataSource TO EDGE  \"+r+\" VALUES($0 synset, $1 synset) WHERE $4 == \\\"\"+r+\"\\\" USING SEPARATOR=\\\",\\\"\"\", HEADER=\\\"true\\\"\"\"\"\n",
    "  str_+=\";\\n\"\n",
    "print(str_)"
   ]
  },
  {
   "cell_type": "code",
   "execution_count": 14,
   "metadata": {
    "colab": {
     "base_uri": "https://localhost:8080/"
    },
    "id": "22W6W58idFW5",
    "outputId": "ee38983c-c4b5-47da-9d9b-bc8e1758d0eb"
   },
   "outputs": [
    {
     "name": "stdout",
     "output_type": "stream",
     "text": [
      "Using graph 'ConceptNet'\n",
      "Successfully created loading jobs: [load_job_relationships].\n",
      "Successfully created loading jobs: [load_job_pos_wn].\n",
      "Successfully created loading jobs: [load_job_synsets_encoded].\n",
      "Successfully created loading jobs: [load_job_words_encoded].\n"
     ]
    }
   ],
   "source": [
    "results = conn.gsql('''\n",
    "  USE GRAPH ConceptNet\n",
    "  BEGIN\n",
    "  CREATE LOADING JOB load_job_relationships FOR GRAPH ConceptNet {\n",
    "      DEFINE FILENAME MyDataSource;\n",
    "      LOAD MyDataSource TO EDGE  Attribute VALUES($0 synset, $1 synset) WHERE $4 == \"Attribute\" USING SEPARATOR=\",\", HEADER=\"true\";\n",
    "      LOAD MyDataSource TO EDGE  InSynset VALUES($0 synset, $1 synset) WHERE $4 == \"InSynset\" USING SEPARATOR=\",\", HEADER=\"true\";\n",
    "      LOAD MyDataSource TO EDGE  Domain VALUES($0 synset, $1 synset) WHERE $4 == \"Domain\" USING SEPARATOR=\",\", HEADER=\"true\";\n",
    "      LOAD MyDataSource TO EDGE  SimilarTo VALUES($0 synset, $1 synset) WHERE $4 == \"SimilarTo\" USING SEPARATOR=\",\", HEADER=\"true\";\n",
    "      LOAD MyDataSource TO EDGE  AlsoSee VALUES($0 synset, $1 synset) WHERE $4 == \"AlsoSee\" USING SEPARATOR=\",\", HEADER=\"true\";\n",
    "      LOAD MyDataSource TO EDGE  IsA VALUES($0 synset, $1 synset) WHERE $4 == \"IsA\" USING SEPARATOR=\",\", HEADER=\"true\";\n",
    "      LOAD MyDataSource TO EDGE  PartOf VALUES($0 synset, $1 synset) WHERE $4 == \"PartOf\" USING SEPARATOR=\",\", HEADER=\"true\";\n",
    "      LOAD MyDataSource TO EDGE  Entailment VALUES($0 synset, $1 synset) WHERE $4 == \"Entailment\" USING SEPARATOR=\",\", HEADER=\"true\";\n",
    "      LOAD MyDataSource TO EDGE  VerbGroup VALUES($0 synset, $1 synset) WHERE $4 == \"VerbGroup\" USING SEPARATOR=\",\", HEADER=\"true\";\n",
    "      LOAD MyDataSource TO EDGE  Cause VALUES($0 synset, $1 synset) WHERE $4 == \"Cause\" USING SEPARATOR=\",\", HEADER=\"true\";\n",
    "      LOAD MyDataSource TO EDGE  Antonym VALUES($0 synset, $1 synset) WHERE $4 == \"Antonym\" USING SEPARATOR=\",\", HEADER=\"true\";\n",
    "      LOAD MyDataSource TO EDGE  AtLocation VALUES($0 synset, $1 synset) WHERE $4 == \"AtLocation\" USING SEPARATOR=\",\", HEADER=\"true\";\n",
    "      LOAD MyDataSource TO EDGE  CapableOf VALUES($0 synset, $1 synset) WHERE $4 == \"CapableOf\" USING SEPARATOR=\",\", HEADER=\"true\";\n",
    "      LOAD MyDataSource TO EDGE  Causes VALUES($0 synset, $1 synset) WHERE $4 == \"Causes\" USING SEPARATOR=\",\", HEADER=\"true\";\n",
    "      LOAD MyDataSource TO EDGE  CausesDesire VALUES($0 synset, $1 synset) WHERE $4 == \"CausesDesire\" USING SEPARATOR=\",\", HEADER=\"true\";\n",
    "      LOAD MyDataSource TO EDGE  CreatedBy VALUES($0 synset, $1 synset) WHERE $4 == \"CreatedBy\" USING SEPARATOR=\",\", HEADER=\"true\";\n",
    "      LOAD MyDataSource TO EDGE  DefinedAs VALUES($0 synset, $1 synset) WHERE $4 == \"DefinedAs\" USING SEPARATOR=\",\", HEADER=\"true\";\n",
    "      LOAD MyDataSource TO EDGE  DerivedFrom VALUES($0 synset, $1 synset) WHERE $4 == \"DerivedFrom\" USING SEPARATOR=\",\", HEADER=\"true\";\n",
    "      LOAD MyDataSource TO EDGE  Desires VALUES($0 synset, $1 synset) WHERE $4 == \"Desires\" USING SEPARATOR=\",\", HEADER=\"true\";\n",
    "      LOAD MyDataSource TO EDGE  DistinctFrom VALUES($0 synset, $1 synset) WHERE $4 == \"DistinctFrom\" USING SEPARATOR=\",\", HEADER=\"true\";\n",
    "      LOAD MyDataSource TO EDGE  Entails VALUES($0 synset, $1 synset) WHERE $4 == \"Entails\" USING SEPARATOR=\",\", HEADER=\"true\";\n",
    "      LOAD MyDataSource TO EDGE  EtymologicallyDerivedFrom VALUES($0 synset, $1 synset) WHERE $4 == \"EtymologicallyDerivedFrom\" USING SEPARATOR=\",\", HEADER=\"true\";\n",
    "      LOAD MyDataSource TO EDGE  EtymologicallyRelatedTo VALUES($0 synset, $1 synset) WHERE $4 == \"EtymologicallyRelatedTo\" USING SEPARATOR=\",\", HEADER=\"true\";\n",
    "      LOAD MyDataSource TO EDGE  FormOf VALUES($0 synset, $1 synset) WHERE $4 == \"FormOf\" USING SEPARATOR=\",\", HEADER=\"true\";\n",
    "      LOAD MyDataSource TO EDGE  HasA VALUES($0 synset, $1 synset) WHERE $4 == \"HasA\" USING SEPARATOR=\",\", HEADER=\"true\";\n",
    "      LOAD MyDataSource TO EDGE  HasContext VALUES($0 synset, $1 synset) WHERE $4 == \"HasContext\" USING SEPARATOR=\",\", HEADER=\"true\";\n",
    "      LOAD MyDataSource TO EDGE  HasFirstSubevent VALUES($0 synset, $1 synset) WHERE $4 == \"HasFirstSubevent\" USING SEPARATOR=\",\", HEADER=\"true\";\n",
    "      LOAD MyDataSource TO EDGE  HasLastSubevent VALUES($0 synset, $1 synset) WHERE $4 == \"HasLastSubevent\" USING SEPARATOR=\",\", HEADER=\"true\";\n",
    "      LOAD MyDataSource TO EDGE  HasPrerequisite VALUES($0 synset, $1 synset) WHERE $4 == \"HasPrerequisite\" USING SEPARATOR=\",\", HEADER=\"true\";\n",
    "      LOAD MyDataSource TO EDGE  HasProperty VALUES($0 synset, $1 synset) WHERE $4 == \"HasProperty\" USING SEPARATOR=\",\", HEADER=\"true\";\n",
    "      LOAD MyDataSource TO EDGE  HasSubevent VALUES($0 synset, $1 synset) WHERE $4 == \"HasSubevent\" USING SEPARATOR=\",\", HEADER=\"true\";\n",
    "      LOAD MyDataSource TO EDGE  InstanceOf VALUES($0 synset, $1 synset) WHERE $4 == \"InstanceOf\" USING SEPARATOR=\",\", HEADER=\"true\";\n",
    "      LOAD MyDataSource TO EDGE  LocatedNear VALUES($0 synset, $1 synset) WHERE $4 == \"LocatedNear\" USING SEPARATOR=\",\", HEADER=\"true\";\n",
    "      LOAD MyDataSource TO EDGE  MadeOf VALUES($0 synset, $1 synset) WHERE $4 == \"MadeOf\" USING SEPARATOR=\",\", HEADER=\"true\";\n",
    "      LOAD MyDataSource TO EDGE  MannerOf VALUES($0 synset, $1 synset) WHERE $4 == \"MannerOf\" USING SEPARATOR=\",\", HEADER=\"true\";\n",
    "      LOAD MyDataSource TO EDGE  MotivatedByGoal VALUES($0 synset, $1 synset) WHERE $4 == \"MotivatedByGoal\" USING SEPARATOR=\",\", HEADER=\"true\";\n",
    "      LOAD MyDataSource TO EDGE  NotCapableOf VALUES($0 synset, $1 synset) WHERE $4 == \"NotCapableOf\" USING SEPARATOR=\",\", HEADER=\"true\";\n",
    "      LOAD MyDataSource TO EDGE  NotDesires VALUES($0 synset, $1 synset) WHERE $4 == \"NotDesires\" USING SEPARATOR=\",\", HEADER=\"true\";\n",
    "      LOAD MyDataSource TO EDGE  NotHasProperty VALUES($0 synset, $1 synset) WHERE $4 == \"NotHasProperty\" USING SEPARATOR=\",\", HEADER=\"true\";\n",
    "      LOAD MyDataSource TO EDGE  ReceivesAction VALUES($0 synset, $1 synset) WHERE $4 == \"ReceivesAction\" USING SEPARATOR=\",\", HEADER=\"true\";\n",
    "      LOAD MyDataSource TO EDGE  RelatedTo VALUES($0 synset, $1 synset) WHERE $4 == \"RelatedTo\" USING SEPARATOR=\",\", HEADER=\"true\";\n",
    "      LOAD MyDataSource TO EDGE  SymbolOf VALUES($0 synset, $1 synset) WHERE $4 == \"SymbolOf\" USING SEPARATOR=\",\", HEADER=\"true\";\n",
    "      LOAD MyDataSource TO EDGE  Synonym VALUES($0 synset, $1 synset) WHERE $4 == \"Synonym\" USING SEPARATOR=\",\", HEADER=\"true\";\n",
    "      LOAD MyDataSource TO EDGE  UsedFor VALUES($0 synset, $1 synset) WHERE $4 == \"UsedFor\" USING SEPARATOR=\",\", HEADER=\"true\";\n",
    "\n",
    "    }\n",
    "\n",
    "    \n",
    "    CREATE LOADING JOB load_job_pos_wn FOR GRAPH ConceptNet {\n",
    "          DEFINE FILENAME MyDataSource;\n",
    "          LOAD MyDataSource TO VERTEX part_of_speech VALUES($2, $1) USING SEPARATOR=\",\", HEADER=\"true\", EOL=\"\\n\";\n",
    "        }\n",
    "\n",
    "  \n",
    "    CREATE LOADING JOB load_job_synsets_encoded FOR GRAPH ConceptNet {\n",
    "          DEFINE FILENAME MyDataSource;\n",
    "          LOAD MyDataSource TO VERTEX synset VALUES($0, $2, $1) USING SEPARATOR=\",\", HEADER=\"true\", EOL=\"\\n\", QUOTE=\"double\";\n",
    "        }\n",
    "\n",
    "    \n",
    "    CREATE LOADING JOB load_job_words_encoded FOR GRAPH ConceptNet {\n",
    "          DEFINE FILENAME MyDataSource;\n",
    "          LOAD MyDataSource TO VERTEX word VALUES($0, $1, $2, $3, $4) USING SEPARATOR=\",\", HEADER=\"true\", EOL=\"\\n\", QUOTE=\"double\";\n",
    "          LOAD MyDataSource TO EDGE has_pos VALUES($0 word, $2 part_of_speech) USING SEPARATOR=\",\", HEADER=\"true\", EOL=\"\\n\", QUOTE=\"double\";\n",
    "          LOAD MyDataSource TO EDGE is_pos_of VALUES($2 part_of_speech, $0 word) USING SEPARATOR=\",\", HEADER=\"true\", EOL=\"\\n\", QUOTE=\"double\";\n",
    "          LOAD MyDataSource TO EDGE has_pos VALUES($0 synset, $2 part_of_speech) USING SEPARATOR=\",\", HEADER=\"true\", EOL=\"\\n\", QUOTE=\"double\";\n",
    "          LOAD MyDataSource TO EDGE is_pos_of VALUES($2 part_of_speech, $0 synset) USING SEPARATOR=\",\", HEADER=\"true\", EOL=\"\\n\", QUOTE=\"double\";\n",
    "        }\n",
    "\n",
    "\n",
    "\n",
    "  END\n",
    "  ''')\n",
    "print(results)"
   ]
  },
  {
   "cell_type": "markdown",
   "metadata": {
    "id": "Nm8hvEJo7YqM"
   },
   "source": [
    "## Load Data"
   ]
  },
  {
   "cell_type": "markdown",
   "metadata": {
    "id": "K1yUUv7k5soZ"
   },
   "source": [
    "### Words"
   ]
  },
  {
   "cell_type": "code",
   "execution_count": 15,
   "metadata": {
    "id": "UWtWVHGg2O-p"
   },
   "outputs": [],
   "source": [
    "# Load the posts file wiht the 'load_words' job\n",
    "load_words = root+'csv_imports/relationships.csv'\n",
    "results = conn.uploadFile(load_words, timeout=200000,fileTag='MyDataSource', jobName='load_job_relationships')\n",
    "# print(json.dumps(results, indent=2))"
   ]
  },
  {
   "cell_type": "code",
   "execution_count": 16,
   "metadata": {
    "id": "EU19agwpRIV-"
   },
   "outputs": [
    {
     "name": "stdout",
     "output_type": "stream",
     "text": [
      "[\n",
      "  {\n",
      "    \"sourceFileName\": \"Online_POST\",\n",
      "    \"statistics\": {\n",
      "      \"validLine\": 6,\n",
      "      \"rejectLine\": 0,\n",
      "      \"failedConditionLine\": 0,\n",
      "      \"notEnoughToken\": 0,\n",
      "      \"invalidJson\": 0,\n",
      "      \"oversizeToken\": 0,\n",
      "      \"vertex\": [\n",
      "        {\n",
      "          \"typeName\": \"part_of_speech\",\n",
      "          \"validObject\": 6,\n",
      "          \"noIdFound\": 0,\n",
      "          \"invalidAttribute\": 0,\n",
      "          \"invalidVertexType\": 0,\n",
      "          \"invalidPrimaryId\": 0,\n",
      "          \"invalidSecondaryId\": 0,\n",
      "          \"incorrectFixedBinaryLength\": 0\n",
      "        }\n",
      "      ],\n",
      "      \"edge\": [],\n",
      "      \"deleteVertex\": [],\n",
      "      \"deleteEdge\": []\n",
      "    }\n",
      "  }\n",
      "]\n"
     ]
    }
   ],
   "source": [
    "# Load the posts file wiht the 'load_words' job\n",
    "load_words = root+'csv_imports/encoded/pos_wn.csv'\n",
    "results = conn.uploadFile(load_words, timeout=100000,fileTag='MyDataSource', jobName='load_job_pos_wn')\n",
    "print(json.dumps(results, indent=2))"
   ]
  },
  {
   "cell_type": "markdown",
   "metadata": {
    "id": "jp_VKwTI5vfz"
   },
   "source": [
    "### Edges"
   ]
  },
  {
   "cell_type": "code",
   "execution_count": 17,
   "metadata": {
    "id": "6y_PfFAT2PCC"
   },
   "outputs": [
    {
     "name": "stdout",
     "output_type": "stream",
     "text": [
      "[\n",
      "  {\n",
      "    \"sourceFileName\": \"Online_POST\",\n",
      "    \"statistics\": {\n",
      "      \"validLine\": 117660,\n",
      "      \"rejectLine\": 0,\n",
      "      \"failedConditionLine\": 0,\n",
      "      \"notEnoughToken\": 0,\n",
      "      \"invalidJson\": 0,\n",
      "      \"oversizeToken\": 0,\n",
      "      \"vertex\": [\n",
      "        {\n",
      "          \"typeName\": \"synset\",\n",
      "          \"validObject\": 117660,\n",
      "          \"noIdFound\": 0,\n",
      "          \"invalidAttribute\": 0,\n",
      "          \"invalidVertexType\": 0,\n",
      "          \"invalidPrimaryId\": 0,\n",
      "          \"invalidSecondaryId\": 0,\n",
      "          \"incorrectFixedBinaryLength\": 0\n",
      "        }\n",
      "      ],\n",
      "      \"edge\": [],\n",
      "      \"deleteVertex\": [],\n",
      "      \"deleteEdge\": []\n",
      "    }\n",
      "  }\n",
      "]\n"
     ]
    }
   ],
   "source": [
    "# Load the posts file wiht the 'load_edges' job\n",
    "load_edges = root+'/csv_imports/synsets.csv'\n",
    "results = conn.uploadFile(load_edges, timeout=100000, fileTag='MyDataSource', jobName='load_job_synsets_encoded')\n",
    "print(json.dumps(results, indent=2))"
   ]
  },
  {
   "cell_type": "code",
   "execution_count": null,
   "metadata": {
    "colab": {
     "base_uri": "https://localhost:8080/"
    },
    "id": "4VJAcr4pRrbW",
    "outputId": "84cd9c2d-9246-4bd2-c895-eee53a2dc1ed"
   },
   "outputs": [],
   "source": [
    "# Load the posts file wiht the 'load_edges' job\n",
    "load_edges = root+'csv_imports/encoded/words_encoded.csv'\n",
    "results = conn.uploadFile(load_edges, timeout=100000, fileTag='MyDataSource', jobName='load_job_words_encoded')\n",
    "print(json.dumps(results, indent=2))"
   ]
  },
  {
   "cell_type": "markdown",
   "metadata": {
    "id": "gAFCKYK61nzx"
   },
   "source": [
    "## Exploring the Graph"
   ]
  },
  {
   "cell_type": "markdown",
   "metadata": {
    "id": "4rJ_Vedw7oms"
   },
   "source": [
    "### Get Vertex and Edge Schema"
   ]
  },
  {
   "cell_type": "code",
   "execution_count": null,
   "metadata": {
    "colab": {
     "base_uri": "https://localhost:8080/"
    },
    "id": "g9F25xMY1p0p",
    "outputId": "591887a4-d5a7-486e-e266-7b8e8c7680c1"
   },
   "outputs": [],
   "source": [
    "results = conn.getVertexTypes()\n",
    "print(f\"Verticies: {results}\")\n",
    "vertices = results\n",
    "\n",
    "results = conn.getEdgeTypes()\n",
    "print(f\"Edges: {results}\")\n",
    "edges = results"
   ]
  },
  {
   "cell_type": "code",
   "execution_count": null,
   "metadata": {
    "colab": {
     "base_uri": "https://localhost:8080/"
    },
    "id": "RrWUEQ7p2TOK",
    "outputId": "07f286ad-5755-4150-cba5-7eba4dc5ab9e"
   },
   "outputs": [],
   "source": [
    "\n",
    "print(f\"Results for Post vertex\")\n",
    "pprint(conn.getVertexType(\"word\"))\n",
    "\n",
    "print(\"-----------------\")\n",
    "print(f\"Results for liked edge\")\n",
    "pprint(conn.getEdgeType(\"type\"))\n"
   ]
  },
  {
   "cell_type": "markdown",
   "metadata": {
    "id": "jWUaoSAa5ir6"
   },
   "source": [
    "## Counting Data"
   ]
  },
  {
   "cell_type": "code",
   "execution_count": null,
   "metadata": {
    "colab": {
     "base_uri": "https://localhost:8080/"
    },
    "id": "rkFt8Y9I3kYp",
    "outputId": "5480abe0-1e9b-4f43-ead8-ccc908835bdf"
   },
   "outputs": [],
   "source": [
    "print(\"Vertex Counts\")\n",
    "for vertex in vertices:\n",
    "  print(f\"There are {conn.getVertexCount(vertex)} {vertex} vertices in the graph\")\n",
    "\n",
    "print(\"--------------\")\n",
    "print(\"Edge Counts\")\n",
    "for edge in edges:\n",
    "  print(f\"There are {conn.getEdgeCount(edge)} {edge} edges in the graph\")"
   ]
  },
  {
   "cell_type": "code",
   "execution_count": null,
   "metadata": {},
   "outputs": [],
   "source": []
  }
 ],
 "metadata": {
  "colab": {
   "collapsed_sections": [
    "owRhnxW15t_w",
    "pSsJAzc_5yNN",
    "BgazrCKwR8R9",
    "TnUz48uPCxQk",
    "AijIsGUr5fDq",
    "p92Wfp-w6JJ0",
    "CyV-wdHp7hLX",
    "gPZ2iTs-6JJ_"
   ],
   "name": "LanguageModel_CN_UniqueEdge.ipynb",
   "provenance": []
  },
  "kernelspec": {
   "display_name": "Python 3 (ipykernel)",
   "language": "python",
   "name": "python3"
  },
  "language_info": {
   "codemirror_mode": {
    "name": "ipython",
    "version": 3
   },
   "file_extension": ".py",
   "mimetype": "text/x-python",
   "name": "python",
   "nbconvert_exporter": "python",
   "pygments_lexer": "ipython3",
   "version": "3.9.7"
  }
 },
 "nbformat": 4,
 "nbformat_minor": 4
}
