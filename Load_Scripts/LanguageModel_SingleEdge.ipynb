{
 "cells": [
  {
   "cell_type": "markdown",
   "metadata": {
    "id": "owRhnxW15t_w"
   },
   "source": [
    "## Install pyTigerGraph"
   ]
  },
  {
   "cell_type": "code",
   "execution_count": 1,
   "metadata": {
    "colab": {
     "base_uri": "https://localhost:8080/"
    },
    "id": "JmsrV-SNnx31",
    "outputId": "b6cdf554-18d5-4329-d1f0-93e0c84d23ea"
   },
   "outputs": [
    {
     "name": "stdout",
     "output_type": "stream",
     "text": [
      "Requirement already satisfied: pyTigerGraph in /opt/anaconda3/lib/python3.9/site-packages (0.0.9.8.6)\n",
      "Requirement already satisfied: pyTigerDriver in /opt/anaconda3/lib/python3.9/site-packages (from pyTigerGraph) (1.0.14)\n",
      "Requirement already satisfied: pandas in /opt/anaconda3/lib/python3.9/site-packages (from pyTigerGraph) (1.3.4)\n",
      "Requirement already satisfied: requests in /opt/anaconda3/lib/python3.9/site-packages (from pyTigerGraph) (2.26.0)\n",
      "Requirement already satisfied: validators in /opt/anaconda3/lib/python3.9/site-packages (from pyTigerGraph) (0.18.2)\n",
      "Requirement already satisfied: python-dateutil>=2.7.3 in /opt/anaconda3/lib/python3.9/site-packages (from pandas->pyTigerGraph) (2.8.2)\n",
      "Requirement already satisfied: pytz>=2017.3 in /opt/anaconda3/lib/python3.9/site-packages (from pandas->pyTigerGraph) (2021.3)\n",
      "Requirement already satisfied: numpy>=1.17.3 in /opt/anaconda3/lib/python3.9/site-packages (from pandas->pyTigerGraph) (1.20.3)\n",
      "Requirement already satisfied: six>=1.5 in /opt/anaconda3/lib/python3.9/site-packages (from python-dateutil>=2.7.3->pandas->pyTigerGraph) (1.16.0)\n",
      "Requirement already satisfied: idna<4,>=2.5 in /opt/anaconda3/lib/python3.9/site-packages (from requests->pyTigerGraph) (3.2)\n",
      "Requirement already satisfied: urllib3<1.27,>=1.21.1 in /opt/anaconda3/lib/python3.9/site-packages (from requests->pyTigerGraph) (1.26.7)\n",
      "Requirement already satisfied: certifi>=2017.4.17 in /opt/anaconda3/lib/python3.9/site-packages (from requests->pyTigerGraph) (2021.10.8)\n",
      "Requirement already satisfied: charset-normalizer~=2.0.0 in /opt/anaconda3/lib/python3.9/site-packages (from requests->pyTigerGraph) (2.0.4)\n",
      "Requirement already satisfied: decorator>=3.4.0 in /opt/anaconda3/lib/python3.9/site-packages (from validators->pyTigerGraph) (5.1.0)\n"
     ]
    }
   ],
   "source": [
    "# Setup\n",
    "!pip install pyTigerGraph"
   ]
  },
  {
   "cell_type": "markdown",
   "metadata": {
    "id": "pSsJAzc_5yNN"
   },
   "source": [
    "## Add Imports and Establish Initial Connection"
   ]
  },
  {
   "cell_type": "code",
   "execution_count": 2,
   "metadata": {
    "colab": {
     "base_uri": "https://localhost:8080/"
    },
    "id": "vqpwQh1_noLK",
    "outputId": "0c576fa6-e0d7-4da7-a010-bac34a70209a"
   },
   "outputs": [
    {
     "name": "stdout",
     "output_type": "stream",
     "text": [
      "Connected\n"
     ]
    }
   ],
   "source": [
    "# Imports\n",
    "import pyTigerGraph as tg\n",
    "import json\n",
    "import pandas as pd\n",
    "\n",
    "# Connection parameters\n",
    "hostName = \"https://language.i.tgcloud.io\"\n",
    "userName = \"tigergraph\"\n",
    "password = \"tigergraph\"\n",
    "\n",
    "conn = tg.TigerGraphConnection(host=hostName, username=userName, password=password)\n",
    "\n",
    "print(\"Connected\")"
   ]
  },
  {
   "cell_type": "markdown",
   "metadata": {
    "id": "BgazrCKwR8R9"
   },
   "source": [
    "## Clone the Data"
   ]
  },
  {
   "cell_type": "code",
   "execution_count": 3,
   "metadata": {
    "colab": {
     "base_uri": "https://localhost:8080/"
    },
    "id": "5TwgTntFR8R-",
    "outputId": "8500d267-3c95-4768-84b7-432fb604e34f"
   },
   "outputs": [],
   "source": [
    "# from google.colab import drive\n",
    "# drive.mount('/content/drive')"
   ]
  },
  {
   "cell_type": "code",
   "execution_count": 4,
   "metadata": {
    "colab": {
     "base_uri": "https://localhost:8080/"
    },
    "id": "G6MRGBSwR8R-",
    "outputId": "222acf31-1ab5-47b2-a687-94b907048b03"
   },
   "outputs": [],
   "source": [
    "# cd '/content/drive/MyDrive'\n",
    "root = '/Users/sudha.vijayakumar/Documents/GitHub/LanguageModel/Curated_Data/'"
   ]
  },
  {
   "cell_type": "code",
   "execution_count": 5,
   "metadata": {
    "id": "cVwqxmQpR8R-"
   },
   "outputs": [],
   "source": [
    "# !git clone https://github.com/sudha-vijayakumar/LanguageModel.git"
   ]
  },
  {
   "cell_type": "markdown",
   "metadata": {
    "id": "SDPUKGDc55bJ"
   },
   "source": [
    "## Define and Publish the Schema"
   ]
  },
  {
   "cell_type": "code",
   "execution_count": 6,
   "metadata": {
    "colab": {
     "base_uri": "https://localhost:8080/"
    },
    "id": "tbLUKiA4oSKX",
    "outputId": "e8065d35-d1a7-44b0-dd04-0fe6de6470ff"
   },
   "outputs": [
    {
     "name": "stdout",
     "output_type": "stream",
     "text": [
      "Successfully created vertex types: [words].\n",
      "Successfully created edge types: [type].\n",
      "Successfully created reverse edge types: [reverse_type].\n",
      "Successfully created vertex types: [word].\n",
      "Successfully created vertex types: [synset].\n",
      "Successfully created edge types: [is_a].\n",
      "Successfully created reverse edge types: [reverse_is_a].\n"
     ]
    }
   ],
   "source": [
    "# DEFINE / CREATE ALL EDGES AND VERTICES \n",
    "results = conn.gsql('''\n",
    "  USE GLOBAL\n",
    "  CREATE VERTEX words(PRIMARY_ID id STRING, uri STRING, word STRING, pos STRING,definition STRING) WITH STATS=\"OUTDEGREE_BY_EDGETYPE\", PRIMARY_ID_AS_ATTRIBUTE=\"true\"\n",
    "  CREATE DIRECTED EDGE type(FROM words, TO words, typeOf STRING) WITH REVERSE_EDGE=\"reverse_type\"\n",
    "  CREATE VERTEX word(PRIMARY_ID id STRING, name STRING, pos STRING) WITH STATS=\"OUTDEGREE_BY_EDGETYPE\", PRIMARY_ID_AS_ATTRIBUTE=\"true\"\n",
    "  CREATE VERTEX synset(PRIMARY_ID id STRING, definition STRING) WITH STATS=\"OUTDEGREE_BY_EDGETYPE\", PRIMARY_ID_AS_ATTRIBUTE=\"true\"\n",
    "  CREATE DIRECTED EDGE is_a(FROM synset, TO word|FROM word, TO synset, type STRING) WITH REVERSE_EDGE=\"reverse_is_a\"\n",
    "''')\n",
    "print(results)"
   ]
  },
  {
   "cell_type": "markdown",
   "metadata": {
    "id": "QtAieHUn3KSp"
   },
   "source": [
    "# WordNET"
   ]
  },
  {
   "cell_type": "markdown",
   "metadata": {
    "id": "bMz6fxfx59Xz"
   },
   "source": [
    "## Create WordNet Graph"
   ]
  },
  {
   "cell_type": "code",
   "execution_count": 7,
   "metadata": {
    "colab": {
     "base_uri": "https://localhost:8080/"
    },
    "id": "-cgC8b7OcZDd",
    "outputId": "8357e55d-db67-43b6-a0b5-5c3172ea3205"
   },
   "outputs": [
    {
     "name": "stdout",
     "output_type": "stream",
     "text": [
      "The graph WordNet is created.\n"
     ]
    }
   ],
   "source": [
    "results = conn.gsql('CREATE GRAPH WordNet(words,type,reverse_type)')\n",
    "print(results)"
   ]
  },
  {
   "cell_type": "code",
   "execution_count": 8,
   "metadata": {
    "colab": {
     "base_uri": "https://localhost:8080/"
    },
    "id": "SbxyEaptc2Ri",
    "outputId": "8f12d98e-3f74-451d-bcca-4f04b89edff6"
   },
   "outputs": [
    {
     "name": "stdout",
     "output_type": "stream",
     "text": [
      "2saeocjkgqsalca3d2324o3jsa4r7f0s\n",
      "te75poe9nv7hjsv7autit6ikcs8665jn\n"
     ]
    }
   ],
   "source": [
    "conn.graphname=\"WordNet\"\n",
    "secret = conn.createSecret()\n",
    "print(secret)\n",
    "authToken = conn.getToken(secret)\n",
    "authToken = authToken[0]\n",
    "print(authToken)\n",
    "# authToken = 'rc7reopbis1667ksgcppq5v5fb99p6s1'\n",
    "conn = tg.TigerGraphConnection(host=hostName, graphname=\"WordNet\", username=userName, password=password, apiToken=authToken)\n",
    "\n",
    "def pprint(string):\n",
    "  print(json.dumps(string, indent=2))"
   ]
  },
  {
   "cell_type": "markdown",
   "metadata": {
    "id": "MTWWoepV6Dc0"
   },
   "source": [
    "## Create Loading Jobs"
   ]
  },
  {
   "cell_type": "markdown",
   "metadata": {
    "id": "Up4f5hmq7MZl"
   },
   "source": [
    "### Word"
   ]
  },
  {
   "cell_type": "markdown",
   "metadata": {
    "id": "oXH8W3KIjVUC"
   },
   "source": [
    "Let's take a look at what one of our files looks like so we can write a loading job."
   ]
  },
  {
   "cell_type": "code",
   "execution_count": 9,
   "metadata": {
    "colab": {
     "base_uri": "https://localhost:8080/"
    },
    "id": "dV1wMpIMeZaY",
    "outputId": "09f8886a-50e8-495a-d020-0d2213605622"
   },
   "outputs": [
    {
     "name": "stdout",
     "output_type": "stream",
     "text": [
      "head: root+csv_imports/WN-nodes.csv: No such file or directory\n"
     ]
    }
   ],
   "source": [
    "!head -n 2 root+'csv_imports/WN-nodes.csv'"
   ]
  },
  {
   "cell_type": "markdown",
   "metadata": {
    "id": "M7Y081TD6Xh5"
   },
   "source": [
    "Here it's important to note that the `$0`, `$1` values line up with the columns of your data.\n",
    "In this example:\n",
    "- `$0` is the `uri` column,\n",
    "- `$1` is `id`,\n",
    "- `$2` is `word`\n",
    "- and so on"
   ]
  },
  {
   "cell_type": "code",
   "execution_count": 10,
   "metadata": {
    "colab": {
     "base_uri": "https://localhost:8080/"
    },
    "id": "22W6W58idFW5",
    "outputId": "1371e7fc-97eb-4978-f4e0-dbee93e76fa8"
   },
   "outputs": [
    {
     "name": "stdout",
     "output_type": "stream",
     "text": [
      "Using graph 'WordNet'\n",
      "Successfully created loading jobs: [load_job_WN].\n"
     ]
    }
   ],
   "source": [
    "results = conn.gsql('''\n",
    "  USE GRAPH WordNet\n",
    "  BEGIN\n",
    "  CREATE LOADING JOB load_job_WN FOR GRAPH WordNet {\n",
    "      DEFINE FILENAME MyDataSource;\n",
    "      LOAD MyDataSource TO EDGE type VALUES($0, $1, $2) USING SEPARATOR=\",\", HEADER=\"true\", EOL=\"\", QUOTE=\"double\";\n",
    "    }\n",
    "  END\n",
    "  ''')\n",
    "print(results)"
   ]
  },
  {
   "cell_type": "markdown",
   "metadata": {
    "id": "7yZhDo_q3We0"
   },
   "source": [
    "### Word Edges"
   ]
  },
  {
   "cell_type": "code",
   "execution_count": 11,
   "metadata": {
    "colab": {
     "base_uri": "https://localhost:8080/"
    },
    "id": "fpyLmIPd1_o7",
    "outputId": "20b29b8e-e6c9-4f47-c880-83fc055f7808"
   },
   "outputs": [
    {
     "name": "stdout",
     "output_type": "stream",
     "text": [
      "Using graph 'WordNet'\n",
      "Successfully created loading jobs: [load_job_WN_nodes].\n"
     ]
    }
   ],
   "source": [
    "results = conn.gsql('''\n",
    "  USE GRAPH WordNet\n",
    "  BEGIN\n",
    "  CREATE LOADING JOB load_job_WN_nodes FOR GRAPH WordNet {\n",
    "      DEFINE FILENAME MyDataSource;\n",
    "      LOAD MyDataSource TO VERTEX words VALUES($1, $0, $2, $3, $4) USING SEPARATOR=\",\", HEADER=\"true\", EOL=\"\", QUOTE=\"double\";\n",
    "    }\n",
    "  END\n",
    "  ''')\n",
    "print(results)"
   ]
  },
  {
   "cell_type": "markdown",
   "metadata": {
    "id": "Nm8hvEJo7YqM"
   },
   "source": [
    "## Load Data"
   ]
  },
  {
   "cell_type": "markdown",
   "metadata": {
    "id": "K1yUUv7k5soZ"
   },
   "source": [
    "### Words"
   ]
  },
  {
   "cell_type": "code",
   "execution_count": 12,
   "metadata": {
    "colab": {
     "base_uri": "https://localhost:8080/"
    },
    "id": "UWtWVHGg2O-p",
    "outputId": "870bb16d-b1e0-48c8-8636-a39458765669"
   },
   "outputs": [
    {
     "name": "stdout",
     "output_type": "stream",
     "text": [
      "[\n",
      "  {\n",
      "    \"sourceFileName\": \"Online_POST\",\n",
      "    \"statistics\": {\n",
      "      \"validLine\": 117792,\n",
      "      \"rejectLine\": 0,\n",
      "      \"failedConditionLine\": 0,\n",
      "      \"notEnoughToken\": 0,\n",
      "      \"invalidJson\": 0,\n",
      "      \"oversizeToken\": 0,\n",
      "      \"vertex\": [\n",
      "        {\n",
      "          \"typeName\": \"words\",\n",
      "          \"validObject\": 117792,\n",
      "          \"noIdFound\": 0,\n",
      "          \"invalidAttribute\": 0,\n",
      "          \"invalidVertexType\": 0,\n",
      "          \"invalidPrimaryId\": 0,\n",
      "          \"invalidSecondaryId\": 0,\n",
      "          \"incorrectFixedBinaryLength\": 0\n",
      "        }\n",
      "      ],\n",
      "      \"edge\": [],\n",
      "      \"deleteVertex\": [],\n",
      "      \"deleteEdge\": []\n",
      "    }\n",
      "  }\n",
      "]\n"
     ]
    }
   ],
   "source": [
    "# Load the posts file wiht the 'load_words' job\n",
    "load_words = root+'csv_imports/WN-nodes.csv'\n",
    "results = conn.uploadFile(load_words, fileTag='MyDataSource', jobName='load_job_WN_nodes')\n",
    "print(json.dumps(results, indent=2))"
   ]
  },
  {
   "cell_type": "markdown",
   "metadata": {
    "id": "jp_VKwTI5vfz"
   },
   "source": [
    "### Edges"
   ]
  },
  {
   "cell_type": "code",
   "execution_count": 13,
   "metadata": {
    "colab": {
     "base_uri": "https://localhost:8080/"
    },
    "id": "6y_PfFAT2PCC",
    "outputId": "d19f3ca1-a13e-4f44-bf90-1504ad05600c"
   },
   "outputs": [
    {
     "name": "stdout",
     "output_type": "stream",
     "text": [
      "[\n",
      "  {\n",
      "    \"sourceFileName\": \"Online_POST\",\n",
      "    \"statistics\": {\n",
      "      \"validLine\": 293652,\n",
      "      \"rejectLine\": 0,\n",
      "      \"failedConditionLine\": 0,\n",
      "      \"notEnoughToken\": 0,\n",
      "      \"invalidJson\": 0,\n",
      "      \"oversizeToken\": 0,\n",
      "      \"vertex\": [],\n",
      "      \"edge\": [\n",
      "        {\n",
      "          \"typeName\": \"type\",\n",
      "          \"validObject\": 293652,\n",
      "          \"noIdFound\": 0,\n",
      "          \"invalidAttribute\": 0,\n",
      "          \"invalidVertexType\": 0,\n",
      "          \"invalidPrimaryId\": 0,\n",
      "          \"invalidSecondaryId\": 0,\n",
      "          \"incorrectFixedBinaryLength\": 0\n",
      "        }\n",
      "      ],\n",
      "      \"deleteVertex\": [],\n",
      "      \"deleteEdge\": []\n",
      "    }\n",
      "  }\n",
      "]\n"
     ]
    }
   ],
   "source": [
    "# Load the posts file wiht the 'load_edges' job\n",
    "load_edges = root+'csv_imports/WN-edges.csv'\n",
    "results = conn.uploadFile(load_edges, fileTag='MyDataSource', jobName='load_job_WN')\n",
    "print(json.dumps(results, indent=2))"
   ]
  },
  {
   "cell_type": "markdown",
   "metadata": {
    "id": "gAFCKYK61nzx"
   },
   "source": [
    "## Exploring the Graph"
   ]
  },
  {
   "cell_type": "markdown",
   "metadata": {
    "id": "4rJ_Vedw7oms"
   },
   "source": [
    "### Get Vertex and Edge Schema"
   ]
  },
  {
   "cell_type": "code",
   "execution_count": 14,
   "metadata": {
    "colab": {
     "base_uri": "https://localhost:8080/"
    },
    "id": "g9F25xMY1p0p",
    "outputId": "94d8fbd8-8033-4234-df28-cd2df36e300f"
   },
   "outputs": [
    {
     "name": "stdout",
     "output_type": "stream",
     "text": [
      "Verticies: ['words']\n",
      "Edges: ['type']\n"
     ]
    }
   ],
   "source": [
    "results = conn.getVertexTypes()\n",
    "print(f\"Verticies: {results}\")\n",
    "vertices = results\n",
    "\n",
    "results = conn.getEdgeTypes()\n",
    "print(f\"Edges: {results}\")\n",
    "edges = results"
   ]
  },
  {
   "cell_type": "code",
   "execution_count": 15,
   "metadata": {
    "colab": {
     "base_uri": "https://localhost:8080/"
    },
    "id": "RrWUEQ7p2TOK",
    "outputId": "ce68f1e8-c980-4963-d5ea-39652e34a4c7"
   },
   "outputs": [
    {
     "name": "stdout",
     "output_type": "stream",
     "text": [
      "Results for Post vertex\n",
      "{\n",
      "  \"Config\": {\n",
      "    \"TAGGABLE\": false,\n",
      "    \"STATS\": \"OUTDEGREE_BY_EDGETYPE\",\n",
      "    \"PRIMARY_ID_AS_ATTRIBUTE\": true\n",
      "  },\n",
      "  \"Attributes\": [\n",
      "    {\n",
      "      \"AttributeType\": {\n",
      "        \"Name\": \"STRING\"\n",
      "      },\n",
      "      \"IsPartOfCompositeKey\": false,\n",
      "      \"PrimaryIdAsAttribute\": false,\n",
      "      \"AttributeName\": \"uri\",\n",
      "      \"HasIndex\": false,\n",
      "      \"internalAttribute\": false,\n",
      "      \"IsPrimaryKey\": false\n",
      "    },\n",
      "    {\n",
      "      \"AttributeType\": {\n",
      "        \"Name\": \"STRING\"\n",
      "      },\n",
      "      \"IsPartOfCompositeKey\": false,\n",
      "      \"PrimaryIdAsAttribute\": false,\n",
      "      \"AttributeName\": \"word\",\n",
      "      \"HasIndex\": false,\n",
      "      \"internalAttribute\": false,\n",
      "      \"IsPrimaryKey\": false\n",
      "    },\n",
      "    {\n",
      "      \"AttributeType\": {\n",
      "        \"Name\": \"STRING\"\n",
      "      },\n",
      "      \"IsPartOfCompositeKey\": false,\n",
      "      \"PrimaryIdAsAttribute\": false,\n",
      "      \"AttributeName\": \"pos\",\n",
      "      \"HasIndex\": false,\n",
      "      \"internalAttribute\": false,\n",
      "      \"IsPrimaryKey\": false\n",
      "    },\n",
      "    {\n",
      "      \"AttributeType\": {\n",
      "        \"Name\": \"STRING\"\n",
      "      },\n",
      "      \"IsPartOfCompositeKey\": false,\n",
      "      \"PrimaryIdAsAttribute\": false,\n",
      "      \"AttributeName\": \"definition\",\n",
      "      \"HasIndex\": false,\n",
      "      \"internalAttribute\": false,\n",
      "      \"IsPrimaryKey\": false\n",
      "    }\n",
      "  ],\n",
      "  \"PrimaryId\": {\n",
      "    \"AttributeType\": {\n",
      "      \"Name\": \"STRING\"\n",
      "    },\n",
      "    \"IsPartOfCompositeKey\": false,\n",
      "    \"PrimaryIdAsAttribute\": true,\n",
      "    \"AttributeName\": \"id\",\n",
      "    \"HasIndex\": false,\n",
      "    \"internalAttribute\": false,\n",
      "    \"IsPrimaryKey\": false\n",
      "  },\n",
      "  \"Name\": \"words\"\n",
      "}\n",
      "-----------------\n",
      "Results for liked edge\n",
      "{\n",
      "  \"IsDirected\": true,\n",
      "  \"ToVertexTypeName\": \"words\",\n",
      "  \"Config\": {\n",
      "    \"REVERSE_EDGE\": \"reverse_type\"\n",
      "  },\n",
      "  \"Attributes\": [\n",
      "    {\n",
      "      \"AttributeType\": {\n",
      "        \"Name\": \"STRING\"\n",
      "      },\n",
      "      \"IsPartOfCompositeKey\": false,\n",
      "      \"PrimaryIdAsAttribute\": false,\n",
      "      \"AttributeName\": \"typeOf\",\n",
      "      \"HasIndex\": false,\n",
      "      \"internalAttribute\": false,\n",
      "      \"IsPrimaryKey\": false\n",
      "    }\n",
      "  ],\n",
      "  \"FromVertexTypeName\": \"words\",\n",
      "  \"Name\": \"type\"\n",
      "}\n"
     ]
    }
   ],
   "source": [
    "\n",
    "print(f\"Results for Post vertex\")\n",
    "pprint(conn.getVertexType(\"words\"))\n",
    "\n",
    "print(\"-----------------\")\n",
    "print(f\"Results for liked edge\")\n",
    "pprint(conn.getEdgeType(\"type\"))\n"
   ]
  },
  {
   "cell_type": "markdown",
   "metadata": {
    "id": "jWUaoSAa5ir6"
   },
   "source": [
    "## Counting Data"
   ]
  },
  {
   "cell_type": "code",
   "execution_count": 16,
   "metadata": {
    "colab": {
     "base_uri": "https://localhost:8080/"
    },
    "id": "rkFt8Y9I3kYp",
    "outputId": "e383a808-73de-4e1e-8e48-d84c4c2c7f42"
   },
   "outputs": [
    {
     "name": "stdout",
     "output_type": "stream",
     "text": [
      "Vertex Counts\n",
      "There are 33626 words vertices in the graph\n",
      "--------------\n",
      "Edge Counts\n",
      "There are 0 type edges in the graph\n"
     ]
    }
   ],
   "source": [
    "print(\"Vertex Counts\")\n",
    "for vertex in vertices:\n",
    "  print(f\"There are {conn.getVertexCount(vertex)} {vertex} vertices in the graph\")\n",
    "\n",
    "print(\"--------------\")\n",
    "print(\"Edge Counts\")\n",
    "for edge in edges:\n",
    "  print(f\"There are {conn.getEdgeCount(edge)} {edge} edges in the graph\")"
   ]
  },
  {
   "cell_type": "markdown",
   "metadata": {
    "id": "TnUz48uPCxQk"
   },
   "source": [
    "## Extracting Data"
   ]
  },
  {
   "cell_type": "markdown",
   "metadata": {
    "id": "MYVeVJvwHZlP"
   },
   "source": [
    "### Vertex/Edge Set Format"
   ]
  },
  {
   "cell_type": "markdown",
   "metadata": {
    "id": "eX3x8Ao9ENDm"
   },
   "source": [
    "#### Getting a Vertex"
   ]
  },
  {
   "cell_type": "code",
   "execution_count": 17,
   "metadata": {
    "colab": {
     "base_uri": "https://localhost:8080/"
    },
    "id": "QKIHiOeSC2IO",
    "outputId": "99918c48-6b84-407f-9bd2-dac4dd886e67"
   },
   "outputs": [
    {
     "name": "stdout",
     "output_type": "stream",
     "text": [
      "[\n",
      "  {\n",
      "    \"v_id\": \"15314760-n\",\n",
      "    \"v_type\": \"words\",\n",
      "    \"attributes\": {\n",
      "      \"id\": \"15314760-n\",\n",
      "      \"uri\": \"http://wordnet-rdf.princeton.edu/id/15314760-n\",\n",
      "      \"word\": \"lead_time\",\n",
      "      \"pos\": \"noun\",\n",
      "      \"definition\": \"the time interval between the initiation and the completion of a production process; &quot;the lead times for many publications can vary tremendously&quot;; &quot;planning is an area where lead time can be reduced&quot;@en\"\n",
      "    }\n",
      "  }\n",
      "]\n"
     ]
    }
   ],
   "source": [
    "results = conn.getVerticesById(\"words\", \"15314760-n\")\n",
    "pprint(results)"
   ]
  },
  {
   "cell_type": "markdown",
   "metadata": {
    "id": "wvRr72nfERqZ"
   },
   "source": [
    "#### Or Multiple Vertices"
   ]
  },
  {
   "cell_type": "code",
   "execution_count": 18,
   "metadata": {
    "colab": {
     "base_uri": "https://localhost:8080/"
    },
    "id": "dCDiIakzEULm",
    "outputId": "16fe353f-ec6c-45c0-bc75-e5079e47eb7a"
   },
   "outputs": [
    {
     "name": "stdout",
     "output_type": "stream",
     "text": [
      "[\n",
      "  {\n",
      "    \"v_id\": \"15137796-n\",\n",
      "    \"v_type\": \"words\",\n",
      "    \"attributes\": {\n",
      "      \"id\": \"15137796-n\",\n",
      "      \"uri\": \"http://wordnet-rdf.princeton.edu/id/15137796-n\",\n",
      "      \"word\": \"period\",\n",
      "      \"pos\": \"noun\",\n",
      "      \"definition\": \"an amount of time; &quot;a time period of 30 years&quot;; &quot;hastened the period of time of his recovery&quot;; &quot;Picasso's blue period&quot;@en\"\n",
      "    }\n",
      "  },\n",
      "  {\n",
      "    \"v_id\": \"15192825-n\",\n",
      "    \"v_type\": \"words\",\n",
      "    \"attributes\": {\n",
      "      \"id\": \"15192825-n\",\n",
      "      \"uri\": \"http://wordnet-rdf.princeton.edu/id/15192825-n\",\n",
      "      \"word\": \"eve\",\n",
      "      \"pos\": \"noun\",\n",
      "      \"definition\": \"the period immediately before something; &quot;on the eve of the French Revolution&quot;@en\"\n",
      "    }\n",
      "  }\n",
      "]\n"
     ]
    }
   ],
   "source": [
    "tdf1 = conn.getVerticesById(\"words\", [\"15137796-n\",\"15192825-n\"])\n",
    "pprint(tdf1)"
   ]
  },
  {
   "cell_type": "markdown",
   "metadata": {
    "id": "vqJASpgJEg6-"
   },
   "source": [
    "#### Count Edges Connected to a Vertex"
   ]
  },
  {
   "cell_type": "code",
   "execution_count": 19,
   "metadata": {
    "colab": {
     "base_uri": "https://localhost:8080/"
    },
    "id": "t-wNtrkfEj3y",
    "outputId": "72fa8453-6303-4f95-ca5e-8d3347972f6f"
   },
   "outputs": [
    {
     "name": "stdout",
     "output_type": "stream",
     "text": [
      "{\n",
      "  \"type\": 1,\n",
      "  \"reverse_type\": 1\n",
      "}\n"
     ]
    }
   ],
   "source": [
    "results = conn.getEdgeCountFrom(\"words\", \"15192825-n\")\n",
    "pprint(results)"
   ]
  },
  {
   "cell_type": "markdown",
   "metadata": {
    "id": "4g2KqQmpE1KJ"
   },
   "source": [
    "#### Show all Edges Connected to a Vertex"
   ]
  },
  {
   "cell_type": "code",
   "execution_count": 20,
   "metadata": {
    "colab": {
     "base_uri": "https://localhost:8080/"
    },
    "id": "OWVCDSvCE598",
    "outputId": "1aec3e93-388f-4f88-afa9-5e1d7f22afcb"
   },
   "outputs": [
    {
     "name": "stdout",
     "output_type": "stream",
     "text": [
      "[\n",
      "  {\n",
      "    \"e_type\": \"type\",\n",
      "    \"directed\": true,\n",
      "    \"from_id\": \"15192825-n\",\n",
      "    \"from_type\": \"words\",\n",
      "    \"to_id\": \"15137796-n\",\n",
      "    \"to_type\": \"words\",\n",
      "    \"attributes\": {\n",
      "      \"typeOf\": \"hypernym\"\n",
      "    }\n",
      "  },\n",
      "  {\n",
      "    \"e_type\": \"reverse_type\",\n",
      "    \"directed\": true,\n",
      "    \"from_id\": \"15192825-n\",\n",
      "    \"from_type\": \"words\",\n",
      "    \"to_id\": \"15137796-n\",\n",
      "    \"to_type\": \"words\",\n",
      "    \"attributes\": {\n",
      "      \"typeOf\": \"hyponym\"\n",
      "    }\n",
      "  }\n",
      "]\n"
     ]
    }
   ],
   "source": [
    "results = conn.getEdges(\"words\", \"15192825-n\")\n",
    "pprint(results)"
   ]
  },
  {
   "cell_type": "markdown",
   "metadata": {
    "id": "ckFBOkiOCzyk"
   },
   "source": [
    "### As Pandas Dataframe\n",
    "Supports all of the above in native Pandas Dataframe format."
   ]
  },
  {
   "cell_type": "markdown",
   "metadata": {
    "id": "MqGq0jozFayA"
   },
   "source": [
    "#### All Vertices of one Type"
   ]
  },
  {
   "cell_type": "code",
   "execution_count": 21,
   "metadata": {
    "colab": {
     "base_uri": "https://localhost:8080/"
    },
    "id": "tfUKpWbaFM3u",
    "outputId": "5ec875ad-1d5b-4f75-dcd6-cdcadfc5ccc2"
   },
   "outputs": [
    {
     "name": "stdout",
     "output_type": "stream",
     "text": [
      "              v_id          id  \\\n",
      "0       15310990-n  15310990-n   \n",
      "1       15309261-n  15309261-n   \n",
      "2       15268162-n  15268162-n   \n",
      "3       15267410-n  15267410-n   \n",
      "4       15247336-n  15247336-n   \n",
      "...            ...         ...   \n",
      "117789  06698720-n  06698720-n   \n",
      "117790  04766683-n  04766683-n   \n",
      "117791  04767551-n  04767551-n   \n",
      "117792  01655911-a  01655911-a   \n",
      "117793  04786292-n  04786292-n   \n",
      "\n",
      "                                                   uri                word  \\\n",
      "0       http://wordnet-rdf.princeton.edu/id/15310990-n  neonatal_mortality   \n",
      "1       http://wordnet-rdf.princeton.edu/id/15309261-n   peculiar_velocity   \n",
      "2       http://wordnet-rdf.princeton.edu/id/15268162-n           long_haul   \n",
      "3       http://wordnet-rdf.princeton.edu/id/15267410-n        Whit-Tuesday   \n",
      "4       http://wordnet-rdf.princeton.edu/id/15247336-n          school_day   \n",
      "...                                                ...                 ...   \n",
      "117789  http://wordnet-rdf.princeton.edu/id/06698720-n       stock_warrant   \n",
      "117790  http://wordnet-rdf.princeton.edu/id/04766683-n          factuality   \n",
      "117791  http://wordnet-rdf.princeton.edu/id/04767551-n       impalpability   \n",
      "117792  http://wordnet-rdf.princeton.edu/id/01655911-a                 off   \n",
      "117793  http://wordnet-rdf.princeton.edu/id/04786292-n       agreeableness   \n",
      "\n",
      "              pos                                         definition  \n",
      "0            noun  the death rate during the first 28 days of lif...  \n",
      "1            noun  velocity with respect to the local standard of...  \n",
      "2            noun  a period of time sufficient for factors to wor...  \n",
      "3            noun                        the day after Whitmonday@en  \n",
      "4            noun  any day on which school is in session; &quot;g...  \n",
      "...           ...                                                ...  \n",
      "117789       noun  a written certificate that gives the holder th...  \n",
      "117790       noun  the quality of being actual or based on fact; ...  \n",
      "117791       noun  the quality of being intangible and not percep...  \n",
      "117792  adjective  not in operation or operational; &quot;the ove...  \n",
      "117793       noun  pleasantness resulting from agreeable conditio...  \n",
      "\n",
      "[117794 rows x 6 columns]\n"
     ]
    }
   ],
   "source": [
    "df1 = conn.getVertexDataframe(\"words\")\n",
    "print(df1)"
   ]
  },
  {
   "cell_type": "markdown",
   "metadata": {
    "id": "Cs5chjJBFgw8"
   },
   "source": [
    "#### One or More Vertex"
   ]
  },
  {
   "cell_type": "code",
   "execution_count": 22,
   "metadata": {
    "colab": {
     "base_uri": "https://localhost:8080/"
    },
    "id": "ZqZZ8r0EFiMg",
    "outputId": "4d21fe07-be8b-43cd-d728-b41101fbbc58"
   },
   "outputs": [
    {
     "name": "stdout",
     "output_type": "stream",
     "text": [
      "         v_id          id                                             uri  \\\n",
      "0  15192825-n  15192825-n  http://wordnet-rdf.princeton.edu/id/15192825-n   \n",
      "\n",
      "  word   pos                                         definition  \n",
      "0  eve  noun  the period immediately before something; &quot...  \n"
     ]
    }
   ],
   "source": [
    "df2 = conn.getVertexDataframeById(\"words\", [\"15192825-n\"])\n",
    "print(df2)"
   ]
  },
  {
   "cell_type": "markdown",
   "metadata": {
    "id": "P5KKOIxcF7Co"
   },
   "source": [
    "#### Convert Vertex/Edge Set to Dataframe\n",
    "We'll use the results from the 'Or Multiple Vertices' cell. "
   ]
  },
  {
   "cell_type": "code",
   "execution_count": 23,
   "metadata": {
    "colab": {
     "base_uri": "https://localhost:8080/"
    },
    "id": "5toKOF-1GIjH",
    "outputId": "70dd968d-74f8-4c3f-f806-572c0d11140f"
   },
   "outputs": [
    {
     "name": "stdout",
     "output_type": "stream",
     "text": [
      "         v_id          id                                             uri  \\\n",
      "0  15137796-n  15137796-n  http://wordnet-rdf.princeton.edu/id/15137796-n   \n",
      "1  15192825-n  15192825-n  http://wordnet-rdf.princeton.edu/id/15192825-n   \n",
      "\n",
      "     word   pos                                         definition  \n",
      "0  period  noun  an amount of time; &quot;a time period of 30 y...  \n",
      "1     eve  noun  the period immediately before something; &quot...  \n"
     ]
    }
   ],
   "source": [
    "df3 = conn.vertexSetToDataFrame(tdf1)\n",
    "print(df3)"
   ]
  },
  {
   "cell_type": "markdown",
   "metadata": {
    "id": "zswIzwgKHnCr"
   },
   "source": [
    "#### Get Edges"
   ]
  },
  {
   "cell_type": "code",
   "execution_count": 24,
   "metadata": {
    "colab": {
     "base_uri": "https://localhost:8080/"
    },
    "id": "jnPTicB4HwpH",
    "outputId": "9b66fb27-a9de-4954-d983-342179e341d5"
   },
   "outputs": [
    {
     "name": "stdout",
     "output_type": "stream",
     "text": [
      "  from_type     from_id to_type       to_id    typeOf\n",
      "0     words  15192825-n   words  15137796-n  hypernym\n",
      "1     words  15192825-n   words  15137796-n   hyponym\n"
     ]
    }
   ],
   "source": [
    "df4 = conn.getEdgesDataframe(\"words\", \"15192825-n\", limit=3)\n",
    "print(df4)"
   ]
  },
  {
   "cell_type": "markdown",
   "metadata": {
    "id": "AijIsGUr5fDq"
   },
   "source": [
    "## Path Finding\n",
    "Find paths between vertices.\n",
    "\n",
    "Supported are:\n",
    "- shortestPath - one shortest path between vertices\n",
    "- allPaths - all paths within the specified edge limit"
   ]
  },
  {
   "cell_type": "code",
   "execution_count": 25,
   "metadata": {
    "colab": {
     "base_uri": "https://localhost:8080/"
    },
    "id": "MxIMRX1x5UPQ",
    "outputId": "da9a16de-1690-44dc-afcf-825ec4107444"
   },
   "outputs": [
    {
     "name": "stdout",
     "output_type": "stream",
     "text": [
      "[{'type': 'words', 'id': '15192825-n'}]\n",
      "[{'type': 'words', 'id': '15161294-n'}]\n",
      "[\n",
      "  {\n",
      "    \"vertices\": [\n",
      "      {\n",
      "        \"v_id\": \"15137796-n\",\n",
      "        \"v_type\": \"words\",\n",
      "        \"attributes\": {\n",
      "          \"id\": \"15137796-n\",\n",
      "          \"uri\": \"http://wordnet-rdf.princeton.edu/id/15137796-n\",\n",
      "          \"word\": \"period\",\n",
      "          \"pos\": \"noun\",\n",
      "          \"definition\": \"an amount of time; &quot;a time period of 30 years&quot;; &quot;hastened the period of time of his recovery&quot;; &quot;Picasso's blue period&quot;@en\"\n",
      "        }\n",
      "      },\n",
      "      {\n",
      "        \"v_id\": \"15161294-n\",\n",
      "        \"v_type\": \"words\",\n",
      "        \"attributes\": {\n",
      "          \"id\": \"15161294-n\",\n",
      "          \"uri\": \"http://wordnet-rdf.princeton.edu/id/15161294-n\",\n",
      "          \"word\": \"midweek\",\n",
      "          \"pos\": \"noun\",\n",
      "          \"definition\": \"the middle of a week@en\"\n",
      "        }\n",
      "      },\n",
      "      {\n",
      "        \"v_id\": \"15192825-n\",\n",
      "        \"v_type\": \"words\",\n",
      "        \"attributes\": {\n",
      "          \"id\": \"15192825-n\",\n",
      "          \"uri\": \"http://wordnet-rdf.princeton.edu/id/15192825-n\",\n",
      "          \"word\": \"eve\",\n",
      "          \"pos\": \"noun\",\n",
      "          \"definition\": \"the period immediately before something; &quot;on the eve of the French Revolution&quot;@en\"\n",
      "        }\n",
      "      }\n",
      "    ],\n",
      "    \"edges\": [\n",
      "      {\n",
      "        \"e_type\": \"type\",\n",
      "        \"from_id\": \"15137796-n\",\n",
      "        \"from_type\": \"words\",\n",
      "        \"to_id\": \"15161294-n\",\n",
      "        \"to_type\": \"words\",\n",
      "        \"directed\": true,\n",
      "        \"attributes\": {\n",
      "          \"typeOf\": \"hyponym\"\n",
      "        }\n",
      "      },\n",
      "      {\n",
      "        \"e_type\": \"type\",\n",
      "        \"from_id\": \"15192825-n\",\n",
      "        \"from_type\": \"words\",\n",
      "        \"to_id\": \"15137796-n\",\n",
      "        \"to_type\": \"words\",\n",
      "        \"directed\": true,\n",
      "        \"attributes\": {\n",
      "          \"typeOf\": \"hypernym\"\n",
      "        }\n",
      "      }\n",
      "    ]\n",
      "  }\n",
      "]\n"
     ]
    }
   ],
   "source": [
    "results = conn.shortestPath([(\"words\", \"15192825-n\")], [(\"words\", \"15161294-n\")])\n",
    "pprint(results)"
   ]
  },
  {
   "cell_type": "markdown",
   "metadata": {
    "id": "p92Wfp-w6JJ0"
   },
   "source": [
    "# ConceptNET"
   ]
  },
  {
   "cell_type": "markdown",
   "metadata": {
    "id": "6zZCAt-N6JJ8"
   },
   "source": [
    "## Create WordNet Graph"
   ]
  },
  {
   "cell_type": "code",
   "execution_count": 26,
   "metadata": {
    "colab": {
     "base_uri": "https://localhost:8080/"
    },
    "id": "M_xoLplS6JJ8",
    "outputId": "73067853-5307-4948-bf51-0cb5a88f21d7"
   },
   "outputs": [
    {
     "name": "stdout",
     "output_type": "stream",
     "text": [
      "The graph ConceptNET is created.\n"
     ]
    }
   ],
   "source": [
    "results = conn.gsql('CREATE GRAPH ConceptNET(word, synset, is_a, reverse_is_a)')\n",
    "print(results)"
   ]
  },
  {
   "cell_type": "code",
   "execution_count": 27,
   "metadata": {
    "colab": {
     "base_uri": "https://localhost:8080/"
    },
    "id": "wtW9IYur6JJ9",
    "outputId": "50de8c00-bac1-4c81-8d2e-67cbfa0a9622"
   },
   "outputs": [
    {
     "name": "stdout",
     "output_type": "stream",
     "text": [
      "aapqehnk14btdnacrsvsmglrdm746snq\n",
      "mul891oht9idb2ocmacnh59nfi5l1me0\n"
     ]
    }
   ],
   "source": [
    "conn.graphname=\"ConceptNET\"\n",
    "secret = conn.createSecret()\n",
    "print(secret)\n",
    "authToken = conn.getToken(secret)\n",
    "authToken = authToken[0]\n",
    "print(authToken)\n",
    "conn = tg.TigerGraphConnection(host=hostName, graphname=\"ConceptNET\", username=userName, password=password, apiToken=authToken)\n",
    "\n",
    "def pprint(string):\n",
    "  print(json.dumps(string, indent=2))"
   ]
  },
  {
   "cell_type": "markdown",
   "metadata": {
    "id": "ZlzmsKYZ6JJ9"
   },
   "source": [
    "## Create Loading Jobs"
   ]
  },
  {
   "cell_type": "markdown",
   "metadata": {
    "id": "HfGxKRvo6JJ-"
   },
   "source": [
    "### Concept/ Words Edges"
   ]
  },
  {
   "cell_type": "markdown",
   "metadata": {
    "id": "t5wwsBNT6JJ-"
   },
   "source": [
    "Let's take a look at what one of our files looks like so we can write a loading job. \n",
    "\n",
    "- has_synset(FROM rootWord, TO synset)\n",
    "is_a_synset_of(FROM synset, TO rootWord)\n"
   ]
  },
  {
   "cell_type": "code",
   "execution_count": 28,
   "metadata": {
    "colab": {
     "base_uri": "https://localhost:8080/"
    },
    "id": "LcVbs2n36JJ-",
    "outputId": "85c35e3f-a188-4da0-a8bd-0e27913c837f"
   },
   "outputs": [
    {
     "name": "stdout",
     "output_type": "stream",
     "text": [
      "head: /content/drive/MyDrive/LanguageModel/Data_Processing/csv_imports/words.csv: No such file or directory\n"
     ]
    }
   ],
   "source": [
    "!head -n 2 '/content/drive/MyDrive/LanguageModel/Data_Processing/csv_imports/words.csv'"
   ]
  },
  {
   "cell_type": "markdown",
   "metadata": {
    "id": "BqCWHZsq6JJ-"
   },
   "source": [
    "Here it's important to note that the `$0`, `$1` values line up with the columns of your data.\n",
    "In this example:\n",
    "- `$0` is the `uri` column,\n",
    "- `$1` is `id`,\n",
    "- `$2` is `word`\n",
    "- and so on"
   ]
  },
  {
   "cell_type": "code",
   "execution_count": 29,
   "metadata": {
    "colab": {
     "base_uri": "https://localhost:8080/"
    },
    "id": "jx9wRrAF6JJ-",
    "outputId": "de2b3479-f40b-4bba-9e14-165fcf5854ee"
   },
   "outputs": [
    {
     "name": "stdout",
     "output_type": "stream",
     "text": [
      "Using graph 'ConceptNET'\n",
      "Successfully created loading jobs: [load_job_words].\n",
      "Successfully created loading jobs: [load_job_synsets].\n",
      "Successfully created loading jobs: [load_job_relationships].\n"
     ]
    }
   ],
   "source": [
    "results = conn.gsql('''\n",
    "  USE GRAPH ConceptNET\n",
    "  BEGIN\n",
    "  CREATE LOADING JOB load_job_words FOR GRAPH ConceptNET {\n",
    "      DEFINE FILENAME MyDataSource;\n",
    "      LOAD MyDataSource TO VERTEX word VALUES($0, $1, $2) USING SEPARATOR=\",\", HEADER=\"true\", EOL=\"\", QUOTE=\"double\";\n",
    "    }\n",
    "\n",
    "    CREATE LOADING JOB load_job_synsets FOR GRAPH ConceptNET {\n",
    "      DEFINE FILENAME MyDataSource;\n",
    "      LOAD MyDataSource TO VERTEX synset VALUES($0, $2) USING SEPARATOR=\",\", HEADER=\"true\", EOL=\"\", QUOTE=\"double\";\n",
    "    }\n",
    "\n",
    "\n",
    "    CREATE LOADING JOB load_job_relationships FOR GRAPH ConceptNET {\n",
    "      DEFINE FILENAME MyDataSource;\n",
    "      LOAD MyDataSource TO EDGE is_a VALUES($0 word, $1 synset, $4) USING SEPARATOR=\",\", HEADER=\"true\", EOL=\"\";\n",
    "      LOAD MyDataSource TO EDGE is_a VALUES($0 synset, $1 word, $4) USING SEPARATOR=\",\", HEADER=\"true\", EOL=\"\";\n",
    "    }\n",
    "\n",
    "  END\n",
    "  ''')\n",
    "print(results)"
   ]
  },
  {
   "cell_type": "markdown",
   "metadata": {
    "id": "rWH8nZWn6JJ-"
   },
   "source": [
    "### Concept/ Word Root\n"
   ]
  },
  {
   "cell_type": "code",
   "execution_count": 30,
   "metadata": {
    "colab": {
     "base_uri": "https://localhost:8080/"
    },
    "id": "vnA98sWjlTOJ",
    "outputId": "686e9b1e-7325-4f10-c909-b2c6d1d6031d"
   },
   "outputs": [
    {
     "name": "stdout",
     "output_type": "stream",
     "text": [
      "head: /content/drive/MyDrive/LanguageModel/Data_Processing/csv_imports/synsets.csv: No such file or directory\n"
     ]
    }
   ],
   "source": [
    "!head -n 2 '/content/drive/MyDrive/LanguageModel/Data_Processing/csv_imports/synsets.csv'"
   ]
  },
  {
   "cell_type": "code",
   "execution_count": 31,
   "metadata": {
    "colab": {
     "base_uri": "https://localhost:8080/"
    },
    "id": "YiU89as36JJ-",
    "outputId": "7955c79b-bda6-4278-94fd-1232647a4cef"
   },
   "outputs": [
    {
     "name": "stdout",
     "output_type": "stream",
     "text": [
      "Using graph 'ConceptNET'\n",
      "Successfully created loading jobs: [load_job_words_csv_1644515929297].\n",
      "Successfully created loading jobs: [load_job_relationships_csv_1644515956497].\n",
      "Successfully created loading jobs: [load_job_synsets_csv_1644515968121].\n"
     ]
    }
   ],
   "source": [
    "results = conn.gsql('''\n",
    "  USE GRAPH ConceptNET\n",
    "  BEGIN\n",
    "  CREATE LOADING JOB load_job_words_csv_1644515929297 FOR GRAPH ConceptNET {\n",
    "      DEFINE FILENAME MyDataSource;\n",
    "      LOAD MyDataSource TO VERTEX word VALUES($0, $1, $2) USING SEPARATOR=\",\", HEADER=\"true\", EOL=\"\\n\", QUOTE=\"double\";\n",
    "    }\n",
    "\n",
    "  CREATE LOADING JOB load_job_relationships_csv_1644515956497 FOR GRAPH ConceptNET {\n",
    "      DEFINE FILENAME MyDataSource;\n",
    "      LOAD MyDataSource TO EDGE is_a VALUES($0 synset, $1 word, $4) USING SEPARATOR=\",\", HEADER=\"true\", EOL=\"\\n\", QUOTE=\"double\";\n",
    "      LOAD MyDataSource TO EDGE is_a VALUES($0 word, $1 synset, $4) USING SEPARATOR=\",\", HEADER=\"true\", EOL=\"\\n\", QUOTE=\"double\";\n",
    "    }\n",
    "\n",
    "  CREATE LOADING JOB load_job_synsets_csv_1644515968121 FOR GRAPH ConceptNET {\n",
    "      DEFINE FILENAME MyDataSource;\n",
    "      LOAD MyDataSource TO VERTEX synset VALUES($0, $2) USING SEPARATOR=\",\", HEADER=\"true\", EOL=\"\\n\", QUOTE=\"double\";\n",
    "    }\n",
    "  END\n",
    "  ''')\n",
    "print(results)"
   ]
  },
  {
   "cell_type": "markdown",
   "metadata": {
    "id": "CyV-wdHp7hLX"
   },
   "source": [
    "### Concept/ Synset \n",
    "- synset(PRIMARY_ID id STRING, pos STRING, definition STRING, label STRING) WITH STATS=\"OUTDEGREE_BY_EDGETYPE\", PRIMARY_ID_AS_ATTRIBUTE=\"true\"\n"
   ]
  },
  {
   "cell_type": "code",
   "execution_count": 32,
   "metadata": {
    "colab": {
     "base_uri": "https://localhost:8080/"
    },
    "id": "TFJGoh6Y7hLY",
    "outputId": "dfe91a55-d7dd-4870-8b31-cbb1ed54c85d"
   },
   "outputs": [
    {
     "name": "stdout",
     "output_type": "stream",
     "text": [
      "Using graph 'ConceptNET'\n",
      "Semantic Check Fails: The job name load_job_relationships already exists in other objects!\n",
      "Failed to create loading jobs: [load_job_relationships].\n"
     ]
    }
   ],
   "source": [
    "results = conn.gsql('''\n",
    "  USE GRAPH ConceptNET\n",
    "  BEGIN\n",
    "  CREATE LOADING JOB load_job_relationships FOR GRAPH ConceptNET {\n",
    "      DEFINE FILENAME MyDataSource;\n",
    "      LOAD MyDataSource TO EDGE is_a VALUES($0 word, $1 synset, $4) USING SEPARATOR=\",\", HEADER=\"true\", EOL=\"\\n\";\n",
    "      LOAD MyDataSource TO EDGE is_a VALUES($0 synset, $1 word, $4) USING SEPARATOR=\",\", HEADER=\"true\", EOL=\"\\n\";\n",
    "    }\n",
    "  END\n",
    "  ''')\n",
    "print(results)"
   ]
  },
  {
   "cell_type": "markdown",
   "metadata": {
    "id": "HnOFvxUe6JJ_"
   },
   "source": [
    "## Load Data"
   ]
  },
  {
   "cell_type": "markdown",
   "metadata": {
    "id": "gPZ2iTs-6JJ_"
   },
   "source": [
    "### Words"
   ]
  },
  {
   "cell_type": "code",
   "execution_count": 41,
   "metadata": {
    "colab": {
     "base_uri": "https://localhost:8080/"
    },
    "id": "IUJlXRgn6JKA",
    "outputId": "d6e359b2-38b5-4489-936a-65c8fab6acfd"
   },
   "outputs": [
    {
     "name": "stdout",
     "output_type": "stream",
     "text": [
      "[\n",
      "  {\n",
      "    \"sourceFileName\": \"Online_POST\",\n",
      "    \"statistics\": {\n",
      "      \"validLine\": 1530137,\n",
      "      \"rejectLine\": 0,\n",
      "      \"failedConditionLine\": 0,\n",
      "      \"notEnoughToken\": 0,\n",
      "      \"invalidJson\": 0,\n",
      "      \"oversizeToken\": 0,\n",
      "      \"vertex\": [\n",
      "        {\n",
      "          \"typeName\": \"word\",\n",
      "          \"validObject\": 1530137,\n",
      "          \"noIdFound\": 0,\n",
      "          \"invalidAttribute\": 0,\n",
      "          \"invalidVertexType\": 0,\n",
      "          \"invalidPrimaryId\": 0,\n",
      "          \"invalidSecondaryId\": 0,\n",
      "          \"incorrectFixedBinaryLength\": 0\n",
      "        }\n",
      "      ],\n",
      "      \"edge\": [],\n",
      "      \"deleteVertex\": [],\n",
      "      \"deleteEdge\": []\n",
      "    }\n",
      "  }\n",
      "]\n"
     ]
    }
   ],
   "source": [
    "# Load the posts file wiht the 'load_words' job\n",
    "load_words = root+'csv_imports/words.csv'\n",
    "results = conn.uploadFile(load_words, timeout='100000',fileTag='MyDataSource', jobName='load_job_words_csv_1644515929297')\n",
    "print(json.dumps(results, indent=2))"
   ]
  },
  {
   "cell_type": "markdown",
   "metadata": {
    "id": "mls8aW9z_nJP"
   },
   "source": [
    "### Synsets"
   ]
  },
  {
   "cell_type": "code",
   "execution_count": 42,
   "metadata": {
    "colab": {
     "base_uri": "https://localhost:8080/"
    },
    "id": "NUDvSM9A_nJY",
    "outputId": "7e0b3772-d9cd-4800-8afb-a5a9344cc0f3"
   },
   "outputs": [
    {
     "name": "stdout",
     "output_type": "stream",
     "text": [
      "[\n",
      "  {\n",
      "    \"sourceFileName\": \"Online_POST\",\n",
      "    \"statistics\": {\n",
      "      \"validLine\": 117660,\n",
      "      \"rejectLine\": 0,\n",
      "      \"failedConditionLine\": 0,\n",
      "      \"notEnoughToken\": 0,\n",
      "      \"invalidJson\": 0,\n",
      "      \"oversizeToken\": 0,\n",
      "      \"vertex\": [\n",
      "        {\n",
      "          \"typeName\": \"synset\",\n",
      "          \"validObject\": 117660,\n",
      "          \"noIdFound\": 0,\n",
      "          \"invalidAttribute\": 0,\n",
      "          \"invalidVertexType\": 0,\n",
      "          \"invalidPrimaryId\": 0,\n",
      "          \"invalidSecondaryId\": 0,\n",
      "          \"incorrectFixedBinaryLength\": 0\n",
      "        }\n",
      "      ],\n",
      "      \"edge\": [],\n",
      "      \"deleteVertex\": [],\n",
      "      \"deleteEdge\": []\n",
      "    }\n",
      "  }\n",
      "]\n"
     ]
    }
   ],
   "source": [
    "# Load the posts file wiht the 'load_synsets' job\n",
    "load_synsets = root+'csv_imports/synsets.csv'\n",
    "results = conn.uploadFile(load_synsets, timeout='100000', fileTag='MyDataSource', jobName='load_job_synsets_csv_1644515968121')\n",
    "print(json.dumps(results, indent=2))"
   ]
  },
  {
   "cell_type": "markdown",
   "metadata": {
    "id": "qQ9QVxd56JKA"
   },
   "source": [
    "### Edges"
   ]
  },
  {
   "cell_type": "code",
   "execution_count": 43,
   "metadata": {
    "colab": {
     "base_uri": "https://localhost:8080/"
    },
    "id": "lBn7z_3x6JKA",
    "outputId": "c456e659-03ba-487d-d1c3-6dcc4cae80ef"
   },
   "outputs": [
    {
     "name": "stdout",
     "output_type": "stream",
     "text": [
      "null\n"
     ]
    }
   ],
   "source": [
    "# Load the posts file wiht the 'load_edges' job\n",
    "load_edges = root+'relationships.csv'\n",
    "results = conn.uploadFile(load_edges, timeout='100000', fileTag='MyDataSource', jobName='load_job_relationships_csv_1644515956497')\n",
    "print(json.dumps(results, indent=2))"
   ]
  },
  {
   "cell_type": "markdown",
   "metadata": {
    "id": "0RX9dCXC6JKA"
   },
   "source": [
    "## Exploring the Graph"
   ]
  },
  {
   "cell_type": "markdown",
   "metadata": {
    "id": "YvT6L7eH6JKA"
   },
   "source": [
    "### Get Vertex and Edge Schema"
   ]
  },
  {
   "cell_type": "code",
   "execution_count": 44,
   "metadata": {
    "colab": {
     "base_uri": "https://localhost:8080/"
    },
    "id": "DlXSiqZq6JKA",
    "outputId": "09dec8bf-a213-4c44-8ac1-3768e8db9ac4"
   },
   "outputs": [
    {
     "name": "stdout",
     "output_type": "stream",
     "text": [
      "Verticies: ['word', 'synset']\n",
      "Edges: ['is_a']\n"
     ]
    }
   ],
   "source": [
    "results = conn.getVertexTypes()\n",
    "print(f\"Verticies: {results}\")\n",
    "vertices = results\n",
    "\n",
    "results = conn.getEdgeTypes()\n",
    "print(f\"Edges: {results}\")\n",
    "edges = results"
   ]
  },
  {
   "cell_type": "code",
   "execution_count": 45,
   "metadata": {
    "colab": {
     "base_uri": "https://localhost:8080/"
    },
    "id": "8SdzkThj6JKA",
    "outputId": "d0461d90-76aa-4a56-e6d3-7d19c79e4565"
   },
   "outputs": [
    {
     "name": "stdout",
     "output_type": "stream",
     "text": [
      "-----------------\n",
      "Results for liked edge\n",
      "{\n",
      "  \"IsDirected\": true,\n",
      "  \"ToVertexTypeName\": \"*\",\n",
      "  \"Config\": {\n",
      "    \"REVERSE_EDGE\": \"reverse_is_a\"\n",
      "  },\n",
      "  \"Attributes\": [\n",
      "    {\n",
      "      \"AttributeType\": {\n",
      "        \"Name\": \"STRING\"\n",
      "      },\n",
      "      \"IsPartOfCompositeKey\": false,\n",
      "      \"PrimaryIdAsAttribute\": false,\n",
      "      \"AttributeName\": \"type\",\n",
      "      \"HasIndex\": false,\n",
      "      \"internalAttribute\": false,\n",
      "      \"IsPrimaryKey\": false\n",
      "    }\n",
      "  ],\n",
      "  \"FromVertexTypeName\": \"*\",\n",
      "  \"EdgePairs\": [\n",
      "    {\n",
      "      \"From\": \"synset\",\n",
      "      \"To\": \"word\"\n",
      "    },\n",
      "    {\n",
      "      \"From\": \"word\",\n",
      "      \"To\": \"synset\"\n",
      "    }\n",
      "  ],\n",
      "  \"Name\": \"is_a\"\n",
      "}\n"
     ]
    }
   ],
   "source": [
    "\n",
    "# print(f\"Results for Post vertex\")\n",
    "# pprint(conn.getVertexType(\"word\"))\n",
    "\n",
    "print(\"-----------------\")\n",
    "print(f\"Results for liked edge\")\n",
    "pprint(conn.getEdgeType(\"is_a\"))\n"
   ]
  },
  {
   "cell_type": "markdown",
   "metadata": {
    "id": "yy56lT-i6JKA"
   },
   "source": [
    "## Counting Data"
   ]
  },
  {
   "cell_type": "code",
   "execution_count": 46,
   "metadata": {
    "colab": {
     "base_uri": "https://localhost:8080/"
    },
    "id": "bht_fNYO6JKB",
    "outputId": "18fd9fb9-4df0-4c40-be7c-97467a0f5dc4"
   },
   "outputs": [
    {
     "name": "stdout",
     "output_type": "stream",
     "text": [
      "Vertex Counts\n",
      "There are 334728 word vertices in the graph\n",
      "There are 0 synset vertices in the graph\n",
      "--------------\n",
      "Edge Counts\n",
      "There are 0 is_a edges in the graph\n"
     ]
    }
   ],
   "source": [
    "print(\"Vertex Counts\")\n",
    "for vertex in vertices:\n",
    "  print(f\"There are {conn.getVertexCount(vertex)} {vertex} vertices in the graph\")\n",
    "\n",
    "print(\"--------------\")\n",
    "print(\"Edge Counts\")\n",
    "for edge in edges:\n",
    "  print(f\"There are {conn.getEdgeCount(edge)} {edge} edges in the graph\")"
   ]
  },
  {
   "cell_type": "markdown",
   "metadata": {
    "id": "SjOkMPM36JKB"
   },
   "source": [
    "## Extracting Data"
   ]
  },
  {
   "cell_type": "markdown",
   "metadata": {
    "id": "04l0Fr-z6JKB"
   },
   "source": [
    "### Vertex/Edge Set Format"
   ]
  },
  {
   "cell_type": "markdown",
   "metadata": {
    "id": "SER5KI2H6JKB"
   },
   "source": [
    "#### Getting a Vertex"
   ]
  },
  {
   "cell_type": "code",
   "execution_count": 47,
   "metadata": {
    "colab": {
     "base_uri": "https://localhost:8080/"
    },
    "id": "lQooNR_n6JKB",
    "outputId": "4706d26a-281d-40e7-d323-5d883fd695db"
   },
   "outputs": [
    {
     "name": "stdout",
     "output_type": "stream",
     "text": [
      "[\n",
      "  {\n",
      "    \"v_id\": \"judicially.r.01\",\n",
      "    \"v_type\": \"synset\",\n",
      "    \"attributes\": {\n",
      "      \"id\": \"judicially.r.01\",\n",
      "      \"definition\": \"as ordered by a court\"\n",
      "    }\n",
      "  }\n",
      "]\n"
     ]
    }
   ],
   "source": [
    "results = conn.getVerticesById(\"synset\", \"judicially.r.01\")\n",
    "pprint(results)"
   ]
  },
  {
   "cell_type": "markdown",
   "metadata": {
    "id": "XyNl-phe6JKB"
   },
   "source": [
    "#### Or Multiple Vertices"
   ]
  },
  {
   "cell_type": "code",
   "execution_count": 52,
   "metadata": {
    "colab": {
     "base_uri": "https://localhost:8080/"
    },
    "id": "-xkdVX4S6JKB",
    "outputId": "46c2d739-9dd8-4654-cadc-3832c93208bc"
   },
   "outputs": [
    {
     "name": "stdout",
     "output_type": "stream",
     "text": [
      "[\n",
      "  {\n",
      "    \"v_id\": \"judicially.r.01\",\n",
      "    \"v_type\": \"synset\",\n",
      "    \"attributes\": {\n",
      "      \"id\": \"judicially.r.01\",\n",
      "      \"definition\": \"as ordered by a court\"\n",
      "    }\n",
      "  },\n",
      "  {\n",
      "    \"v_id\": \"clash.v.02\",\n",
      "    \"v_type\": \"synset\",\n",
      "    \"attributes\": {\n",
      "      \"id\": \"clash.v.02\",\n",
      "      \"definition\": \"be incompatible; be or come into conflict\"\n",
      "    }\n",
      "  }\n",
      "]\n"
     ]
    }
   ],
   "source": [
    "tdf1 = conn.getVerticesById(\"synset\", [\"judicially.r.01\",\"clash.v.02\"])\n",
    "pprint(tdf1)"
   ]
  },
  {
   "cell_type": "markdown",
   "metadata": {
    "id": "kwW_9oSl6JKB"
   },
   "source": [
    "#### Count Edges Connected to a Vertex"
   ]
  },
  {
   "cell_type": "code",
   "execution_count": null,
   "metadata": {
    "colab": {
     "base_uri": "https://localhost:8080/"
    },
    "id": "szYjJmkF6JKB",
    "outputId": "b9f47c57-a6d6-4952-9874-42953866d16a"
   },
   "outputs": [
    {
     "name": "stdout",
     "output_type": "stream",
     "text": [
      "{\n",
      "  \"is_a\": 0,\n",
      "  \"reverse_is_a\": 0\n",
      "}\n"
     ]
    }
   ],
   "source": [
    "results = conn.getEdgeCountFrom(\"word\", \"conflict.v\")\n",
    "pprint(results)"
   ]
  },
  {
   "cell_type": "markdown",
   "metadata": {
    "id": "t1Z8RtJL6JKC"
   },
   "source": [
    "#### Show all Edges Connected to a Vertex"
   ]
  },
  {
   "cell_type": "code",
   "execution_count": null,
   "metadata": {
    "colab": {
     "base_uri": "https://localhost:8080/"
    },
    "id": "WJcZirzH6JKC",
    "outputId": "896d3677-bec8-45a8-cfd0-b81e63a9d043"
   },
   "outputs": [
    {
     "name": "stdout",
     "output_type": "stream",
     "text": [
      "[]\n"
     ]
    }
   ],
   "source": [
    "results = conn.getEdges(\"word\", \"conflict.v\")\n",
    "pprint(results)"
   ]
  },
  {
   "cell_type": "markdown",
   "metadata": {
    "id": "RC3afJn96JKC"
   },
   "source": [
    "### As Pandas Dataframe\n",
    "Supports all of the above in native Pandas Dataframe format."
   ]
  },
  {
   "cell_type": "markdown",
   "metadata": {
    "id": "eeYEpdk_6JKC"
   },
   "source": [
    "#### All Vertices of one Type"
   ]
  },
  {
   "cell_type": "code",
   "execution_count": null,
   "metadata": {
    "colab": {
     "base_uri": "https://localhost:8080/"
    },
    "id": "jXj_23C_6JKC",
    "outputId": "05bb90ba-7193-4082-b9c1-d22d6e28dc93"
   },
   "outputs": [],
   "source": [
    "df1 = conn.getVertexDataframe(\"word\")\n",
    "print(df1)"
   ]
  },
  {
   "cell_type": "markdown",
   "metadata": {
    "id": "UWfjw0B96JKC"
   },
   "source": [
    "#### One or More Vertex"
   ]
  },
  {
   "cell_type": "code",
   "execution_count": null,
   "metadata": {
    "colab": {
     "base_uri": "https://localhost:8080/"
    },
    "id": "XRYvVvSr6JKC",
    "outputId": "a4381c04-2ffe-4314-e1df-89307225e07b"
   },
   "outputs": [],
   "source": [
    "df2 = conn.getVertexDataframeById(\"word\", \"conflict.v\")\n",
    "print(df2)"
   ]
  },
  {
   "cell_type": "markdown",
   "metadata": {
    "id": "ygoA74mF6JKC"
   },
   "source": [
    "#### Convert Vertex/Edge Set to Dataframe\n",
    "We'll use the results from the 'Or Multiple Vertices' cell. "
   ]
  },
  {
   "cell_type": "code",
   "execution_count": null,
   "metadata": {
    "colab": {
     "base_uri": "https://localhost:8080/"
    },
    "id": "hxmhfBz76JKC",
    "outputId": "df9bafb0-7c15-4ffa-c940-303badc44020"
   },
   "outputs": [],
   "source": [
    "df3 = conn.vertexSetToDataFrame(tdf1)\n",
    "print(df3)"
   ]
  },
  {
   "cell_type": "markdown",
   "metadata": {
    "id": "YUpuxOfy6JKD"
   },
   "source": [
    "#### Get Edges"
   ]
  },
  {
   "cell_type": "code",
   "execution_count": null,
   "metadata": {
    "colab": {
     "base_uri": "https://localhost:8080/"
    },
    "id": "5lqlRe436JKD",
    "outputId": "83848eac-1685-4d27-e97b-0c1f598af415"
   },
   "outputs": [],
   "source": [
    "df4 = conn.getEdgesDataframe(\"word\", \"conflict.v\",limit=3)\n",
    "print(df4)"
   ]
  },
  {
   "cell_type": "markdown",
   "metadata": {
    "id": "MXMv3rJV6JKD"
   },
   "source": [
    "## Path Finding\n",
    "Find paths between vertices.\n",
    "\n",
    "Supported are:\n",
    "- shortestPath - one shortest path between vertices\n",
    "- allPaths - all paths within the specified edge limit"
   ]
  },
  {
   "cell_type": "code",
   "execution_count": null,
   "metadata": {
    "colab": {
     "base_uri": "https://localhost:8080/"
    },
    "id": "cWs7y08c6JKD",
    "outputId": "683bc47d-3808-4056-90d8-d3319bb9737b"
   },
   "outputs": [],
   "source": [
    "results = conn.shortestPath([(\"word\", \"in_due_time.r\")], [(\"word\", \"in_due_season.r\")])\n",
    "pprint(results)"
   ]
  },
  {
   "cell_type": "code",
   "execution_count": null,
   "metadata": {},
   "outputs": [],
   "source": []
  }
 ],
 "metadata": {
  "colab": {
   "collapsed_sections": [
    "owRhnxW15t_w",
    "pSsJAzc_5yNN",
    "BgazrCKwR8R9",
    "SDPUKGDc55bJ",
    "CyV-wdHp7hLX",
    "gPZ2iTs-6JJ_"
   ],
   "name": "LanguageModel_SingleEdge.ipynb",
   "provenance": []
  },
  "kernelspec": {
   "display_name": "Python 3 (ipykernel)",
   "language": "python",
   "name": "python3"
  },
  "language_info": {
   "codemirror_mode": {
    "name": "ipython",
    "version": 3
   },
   "file_extension": ".py",
   "mimetype": "text/x-python",
   "name": "python",
   "nbconvert_exporter": "python",
   "pygments_lexer": "ipython3",
   "version": "3.9.7"
  }
 },
 "nbformat": 4,
 "nbformat_minor": 4
}
