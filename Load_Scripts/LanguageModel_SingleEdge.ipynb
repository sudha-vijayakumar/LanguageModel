{
  "nbformat": 4,
  "nbformat_minor": 0,
  "metadata": {
    "colab": {
      "name": "LanguageModel_SingleEdge.ipynb",
      "provenance": [],
      "collapsed_sections": [
        "owRhnxW15t_w",
        "pSsJAzc_5yNN",
        "BgazrCKwR8R9",
        "SDPUKGDc55bJ",
        "CyV-wdHp7hLX",
        "gPZ2iTs-6JJ_"
      ]
    },
    "kernelspec": {
      "display_name": "Python 3",
      "name": "python3"
    },
    "language_info": {
      "name": "python"
    }
  },
  "cells": [
    {
      "cell_type": "markdown",
      "metadata": {
        "id": "owRhnxW15t_w"
      },
      "source": [
        "## Install pyTigerGraph"
      ]
    },
    {
      "cell_type": "code",
      "metadata": {
        "id": "JmsrV-SNnx31",
        "colab": {
          "base_uri": "https://localhost:8080/"
        },
        "outputId": "b6cdf554-18d5-4329-d1f0-93e0c84d23ea"
      },
      "source": [
        "# Setup\n",
        "!pip install pyTigerGraph"
      ],
      "execution_count": 104,
      "outputs": [
        {
          "output_type": "stream",
          "name": "stdout",
          "text": [
            "Requirement already satisfied: pyTigerGraph in /usr/local/lib/python3.7/dist-packages (0.0.9.9.0)\n",
            "Requirement already satisfied: pyTigerDriver in /usr/local/lib/python3.7/dist-packages (from pyTigerGraph) (1.0.14)\n",
            "Requirement already satisfied: requests in /usr/local/lib/python3.7/dist-packages (from pyTigerGraph) (2.23.0)\n",
            "Requirement already satisfied: validators in /usr/local/lib/python3.7/dist-packages (from pyTigerGraph) (0.18.2)\n",
            "Requirement already satisfied: pandas in /usr/local/lib/python3.7/dist-packages (from pyTigerGraph) (1.3.5)\n",
            "Requirement already satisfied: numpy>=1.17.3 in /usr/local/lib/python3.7/dist-packages (from pandas->pyTigerGraph) (1.19.5)\n",
            "Requirement already satisfied: python-dateutil>=2.7.3 in /usr/local/lib/python3.7/dist-packages (from pandas->pyTigerGraph) (2.8.2)\n",
            "Requirement already satisfied: pytz>=2017.3 in /usr/local/lib/python3.7/dist-packages (from pandas->pyTigerGraph) (2018.9)\n",
            "Requirement already satisfied: six>=1.5 in /usr/local/lib/python3.7/dist-packages (from python-dateutil>=2.7.3->pandas->pyTigerGraph) (1.15.0)\n",
            "Requirement already satisfied: chardet<4,>=3.0.2 in /usr/local/lib/python3.7/dist-packages (from requests->pyTigerGraph) (3.0.4)\n",
            "Requirement already satisfied: urllib3!=1.25.0,!=1.25.1,<1.26,>=1.21.1 in /usr/local/lib/python3.7/dist-packages (from requests->pyTigerGraph) (1.24.3)\n",
            "Requirement already satisfied: certifi>=2017.4.17 in /usr/local/lib/python3.7/dist-packages (from requests->pyTigerGraph) (2021.10.8)\n",
            "Requirement already satisfied: idna<3,>=2.5 in /usr/local/lib/python3.7/dist-packages (from requests->pyTigerGraph) (2.10)\n",
            "Requirement already satisfied: decorator>=3.4.0 in /usr/local/lib/python3.7/dist-packages (from validators->pyTigerGraph) (4.4.2)\n"
          ]
        }
      ]
    },
    {
      "cell_type": "markdown",
      "metadata": {
        "id": "pSsJAzc_5yNN"
      },
      "source": [
        "## Add Imports and Establish Initial Connection"
      ]
    },
    {
      "cell_type": "code",
      "metadata": {
        "colab": {
          "base_uri": "https://localhost:8080/"
        },
        "id": "vqpwQh1_noLK",
        "outputId": "0c576fa6-e0d7-4da7-a010-bac34a70209a"
      },
      "source": [
        "# Imports\n",
        "import pyTigerGraph as tg\n",
        "import json\n",
        "import pandas as pd\n",
        "\n",
        "# Connection parameters\n",
        "hostName = \"https://language.i.tgcloud.io\"\n",
        "userName = \"tigergraph\"\n",
        "password = \"tigergraph\"\n",
        "\n",
        "conn = tg.TigerGraphConnection(host=hostName, username=userName, password=password)\n",
        "\n",
        "print(\"Connected\")"
      ],
      "execution_count": 105,
      "outputs": [
        {
          "output_type": "stream",
          "name": "stdout",
          "text": [
            "Connected\n"
          ]
        }
      ]
    },
    {
      "cell_type": "markdown",
      "metadata": {
        "id": "BgazrCKwR8R9"
      },
      "source": [
        "## Clone the Data"
      ]
    },
    {
      "cell_type": "code",
      "source": [
        "from google.colab import drive\n",
        "drive.mount('/content/drive')"
      ],
      "metadata": {
        "colab": {
          "base_uri": "https://localhost:8080/"
        },
        "outputId": "8500d267-3c95-4768-84b7-432fb604e34f",
        "id": "5TwgTntFR8R-"
      },
      "execution_count": 3,
      "outputs": [
        {
          "output_type": "stream",
          "name": "stdout",
          "text": [
            "Mounted at /content/drive\n"
          ]
        }
      ]
    },
    {
      "cell_type": "code",
      "source": [
        "cd '/content/drive/MyDrive'"
      ],
      "metadata": {
        "colab": {
          "base_uri": "https://localhost:8080/"
        },
        "outputId": "222acf31-1ab5-47b2-a687-94b907048b03",
        "id": "G6MRGBSwR8R-"
      },
      "execution_count": 4,
      "outputs": [
        {
          "output_type": "stream",
          "name": "stdout",
          "text": [
            "/content/drive/MyDrive\n"
          ]
        }
      ]
    },
    {
      "cell_type": "code",
      "metadata": {
        "id": "cVwqxmQpR8R-"
      },
      "source": [
        "# !git clone https://github.com/sudha-vijayakumar/LanguageModel.git"
      ],
      "execution_count": 5,
      "outputs": []
    },
    {
      "cell_type": "markdown",
      "metadata": {
        "id": "SDPUKGDc55bJ"
      },
      "source": [
        "## Define and Publish the Schema"
      ]
    },
    {
      "cell_type": "code",
      "metadata": {
        "id": "tbLUKiA4oSKX",
        "colab": {
          "base_uri": "https://localhost:8080/"
        },
        "outputId": "e8065d35-d1a7-44b0-dd04-0fe6de6470ff"
      },
      "source": [
        "# DEFINE / CREATE ALL EDGES AND VERTICES \n",
        "results = conn.gsql('''\n",
        "  USE GLOBAL\n",
        "  CREATE VERTEX words(PRIMARY_ID id STRING, uri STRING, word STRING, pos STRING,definition STRING) WITH STATS=\"OUTDEGREE_BY_EDGETYPE\", PRIMARY_ID_AS_ATTRIBUTE=\"true\"\n",
        "  CREATE DIRECTED EDGE type(FROM words, TO words, typeOf STRING) WITH REVERSE_EDGE=\"reverse_type\"\n",
        "  CREATE VERTEX word(PRIMARY_ID id STRING, name STRING, pos STRING) WITH STATS=\"OUTDEGREE_BY_EDGETYPE\", PRIMARY_ID_AS_ATTRIBUTE=\"true\"\n",
        "  CREATE VERTEX synset(PRIMARY_ID id STRING, definition STRING) WITH STATS=\"OUTDEGREE_BY_EDGETYPE\", PRIMARY_ID_AS_ATTRIBUTE=\"true\"\n",
        "  CREATE DIRECTED EDGE is_a(FROM synset, TO word|FROM word, TO synset, type STRING) WITH REVERSE_EDGE=\"reverse_is_a\"\n",
        "''')\n",
        "print(results)"
      ],
      "execution_count": 106,
      "outputs": [
        {
          "output_type": "stream",
          "name": "stdout",
          "text": [
            "Successfully created vertex types: [words].\n",
            "Successfully created edge types: [type].\n",
            "Successfully created reverse edge types: [reverse_type].\n",
            "Successfully created vertex types: [word].\n",
            "Successfully created vertex types: [synset].\n",
            "Successfully created edge types: [is_a].\n",
            "Successfully created reverse edge types: [reverse_is_a].\n"
          ]
        }
      ]
    },
    {
      "cell_type": "markdown",
      "source": [
        "# WordNET"
      ],
      "metadata": {
        "id": "QtAieHUn3KSp"
      }
    },
    {
      "cell_type": "markdown",
      "metadata": {
        "id": "bMz6fxfx59Xz"
      },
      "source": [
        "## Create WordNet Graph"
      ]
    },
    {
      "cell_type": "code",
      "metadata": {
        "id": "-cgC8b7OcZDd",
        "colab": {
          "base_uri": "https://localhost:8080/"
        },
        "outputId": "8357e55d-db67-43b6-a0b5-5c3172ea3205"
      },
      "source": [
        "results = conn.gsql('CREATE GRAPH WordNet(words,type,reverse_type)')\n",
        "print(results)"
      ],
      "execution_count": 107,
      "outputs": [
        {
          "output_type": "stream",
          "name": "stdout",
          "text": [
            "The graph WordNet is created.\n"
          ]
        }
      ]
    },
    {
      "cell_type": "code",
      "metadata": {
        "id": "SbxyEaptc2Ri",
        "colab": {
          "base_uri": "https://localhost:8080/"
        },
        "outputId": "8f12d98e-3f74-451d-bcca-4f04b89edff6"
      },
      "source": [
        "conn.graphname=\"WordNet\"\n",
        "secret = conn.createSecret()\n",
        "print(secret)\n",
        "authToken = conn.getToken(secret)\n",
        "authToken = authToken[0]\n",
        "print(authToken)\n",
        "# authToken = 'rc7reopbis1667ksgcppq5v5fb99p6s1'\n",
        "conn = tg.TigerGraphConnection(host=hostName, graphname=\"WordNet\", username=userName, password=password, apiToken=authToken)\n",
        "\n",
        "def pprint(string):\n",
        "  print(json.dumps(string, indent=2))"
      ],
      "execution_count": 108,
      "outputs": [
        {
          "output_type": "stream",
          "name": "stdout",
          "text": [
            "jfnoj3g8ipqpqg8ibisp6agarh2me6pe\n",
            "1hq42ajl98ub5p1vibp7oid6scf6giqa\n"
          ]
        }
      ]
    },
    {
      "cell_type": "markdown",
      "metadata": {
        "id": "MTWWoepV6Dc0"
      },
      "source": [
        "## Create Loading Jobs"
      ]
    },
    {
      "cell_type": "markdown",
      "metadata": {
        "id": "Up4f5hmq7MZl"
      },
      "source": [
        "### Word"
      ]
    },
    {
      "cell_type": "markdown",
      "metadata": {
        "id": "oXH8W3KIjVUC"
      },
      "source": [
        "Let's take a look at what one of our files looks like so we can write a loading job."
      ]
    },
    {
      "cell_type": "code",
      "metadata": {
        "id": "dV1wMpIMeZaY",
        "colab": {
          "base_uri": "https://localhost:8080/"
        },
        "outputId": "09f8886a-50e8-495a-d020-0d2213605622"
      },
      "source": [
        "!head -n 2 '/content/drive/MyDrive/LanguageModel/Data_Processing/csv_imports/WN-nodes.csv'"
      ],
      "execution_count": 109,
      "outputs": [
        {
          "output_type": "stream",
          "name": "stdout",
          "text": [
            "uri,id,word,pos,definition,subject\n",
            "\"http://wordnet-rdf.princeton.edu/id/00001740-a\",\"00001740-a\",\"able\",\"adjective\",\"(usually followed by `to') having the necessary means or skill or know-how or authority to do something; &quot;able to swim&quot;; &quot;she was able to program her computer&quot;; &quot;we were at last able to buy a car&quot;; &quot;able to get a grant for the project&quot;@en\",\"adj.all\"\n"
          ]
        }
      ]
    },
    {
      "cell_type": "markdown",
      "metadata": {
        "id": "M7Y081TD6Xh5"
      },
      "source": [
        "Here it's important to note that the `$0`, `$1` values line up with the columns of your data.\n",
        "In this example:\n",
        "- `$0` is the `uri` column,\n",
        "- `$1` is `id`,\n",
        "- `$2` is `word`\n",
        "- and so on"
      ]
    },
    {
      "cell_type": "code",
      "metadata": {
        "id": "22W6W58idFW5",
        "colab": {
          "base_uri": "https://localhost:8080/"
        },
        "outputId": "1371e7fc-97eb-4978-f4e0-dbee93e76fa8"
      },
      "source": [
        "results = conn.gsql('''\n",
        "  USE GRAPH WordNet\n",
        "  BEGIN\n",
        "  CREATE LOADING JOB load_job_WN FOR GRAPH WordNet {\n",
        "      DEFINE FILENAME MyDataSource;\n",
        "      LOAD MyDataSource TO EDGE type VALUES($0, $1, $2) USING SEPARATOR=\",\", HEADER=\"true\", EOL=\"\", QUOTE=\"double\";\n",
        "    }\n",
        "  END\n",
        "  ''')\n",
        "print(results)"
      ],
      "execution_count": 110,
      "outputs": [
        {
          "output_type": "stream",
          "name": "stdout",
          "text": [
            "Using graph 'WordNet'\n",
            "Successfully created loading jobs: [load_job_WN].\n"
          ]
        }
      ]
    },
    {
      "cell_type": "markdown",
      "source": [
        "### Word Edges"
      ],
      "metadata": {
        "id": "7yZhDo_q3We0"
      }
    },
    {
      "cell_type": "code",
      "source": [
        "results = conn.gsql('''\n",
        "  USE GRAPH WordNet\n",
        "  BEGIN\n",
        "  CREATE LOADING JOB load_job_WN_nodes FOR GRAPH WordNet {\n",
        "      DEFINE FILENAME MyDataSource;\n",
        "      LOAD MyDataSource TO VERTEX words VALUES($1, $0, $2, $3, $4) USING SEPARATOR=\",\", HEADER=\"true\", EOL=\"\", QUOTE=\"double\";\n",
        "    }\n",
        "  END\n",
        "  ''')\n",
        "print(results)"
      ],
      "metadata": {
        "id": "fpyLmIPd1_o7",
        "colab": {
          "base_uri": "https://localhost:8080/"
        },
        "outputId": "20b29b8e-e6c9-4f47-c880-83fc055f7808"
      },
      "execution_count": 111,
      "outputs": [
        {
          "output_type": "stream",
          "name": "stdout",
          "text": [
            "Using graph 'WordNet'\n",
            "Successfully created loading jobs: [load_job_WN_nodes].\n"
          ]
        }
      ]
    },
    {
      "cell_type": "markdown",
      "metadata": {
        "id": "Nm8hvEJo7YqM"
      },
      "source": [
        "## Load Data"
      ]
    },
    {
      "cell_type": "markdown",
      "source": [
        "### Words"
      ],
      "metadata": {
        "id": "K1yUUv7k5soZ"
      }
    },
    {
      "cell_type": "code",
      "source": [
        "# Load the posts file wiht the 'load_words' job\n",
        "load_words = '/content/drive/MyDrive/LanguageModel/Data_Processing/csv_imports/WN-nodes.csv'\n",
        "results = conn.uploadFile(load_words, fileTag='MyDataSource', jobName='load_job_WN_nodes')\n",
        "print(json.dumps(results, indent=2))"
      ],
      "metadata": {
        "id": "UWtWVHGg2O-p",
        "colab": {
          "base_uri": "https://localhost:8080/"
        },
        "outputId": "870bb16d-b1e0-48c8-8636-a39458765669"
      },
      "execution_count": 112,
      "outputs": [
        {
          "output_type": "stream",
          "name": "stdout",
          "text": [
            "[\n",
            "  {\n",
            "    \"sourceFileName\": \"Online_POST\",\n",
            "    \"statistics\": {\n",
            "      \"validLine\": 117792,\n",
            "      \"rejectLine\": 0,\n",
            "      \"failedConditionLine\": 0,\n",
            "      \"notEnoughToken\": 0,\n",
            "      \"invalidJson\": 0,\n",
            "      \"oversizeToken\": 0,\n",
            "      \"vertex\": [\n",
            "        {\n",
            "          \"typeName\": \"words\",\n",
            "          \"validObject\": 117792,\n",
            "          \"noIdFound\": 0,\n",
            "          \"invalidAttribute\": 0,\n",
            "          \"invalidVertexType\": 0,\n",
            "          \"invalidPrimaryId\": 0,\n",
            "          \"invalidSecondaryId\": 0,\n",
            "          \"incorrectFixedBinaryLength\": 0\n",
            "        }\n",
            "      ],\n",
            "      \"edge\": [],\n",
            "      \"deleteVertex\": [],\n",
            "      \"deleteEdge\": []\n",
            "    }\n",
            "  }\n",
            "]\n"
          ]
        }
      ]
    },
    {
      "cell_type": "markdown",
      "source": [
        "### Edges"
      ],
      "metadata": {
        "id": "jp_VKwTI5vfz"
      }
    },
    {
      "cell_type": "code",
      "source": [
        "# Load the posts file wiht the 'load_edges' job\n",
        "load_edges = '/content/drive/MyDrive/LanguageModel/Data_Processing/csv_imports/WN-edges.csv'\n",
        "results = conn.uploadFile(load_edges, fileTag='MyDataSource', jobName='load_job_WN')\n",
        "print(json.dumps(results, indent=2))"
      ],
      "metadata": {
        "id": "6y_PfFAT2PCC",
        "colab": {
          "base_uri": "https://localhost:8080/"
        },
        "outputId": "d19f3ca1-a13e-4f44-bf90-1504ad05600c"
      },
      "execution_count": 113,
      "outputs": [
        {
          "output_type": "stream",
          "name": "stdout",
          "text": [
            "[\n",
            "  {\n",
            "    \"sourceFileName\": \"Online_POST\",\n",
            "    \"statistics\": {\n",
            "      \"validLine\": 293652,\n",
            "      \"rejectLine\": 0,\n",
            "      \"failedConditionLine\": 0,\n",
            "      \"notEnoughToken\": 0,\n",
            "      \"invalidJson\": 0,\n",
            "      \"oversizeToken\": 0,\n",
            "      \"vertex\": [],\n",
            "      \"edge\": [\n",
            "        {\n",
            "          \"typeName\": \"type\",\n",
            "          \"validObject\": 293652,\n",
            "          \"noIdFound\": 0,\n",
            "          \"invalidAttribute\": 0,\n",
            "          \"invalidVertexType\": 0,\n",
            "          \"invalidPrimaryId\": 0,\n",
            "          \"invalidSecondaryId\": 0,\n",
            "          \"incorrectFixedBinaryLength\": 0\n",
            "        }\n",
            "      ],\n",
            "      \"deleteVertex\": [],\n",
            "      \"deleteEdge\": []\n",
            "    }\n",
            "  }\n",
            "]\n"
          ]
        }
      ]
    },
    {
      "cell_type": "markdown",
      "metadata": {
        "id": "gAFCKYK61nzx"
      },
      "source": [
        "## Exploring the Graph"
      ]
    },
    {
      "cell_type": "markdown",
      "metadata": {
        "id": "4rJ_Vedw7oms"
      },
      "source": [
        "### Get Vertex and Edge Schema"
      ]
    },
    {
      "cell_type": "code",
      "metadata": {
        "id": "g9F25xMY1p0p",
        "colab": {
          "base_uri": "https://localhost:8080/"
        },
        "outputId": "94d8fbd8-8033-4234-df28-cd2df36e300f"
      },
      "source": [
        "results = conn.getVertexTypes()\n",
        "print(f\"Verticies: {results}\")\n",
        "vertices = results\n",
        "\n",
        "results = conn.getEdgeTypes()\n",
        "print(f\"Edges: {results}\")\n",
        "edges = results"
      ],
      "execution_count": 114,
      "outputs": [
        {
          "output_type": "stream",
          "name": "stdout",
          "text": [
            "Verticies: ['words']\n",
            "Edges: ['type']\n"
          ]
        }
      ]
    },
    {
      "cell_type": "code",
      "metadata": {
        "id": "RrWUEQ7p2TOK",
        "colab": {
          "base_uri": "https://localhost:8080/"
        },
        "outputId": "ce68f1e8-c980-4963-d5ea-39652e34a4c7"
      },
      "source": [
        "\n",
        "print(f\"Results for Post vertex\")\n",
        "pprint(conn.getVertexType(\"words\"))\n",
        "\n",
        "print(\"-----------------\")\n",
        "print(f\"Results for liked edge\")\n",
        "pprint(conn.getEdgeType(\"type\"))\n"
      ],
      "execution_count": 115,
      "outputs": [
        {
          "output_type": "stream",
          "name": "stdout",
          "text": [
            "Results for Post vertex\n",
            "{\n",
            "  \"Config\": {\n",
            "    \"TAGGABLE\": false,\n",
            "    \"STATS\": \"OUTDEGREE_BY_EDGETYPE\",\n",
            "    \"PRIMARY_ID_AS_ATTRIBUTE\": true\n",
            "  },\n",
            "  \"Attributes\": [\n",
            "    {\n",
            "      \"AttributeType\": {\n",
            "        \"Name\": \"STRING\"\n",
            "      },\n",
            "      \"IsPartOfCompositeKey\": false,\n",
            "      \"PrimaryIdAsAttribute\": false,\n",
            "      \"AttributeName\": \"uri\",\n",
            "      \"HasIndex\": false,\n",
            "      \"internalAttribute\": false,\n",
            "      \"IsPrimaryKey\": false\n",
            "    },\n",
            "    {\n",
            "      \"AttributeType\": {\n",
            "        \"Name\": \"STRING\"\n",
            "      },\n",
            "      \"IsPartOfCompositeKey\": false,\n",
            "      \"PrimaryIdAsAttribute\": false,\n",
            "      \"AttributeName\": \"word\",\n",
            "      \"HasIndex\": false,\n",
            "      \"internalAttribute\": false,\n",
            "      \"IsPrimaryKey\": false\n",
            "    },\n",
            "    {\n",
            "      \"AttributeType\": {\n",
            "        \"Name\": \"STRING\"\n",
            "      },\n",
            "      \"IsPartOfCompositeKey\": false,\n",
            "      \"PrimaryIdAsAttribute\": false,\n",
            "      \"AttributeName\": \"pos\",\n",
            "      \"HasIndex\": false,\n",
            "      \"internalAttribute\": false,\n",
            "      \"IsPrimaryKey\": false\n",
            "    },\n",
            "    {\n",
            "      \"AttributeType\": {\n",
            "        \"Name\": \"STRING\"\n",
            "      },\n",
            "      \"IsPartOfCompositeKey\": false,\n",
            "      \"PrimaryIdAsAttribute\": false,\n",
            "      \"AttributeName\": \"definition\",\n",
            "      \"HasIndex\": false,\n",
            "      \"internalAttribute\": false,\n",
            "      \"IsPrimaryKey\": false\n",
            "    }\n",
            "  ],\n",
            "  \"PrimaryId\": {\n",
            "    \"AttributeType\": {\n",
            "      \"Name\": \"STRING\"\n",
            "    },\n",
            "    \"IsPartOfCompositeKey\": false,\n",
            "    \"PrimaryIdAsAttribute\": true,\n",
            "    \"AttributeName\": \"id\",\n",
            "    \"HasIndex\": false,\n",
            "    \"internalAttribute\": false,\n",
            "    \"IsPrimaryKey\": false\n",
            "  },\n",
            "  \"Name\": \"words\"\n",
            "}\n",
            "-----------------\n",
            "Results for liked edge\n",
            "{\n",
            "  \"IsDirected\": true,\n",
            "  \"ToVertexTypeName\": \"words\",\n",
            "  \"Config\": {\n",
            "    \"REVERSE_EDGE\": \"reverse_type\"\n",
            "  },\n",
            "  \"Attributes\": [\n",
            "    {\n",
            "      \"AttributeType\": {\n",
            "        \"Name\": \"STRING\"\n",
            "      },\n",
            "      \"IsPartOfCompositeKey\": false,\n",
            "      \"PrimaryIdAsAttribute\": false,\n",
            "      \"AttributeName\": \"typeOf\",\n",
            "      \"HasIndex\": false,\n",
            "      \"internalAttribute\": false,\n",
            "      \"IsPrimaryKey\": false\n",
            "    }\n",
            "  ],\n",
            "  \"FromVertexTypeName\": \"words\",\n",
            "  \"Name\": \"type\"\n",
            "}\n"
          ]
        }
      ]
    },
    {
      "cell_type": "markdown",
      "metadata": {
        "id": "jWUaoSAa5ir6"
      },
      "source": [
        "## Counting Data"
      ]
    },
    {
      "cell_type": "code",
      "metadata": {
        "id": "rkFt8Y9I3kYp",
        "colab": {
          "base_uri": "https://localhost:8080/"
        },
        "outputId": "e383a808-73de-4e1e-8e48-d84c4c2c7f42"
      },
      "source": [
        "print(\"Vertex Counts\")\n",
        "for vertex in vertices:\n",
        "  print(f\"There are {conn.getVertexCount(vertex)} {vertex} vertices in the graph\")\n",
        "\n",
        "print(\"--------------\")\n",
        "print(\"Edge Counts\")\n",
        "for edge in edges:\n",
        "  print(f\"There are {conn.getEdgeCount(edge)} {edge} edges in the graph\")"
      ],
      "execution_count": 116,
      "outputs": [
        {
          "output_type": "stream",
          "name": "stdout",
          "text": [
            "Vertex Counts\n",
            "There are 22266 words vertices in the graph\n",
            "--------------\n",
            "Edge Counts\n",
            "There are 6017 type edges in the graph\n"
          ]
        }
      ]
    },
    {
      "cell_type": "markdown",
      "metadata": {
        "id": "TnUz48uPCxQk"
      },
      "source": [
        "## Extracting Data"
      ]
    },
    {
      "cell_type": "markdown",
      "metadata": {
        "id": "MYVeVJvwHZlP"
      },
      "source": [
        "### Vertex/Edge Set Format"
      ]
    },
    {
      "cell_type": "markdown",
      "metadata": {
        "id": "eX3x8Ao9ENDm"
      },
      "source": [
        "#### Getting a Vertex"
      ]
    },
    {
      "cell_type": "code",
      "metadata": {
        "id": "QKIHiOeSC2IO",
        "colab": {
          "base_uri": "https://localhost:8080/"
        },
        "outputId": "99918c48-6b84-407f-9bd2-dac4dd886e67"
      },
      "source": [
        "results = conn.getVerticesById(\"words\", \"15314760-n\")\n",
        "pprint(results)"
      ],
      "execution_count": 117,
      "outputs": [
        {
          "output_type": "stream",
          "name": "stdout",
          "text": [
            "[\n",
            "  {\n",
            "    \"v_id\": \"15314760-n\",\n",
            "    \"v_type\": \"words\",\n",
            "    \"attributes\": {\n",
            "      \"id\": \"15314760-n\",\n",
            "      \"uri\": \"http://wordnet-rdf.princeton.edu/id/15314760-n\",\n",
            "      \"word\": \"lead_time\",\n",
            "      \"pos\": \"noun\",\n",
            "      \"definition\": \"the time interval between the initiation and the completion of a production process; &quot;the lead times for many publications can vary tremendously&quot;; &quot;planning is an area where lead time can be reduced&quot;@en\"\n",
            "    }\n",
            "  }\n",
            "]\n"
          ]
        }
      ]
    },
    {
      "cell_type": "markdown",
      "metadata": {
        "id": "wvRr72nfERqZ"
      },
      "source": [
        "#### Or Multiple Vertices"
      ]
    },
    {
      "cell_type": "code",
      "metadata": {
        "id": "dCDiIakzEULm",
        "colab": {
          "base_uri": "https://localhost:8080/"
        },
        "outputId": "16fe353f-ec6c-45c0-bc75-e5079e47eb7a"
      },
      "source": [
        "tdf1 = conn.getVerticesById(\"words\", [\"15137796-n\",\"15192825-n\"])\n",
        "pprint(tdf1)"
      ],
      "execution_count": 118,
      "outputs": [
        {
          "output_type": "stream",
          "name": "stdout",
          "text": [
            "[\n",
            "  {\n",
            "    \"v_id\": \"15137796-n\",\n",
            "    \"v_type\": \"words\",\n",
            "    \"attributes\": {\n",
            "      \"id\": \"15137796-n\",\n",
            "      \"uri\": \"http://wordnet-rdf.princeton.edu/id/15137796-n\",\n",
            "      \"word\": \"period\",\n",
            "      \"pos\": \"noun\",\n",
            "      \"definition\": \"an amount of time; &quot;a time period of 30 years&quot;; &quot;hastened the period of time of his recovery&quot;; &quot;Picasso's blue period&quot;@en\"\n",
            "    }\n",
            "  },\n",
            "  {\n",
            "    \"v_id\": \"15192825-n\",\n",
            "    \"v_type\": \"words\",\n",
            "    \"attributes\": {\n",
            "      \"id\": \"15192825-n\",\n",
            "      \"uri\": \"http://wordnet-rdf.princeton.edu/id/15192825-n\",\n",
            "      \"word\": \"eve\",\n",
            "      \"pos\": \"noun\",\n",
            "      \"definition\": \"the period immediately before something; &quot;on the eve of the French Revolution&quot;@en\"\n",
            "    }\n",
            "  }\n",
            "]\n"
          ]
        }
      ]
    },
    {
      "cell_type": "markdown",
      "metadata": {
        "id": "vqJASpgJEg6-"
      },
      "source": [
        "#### Count Edges Connected to a Vertex"
      ]
    },
    {
      "cell_type": "code",
      "metadata": {
        "id": "t-wNtrkfEj3y",
        "colab": {
          "base_uri": "https://localhost:8080/"
        },
        "outputId": "72fa8453-6303-4f95-ca5e-8d3347972f6f"
      },
      "source": [
        "results = conn.getEdgeCountFrom(\"words\", \"15192825-n\")\n",
        "pprint(results)"
      ],
      "execution_count": 119,
      "outputs": [
        {
          "output_type": "stream",
          "name": "stdout",
          "text": [
            "{\n",
            "  \"type\": 1,\n",
            "  \"reverse_type\": 1\n",
            "}\n"
          ]
        }
      ]
    },
    {
      "cell_type": "markdown",
      "metadata": {
        "id": "4g2KqQmpE1KJ"
      },
      "source": [
        "#### Show all Edges Connected to a Vertex"
      ]
    },
    {
      "cell_type": "code",
      "metadata": {
        "id": "OWVCDSvCE598",
        "colab": {
          "base_uri": "https://localhost:8080/"
        },
        "outputId": "1aec3e93-388f-4f88-afa9-5e1d7f22afcb"
      },
      "source": [
        "results = conn.getEdges(\"words\", \"15192825-n\")\n",
        "pprint(results)"
      ],
      "execution_count": 120,
      "outputs": [
        {
          "output_type": "stream",
          "name": "stdout",
          "text": [
            "[\n",
            "  {\n",
            "    \"e_type\": \"type\",\n",
            "    \"directed\": true,\n",
            "    \"from_id\": \"15192825-n\",\n",
            "    \"from_type\": \"words\",\n",
            "    \"to_id\": \"15137796-n\",\n",
            "    \"to_type\": \"words\",\n",
            "    \"attributes\": {\n",
            "      \"typeOf\": \"hypernym\"\n",
            "    }\n",
            "  },\n",
            "  {\n",
            "    \"e_type\": \"reverse_type\",\n",
            "    \"directed\": true,\n",
            "    \"from_id\": \"15192825-n\",\n",
            "    \"from_type\": \"words\",\n",
            "    \"to_id\": \"15137796-n\",\n",
            "    \"to_type\": \"words\",\n",
            "    \"attributes\": {\n",
            "      \"typeOf\": \"hyponym\"\n",
            "    }\n",
            "  }\n",
            "]\n"
          ]
        }
      ]
    },
    {
      "cell_type": "markdown",
      "metadata": {
        "id": "ckFBOkiOCzyk"
      },
      "source": [
        "### As Pandas Dataframe\n",
        "Supports all of the above in native Pandas Dataframe format."
      ]
    },
    {
      "cell_type": "markdown",
      "metadata": {
        "id": "MqGq0jozFayA"
      },
      "source": [
        "#### All Vertices of one Type"
      ]
    },
    {
      "cell_type": "code",
      "metadata": {
        "id": "tfUKpWbaFM3u",
        "colab": {
          "base_uri": "https://localhost:8080/"
        },
        "outputId": "5ec875ad-1d5b-4f75-dcd6-cdcadfc5ccc2"
      },
      "source": [
        "df1 = conn.getVertexDataframe(\"words\")\n",
        "print(df1)"
      ],
      "execution_count": 121,
      "outputs": [
        {
          "output_type": "stream",
          "name": "stdout",
          "text": [
            "              v_id  ...                                         definition\n",
            "0       15319328-n  ...  the time interval between the deposit of a che...\n",
            "1       15314760-n  ...  the time interval between the initiation and t...\n",
            "2       15309138-n  ...  the velocity of a projectile as it leaves the ...\n",
            "3       15300301-n  ...  the time constant of an exponential return of ...\n",
            "4       15294470-n  ...  a definite length of time marked off by two in...\n",
            "...            ...  ...                                                ...\n",
            "117789  00323460-n  ...  the forceful insertion of a substance under pr...\n",
            "117790  04708510-n  ...     a surface coating for ceramics or porcelain@en\n",
            "117791  00455517-n  ...  angling by drawing a baited line through the w...\n",
            "117792  11489881-n  ...  electromagnetic radiation with wavelengths lon...\n",
            "117793  04766235-n  ...  the quality of happening accidentally and by l...\n",
            "\n",
            "[117794 rows x 6 columns]\n"
          ]
        }
      ]
    },
    {
      "cell_type": "markdown",
      "metadata": {
        "id": "Cs5chjJBFgw8"
      },
      "source": [
        "#### One or More Vertex"
      ]
    },
    {
      "cell_type": "code",
      "metadata": {
        "id": "ZqZZ8r0EFiMg",
        "colab": {
          "base_uri": "https://localhost:8080/"
        },
        "outputId": "4d21fe07-be8b-43cd-d728-b41101fbbc58"
      },
      "source": [
        "df2 = conn.getVertexDataframeById(\"words\", [\"15192825-n\"])\n",
        "print(df2)"
      ],
      "execution_count": 122,
      "outputs": [
        {
          "output_type": "stream",
          "name": "stdout",
          "text": [
            "         v_id  ...                                         definition\n",
            "0  15192825-n  ...  the period immediately before something; &quot...\n",
            "\n",
            "[1 rows x 6 columns]\n"
          ]
        }
      ]
    },
    {
      "cell_type": "markdown",
      "metadata": {
        "id": "P5KKOIxcF7Co"
      },
      "source": [
        "#### Convert Vertex/Edge Set to Dataframe\n",
        "We'll use the results from the 'Or Multiple Vertices' cell. "
      ]
    },
    {
      "cell_type": "code",
      "metadata": {
        "id": "5toKOF-1GIjH",
        "colab": {
          "base_uri": "https://localhost:8080/"
        },
        "outputId": "70dd968d-74f8-4c3f-f806-572c0d11140f"
      },
      "source": [
        "df3 = conn.vertexSetToDataFrame(tdf1)\n",
        "print(df3)"
      ],
      "execution_count": 123,
      "outputs": [
        {
          "output_type": "stream",
          "name": "stdout",
          "text": [
            "         v_id  ...                                         definition\n",
            "0  15137796-n  ...  an amount of time; &quot;a time period of 30 y...\n",
            "1  15192825-n  ...  the period immediately before something; &quot...\n",
            "\n",
            "[2 rows x 6 columns]\n"
          ]
        }
      ]
    },
    {
      "cell_type": "markdown",
      "metadata": {
        "id": "zswIzwgKHnCr"
      },
      "source": [
        "#### Get Edges"
      ]
    },
    {
      "cell_type": "code",
      "metadata": {
        "id": "jnPTicB4HwpH",
        "colab": {
          "base_uri": "https://localhost:8080/"
        },
        "outputId": "9b66fb27-a9de-4954-d983-342179e341d5"
      },
      "source": [
        "df4 = conn.getEdgesDataframe(\"words\", \"15192825-n\", limit=3)\n",
        "print(df4)"
      ],
      "execution_count": 124,
      "outputs": [
        {
          "output_type": "stream",
          "name": "stdout",
          "text": [
            "  from_type     from_id to_type       to_id    typeOf\n",
            "0     words  15192825-n   words  15137796-n  hypernym\n",
            "1     words  15192825-n   words  15137796-n   hyponym\n"
          ]
        }
      ]
    },
    {
      "cell_type": "markdown",
      "metadata": {
        "id": "AijIsGUr5fDq"
      },
      "source": [
        "## Path Finding\n",
        "Find paths between vertices.\n",
        "\n",
        "Supported are:\n",
        "- shortestPath - one shortest path between vertices\n",
        "- allPaths - all paths within the specified edge limit"
      ]
    },
    {
      "cell_type": "code",
      "metadata": {
        "id": "MxIMRX1x5UPQ",
        "colab": {
          "base_uri": "https://localhost:8080/"
        },
        "outputId": "da9a16de-1690-44dc-afcf-825ec4107444"
      },
      "source": [
        "results = conn.shortestPath([(\"words\", \"15192825-n\")], [(\"words\", \"15161294-n\")])\n",
        "pprint(results)"
      ],
      "execution_count": 125,
      "outputs": [
        {
          "output_type": "stream",
          "name": "stdout",
          "text": [
            "[{'type': 'words', 'id': '15192825-n'}]\n",
            "[{'type': 'words', 'id': '15161294-n'}]\n",
            "[\n",
            "  {\n",
            "    \"vertices\": [\n",
            "      {\n",
            "        \"v_id\": \"15161294-n\",\n",
            "        \"v_type\": \"words\",\n",
            "        \"attributes\": {\n",
            "          \"id\": \"15161294-n\",\n",
            "          \"uri\": \"http://wordnet-rdf.princeton.edu/id/15161294-n\",\n",
            "          \"word\": \"midweek\",\n",
            "          \"pos\": \"noun\",\n",
            "          \"definition\": \"the middle of a week@en\"\n",
            "        }\n",
            "      },\n",
            "      {\n",
            "        \"v_id\": \"15137796-n\",\n",
            "        \"v_type\": \"words\",\n",
            "        \"attributes\": {\n",
            "          \"id\": \"15137796-n\",\n",
            "          \"uri\": \"http://wordnet-rdf.princeton.edu/id/15137796-n\",\n",
            "          \"word\": \"period\",\n",
            "          \"pos\": \"noun\",\n",
            "          \"definition\": \"an amount of time; &quot;a time period of 30 years&quot;; &quot;hastened the period of time of his recovery&quot;; &quot;Picasso's blue period&quot;@en\"\n",
            "        }\n",
            "      },\n",
            "      {\n",
            "        \"v_id\": \"15192825-n\",\n",
            "        \"v_type\": \"words\",\n",
            "        \"attributes\": {\n",
            "          \"id\": \"15192825-n\",\n",
            "          \"uri\": \"http://wordnet-rdf.princeton.edu/id/15192825-n\",\n",
            "          \"word\": \"eve\",\n",
            "          \"pos\": \"noun\",\n",
            "          \"definition\": \"the period immediately before something; &quot;on the eve of the French Revolution&quot;@en\"\n",
            "        }\n",
            "      }\n",
            "    ],\n",
            "    \"edges\": [\n",
            "      {\n",
            "        \"e_type\": \"type\",\n",
            "        \"from_id\": \"15137796-n\",\n",
            "        \"from_type\": \"words\",\n",
            "        \"to_id\": \"15161294-n\",\n",
            "        \"to_type\": \"words\",\n",
            "        \"directed\": true,\n",
            "        \"attributes\": {\n",
            "          \"typeOf\": \"hyponym\"\n",
            "        }\n",
            "      },\n",
            "      {\n",
            "        \"e_type\": \"type\",\n",
            "        \"from_id\": \"15192825-n\",\n",
            "        \"from_type\": \"words\",\n",
            "        \"to_id\": \"15137796-n\",\n",
            "        \"to_type\": \"words\",\n",
            "        \"directed\": true,\n",
            "        \"attributes\": {\n",
            "          \"typeOf\": \"hypernym\"\n",
            "        }\n",
            "      }\n",
            "    ]\n",
            "  }\n",
            "]\n"
          ]
        }
      ]
    },
    {
      "cell_type": "markdown",
      "source": [
        "# ConceptNET"
      ],
      "metadata": {
        "id": "p92Wfp-w6JJ0"
      }
    },
    {
      "cell_type": "markdown",
      "metadata": {
        "id": "6zZCAt-N6JJ8"
      },
      "source": [
        "## Create WordNet Graph"
      ]
    },
    {
      "cell_type": "code",
      "metadata": {
        "colab": {
          "base_uri": "https://localhost:8080/"
        },
        "outputId": "73067853-5307-4948-bf51-0cb5a88f21d7",
        "id": "M_xoLplS6JJ8"
      },
      "source": [
        "results = conn.gsql('CREATE GRAPH ConceptNET(word, synset, is_a, reverse_is_a)')\n",
        "print(results)"
      ],
      "execution_count": 126,
      "outputs": [
        {
          "output_type": "stream",
          "name": "stdout",
          "text": [
            "The graph ConceptNET is created.\n"
          ]
        }
      ]
    },
    {
      "cell_type": "code",
      "metadata": {
        "colab": {
          "base_uri": "https://localhost:8080/"
        },
        "outputId": "50de8c00-bac1-4c81-8d2e-67cbfa0a9622",
        "id": "wtW9IYur6JJ9"
      },
      "source": [
        "conn.graphname=\"ConceptNET\"\n",
        "secret = conn.createSecret()\n",
        "print(secret)\n",
        "authToken = conn.getToken(secret)\n",
        "authToken = authToken[0]\n",
        "print(authToken)\n",
        "conn = tg.TigerGraphConnection(host=hostName, graphname=\"ConceptNET\", username=userName, password=password, apiToken=authToken)\n",
        "\n",
        "def pprint(string):\n",
        "  print(json.dumps(string, indent=2))"
      ],
      "execution_count": 127,
      "outputs": [
        {
          "output_type": "stream",
          "name": "stdout",
          "text": [
            "49dpis1ofc8rt0p8b6r5rv4c8okllvf5\n",
            "d9m3g7u91cfbb6a01paf0ecf18is2u55\n"
          ]
        }
      ]
    },
    {
      "cell_type": "markdown",
      "metadata": {
        "id": "ZlzmsKYZ6JJ9"
      },
      "source": [
        "## Create Loading Jobs"
      ]
    },
    {
      "cell_type": "markdown",
      "metadata": {
        "id": "HfGxKRvo6JJ-"
      },
      "source": [
        "### Concept/ Words Edges"
      ]
    },
    {
      "cell_type": "markdown",
      "metadata": {
        "id": "t5wwsBNT6JJ-"
      },
      "source": [
        "Let's take a look at what one of our files looks like so we can write a loading job. \n",
        "\n",
        "- has_synset(FROM rootWord, TO synset)\n",
        "is_a_synset_of(FROM synset, TO rootWord)\n"
      ]
    },
    {
      "cell_type": "code",
      "metadata": {
        "colab": {
          "base_uri": "https://localhost:8080/"
        },
        "outputId": "85c35e3f-a188-4da0-a8bd-0e27913c837f",
        "id": "LcVbs2n36JJ-"
      },
      "source": [
        "!head -n 2 '/content/drive/MyDrive/LanguageModel/Data_Processing/csv_imports/words.csv'"
      ],
      "execution_count": 128,
      "outputs": [
        {
          "output_type": "stream",
          "name": "stdout",
          "text": [
            "id:ID,name,pos,conceptUri,:LABEL\r\n",
            "able.a,able,a,/c/en/able/a,Lemma;Concept\r\n"
          ]
        }
      ]
    },
    {
      "cell_type": "markdown",
      "metadata": {
        "id": "BqCWHZsq6JJ-"
      },
      "source": [
        "Here it's important to note that the `$0`, `$1` values line up with the columns of your data.\n",
        "In this example:\n",
        "- `$0` is the `uri` column,\n",
        "- `$1` is `id`,\n",
        "- `$2` is `word`\n",
        "- and so on"
      ]
    },
    {
      "cell_type": "code",
      "metadata": {
        "colab": {
          "base_uri": "https://localhost:8080/"
        },
        "outputId": "de2b3479-f40b-4bba-9e14-165fcf5854ee",
        "id": "jx9wRrAF6JJ-"
      },
      "source": [
        "results = conn.gsql('''\n",
        "  USE GRAPH ConceptNET\n",
        "  BEGIN\n",
        "  CREATE LOADING JOB load_job_words FOR GRAPH ConceptNET {\n",
        "      DEFINE FILENAME MyDataSource;\n",
        "      LOAD MyDataSource TO VERTEX word VALUES($0, $1, $2) USING SEPARATOR=\",\", HEADER=\"true\", EOL=\"\", QUOTE=\"double\";\n",
        "    }\n",
        "\n",
        "    CREATE LOADING JOB load_job_synsets FOR GRAPH ConceptNET {\n",
        "      DEFINE FILENAME MyDataSource;\n",
        "      LOAD MyDataSource TO VERTEX synset VALUES($0, $2) USING SEPARATOR=\",\", HEADER=\"true\", EOL=\"\", QUOTE=\"double\";\n",
        "    }\n",
        "\n",
        "\n",
        "    CREATE LOADING JOB load_job_relationships FOR GRAPH ConceptNET {\n",
        "      DEFINE FILENAME MyDataSource;\n",
        "      LOAD MyDataSource TO EDGE is_a VALUES($0 word, $1 synset, $4) USING SEPARATOR=\",\", HEADER=\"true\", EOL=\"\";\n",
        "      LOAD MyDataSource TO EDGE is_a VALUES($0 synset, $1 word, $4) USING SEPARATOR=\",\", HEADER=\"true\", EOL=\"\";\n",
        "    }\n",
        "\n",
        "  END\n",
        "  ''')\n",
        "print(results)"
      ],
      "execution_count": 129,
      "outputs": [
        {
          "output_type": "stream",
          "name": "stdout",
          "text": [
            "Using graph 'ConceptNET'\n",
            "Successfully created loading jobs: [load_job_words].\n",
            "Successfully created loading jobs: [load_job_synsets].\n",
            "Successfully created loading jobs: [load_job_relationships].\n"
          ]
        }
      ]
    },
    {
      "cell_type": "markdown",
      "source": [
        "### Concept/ Word Root\n"
      ],
      "metadata": {
        "id": "rWH8nZWn6JJ-"
      }
    },
    {
      "cell_type": "code",
      "source": [
        "!head -n 2 '/content/drive/MyDrive/LanguageModel/Data_Processing/csv_imports/synsets.csv'"
      ],
      "metadata": {
        "colab": {
          "base_uri": "https://localhost:8080/"
        },
        "id": "vnA98sWjlTOJ",
        "outputId": "686e9b1e-7325-4f10-c909-b2c6d1d6031d"
      },
      "execution_count": 130,
      "outputs": [
        {
          "output_type": "stream",
          "name": "stdout",
          "text": [
            "id:ID,pos:string,definition:string,:LABEL\r\n",
            "able.a.01,a,(usually followed by `to') having the necessary means or skill or know-how or authority to do something,Synset\r\n"
          ]
        }
      ]
    },
    {
      "cell_type": "code",
      "source": [
        "results = conn.gsql('''\n",
        "  USE GRAPH ConceptNET\n",
        "  BEGIN\n",
        "  CREATE LOADING JOB load_job_words_csv_1644515929297 FOR GRAPH ConceptNET {\n",
        "      DEFINE FILENAME MyDataSource;\n",
        "      LOAD MyDataSource TO VERTEX word VALUES($0, $1, $2) USING SEPARATOR=\",\", HEADER=\"true\", EOL=\"\\n\", QUOTE=\"double\";\n",
        "    }\n",
        "\n",
        "  CREATE LOADING JOB load_job_relationships_csv_1644515956497 FOR GRAPH ConceptNET {\n",
        "      DEFINE FILENAME MyDataSource;\n",
        "      LOAD MyDataSource TO EDGE is_a VALUES($0 synset, $1 word, $4) USING SEPARATOR=\",\", HEADER=\"true\", EOL=\"\\n\", QUOTE=\"double\";\n",
        "      LOAD MyDataSource TO EDGE is_a VALUES($0 word, $1 synset, $4) USING SEPARATOR=\",\", HEADER=\"true\", EOL=\"\\n\", QUOTE=\"double\";\n",
        "    }\n",
        "\n",
        "  CREATE LOADING JOB load_job_synsets_csv_1644515968121 FOR GRAPH ConceptNET {\n",
        "      DEFINE FILENAME MyDataSource;\n",
        "      LOAD MyDataSource TO VERTEX synset VALUES($0, $2) USING SEPARATOR=\",\", HEADER=\"true\", EOL=\"\\n\", QUOTE=\"double\";\n",
        "    }\n",
        "  END\n",
        "  ''')\n",
        "print(results)"
      ],
      "metadata": {
        "colab": {
          "base_uri": "https://localhost:8080/"
        },
        "outputId": "7955c79b-bda6-4278-94fd-1232647a4cef",
        "id": "YiU89as36JJ-"
      },
      "execution_count": 131,
      "outputs": [
        {
          "output_type": "stream",
          "name": "stdout",
          "text": [
            "Using graph 'ConceptNET'\n",
            "Successfully created loading jobs: [load_job_words_csv_1644515929297].\n",
            "Successfully created loading jobs: [load_job_relationships_csv_1644515956497].\n",
            "Successfully created loading jobs: [load_job_synsets_csv_1644515968121].\n"
          ]
        }
      ]
    },
    {
      "cell_type": "markdown",
      "source": [
        "### Concept/ Synset \n",
        "- synset(PRIMARY_ID id STRING, pos STRING, definition STRING, label STRING) WITH STATS=\"OUTDEGREE_BY_EDGETYPE\", PRIMARY_ID_AS_ATTRIBUTE=\"true\"\n"
      ],
      "metadata": {
        "id": "CyV-wdHp7hLX"
      }
    },
    {
      "cell_type": "code",
      "source": [
        "results = conn.gsql('''\n",
        "  USE GRAPH ConceptNET\n",
        "  BEGIN\n",
        "  CREATE LOADING JOB load_job_relationships FOR GRAPH ConceptNET {\n",
        "      DEFINE FILENAME MyDataSource;\n",
        "      LOAD MyDataSource TO EDGE is_a VALUES($0 word, $1 synset, $4) USING SEPARATOR=\",\", HEADER=\"true\", EOL=\"\\n\";\n",
        "      LOAD MyDataSource TO EDGE is_a VALUES($0 synset, $1 word, $4) USING SEPARATOR=\",\", HEADER=\"true\", EOL=\"\\n\";\n",
        "    }\n",
        "  END\n",
        "  ''')\n",
        "print(results)"
      ],
      "metadata": {
        "colab": {
          "base_uri": "https://localhost:8080/"
        },
        "outputId": "dfe91a55-d7dd-4870-8b31-cbb1ed54c85d",
        "id": "TFJGoh6Y7hLY"
      },
      "execution_count": 132,
      "outputs": [
        {
          "output_type": "stream",
          "name": "stdout",
          "text": [
            "Using graph 'ConceptNET'\n",
            "Semantic Check Fails: The job name load_job_relationships already exists in other objects!\n",
            "Failed to create loading jobs: [load_job_relationships].\n"
          ]
        }
      ]
    },
    {
      "cell_type": "markdown",
      "metadata": {
        "id": "HnOFvxUe6JJ_"
      },
      "source": [
        "## Load Data"
      ]
    },
    {
      "cell_type": "markdown",
      "source": [
        "### Words"
      ],
      "metadata": {
        "id": "gPZ2iTs-6JJ_"
      }
    },
    {
      "cell_type": "code",
      "source": [
        "# Load the posts file wiht the 'load_words' job\n",
        "load_words = '/content/drive/MyDrive/LanguageModel/Data_Processing/csv_imports/words.csv'\n",
        "results = conn.uploadFile(load_words, timeout='100000',fileTag='MyDataSource', jobName='load_job_words_csv_1644515929297')\n",
        "print(json.dumps(results, indent=2))"
      ],
      "metadata": {
        "colab": {
          "base_uri": "https://localhost:8080/"
        },
        "outputId": "d6e359b2-38b5-4489-936a-65c8fab6acfd",
        "id": "IUJlXRgn6JKA"
      },
      "execution_count": 133,
      "outputs": [
        {
          "output_type": "stream",
          "name": "stdout",
          "text": [
            "[\n",
            "  {\n",
            "    \"sourceFileName\": \"Online_POST\",\n",
            "    \"statistics\": {\n",
            "      \"validLine\": 1530137,\n",
            "      \"rejectLine\": 0,\n",
            "      \"failedConditionLine\": 0,\n",
            "      \"notEnoughToken\": 0,\n",
            "      \"invalidJson\": 0,\n",
            "      \"oversizeToken\": 0,\n",
            "      \"vertex\": [\n",
            "        {\n",
            "          \"typeName\": \"word\",\n",
            "          \"validObject\": 1530137,\n",
            "          \"noIdFound\": 0,\n",
            "          \"invalidAttribute\": 0,\n",
            "          \"invalidVertexType\": 0,\n",
            "          \"invalidPrimaryId\": 0,\n",
            "          \"invalidSecondaryId\": 0,\n",
            "          \"incorrectFixedBinaryLength\": 0\n",
            "        }\n",
            "      ],\n",
            "      \"edge\": [],\n",
            "      \"deleteVertex\": [],\n",
            "      \"deleteEdge\": []\n",
            "    }\n",
            "  }\n",
            "]\n"
          ]
        }
      ]
    },
    {
      "cell_type": "markdown",
      "source": [
        "### Synsets"
      ],
      "metadata": {
        "id": "mls8aW9z_nJP"
      }
    },
    {
      "cell_type": "code",
      "source": [
        "# Load the posts file wiht the 'load_synsets' job\n",
        "load_synsets = '/content/drive/MyDrive/LanguageModel/Data_Processing/csv_imports/synsets.csv'\n",
        "results = conn.uploadFile(load_synsets, timeout='100000', fileTag='MyDataSource', jobName='load_job_synsets_csv_1644515968121')\n",
        "print(json.dumps(results, indent=2))"
      ],
      "metadata": {
        "colab": {
          "base_uri": "https://localhost:8080/"
        },
        "outputId": "7e0b3772-d9cd-4800-8afb-a5a9344cc0f3",
        "id": "NUDvSM9A_nJY"
      },
      "execution_count": 134,
      "outputs": [
        {
          "output_type": "stream",
          "name": "stdout",
          "text": [
            "[\n",
            "  {\n",
            "    \"sourceFileName\": \"Online_POST\",\n",
            "    \"statistics\": {\n",
            "      \"validLine\": 117660,\n",
            "      \"rejectLine\": 0,\n",
            "      \"failedConditionLine\": 0,\n",
            "      \"notEnoughToken\": 0,\n",
            "      \"invalidJson\": 0,\n",
            "      \"oversizeToken\": 0,\n",
            "      \"vertex\": [\n",
            "        {\n",
            "          \"typeName\": \"synset\",\n",
            "          \"validObject\": 117660,\n",
            "          \"noIdFound\": 0,\n",
            "          \"invalidAttribute\": 0,\n",
            "          \"invalidVertexType\": 0,\n",
            "          \"invalidPrimaryId\": 0,\n",
            "          \"invalidSecondaryId\": 0,\n",
            "          \"incorrectFixedBinaryLength\": 0\n",
            "        }\n",
            "      ],\n",
            "      \"edge\": [],\n",
            "      \"deleteVertex\": [],\n",
            "      \"deleteEdge\": []\n",
            "    }\n",
            "  }\n",
            "]\n"
          ]
        }
      ]
    },
    {
      "cell_type": "markdown",
      "source": [
        "### Edges"
      ],
      "metadata": {
        "id": "qQ9QVxd56JKA"
      }
    },
    {
      "cell_type": "code",
      "source": [
        "# Load the posts file wiht the 'load_edges' job\n",
        "load_edges = '/content/drive/MyDrive/LanguageModel/Data_Processing/csv_imports/relationships.csv'\n",
        "results = conn.uploadFile(load_edges, timeout='100000', fileTag='MyDataSource', jobName='load_job_relationships_csv_1644515956497')\n",
        "print(json.dumps(results, indent=2))"
      ],
      "metadata": {
        "colab": {
          "base_uri": "https://localhost:8080/"
        },
        "outputId": "c456e659-03ba-487d-d1c3-6dcc4cae80ef",
        "id": "lBn7z_3x6JKA"
      },
      "execution_count": 135,
      "outputs": [
        {
          "output_type": "stream",
          "name": "stdout",
          "text": [
            "[\n",
            "  {\n",
            "    \"sourceFileName\": \"Online_POST\",\n",
            "    \"statistics\": {\n",
            "      \"validLine\": 2831679,\n",
            "      \"rejectLine\": 0,\n",
            "      \"failedConditionLine\": 0,\n",
            "      \"notEnoughToken\": 0,\n",
            "      \"invalidJson\": 0,\n",
            "      \"oversizeToken\": 0,\n",
            "      \"vertex\": [],\n",
            "      \"edge\": [\n",
            "        {\n",
            "          \"typeName\": \"is_a\",\n",
            "          \"validObject\": 2831679,\n",
            "          \"noIdFound\": 0,\n",
            "          \"invalidAttribute\": 0,\n",
            "          \"invalidVertexType\": 0,\n",
            "          \"invalidPrimaryId\": 0,\n",
            "          \"invalidSecondaryId\": 0,\n",
            "          \"incorrectFixedBinaryLength\": 0\n",
            "        },\n",
            "        {\n",
            "          \"typeName\": \"is_a\",\n",
            "          \"validObject\": 2831679,\n",
            "          \"noIdFound\": 0,\n",
            "          \"invalidAttribute\": 0,\n",
            "          \"invalidVertexType\": 0,\n",
            "          \"invalidPrimaryId\": 0,\n",
            "          \"invalidSecondaryId\": 0,\n",
            "          \"incorrectFixedBinaryLength\": 0\n",
            "        }\n",
            "      ],\n",
            "      \"deleteVertex\": [],\n",
            "      \"deleteEdge\": []\n",
            "    }\n",
            "  }\n",
            "]\n"
          ]
        }
      ]
    },
    {
      "cell_type": "markdown",
      "metadata": {
        "id": "0RX9dCXC6JKA"
      },
      "source": [
        "## Exploring the Graph"
      ]
    },
    {
      "cell_type": "markdown",
      "metadata": {
        "id": "YvT6L7eH6JKA"
      },
      "source": [
        "### Get Vertex and Edge Schema"
      ]
    },
    {
      "cell_type": "code",
      "metadata": {
        "colab": {
          "base_uri": "https://localhost:8080/"
        },
        "outputId": "09dec8bf-a213-4c44-8ac1-3768e8db9ac4",
        "id": "DlXSiqZq6JKA"
      },
      "source": [
        "results = conn.getVertexTypes()\n",
        "print(f\"Verticies: {results}\")\n",
        "vertices = results\n",
        "\n",
        "results = conn.getEdgeTypes()\n",
        "print(f\"Edges: {results}\")\n",
        "edges = results"
      ],
      "execution_count": 136,
      "outputs": [
        {
          "output_type": "stream",
          "name": "stdout",
          "text": [
            "Verticies: ['word', 'synset']\n",
            "Edges: ['is_a']\n"
          ]
        }
      ]
    },
    {
      "cell_type": "code",
      "metadata": {
        "colab": {
          "base_uri": "https://localhost:8080/"
        },
        "outputId": "d0461d90-76aa-4a56-e6d3-7d19c79e4565",
        "id": "8SdzkThj6JKA"
      },
      "source": [
        "\n",
        "# print(f\"Results for Post vertex\")\n",
        "# pprint(conn.getVertexType(\"word\"))\n",
        "\n",
        "print(\"-----------------\")\n",
        "print(f\"Results for liked edge\")\n",
        "pprint(conn.getEdgeType(\"is_a\"))\n"
      ],
      "execution_count": 137,
      "outputs": [
        {
          "output_type": "stream",
          "name": "stdout",
          "text": [
            "-----------------\n",
            "Results for liked edge\n",
            "{\n",
            "  \"IsDirected\": true,\n",
            "  \"ToVertexTypeName\": \"*\",\n",
            "  \"Config\": {\n",
            "    \"REVERSE_EDGE\": \"reverse_is_a\"\n",
            "  },\n",
            "  \"Attributes\": [\n",
            "    {\n",
            "      \"AttributeType\": {\n",
            "        \"Name\": \"STRING\"\n",
            "      },\n",
            "      \"IsPartOfCompositeKey\": false,\n",
            "      \"PrimaryIdAsAttribute\": false,\n",
            "      \"AttributeName\": \"type\",\n",
            "      \"HasIndex\": false,\n",
            "      \"internalAttribute\": false,\n",
            "      \"IsPrimaryKey\": false\n",
            "    }\n",
            "  ],\n",
            "  \"FromVertexTypeName\": \"*\",\n",
            "  \"EdgePairs\": [\n",
            "    {\n",
            "      \"From\": \"synset\",\n",
            "      \"To\": \"word\"\n",
            "    },\n",
            "    {\n",
            "      \"From\": \"word\",\n",
            "      \"To\": \"synset\"\n",
            "    }\n",
            "  ],\n",
            "  \"Name\": \"is_a\"\n",
            "}\n"
          ]
        }
      ]
    },
    {
      "cell_type": "markdown",
      "metadata": {
        "id": "yy56lT-i6JKA"
      },
      "source": [
        "## Counting Data"
      ]
    },
    {
      "cell_type": "code",
      "metadata": {
        "colab": {
          "base_uri": "https://localhost:8080/"
        },
        "outputId": "18fd9fb9-4df0-4c40-be7c-97467a0f5dc4",
        "id": "bht_fNYO6JKB"
      },
      "source": [
        "print(\"Vertex Counts\")\n",
        "for vertex in vertices:\n",
        "  print(f\"There are {conn.getVertexCount(vertex)} {vertex} vertices in the graph\")\n",
        "\n",
        "print(\"--------------\")\n",
        "print(\"Edge Counts\")\n",
        "for edge in edges:\n",
        "  print(f\"There are {conn.getEdgeCount(edge)} {edge} edges in the graph\")"
      ],
      "execution_count": 138,
      "outputs": [
        {
          "output_type": "stream",
          "name": "stdout",
          "text": [
            "Vertex Counts\n",
            "There are 1610875 word vertices in the graph\n",
            "There are 429201 synset vertices in the graph\n",
            "--------------\n",
            "Edge Counts\n",
            "There are 5503998 is_a edges in the graph\n"
          ]
        }
      ]
    },
    {
      "cell_type": "markdown",
      "metadata": {
        "id": "SjOkMPM36JKB"
      },
      "source": [
        "## Extracting Data"
      ]
    },
    {
      "cell_type": "markdown",
      "metadata": {
        "id": "04l0Fr-z6JKB"
      },
      "source": [
        "### Vertex/Edge Set Format"
      ]
    },
    {
      "cell_type": "markdown",
      "metadata": {
        "id": "SER5KI2H6JKB"
      },
      "source": [
        "#### Getting a Vertex"
      ]
    },
    {
      "cell_type": "code",
      "metadata": {
        "colab": {
          "base_uri": "https://localhost:8080/"
        },
        "outputId": "4706d26a-281d-40e7-d323-5d883fd695db",
        "id": "lQooNR_n6JKB"
      },
      "source": [
        "results = conn.getVerticesById(\"synset\", \"judicially.r.01\")\n",
        "pprint(results)"
      ],
      "execution_count": 139,
      "outputs": [
        {
          "output_type": "stream",
          "name": "stdout",
          "text": [
            "[\n",
            "  {\n",
            "    \"v_id\": \"judicially.r.01\",\n",
            "    \"v_type\": \"synset\",\n",
            "    \"attributes\": {\n",
            "      \"id\": \"judicially.r.01\",\n",
            "      \"definition\": \"as ordered by a court\"\n",
            "    }\n",
            "  }\n",
            "]\n"
          ]
        }
      ]
    },
    {
      "cell_type": "markdown",
      "metadata": {
        "id": "XyNl-phe6JKB"
      },
      "source": [
        "#### Or Multiple Vertices"
      ]
    },
    {
      "cell_type": "code",
      "metadata": {
        "colab": {
          "base_uri": "https://localhost:8080/"
        },
        "outputId": "46c2d739-9dd8-4654-cadc-3832c93208bc",
        "id": "-xkdVX4S6JKB"
      },
      "source": [
        "tdf1 = conn.getVerticesById(\"word\", [\"conflict.v\",\"clash.v.02\"])\n",
        "pprint(tdf1)"
      ],
      "execution_count": 140,
      "outputs": [
        {
          "output_type": "stream",
          "name": "stdout",
          "text": [
            "[\n",
            "  {\n",
            "    \"v_id\": \"conflict.v\",\n",
            "    \"v_type\": \"word\",\n",
            "    \"attributes\": {\n",
            "      \"id\": \"conflict.v\",\n",
            "      \"name\": \"conflict\",\n",
            "      \"pos\": \"v\"\n",
            "    }\n",
            "  },\n",
            "  {\n",
            "    \"v_id\": \"clash.v.02\",\n",
            "    \"v_type\": \"word\",\n",
            "    \"attributes\": {\n",
            "      \"id\": \"\",\n",
            "      \"name\": \"\",\n",
            "      \"pos\": \"\"\n",
            "    }\n",
            "  }\n",
            "]\n"
          ]
        }
      ]
    },
    {
      "cell_type": "markdown",
      "metadata": {
        "id": "kwW_9oSl6JKB"
      },
      "source": [
        "#### Count Edges Connected to a Vertex"
      ]
    },
    {
      "cell_type": "code",
      "metadata": {
        "colab": {
          "base_uri": "https://localhost:8080/"
        },
        "outputId": "b9f47c57-a6d6-4952-9874-42953866d16a",
        "id": "szYjJmkF6JKB"
      },
      "source": [
        "results = conn.getEdgeCountFrom(\"word\", \"conflict.v\")\n",
        "pprint(results)"
      ],
      "execution_count": 141,
      "outputs": [
        {
          "output_type": "stream",
          "name": "stdout",
          "text": [
            "{\n",
            "  \"is_a\": 9,\n",
            "  \"reverse_is_a\": 4\n",
            "}\n"
          ]
        }
      ]
    },
    {
      "cell_type": "markdown",
      "metadata": {
        "id": "t1Z8RtJL6JKC"
      },
      "source": [
        "#### Show all Edges Connected to a Vertex"
      ]
    },
    {
      "cell_type": "code",
      "metadata": {
        "colab": {
          "base_uri": "https://localhost:8080/"
        },
        "outputId": "896d3677-bec8-45a8-cfd0-b81e63a9d043",
        "id": "WJcZirzH6JKC"
      },
      "source": [
        "results = conn.getEdges(\"word\", \"conflict.v\")\n",
        "pprint(results)"
      ],
      "execution_count": 142,
      "outputs": [
        {
          "output_type": "stream",
          "name": "stdout",
          "text": [
            "[\n",
            "  {\n",
            "    \"e_type\": \"is_a\",\n",
            "    \"directed\": true,\n",
            "    \"from_id\": \"conflict.v\",\n",
            "    \"from_type\": \"word\",\n",
            "    \"to_id\": \"overlap\",\n",
            "    \"to_type\": \"synset\",\n",
            "    \"attributes\": {\n",
            "      \"type\": \"RelatedTo\"\n",
            "    }\n",
            "  },\n",
            "  {\n",
            "    \"e_type\": \"is_a\",\n",
            "    \"directed\": true,\n",
            "    \"from_id\": \"conflict.v\",\n",
            "    \"from_type\": \"word\",\n",
            "    \"to_id\": \"incompatible\",\n",
            "    \"to_type\": \"synset\",\n",
            "    \"attributes\": {\n",
            "      \"type\": \"RelatedTo\"\n",
            "    }\n",
            "  },\n",
            "  {\n",
            "    \"e_type\": \"is_a\",\n",
            "    \"directed\": true,\n",
            "    \"from_id\": \"conflict.v\",\n",
            "    \"from_type\": \"word\",\n",
            "    \"to_id\": \"disagree\",\n",
            "    \"to_type\": \"synset\",\n",
            "    \"attributes\": {\n",
            "      \"type\": \"RelatedTo\"\n",
            "    }\n",
            "  },\n",
            "  {\n",
            "    \"e_type\": \"is_a\",\n",
            "    \"directed\": true,\n",
            "    \"from_id\": \"conflict.v\",\n",
            "    \"from_type\": \"word\",\n",
            "    \"to_id\": \"contrast.v\",\n",
            "    \"to_type\": \"synset\",\n",
            "    \"attributes\": {\n",
            "      \"type\": \"MannerOf\"\n",
            "    }\n",
            "  },\n",
            "  {\n",
            "    \"e_type\": \"is_a\",\n",
            "    \"directed\": true,\n",
            "    \"from_id\": \"conflict.v\",\n",
            "    \"from_type\": \"word\",\n",
            "    \"to_id\": \"at_odds\",\n",
            "    \"to_type\": \"synset\",\n",
            "    \"attributes\": {\n",
            "      \"type\": \"RelatedTo\"\n",
            "    }\n",
            "  },\n",
            "  {\n",
            "    \"e_type\": \"is_a\",\n",
            "    \"directed\": true,\n",
            "    \"from_id\": \"conflict.v\",\n",
            "    \"from_type\": \"word\",\n",
            "    \"to_id\": \"conflict.v.02\",\n",
            "    \"to_type\": \"synset\",\n",
            "    \"attributes\": {\n",
            "      \"type\": \"InSynset\"\n",
            "    }\n",
            "  },\n",
            "  {\n",
            "    \"e_type\": \"is_a\",\n",
            "    \"directed\": true,\n",
            "    \"from_id\": \"conflict.v\",\n",
            "    \"from_type\": \"word\",\n",
            "    \"to_id\": \"transgress.v\",\n",
            "    \"to_type\": \"synset\",\n",
            "    \"attributes\": {\n",
            "      \"type\": \"MannerOf\"\n",
            "    }\n",
            "  },\n",
            "  {\n",
            "    \"e_type\": \"is_a\",\n",
            "    \"directed\": true,\n",
            "    \"from_id\": \"conflict.v\",\n",
            "    \"from_type\": \"word\",\n",
            "    \"to_id\": \"schedule\",\n",
            "    \"to_type\": \"synset\",\n",
            "    \"attributes\": {\n",
            "      \"type\": \"RelatedTo\"\n",
            "    }\n",
            "  },\n",
            "  {\n",
            "    \"e_type\": \"is_a\",\n",
            "    \"directed\": true,\n",
            "    \"from_id\": \"conflict.v\",\n",
            "    \"from_type\": \"word\",\n",
            "    \"to_id\": \"conflict.v.01\",\n",
            "    \"to_type\": \"synset\",\n",
            "    \"attributes\": {\n",
            "      \"type\": \"InSynset\"\n",
            "    }\n",
            "  },\n",
            "  {\n",
            "    \"e_type\": \"reverse_is_a\",\n",
            "    \"directed\": true,\n",
            "    \"from_id\": \"conflict.v\",\n",
            "    \"from_type\": \"word\",\n",
            "    \"to_id\": \"conflicted\",\n",
            "    \"to_type\": \"synset\",\n",
            "    \"attributes\": {\n",
            "      \"type\": \"FormOf\"\n",
            "    }\n",
            "  },\n",
            "  {\n",
            "    \"e_type\": \"reverse_is_a\",\n",
            "    \"directed\": true,\n",
            "    \"from_id\": \"conflict.v\",\n",
            "    \"from_type\": \"word\",\n",
            "    \"to_id\": \"conflicts\",\n",
            "    \"to_type\": \"synset\",\n",
            "    \"attributes\": {\n",
            "      \"type\": \"FormOf\"\n",
            "    }\n",
            "  },\n",
            "  {\n",
            "    \"e_type\": \"reverse_is_a\",\n",
            "    \"directed\": true,\n",
            "    \"from_id\": \"conflict.v\",\n",
            "    \"from_type\": \"word\",\n",
            "    \"to_id\": \"conflicting\",\n",
            "    \"to_type\": \"synset\",\n",
            "    \"attributes\": {\n",
            "      \"type\": \"FormOf\"\n",
            "    }\n",
            "  },\n",
            "  {\n",
            "    \"e_type\": \"reverse_is_a\",\n",
            "    \"directed\": true,\n",
            "    \"from_id\": \"conflict.v\",\n",
            "    \"from_type\": \"word\",\n",
            "    \"to_id\": \"clash.v\",\n",
            "    \"to_type\": \"synset\",\n",
            "    \"attributes\": {\n",
            "      \"type\": \"MannerOf\"\n",
            "    }\n",
            "  }\n",
            "]\n"
          ]
        }
      ]
    },
    {
      "cell_type": "markdown",
      "metadata": {
        "id": "RC3afJn96JKC"
      },
      "source": [
        "### As Pandas Dataframe\n",
        "Supports all of the above in native Pandas Dataframe format."
      ]
    },
    {
      "cell_type": "markdown",
      "metadata": {
        "id": "eeYEpdk_6JKC"
      },
      "source": [
        "#### All Vertices of one Type"
      ]
    },
    {
      "cell_type": "code",
      "metadata": {
        "colab": {
          "base_uri": "https://localhost:8080/"
        },
        "outputId": "05bb90ba-7193-4082-b9c1-d22d6e28dc93",
        "id": "jXj_23C_6JKC"
      },
      "source": [
        "df1 = conn.getVertexDataframe(\"word\")\n",
        "print(df1)"
      ],
      "execution_count": 143,
      "outputs": [
        {
          "output_type": "stream",
          "name": "stdout",
          "text": [
            "                                 v_id  ... pos\n",
            "0             native_american_studies  ...    \n",
            "1                    friend_to_friend  ...    \n",
            "2        making_objects_appear_closer  ...    \n",
            "3          expressing_human_condition  ...    \n",
            "4                   conveying_message  ...    \n",
            "...                               ...  ...  ..\n",
            "1647793                    clear.s.05  ...    \n",
            "1647794                   church.n.04  ...    \n",
            "1647795                   pistol.n.01  ...    \n",
            "1647796                 colaptes.n.01  ...    \n",
            "1647797           record_changer.n.01  ...    \n",
            "\n",
            "[1647798 rows x 4 columns]\n"
          ]
        }
      ]
    },
    {
      "cell_type": "markdown",
      "metadata": {
        "id": "UWfjw0B96JKC"
      },
      "source": [
        "#### One or More Vertex"
      ]
    },
    {
      "cell_type": "code",
      "metadata": {
        "colab": {
          "base_uri": "https://localhost:8080/"
        },
        "outputId": "a4381c04-2ffe-4314-e1df-89307225e07b",
        "id": "XRYvVvSr6JKC"
      },
      "source": [
        "df2 = conn.getVertexDataframeById(\"word\", \"conflict.v\")\n",
        "print(df2)"
      ],
      "execution_count": 144,
      "outputs": [
        {
          "output_type": "stream",
          "name": "stdout",
          "text": [
            "         v_id          id      name pos\n",
            "0  conflict.v  conflict.v  conflict   v\n"
          ]
        }
      ]
    },
    {
      "cell_type": "markdown",
      "metadata": {
        "id": "ygoA74mF6JKC"
      },
      "source": [
        "#### Convert Vertex/Edge Set to Dataframe\n",
        "We'll use the results from the 'Or Multiple Vertices' cell. "
      ]
    },
    {
      "cell_type": "code",
      "metadata": {
        "colab": {
          "base_uri": "https://localhost:8080/"
        },
        "outputId": "df9bafb0-7c15-4ffa-c940-303badc44020",
        "id": "hxmhfBz76JKC"
      },
      "source": [
        "df3 = conn.vertexSetToDataFrame(tdf1)\n",
        "print(df3)"
      ],
      "execution_count": 145,
      "outputs": [
        {
          "output_type": "stream",
          "name": "stdout",
          "text": [
            "         v_id          id      name pos\n",
            "0  conflict.v  conflict.v  conflict   v\n",
            "1  clash.v.02                          \n"
          ]
        }
      ]
    },
    {
      "cell_type": "markdown",
      "metadata": {
        "id": "YUpuxOfy6JKD"
      },
      "source": [
        "#### Get Edges"
      ]
    },
    {
      "cell_type": "code",
      "metadata": {
        "colab": {
          "base_uri": "https://localhost:8080/"
        },
        "outputId": "83848eac-1685-4d27-e97b-0c1f598af415",
        "id": "5lqlRe436JKD"
      },
      "source": [
        "df4 = conn.getEdgesDataframe(\"word\", \"conflict.v\",limit=3)\n",
        "print(df4)"
      ],
      "execution_count": 146,
      "outputs": [
        {
          "output_type": "stream",
          "name": "stdout",
          "text": [
            "  from_type     from_id to_type         to_id       type\n",
            "0      word  conflict.v  synset       overlap  RelatedTo\n",
            "1      word  conflict.v  synset  incompatible  RelatedTo\n",
            "2      word  conflict.v  synset      disagree  RelatedTo\n"
          ]
        }
      ]
    },
    {
      "cell_type": "markdown",
      "metadata": {
        "id": "MXMv3rJV6JKD"
      },
      "source": [
        "## Path Finding\n",
        "Find paths between vertices.\n",
        "\n",
        "Supported are:\n",
        "- shortestPath - one shortest path between vertices\n",
        "- allPaths - all paths within the specified edge limit"
      ]
    },
    {
      "cell_type": "code",
      "metadata": {
        "colab": {
          "base_uri": "https://localhost:8080/"
        },
        "outputId": "683bc47d-3808-4056-90d8-d3319bb9737b",
        "id": "cWs7y08c6JKD"
      },
      "source": [
        "results = conn.shortestPath([(\"word\", \"in_due_time.r\")], [(\"word\", \"in_due_season.r\")])\n",
        "pprint(results)"
      ],
      "execution_count": 147,
      "outputs": [
        {
          "output_type": "stream",
          "name": "stdout",
          "text": [
            "[{'type': 'word', 'id': 'in_due_time.r'}]\n",
            "[{'type': 'word', 'id': 'in_due_season.r'}]\n",
            "[\n",
            "  {\n",
            "    \"vertices\": [\n",
            "      {\n",
            "        \"v_id\": \"in_due_season.r\",\n",
            "        \"v_type\": \"word\",\n",
            "        \"attributes\": {\n",
            "          \"id\": \"in_due_season.r\",\n",
            "          \"name\": \"in_due_season\",\n",
            "          \"pos\": \"r\"\n",
            "        }\n",
            "      },\n",
            "      {\n",
            "        \"v_id\": \"in_due_course.r.01\",\n",
            "        \"v_type\": \"synset\",\n",
            "        \"attributes\": {\n",
            "          \"id\": \"in_due_course.r.01\",\n",
            "          \"definition\": \"at the appropriate time\"\n",
            "        }\n",
            "      },\n",
            "      {\n",
            "        \"v_id\": \"in_due_time.r\",\n",
            "        \"v_type\": \"word\",\n",
            "        \"attributes\": {\n",
            "          \"id\": \"in_due_time.r\",\n",
            "          \"name\": \"in_due_time\",\n",
            "          \"pos\": \"r\"\n",
            "        }\n",
            "      }\n",
            "    ],\n",
            "    \"edges\": [\n",
            "      {\n",
            "        \"e_type\": \"reverse_is_a\",\n",
            "        \"from_id\": \"in_due_course.r.01\",\n",
            "        \"from_type\": \"synset\",\n",
            "        \"to_id\": \"in_due_season.r\",\n",
            "        \"to_type\": \"word\",\n",
            "        \"directed\": true,\n",
            "        \"attributes\": {\n",
            "          \"type\": \"InSynset\"\n",
            "        }\n",
            "      },\n",
            "      {\n",
            "        \"e_type\": \"is_a\",\n",
            "        \"from_id\": \"in_due_time.r\",\n",
            "        \"from_type\": \"word\",\n",
            "        \"to_id\": \"in_due_course.r.01\",\n",
            "        \"to_type\": \"synset\",\n",
            "        \"directed\": true,\n",
            "        \"attributes\": {\n",
            "          \"type\": \"InSynset\"\n",
            "        }\n",
            "      }\n",
            "    ]\n",
            "  }\n",
            "]\n"
          ]
        }
      ]
    }
  ]
}