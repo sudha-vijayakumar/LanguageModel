{
 "cells": [
  {
   "cell_type": "markdown",
   "metadata": {
    "id": "owRhnxW15t_w"
   },
   "source": [
    "# Script to load conceptnet data with unique edges."
   ]
  },
  {
   "cell_type": "markdown",
   "metadata": {
    "id": "_TrPXJV8Eis0"
   },
   "source": [
    "*Issue*: loading edges fails for all unique edges. check methods to resolve this."
   ]
  },
  {
   "cell_type": "markdown",
   "metadata": {
    "id": "R3SmHKm3C2Kr"
   },
   "source": [
    "## Peek into the data "
   ]
  },
  {
   "cell_type": "markdown",
   "metadata": {
    "id": "onxnjCsRDn1B"
   },
   "source": [
    "### ConceptNet - Word"
   ]
  },
  {
   "cell_type": "code",
   "execution_count": 33,
   "metadata": {
    "colab": {
     "base_uri": "https://localhost:8080/",
     "height": 80
    },
    "executionInfo": {
     "elapsed": 627,
     "status": "ok",
     "timestamp": 1645429903672,
     "user": {
      "displayName": "Sudha Vijayakumar",
      "photoUrl": "https://lh3.googleusercontent.com/a/default-user=s64",
      "userId": "06644857756484093013"
     },
     "user_tz": 480
    },
    "id": "dV1wMpIMeZaY",
    "outputId": "f877fc7e-74e6-439e-957c-ff745562624d"
   },
   "outputs": [
    {
     "data": {
      "text/html": [
       "<div>\n",
       "<style scoped>\n",
       "    .dataframe tbody tr th:only-of-type {\n",
       "        vertical-align: middle;\n",
       "    }\n",
       "\n",
       "    .dataframe tbody tr th {\n",
       "        vertical-align: top;\n",
       "    }\n",
       "\n",
       "    .dataframe thead th {\n",
       "        text-align: right;\n",
       "    }\n",
       "</style>\n",
       "<table border=\"1\" class=\"dataframe\">\n",
       "  <thead>\n",
       "    <tr style=\"text-align: right;\">\n",
       "      <th></th>\n",
       "      <th>uri</th>\n",
       "      <th>id</th>\n",
       "      <th>word</th>\n",
       "      <th>pos</th>\n",
       "      <th>definition</th>\n",
       "      <th>subject</th>\n",
       "    </tr>\n",
       "  </thead>\n",
       "  <tbody>\n",
       "    <tr>\n",
       "      <th>0</th>\n",
       "      <td>http://wordnet-rdf.princeton.edu/id/00001740-a</td>\n",
       "      <td>00001740-a</td>\n",
       "      <td>able</td>\n",
       "      <td>adjective</td>\n",
       "      <td>(usually followed by `to') having the necessar...</td>\n",
       "      <td>adj.all</td>\n",
       "    </tr>\n",
       "  </tbody>\n",
       "</table>\n",
       "</div>"
      ],
      "text/plain": [
       "                                              uri          id  word  \\\n",
       "0  http://wordnet-rdf.princeton.edu/id/00001740-a  00001740-a  able   \n",
       "\n",
       "         pos                                         definition  subject  \n",
       "0  adjective  (usually followed by `to') having the necessar...  adj.all  "
      ]
     },
     "execution_count": 33,
     "metadata": {},
     "output_type": "execute_result"
    }
   ],
   "source": [
    "import pandas as pd \n",
    "\n",
    "root = 'csv_imports/'\n",
    "\n",
    "nodes = pd.read_csv(root+'WN-nodes.csv')\n",
    "\n",
    "nodes.head(1)"
   ]
  },
  {
   "cell_type": "markdown",
   "metadata": {
    "id": "8bljPSTyD03D"
   },
   "source": [
    "### ConceptNet - Synset"
   ]
  },
  {
   "cell_type": "code",
   "execution_count": 34,
   "metadata": {
    "colab": {
     "base_uri": "https://localhost:8080/",
     "height": 80
    },
    "executionInfo": {
     "elapsed": 358,
     "status": "ok",
     "timestamp": 1645429904023,
     "user": {
      "displayName": "Sudha Vijayakumar",
      "photoUrl": "https://lh3.googleusercontent.com/a/default-user=s64",
      "userId": "06644857756484093013"
     },
     "user_tz": 480
    },
    "id": "8CEt_H8SD03E",
    "outputId": "73f23bf5-66f3-4c0c-f5ce-77f9cfe0e329"
   },
   "outputs": [
    {
     "data": {
      "text/html": [
       "<div>\n",
       "<style scoped>\n",
       "    .dataframe tbody tr th:only-of-type {\n",
       "        vertical-align: middle;\n",
       "    }\n",
       "\n",
       "    .dataframe tbody tr th {\n",
       "        vertical-align: top;\n",
       "    }\n",
       "\n",
       "    .dataframe thead th {\n",
       "        text-align: right;\n",
       "    }\n",
       "</style>\n",
       "<table border=\"1\" class=\"dataframe\">\n",
       "  <thead>\n",
       "    <tr style=\"text-align: right;\">\n",
       "      <th></th>\n",
       "      <th>id:ID</th>\n",
       "      <th>pos:string</th>\n",
       "      <th>definition:string</th>\n",
       "      <th>:LABEL</th>\n",
       "    </tr>\n",
       "  </thead>\n",
       "  <tbody>\n",
       "    <tr>\n",
       "      <th>0</th>\n",
       "      <td>able.a.01</td>\n",
       "      <td>a</td>\n",
       "      <td>(usually followed by `to') having the necessar...</td>\n",
       "      <td>Synset</td>\n",
       "    </tr>\n",
       "  </tbody>\n",
       "</table>\n",
       "</div>"
      ],
      "text/plain": [
       "       id:ID pos:string                                  definition:string  \\\n",
       "0  able.a.01          a  (usually followed by `to') having the necessar...   \n",
       "\n",
       "   :LABEL  \n",
       "0  Synset  "
      ]
     },
     "execution_count": 34,
     "metadata": {},
     "output_type": "execute_result"
    }
   ],
   "source": [
    "synsets = pd.read_csv(root+'synsets.csv')\n",
    "synsets.head(1)"
   ]
  },
  {
   "cell_type": "code",
   "execution_count": 35,
   "metadata": {
    "colab": {
     "base_uri": "https://localhost:8080/",
     "height": 80
    },
    "executionInfo": {
     "elapsed": 683,
     "status": "ok",
     "timestamp": 1645432486504,
     "user": {
      "displayName": "Sudha Vijayakumar",
      "photoUrl": "https://lh3.googleusercontent.com/a/default-user=s64",
      "userId": "06644857756484093013"
     },
     "user_tz": 480
    },
    "id": "EbRsvXuqMfB5",
    "outputId": "7fe2ef69-ecbf-4dfa-d957-838b606c2aa5"
   },
   "outputs": [
    {
     "data": {
      "text/html": [
       "<div>\n",
       "<style scoped>\n",
       "    .dataframe tbody tr th:only-of-type {\n",
       "        vertical-align: middle;\n",
       "    }\n",
       "\n",
       "    .dataframe tbody tr th {\n",
       "        vertical-align: top;\n",
       "    }\n",
       "\n",
       "    .dataframe thead th {\n",
       "        text-align: right;\n",
       "    }\n",
       "</style>\n",
       "<table border=\"1\" class=\"dataframe\">\n",
       "  <thead>\n",
       "    <tr style=\"text-align: right;\">\n",
       "      <th></th>\n",
       "      <th>pos:string</th>\n",
       "      <th>definition:string</th>\n",
       "      <th>:LABEL</th>\n",
       "    </tr>\n",
       "    <tr>\n",
       "      <th>id:ID</th>\n",
       "      <th></th>\n",
       "      <th></th>\n",
       "      <th></th>\n",
       "    </tr>\n",
       "  </thead>\n",
       "  <tbody>\n",
       "    <tr>\n",
       "      <th>able.a.01</th>\n",
       "      <td>0</td>\n",
       "      <td>(usually followed by `to') having the necessar...</td>\n",
       "      <td>Synset</td>\n",
       "    </tr>\n",
       "  </tbody>\n",
       "</table>\n",
       "</div>"
      ],
      "text/plain": [
       "           pos:string                                  definition:string  \\\n",
       "id:ID                                                                      \n",
       "able.a.01           0  (usually followed by `to') having the necessar...   \n",
       "\n",
       "           :LABEL  \n",
       "id:ID              \n",
       "able.a.01  Synset  "
      ]
     },
     "execution_count": 35,
     "metadata": {},
     "output_type": "execute_result"
    }
   ],
   "source": [
    "synsets_enc = pd.read_csv(root+'encoded/synsets-encoded.csv',index_col=0)\n",
    "synsets_enc.head(1)\n",
    "\n",
    "#helper method to encode synsets relationship columns.\n",
    "# def get_synset(id):\n",
    "#     try:\n",
    "#       s = id.split('.')\n",
    "#       return s[0]\n",
    "#     except:\n",
    "#       return \"\"\n",
    "        \n",
    "# synsets_enc['name'] = synsets_enc.apply(lambda x: get_synset(x['id:ID']),axis=1)\n",
    "# synsets_enc.to_csv('encoded/synsets-encoded.csv')"
   ]
  },
  {
   "cell_type": "markdown",
   "metadata": {
    "id": "g5EpKg8_Ee65"
   },
   "source": [
    "### ConceptNet - Edges"
   ]
  },
  {
   "cell_type": "code",
   "execution_count": 36,
   "metadata": {
    "colab": {
     "base_uri": "https://localhost:8080/",
     "height": 237
    },
    "executionInfo": {
     "elapsed": 4428,
     "status": "ok",
     "timestamp": 1645429908776,
     "user": {
      "displayName": "Sudha Vijayakumar",
      "photoUrl": "https://lh3.googleusercontent.com/a/default-user=s64",
      "userId": "06644857756484093013"
     },
     "user_tz": 480
    },
    "id": "4aOAucuvEe7A",
    "outputId": "14106997-893a-4b67-d5d4-fc12e531588a"
   },
   "outputs": [
    {
     "data": {
      "text/html": [
       "<div>\n",
       "<style scoped>\n",
       "    .dataframe tbody tr th:only-of-type {\n",
       "        vertical-align: middle;\n",
       "    }\n",
       "\n",
       "    .dataframe tbody tr th {\n",
       "        vertical-align: top;\n",
       "    }\n",
       "\n",
       "    .dataframe thead th {\n",
       "        text-align: right;\n",
       "    }\n",
       "</style>\n",
       "<table border=\"1\" class=\"dataframe\">\n",
       "  <thead>\n",
       "    <tr style=\"text-align: right;\">\n",
       "      <th></th>\n",
       "      <th>:END_ID</th>\n",
       "      <th>dataset:string</th>\n",
       "      <th>weight:double</th>\n",
       "      <th>:TYPE</th>\n",
       "    </tr>\n",
       "    <tr>\n",
       "      <th>:START_ID</th>\n",
       "      <th></th>\n",
       "      <th></th>\n",
       "      <th></th>\n",
       "      <th></th>\n",
       "    </tr>\n",
       "  </thead>\n",
       "  <tbody>\n",
       "    <tr>\n",
       "      <th>able.a.01</th>\n",
       "      <td>ability.n.01</td>\n",
       "      <td>/d/wordnet/3.1</td>\n",
       "      <td>2.0</td>\n",
       "      <td>Attribute</td>\n",
       "    </tr>\n",
       "    <tr>\n",
       "      <th>able.a.01</th>\n",
       "      <td>ability.n.02</td>\n",
       "      <td>/d/wordnet/3.1</td>\n",
       "      <td>2.0</td>\n",
       "      <td>Attribute</td>\n",
       "    </tr>\n",
       "    <tr>\n",
       "      <th>able.a</th>\n",
       "      <td>able.a.01</td>\n",
       "      <td>/d/wordnet/3.1</td>\n",
       "      <td>2.0</td>\n",
       "      <td>InSynset</td>\n",
       "    </tr>\n",
       "    <tr>\n",
       "      <th>unable.a.01</th>\n",
       "      <td>ability.n.01</td>\n",
       "      <td>/d/wordnet/3.1</td>\n",
       "      <td>2.0</td>\n",
       "      <td>Attribute</td>\n",
       "    </tr>\n",
       "    <tr>\n",
       "      <th>unable.a</th>\n",
       "      <td>unable.a.01</td>\n",
       "      <td>/d/wordnet/3.1</td>\n",
       "      <td>2.0</td>\n",
       "      <td>InSynset</td>\n",
       "    </tr>\n",
       "  </tbody>\n",
       "</table>\n",
       "</div>"
      ],
      "text/plain": [
       "                  :END_ID  dataset:string  weight:double      :TYPE\n",
       ":START_ID                                                          \n",
       "able.a.01    ability.n.01  /d/wordnet/3.1            2.0  Attribute\n",
       "able.a.01    ability.n.02  /d/wordnet/3.1            2.0  Attribute\n",
       "able.a          able.a.01  /d/wordnet/3.1            2.0   InSynset\n",
       "unable.a.01  ability.n.01  /d/wordnet/3.1            2.0  Attribute\n",
       "unable.a      unable.a.01  /d/wordnet/3.1            2.0   InSynset"
      ]
     },
     "execution_count": 36,
     "metadata": {},
     "output_type": "execute_result"
    }
   ],
   "source": [
    "relationships = pd.read_csv(root+'relationships.csv',index_col=[0])\n",
    "relationships.head(5)"
   ]
  },
  {
   "cell_type": "markdown",
   "metadata": {
    "id": "qeECSBsJFENG"
   },
   "source": [
    "### ConceptNet - Part of Speech"
   ]
  },
  {
   "cell_type": "code",
   "execution_count": 37,
   "metadata": {
    "colab": {
     "base_uri": "https://localhost:8080/",
     "height": 206
    },
    "executionInfo": {
     "elapsed": 29,
     "status": "ok",
     "timestamp": 1645429908777,
     "user": {
      "displayName": "Sudha Vijayakumar",
      "photoUrl": "https://lh3.googleusercontent.com/a/default-user=s64",
      "userId": "06644857756484093013"
     },
     "user_tz": 480
    },
    "id": "07q5ET0wFENO",
    "outputId": "8c8b8e6c-9508-4de4-a906-851bf3df774d"
   },
   "outputs": [
    {
     "data": {
      "text/html": [
       "<div>\n",
       "<style scoped>\n",
       "    .dataframe tbody tr th:only-of-type {\n",
       "        vertical-align: middle;\n",
       "    }\n",
       "\n",
       "    .dataframe tbody tr th {\n",
       "        vertical-align: top;\n",
       "    }\n",
       "\n",
       "    .dataframe thead th {\n",
       "        text-align: right;\n",
       "    }\n",
       "</style>\n",
       "<table border=\"1\" class=\"dataframe\">\n",
       "  <thead>\n",
       "    <tr style=\"text-align: right;\">\n",
       "      <th></th>\n",
       "      <th>type</th>\n",
       "      <th>id</th>\n",
       "    </tr>\n",
       "  </thead>\n",
       "  <tbody>\n",
       "    <tr>\n",
       "      <th>0</th>\n",
       "      <td>adjective</td>\n",
       "      <td>0</td>\n",
       "    </tr>\n",
       "    <tr>\n",
       "      <th>1</th>\n",
       "      <td>noun</td>\n",
       "      <td>3</td>\n",
       "    </tr>\n",
       "    <tr>\n",
       "      <th>2</th>\n",
       "      <td>adverb</td>\n",
       "      <td>2</td>\n",
       "    </tr>\n",
       "    <tr>\n",
       "      <th>3</th>\n",
       "      <td>verb</td>\n",
       "      <td>4</td>\n",
       "    </tr>\n",
       "    <tr>\n",
       "      <th>4</th>\n",
       "      <td>adjective_satellite</td>\n",
       "      <td>1</td>\n",
       "    </tr>\n",
       "  </tbody>\n",
       "</table>\n",
       "</div>"
      ],
      "text/plain": [
       "                  type  id\n",
       "0            adjective   0\n",
       "1                 noun   3\n",
       "2               adverb   2\n",
       "3                 verb   4\n",
       "4  adjective_satellite   1"
      ]
     },
     "execution_count": 37,
     "metadata": {},
     "output_type": "execute_result"
    }
   ],
   "source": [
    "relationships = pd.read_csv(root+'encoded/pos_wn.csv',index_col=[0])\n",
    "relationships.head()"
   ]
  },
  {
   "cell_type": "markdown",
   "metadata": {
    "id": "jzjDRxoNCdMT"
   },
   "source": [
    "## Install pyTigerGraph"
   ]
  },
  {
   "cell_type": "code",
   "execution_count": 38,
   "metadata": {
    "colab": {
     "base_uri": "https://localhost:8080/"
    },
    "executionInfo": {
     "elapsed": 3292,
     "status": "ok",
     "timestamp": 1645429912043,
     "user": {
      "displayName": "Sudha Vijayakumar",
      "photoUrl": "https://lh3.googleusercontent.com/a/default-user=s64",
      "userId": "06644857756484093013"
     },
     "user_tz": 480
    },
    "id": "k6-7UPQdCd43",
    "outputId": "e906da74-5b82-42a2-e639-f77afc1975b5"
   },
   "outputs": [
    {
     "name": "stdout",
     "output_type": "stream",
     "text": [
      "\u001b[33mWARNING: Ignoring invalid distribution -eras-preprocessing (/opt/anaconda3/lib/python3.8/site-packages)\u001b[0m\u001b[33m\n",
      "\u001b[0m\u001b[33mWARNING: Ignoring invalid distribution -atplotlib (/opt/anaconda3/lib/python3.8/site-packages)\u001b[0m\u001b[33m\n",
      "\u001b[0m\u001b[33mWARNING: Ignoring invalid distribution -eras-preprocessing (/opt/anaconda3/lib/python3.8/site-packages)\u001b[0m\u001b[33m\n",
      "\u001b[0m\u001b[33mWARNING: Ignoring invalid distribution -atplotlib (/opt/anaconda3/lib/python3.8/site-packages)\u001b[0m\u001b[33m\n",
      "\u001b[0mRequirement already satisfied: pyTigerGraph in /opt/anaconda3/lib/python3.8/site-packages (0.0.9.9.2)\n",
      "Requirement already satisfied: requests in /opt/anaconda3/lib/python3.8/site-packages (from pyTigerGraph) (2.24.0)\n",
      "Requirement already satisfied: validators in /opt/anaconda3/lib/python3.8/site-packages (from pyTigerGraph) (0.18.2)\n",
      "Requirement already satisfied: pyTigerDriver in /opt/anaconda3/lib/python3.8/site-packages (from pyTigerGraph) (1.0.14)\n",
      "Requirement already satisfied: pandas in /opt/anaconda3/lib/python3.8/site-packages (from pyTigerGraph) (1.2.4)\n",
      "Requirement already satisfied: python-dateutil>=2.7.3 in /opt/anaconda3/lib/python3.8/site-packages (from pandas->pyTigerGraph) (2.8.1)\n",
      "Requirement already satisfied: pytz>=2017.3 in /opt/anaconda3/lib/python3.8/site-packages (from pandas->pyTigerGraph) (2020.1)\n",
      "Requirement already satisfied: numpy>=1.16.5 in /opt/anaconda3/lib/python3.8/site-packages (from pandas->pyTigerGraph) (1.19.5)\n",
      "Requirement already satisfied: idna<3,>=2.5 in /opt/anaconda3/lib/python3.8/site-packages (from requests->pyTigerGraph) (2.10)\n",
      "Requirement already satisfied: certifi>=2017.4.17 in /opt/anaconda3/lib/python3.8/site-packages (from requests->pyTigerGraph) (2020.12.5)\n",
      "Requirement already satisfied: chardet<4,>=3.0.2 in /opt/anaconda3/lib/python3.8/site-packages (from requests->pyTigerGraph) (3.0.4)\n",
      "Requirement already satisfied: urllib3!=1.25.0,!=1.25.1,<1.26,>=1.21.1 in /opt/anaconda3/lib/python3.8/site-packages (from requests->pyTigerGraph) (1.25.11)\n",
      "Requirement already satisfied: decorator>=3.4.0 in /opt/anaconda3/lib/python3.8/site-packages (from validators->pyTigerGraph) (4.4.2)\n",
      "Requirement already satisfied: six>=1.4.0 in /opt/anaconda3/lib/python3.8/site-packages (from validators->pyTigerGraph) (1.15.0)\n",
      "\u001b[33mWARNING: Ignoring invalid distribution -eras-preprocessing (/opt/anaconda3/lib/python3.8/site-packages)\u001b[0m\u001b[33m\n",
      "\u001b[0m\u001b[33mWARNING: Ignoring invalid distribution -atplotlib (/opt/anaconda3/lib/python3.8/site-packages)\u001b[0m\u001b[33m\n",
      "\u001b[0m\u001b[33mWARNING: Ignoring invalid distribution -eras-preprocessing (/opt/anaconda3/lib/python3.8/site-packages)\u001b[0m\u001b[33m\n",
      "\u001b[0m\u001b[33mWARNING: Ignoring invalid distribution -atplotlib (/opt/anaconda3/lib/python3.8/site-packages)\u001b[0m\u001b[33m\n",
      "\u001b[0m\u001b[33mWARNING: Ignoring invalid distribution -eras-preprocessing (/opt/anaconda3/lib/python3.8/site-packages)\u001b[0m\u001b[33m\n",
      "\u001b[0m\u001b[33mWARNING: Ignoring invalid distribution -atplotlib (/opt/anaconda3/lib/python3.8/site-packages)\u001b[0m\u001b[33m\n",
      "\u001b[0m"
     ]
    }
   ],
   "source": [
    "!pip install -U pyTigerGraph"
   ]
  },
  {
   "cell_type": "markdown",
   "metadata": {
    "id": "pSsJAzc_5yNN"
   },
   "source": [
    "## Add Imports and Establish Initial Connection"
   ]
  },
  {
   "cell_type": "code",
   "execution_count": 39,
   "metadata": {
    "colab": {
     "base_uri": "https://localhost:8080/"
    },
    "executionInfo": {
     "elapsed": 26,
     "status": "ok",
     "timestamp": 1645429912044,
     "user": {
      "displayName": "Sudha Vijayakumar",
      "photoUrl": "https://lh3.googleusercontent.com/a/default-user=s64",
      "userId": "06644857756484093013"
     },
     "user_tz": 480
    },
    "id": "vqpwQh1_noLK",
    "outputId": "2065648a-c12e-4827-ad9f-0bc5a668b611"
   },
   "outputs": [
    {
     "name": "stdout",
     "output_type": "stream",
     "text": [
      "Connected\n"
     ]
    }
   ],
   "source": [
    "# Imports\n",
    "import pyTigerGraph as tg\n",
    "import json\n",
    "import pandas as pd\n",
    "\n",
    "# Connection parameters\n",
    "hostName = \"https://language.i.tgcloud.io/\"\n",
    "userName = \"tigergraph\"\n",
    "password = \"tigergraph\"\n",
    "\n",
    "conn = tg.TigerGraphConnection(host=hostName, username=userName, password=password)\n",
    "\n",
    "print(\"Connected\")"
   ]
  },
  {
   "cell_type": "code",
   "execution_count": 40,
   "metadata": {},
   "outputs": [],
   "source": [
    "##Clear graph if already solution has the same graph\n",
    "\n",
    "# conn.gsql('''\n",
    "# USE GLOBAL\n",
    "# DROP ALL\n",
    "# ''')"
   ]
  },
  {
   "cell_type": "markdown",
   "metadata": {
    "id": "SDPUKGDc55bJ"
   },
   "source": [
    "## Define and Publish the Schema"
   ]
  },
  {
   "cell_type": "markdown",
   "metadata": {
    "id": "mJbIrVq6ASxg"
   },
   "source": [
    "- Include the edges for the relation types included: **['Antonym','Synonym','RelatedTo']** to generate the gsql create edge query. \n",
    "- This will eliminate the effort to type in queries if there are too many relation types."
   ]
  },
  {
   "cell_type": "code",
   "execution_count": 41,
   "metadata": {
    "colab": {
     "base_uri": "https://localhost:8080/"
    },
    "executionInfo": {
     "elapsed": 513,
     "status": "ok",
     "timestamp": 1645429912534,
     "user": {
      "displayName": "Sudha Vijayakumar",
      "photoUrl": "https://lh3.googleusercontent.com/a/default-user=s64",
      "userId": "06644857756484093013"
     },
     "user_tz": 480
    },
    "id": "ibBRF18a8KSA",
    "outputId": "977f4416-d236-4ea9-b423-c26b94106f3f"
   },
   "outputs": [
    {
     "name": "stdout",
     "output_type": "stream",
     "text": [
      "41\n",
      "CREATE DIRECTED EDGE Attribute(FROM synset, TO synset|FROM synset, TO word|FROM word, TO synset|FROM word, TO word) WITH REVERSE_EDGE=\"reverse_Attribute\"\n",
      "CREATE DIRECTED EDGE InSynset(FROM synset, TO synset|FROM synset, TO word|FROM word, TO synset|FROM word, TO word) WITH REVERSE_EDGE=\"reverse_InSynset\"\n",
      "CREATE DIRECTED EDGE Domain(FROM synset, TO synset|FROM synset, TO word|FROM word, TO synset|FROM word, TO word) WITH REVERSE_EDGE=\"reverse_Domain\"\n",
      "CREATE DIRECTED EDGE SimilarTo(FROM synset, TO synset|FROM synset, TO word|FROM word, TO synset|FROM word, TO word) WITH REVERSE_EDGE=\"reverse_SimilarTo\"\n",
      "CREATE DIRECTED EDGE AlsoSee(FROM synset, TO synset|FROM synset, TO word|FROM word, TO synset|FROM word, TO word) WITH REVERSE_EDGE=\"reverse_AlsoSee\"\n",
      "CREATE DIRECTED EDGE IsA(FROM synset, TO synset|FROM synset, TO word|FROM word, TO synset|FROM word, TO word) WITH REVERSE_EDGE=\"reverse_IsA\"\n",
      "CREATE DIRECTED EDGE PartOf(FROM synset, TO synset|FROM synset, TO word|FROM word, TO synset|FROM word, TO word) WITH REVERSE_EDGE=\"reverse_PartOf\"\n",
      "CREATE DIRECTED EDGE Entailment(FROM synset, TO synset|FROM synset, TO word|FROM word, TO synset|FROM word, TO word) WITH REVERSE_EDGE=\"reverse_Entailment\"\n",
      "CREATE DIRECTED EDGE VerbGroup(FROM synset, TO synset|FROM synset, TO word|FROM word, TO synset|FROM word, TO word) WITH REVERSE_EDGE=\"reverse_VerbGroup\"\n",
      "CREATE DIRECTED EDGE Cause(FROM synset, TO synset|FROM synset, TO word|FROM word, TO synset|FROM word, TO word) WITH REVERSE_EDGE=\"reverse_Cause\"\n",
      "CREATE DIRECTED EDGE Antonym(FROM synset, TO synset|FROM synset, TO word|FROM word, TO synset|FROM word, TO word) WITH REVERSE_EDGE=\"reverse_Antonym\"\n",
      "CREATE DIRECTED EDGE AtLocation(FROM synset, TO synset|FROM synset, TO word|FROM word, TO synset|FROM word, TO word) WITH REVERSE_EDGE=\"reverse_AtLocation\"\n",
      "CREATE DIRECTED EDGE CapableOf(FROM synset, TO synset|FROM synset, TO word|FROM word, TO synset|FROM word, TO word) WITH REVERSE_EDGE=\"reverse_CapableOf\"\n",
      "CREATE DIRECTED EDGE Causes(FROM synset, TO synset|FROM synset, TO word|FROM word, TO synset|FROM word, TO word) WITH REVERSE_EDGE=\"reverse_Causes\"\n",
      "CREATE DIRECTED EDGE CausesDesire(FROM synset, TO synset|FROM synset, TO word|FROM word, TO synset|FROM word, TO word) WITH REVERSE_EDGE=\"reverse_CausesDesire\"\n",
      "CREATE DIRECTED EDGE CreatedBy(FROM synset, TO synset|FROM synset, TO word|FROM word, TO synset|FROM word, TO word) WITH REVERSE_EDGE=\"reverse_CreatedBy\"\n",
      "CREATE DIRECTED EDGE DefinedAs(FROM synset, TO synset|FROM synset, TO word|FROM word, TO synset|FROM word, TO word) WITH REVERSE_EDGE=\"reverse_DefinedAs\"\n",
      "CREATE DIRECTED EDGE DerivedFrom(FROM synset, TO synset|FROM synset, TO word|FROM word, TO synset|FROM word, TO word) WITH REVERSE_EDGE=\"reverse_DerivedFrom\"\n",
      "CREATE DIRECTED EDGE Desires(FROM synset, TO synset|FROM synset, TO word|FROM word, TO synset|FROM word, TO word) WITH REVERSE_EDGE=\"reverse_Desires\"\n",
      "CREATE DIRECTED EDGE DistinctFrom(FROM synset, TO synset|FROM synset, TO word|FROM word, TO synset|FROM word, TO word) WITH REVERSE_EDGE=\"reverse_DistinctFrom\"\n",
      "CREATE DIRECTED EDGE Entails(FROM synset, TO synset|FROM synset, TO word|FROM word, TO synset|FROM word, TO word) WITH REVERSE_EDGE=\"reverse_Entails\"\n",
      "CREATE DIRECTED EDGE EtymologicallyDerivedFrom(FROM synset, TO synset|FROM synset, TO word|FROM word, TO synset|FROM word, TO word) WITH REVERSE_EDGE=\"reverse_EtymologicallyDerivedFrom\"\n",
      "CREATE DIRECTED EDGE EtymologicallyRelatedTo(FROM synset, TO synset|FROM synset, TO word|FROM word, TO synset|FROM word, TO word) WITH REVERSE_EDGE=\"reverse_EtymologicallyRelatedTo\"\n",
      "CREATE DIRECTED EDGE FormOf(FROM synset, TO synset|FROM synset, TO word|FROM word, TO synset|FROM word, TO word) WITH REVERSE_EDGE=\"reverse_FormOf\"\n",
      "CREATE DIRECTED EDGE HasA(FROM synset, TO synset|FROM synset, TO word|FROM word, TO synset|FROM word, TO word) WITH REVERSE_EDGE=\"reverse_HasA\"\n",
      "CREATE DIRECTED EDGE HasContext(FROM synset, TO synset|FROM synset, TO word|FROM word, TO synset|FROM word, TO word) WITH REVERSE_EDGE=\"reverse_HasContext\"\n",
      "CREATE DIRECTED EDGE HasFirstSubevent(FROM synset, TO synset|FROM synset, TO word|FROM word, TO synset|FROM word, TO word) WITH REVERSE_EDGE=\"reverse_HasFirstSubevent\"\n",
      "CREATE DIRECTED EDGE HasLastSubevent(FROM synset, TO synset|FROM synset, TO word|FROM word, TO synset|FROM word, TO word) WITH REVERSE_EDGE=\"reverse_HasLastSubevent\"\n",
      "CREATE DIRECTED EDGE HasPrerequisite(FROM synset, TO synset|FROM synset, TO word|FROM word, TO synset|FROM word, TO word) WITH REVERSE_EDGE=\"reverse_HasPrerequisite\"\n",
      "CREATE DIRECTED EDGE HasProperty(FROM synset, TO synset|FROM synset, TO word|FROM word, TO synset|FROM word, TO word) WITH REVERSE_EDGE=\"reverse_HasProperty\"\n",
      "CREATE DIRECTED EDGE HasSubevent(FROM synset, TO synset|FROM synset, TO word|FROM word, TO synset|FROM word, TO word) WITH REVERSE_EDGE=\"reverse_HasSubevent\"\n",
      "CREATE DIRECTED EDGE InstanceOf(FROM synset, TO synset|FROM synset, TO word|FROM word, TO synset|FROM word, TO word) WITH REVERSE_EDGE=\"reverse_InstanceOf\"\n",
      "CREATE DIRECTED EDGE LocatedNear(FROM synset, TO synset|FROM synset, TO word|FROM word, TO synset|FROM word, TO word) WITH REVERSE_EDGE=\"reverse_LocatedNear\"\n",
      "CREATE DIRECTED EDGE MadeOf(FROM synset, TO synset|FROM synset, TO word|FROM word, TO synset|FROM word, TO word) WITH REVERSE_EDGE=\"reverse_MadeOf\"\n",
      "CREATE DIRECTED EDGE MannerOf(FROM synset, TO synset|FROM synset, TO word|FROM word, TO synset|FROM word, TO word) WITH REVERSE_EDGE=\"reverse_MannerOf\"\n",
      "CREATE DIRECTED EDGE MotivatedByGoal(FROM synset, TO synset|FROM synset, TO word|FROM word, TO synset|FROM word, TO word) WITH REVERSE_EDGE=\"reverse_MotivatedByGoal\"\n",
      "CREATE DIRECTED EDGE NotCapableOf(FROM synset, TO synset|FROM synset, TO word|FROM word, TO synset|FROM word, TO word) WITH REVERSE_EDGE=\"reverse_NotCapableOf\"\n",
      "CREATE DIRECTED EDGE NotDesires(FROM synset, TO synset|FROM synset, TO word|FROM word, TO synset|FROM word, TO word) WITH REVERSE_EDGE=\"reverse_NotDesires\"\n",
      "CREATE DIRECTED EDGE NotHasProperty(FROM synset, TO synset|FROM synset, TO word|FROM word, TO synset|FROM word, TO word) WITH REVERSE_EDGE=\"reverse_NotHasProperty\"\n",
      "CREATE DIRECTED EDGE ReceivesAction(FROM synset, TO synset|FROM synset, TO word|FROM word, TO synset|FROM word, TO word) WITH REVERSE_EDGE=\"reverse_ReceivesAction\"\n",
      "CREATE DIRECTED EDGE RelatedTo(FROM synset, TO synset|FROM synset, TO word|FROM word, TO synset|FROM word, TO word) WITH REVERSE_EDGE=\"reverse_RelatedTo\"\n",
      "\n"
     ]
    }
   ],
   "source": [
    "rel_type = pd.read_csv(root+'encoded/type_rel.csv')\n",
    "rel = rel_type['type']\n",
    "print(len(rel))\n",
    "\n",
    "rel_included = rel #['Antonym','Synonym','RelatedTo']\n",
    "\n",
    "str_=\"\"\n",
    "# for r in rel:\n",
    "for r in rel_included:\n",
    "  if '/' in r:\n",
    "    r = r.replace('/','_')\n",
    "  str_+=\"CREATE DIRECTED EDGE \"+r+\"(FROM synset, TO synset|FROM synset, TO word|FROM word, TO synset|FROM word, TO word) WITH REVERSE_EDGE=\\\"reverse_\"+r+\"\\\"\"\n",
    "\n",
    "  str_+=\"\\n\"\n",
    "print(str_)"
   ]
  },
  {
   "cell_type": "markdown",
   "metadata": {
    "id": "mi97gIJXAjlZ"
   },
   "source": [
    "- Copy & paste the above query within USE Global gsql block after EDGE:is_pos."
   ]
  },
  {
   "cell_type": "code",
   "execution_count": 42,
   "metadata": {
    "colab": {
     "base_uri": "https://localhost:8080/"
    },
    "executionInfo": {
     "elapsed": 19890,
     "status": "ok",
     "timestamp": 1645429932419,
     "user": {
      "displayName": "Sudha Vijayakumar",
      "photoUrl": "https://lh3.googleusercontent.com/a/default-user=s64",
      "userId": "06644857756484093013"
     },
     "user_tz": 480
    },
    "id": "tbLUKiA4oSKX",
    "outputId": "76798f4d-da5e-46c7-94dd-40034b6ee486"
   },
   "outputs": [
    {
     "name": "stdout",
     "output_type": "stream",
     "text": [
      "Successfully created vertex types: [synset].\n",
      "Successfully created vertex types: [word].\n",
      "Successfully created vertex types: [part_of_speech].\n",
      "Successfully created edge types: [has_pos].\n",
      "Successfully created reverse edge types: [reverse_has_pos].\n",
      "Successfully created edge types: [is_pos_of].\n",
      "Successfully created reverse edge types: [reverse_is_pos_of].\n",
      "Successfully created edge types: [Attribute].\n",
      "Successfully created reverse edge types: [reverse_Attribute].\n",
      "Successfully created edge types: [InSynset].\n",
      "Successfully created reverse edge types: [reverse_InSynset].\n",
      "Successfully created edge types: [Domain].\n",
      "Successfully created reverse edge types: [reverse_Domain].\n",
      "Successfully created edge types: [SimilarTo].\n",
      "Successfully created reverse edge types: [reverse_SimilarTo].\n",
      "Successfully created edge types: [AlsoSee].\n",
      "Successfully created reverse edge types: [reverse_AlsoSee].\n",
      "Successfully created edge types: [IsA].\n",
      "Successfully created reverse edge types: [reverse_IsA].\n",
      "Successfully created edge types: [PartOf].\n",
      "Successfully created reverse edge types: [reverse_PartOf].\n",
      "Successfully created edge types: [Entailment].\n",
      "Successfully created reverse edge types: [reverse_Entailment].\n",
      "Successfully created edge types: [VerbGroup].\n",
      "Successfully created reverse edge types: [reverse_VerbGroup].\n",
      "Successfully created edge types: [Cause].\n",
      "Successfully created reverse edge types: [reverse_Cause].\n",
      "Successfully created edge types: [Antonym].\n",
      "Successfully created reverse edge types: [reverse_Antonym].\n",
      "Successfully created edge types: [AtLocation].\n",
      "Successfully created reverse edge types: [reverse_AtLocation].\n",
      "Successfully created edge types: [CapableOf].\n",
      "Successfully created reverse edge types: [reverse_CapableOf].\n",
      "Successfully created edge types: [Causes].\n",
      "Successfully created reverse edge types: [reverse_Causes].\n",
      "Successfully created edge types: [CausesDesire].\n",
      "Successfully created reverse edge types: [reverse_CausesDesire].\n",
      "Successfully created edge types: [CreatedBy].\n",
      "Successfully created reverse edge types: [reverse_CreatedBy].\n",
      "Successfully created edge types: [DefinedAs].\n",
      "Successfully created reverse edge types: [reverse_DefinedAs].\n",
      "Successfully created edge types: [DerivedFrom].\n",
      "Successfully created reverse edge types: [reverse_DerivedFrom].\n",
      "Successfully created edge types: [Desires].\n",
      "Successfully created reverse edge types: [reverse_Desires].\n",
      "Successfully created edge types: [DistinctFrom].\n",
      "Successfully created reverse edge types: [reverse_DistinctFrom].\n",
      "Successfully created edge types: [Entails].\n",
      "Successfully created reverse edge types: [reverse_Entails].\n",
      "Successfully created edge types: [EtymologicallyDerivedFrom].\n",
      "Successfully created reverse edge types: [reverse_EtymologicallyDerivedFrom].\n",
      "Successfully created edge types: [EtymologicallyRelatedTo].\n",
      "Successfully created reverse edge types: [reverse_EtymologicallyRelatedTo].\n",
      "Successfully created edge types: [FormOf].\n",
      "Successfully created reverse edge types: [reverse_FormOf].\n",
      "Successfully created edge types: [HasA].\n",
      "Successfully created reverse edge types: [reverse_HasA].\n",
      "Successfully created edge types: [HasContext].\n",
      "Successfully created reverse edge types: [reverse_HasContext].\n",
      "Successfully created edge types: [HasFirstSubevent].\n",
      "Successfully created reverse edge types: [reverse_HasFirstSubevent].\n",
      "Successfully created edge types: [HasLastSubevent].\n",
      "Successfully created reverse edge types: [reverse_HasLastSubevent].\n",
      "Successfully created edge types: [HasPrerequisite].\n",
      "Successfully created reverse edge types: [reverse_HasPrerequisite].\n",
      "Successfully created edge types: [HasProperty].\n",
      "Successfully created reverse edge types: [reverse_HasProperty].\n",
      "Successfully created edge types: [HasSubevent].\n",
      "Successfully created reverse edge types: [reverse_HasSubevent].\n",
      "Successfully created edge types: [InstanceOf].\n",
      "Successfully created reverse edge types: [reverse_InstanceOf].\n",
      "Successfully created edge types: [LocatedNear].\n",
      "Successfully created reverse edge types: [reverse_LocatedNear].\n",
      "Successfully created edge types: [MadeOf].\n",
      "Successfully created reverse edge types: [reverse_MadeOf].\n",
      "Successfully created edge types: [MannerOf].\n",
      "Successfully created reverse edge types: [reverse_MannerOf].\n",
      "Successfully created edge types: [MotivatedByGoal].\n",
      "Successfully created reverse edge types: [reverse_MotivatedByGoal].\n",
      "Successfully created edge types: [NotCapableOf].\n",
      "Successfully created reverse edge types: [reverse_NotCapableOf].\n",
      "Successfully created edge types: [NotDesires].\n",
      "Successfully created reverse edge types: [reverse_NotDesires].\n",
      "Successfully created edge types: [NotHasProperty].\n",
      "Successfully created reverse edge types: [reverse_NotHasProperty].\n",
      "Successfully created edge types: [ReceivesAction].\n",
      "Successfully created reverse edge types: [reverse_ReceivesAction].\n",
      "Successfully created edge types: [RelatedTo].\n",
      "Successfully created reverse edge types: [reverse_RelatedTo].\n",
      "Successfully created edge types: [SymbolOf].\n",
      "Successfully created reverse edge types: [reverse_SymbolOf].\n",
      "Successfully created edge types: [Synonym].\n",
      "Successfully created reverse edge types: [reverse_Synonym].\n",
      "Successfully created edge types: [UsedFor].\n",
      "Successfully created reverse edge types: [reverse_UsedFor].\n",
      "Successfully created edge types: [dbpedia_capital].\n",
      "Successfully created reverse edge types: [reverse_dbpedia_capital].\n",
      "Successfully created edge types: [dbpedia_field].\n",
      "Successfully created reverse edge types: [reverse_dbpedia_field].\n",
      "Successfully created edge types: [dbpedia_genre].\n",
      "Successfully created reverse edge types: [reverse_dbpedia_genre].\n",
      "Successfully created edge types: [dbpedia_genus].\n",
      "Successfully created reverse edge types: [reverse_dbpedia_genus].\n",
      "Successfully created edge types: [dbpedia_influencedBy].\n",
      "Successfully created reverse edge types: [reverse_dbpedia_influencedBy].\n",
      "Successfully created edge types: [dbpedia_knownFor].\n",
      "Successfully created reverse edge types: [reverse_dbpedia_knownFor].\n",
      "Successfully created edge types: [dbpedia_language].\n",
      "Successfully created reverse edge types: [reverse_dbpedia_language].\n",
      "Successfully created edge types: [dbpedia_leader].\n",
      "Successfully created reverse edge types: [reverse_dbpedia_leader].\n",
      "Successfully created edge types: [dbpedia_occupation].\n",
      "Successfully created reverse edge types: [reverse_dbpedia_occupation].\n",
      "Successfully created edge types: [dbpedia_product].\n",
      "Successfully created reverse edge types: [reverse_dbpedia_product].\n"
     ]
    }
   ],
   "source": [
    "# DEFINE / CREATE ALL EDGES AND VERTICES \n",
    "results = conn.gsql('''\n",
    "USE GLOBAL\n",
    "CREATE VERTEX synset(PRIMARY_ID id STRING, definition STRING, pos STRING,name STRING) WITH STATS=\"OUTDEGREE_BY_EDGETYPE\", PRIMARY_ID_AS_ATTRIBUTE=\"true\"\n",
    "CREATE VERTEX word(PRIMARY_ID id STRING, name STRING, pos STRING, conceptUri STRING, label STRING) WITH STATS=\"OUTDEGREE_BY_EDGETYPE\", PRIMARY_ID_AS_ATTRIBUTE=\"true\"\n",
    "CREATE VERTEX part_of_speech(PRIMARY_ID id STRING, type STRING) WITH STATS=\"OUTDEGREE_BY_EDGETYPE\", PRIMARY_ID_AS_ATTRIBUTE=\"true\"\n",
    "CREATE DIRECTED EDGE has_pos(FROM synset, TO part_of_speech|FROM word, TO part_of_speech) WITH REVERSE_EDGE=\"reverse_has_pos\"\n",
    "CREATE DIRECTED EDGE is_pos_of(FROM part_of_speech, TO synset|FROM part_of_speech, TO word) WITH REVERSE_EDGE=\"reverse_is_pos_of\"\n",
    "\n",
    "\n",
    "CREATE DIRECTED EDGE Attribute(FROM synset, TO synset|FROM synset, TO word|FROM word, TO synset|FROM word, TO word) WITH REVERSE_EDGE=\"reverse_Attribute\"\n",
    "CREATE DIRECTED EDGE InSynset(FROM synset, TO synset|FROM synset, TO word|FROM word, TO synset|FROM word, TO word) WITH REVERSE_EDGE=\"reverse_InSynset\"\n",
    "CREATE DIRECTED EDGE Domain(FROM synset, TO synset|FROM synset, TO word|FROM word, TO synset|FROM word, TO word) WITH REVERSE_EDGE=\"reverse_Domain\"\n",
    "CREATE DIRECTED EDGE SimilarTo(FROM synset, TO synset|FROM synset, TO word|FROM word, TO synset|FROM word, TO word) WITH REVERSE_EDGE=\"reverse_SimilarTo\"\n",
    "CREATE DIRECTED EDGE AlsoSee(FROM synset, TO synset|FROM synset, TO word|FROM word, TO synset|FROM word, TO word) WITH REVERSE_EDGE=\"reverse_AlsoSee\"\n",
    "CREATE DIRECTED EDGE IsA(FROM synset, TO synset|FROM synset, TO word|FROM word, TO synset|FROM word, TO word) WITH REVERSE_EDGE=\"reverse_IsA\"\n",
    "CREATE DIRECTED EDGE PartOf(FROM synset, TO synset|FROM synset, TO word|FROM word, TO synset|FROM word, TO word) WITH REVERSE_EDGE=\"reverse_PartOf\"\n",
    "CREATE DIRECTED EDGE Entailment(FROM synset, TO synset|FROM synset, TO word|FROM word, TO synset|FROM word, TO word) WITH REVERSE_EDGE=\"reverse_Entailment\"\n",
    "CREATE DIRECTED EDGE VerbGroup(FROM synset, TO synset|FROM synset, TO word|FROM word, TO synset|FROM word, TO word) WITH REVERSE_EDGE=\"reverse_VerbGroup\"\n",
    "CREATE DIRECTED EDGE Cause(FROM synset, TO synset|FROM synset, TO word|FROM word, TO synset|FROM word, TO word) WITH REVERSE_EDGE=\"reverse_Cause\"\n",
    "CREATE DIRECTED EDGE Antonym(FROM synset, TO synset|FROM synset, TO word|FROM word, TO synset|FROM word, TO word) WITH REVERSE_EDGE=\"reverse_Antonym\"\n",
    "CREATE DIRECTED EDGE AtLocation(FROM synset, TO synset|FROM synset, TO word|FROM word, TO synset|FROM word, TO word) WITH REVERSE_EDGE=\"reverse_AtLocation\"\n",
    "CREATE DIRECTED EDGE CapableOf(FROM synset, TO synset|FROM synset, TO word|FROM word, TO synset|FROM word, TO word) WITH REVERSE_EDGE=\"reverse_CapableOf\"\n",
    "CREATE DIRECTED EDGE Causes(FROM synset, TO synset|FROM synset, TO word|FROM word, TO synset|FROM word, TO word) WITH REVERSE_EDGE=\"reverse_Causes\"\n",
    "CREATE DIRECTED EDGE CausesDesire(FROM synset, TO synset|FROM synset, TO word|FROM word, TO synset|FROM word, TO word) WITH REVERSE_EDGE=\"reverse_CausesDesire\"\n",
    "CREATE DIRECTED EDGE CreatedBy(FROM synset, TO synset|FROM synset, TO word|FROM word, TO synset|FROM word, TO word) WITH REVERSE_EDGE=\"reverse_CreatedBy\"\n",
    "CREATE DIRECTED EDGE DefinedAs(FROM synset, TO synset|FROM synset, TO word|FROM word, TO synset|FROM word, TO word) WITH REVERSE_EDGE=\"reverse_DefinedAs\"\n",
    "CREATE DIRECTED EDGE DerivedFrom(FROM synset, TO synset|FROM synset, TO word|FROM word, TO synset|FROM word, TO word) WITH REVERSE_EDGE=\"reverse_DerivedFrom\"\n",
    "CREATE DIRECTED EDGE Desires(FROM synset, TO synset|FROM synset, TO word|FROM word, TO synset|FROM word, TO word) WITH REVERSE_EDGE=\"reverse_Desires\"\n",
    "CREATE DIRECTED EDGE DistinctFrom(FROM synset, TO synset|FROM synset, TO word|FROM word, TO synset|FROM word, TO word) WITH REVERSE_EDGE=\"reverse_DistinctFrom\"\n",
    "CREATE DIRECTED EDGE Entails(FROM synset, TO synset|FROM synset, TO word|FROM word, TO synset|FROM word, TO word) WITH REVERSE_EDGE=\"reverse_Entails\"\n",
    "CREATE DIRECTED EDGE EtymologicallyDerivedFrom(FROM synset, TO synset|FROM synset, TO word|FROM word, TO synset|FROM word, TO word) WITH REVERSE_EDGE=\"reverse_EtymologicallyDerivedFrom\"\n",
    "CREATE DIRECTED EDGE EtymologicallyRelatedTo(FROM synset, TO synset|FROM synset, TO word|FROM word, TO synset|FROM word, TO word) WITH REVERSE_EDGE=\"reverse_EtymologicallyRelatedTo\"\n",
    "CREATE DIRECTED EDGE FormOf(FROM synset, TO synset|FROM synset, TO word|FROM word, TO synset|FROM word, TO word) WITH REVERSE_EDGE=\"reverse_FormOf\"\n",
    "CREATE DIRECTED EDGE HasA(FROM synset, TO synset|FROM synset, TO word|FROM word, TO synset|FROM word, TO word) WITH REVERSE_EDGE=\"reverse_HasA\"\n",
    "CREATE DIRECTED EDGE HasContext(FROM synset, TO synset|FROM synset, TO word|FROM word, TO synset|FROM word, TO word) WITH REVERSE_EDGE=\"reverse_HasContext\"\n",
    "CREATE DIRECTED EDGE HasFirstSubevent(FROM synset, TO synset|FROM synset, TO word|FROM word, TO synset|FROM word, TO word) WITH REVERSE_EDGE=\"reverse_HasFirstSubevent\"\n",
    "CREATE DIRECTED EDGE HasLastSubevent(FROM synset, TO synset|FROM synset, TO word|FROM word, TO synset|FROM word, TO word) WITH REVERSE_EDGE=\"reverse_HasLastSubevent\"\n",
    "CREATE DIRECTED EDGE HasPrerequisite(FROM synset, TO synset|FROM synset, TO word|FROM word, TO synset|FROM word, TO word) WITH REVERSE_EDGE=\"reverse_HasPrerequisite\"\n",
    "CREATE DIRECTED EDGE HasProperty(FROM synset, TO synset|FROM synset, TO word|FROM word, TO synset|FROM word, TO word) WITH REVERSE_EDGE=\"reverse_HasProperty\"\n",
    "CREATE DIRECTED EDGE HasSubevent(FROM synset, TO synset|FROM synset, TO word|FROM word, TO synset|FROM word, TO word) WITH REVERSE_EDGE=\"reverse_HasSubevent\"\n",
    "CREATE DIRECTED EDGE InstanceOf(FROM synset, TO synset|FROM synset, TO word|FROM word, TO synset|FROM word, TO word) WITH REVERSE_EDGE=\"reverse_InstanceOf\"\n",
    "CREATE DIRECTED EDGE LocatedNear(FROM synset, TO synset|FROM synset, TO word|FROM word, TO synset|FROM word, TO word) WITH REVERSE_EDGE=\"reverse_LocatedNear\"\n",
    "CREATE DIRECTED EDGE MadeOf(FROM synset, TO synset|FROM synset, TO word|FROM word, TO synset|FROM word, TO word) WITH REVERSE_EDGE=\"reverse_MadeOf\"\n",
    "CREATE DIRECTED EDGE MannerOf(FROM synset, TO synset|FROM synset, TO word|FROM word, TO synset|FROM word, TO word) WITH REVERSE_EDGE=\"reverse_MannerOf\"\n",
    "CREATE DIRECTED EDGE MotivatedByGoal(FROM synset, TO synset|FROM synset, TO word|FROM word, TO synset|FROM word, TO word) WITH REVERSE_EDGE=\"reverse_MotivatedByGoal\"\n",
    "CREATE DIRECTED EDGE NotCapableOf(FROM synset, TO synset|FROM synset, TO word|FROM word, TO synset|FROM word, TO word) WITH REVERSE_EDGE=\"reverse_NotCapableOf\"\n",
    "CREATE DIRECTED EDGE NotDesires(FROM synset, TO synset|FROM synset, TO word|FROM word, TO synset|FROM word, TO word) WITH REVERSE_EDGE=\"reverse_NotDesires\"\n",
    "CREATE DIRECTED EDGE NotHasProperty(FROM synset, TO synset|FROM synset, TO word|FROM word, TO synset|FROM word, TO word) WITH REVERSE_EDGE=\"reverse_NotHasProperty\"\n",
    "CREATE DIRECTED EDGE ReceivesAction(FROM synset, TO synset|FROM synset, TO word|FROM word, TO synset|FROM word, TO word) WITH REVERSE_EDGE=\"reverse_ReceivesAction\"\n",
    "CREATE DIRECTED EDGE RelatedTo(FROM synset, TO synset|FROM synset, TO word|FROM word, TO synset|FROM word, TO word) WITH REVERSE_EDGE=\"reverse_RelatedTo\"\n",
    "CREATE DIRECTED EDGE SymbolOf(FROM synset, TO synset|FROM synset, TO word|FROM word, TO synset|FROM word, TO word) WITH REVERSE_EDGE=\"reverse_SymbolOf\"\n",
    "CREATE DIRECTED EDGE Synonym(FROM synset, TO synset|FROM synset, TO word|FROM word, TO synset|FROM word, TO word) WITH REVERSE_EDGE=\"reverse_Synonym\"\n",
    "CREATE DIRECTED EDGE UsedFor(FROM synset, TO synset|FROM synset, TO word|FROM word, TO synset|FROM word, TO word) WITH REVERSE_EDGE=\"reverse_UsedFor\"\n",
    "CREATE DIRECTED EDGE dbpedia_capital(FROM synset, TO synset|FROM synset, TO word|FROM word, TO synset|FROM word, TO word) WITH REVERSE_EDGE=\"reverse_dbpedia_capital\"\n",
    "CREATE DIRECTED EDGE dbpedia_field(FROM synset, TO synset|FROM synset, TO word|FROM word, TO synset|FROM word, TO word) WITH REVERSE_EDGE=\"reverse_dbpedia_field\"\n",
    "CREATE DIRECTED EDGE dbpedia_genre(FROM synset, TO synset|FROM synset, TO word|FROM word, TO synset|FROM word, TO word) WITH REVERSE_EDGE=\"reverse_dbpedia_genre\"\n",
    "CREATE DIRECTED EDGE dbpedia_genus(FROM synset, TO synset|FROM synset, TO word|FROM word, TO synset|FROM word, TO word) WITH REVERSE_EDGE=\"reverse_dbpedia_genus\"\n",
    "CREATE DIRECTED EDGE dbpedia_influencedBy(FROM synset, TO synset|FROM synset, TO word|FROM word, TO synset|FROM word, TO word) WITH REVERSE_EDGE=\"reverse_dbpedia_influencedBy\"\n",
    "CREATE DIRECTED EDGE dbpedia_knownFor(FROM synset, TO synset|FROM synset, TO word|FROM word, TO synset|FROM word, TO word) WITH REVERSE_EDGE=\"reverse_dbpedia_knownFor\"\n",
    "CREATE DIRECTED EDGE dbpedia_language(FROM synset, TO synset|FROM synset, TO word|FROM word, TO synset|FROM word, TO word) WITH REVERSE_EDGE=\"reverse_dbpedia_language\"\n",
    "CREATE DIRECTED EDGE dbpedia_leader(FROM synset, TO synset|FROM synset, TO word|FROM word, TO synset|FROM word, TO word) WITH REVERSE_EDGE=\"reverse_dbpedia_leader\"\n",
    "CREATE DIRECTED EDGE dbpedia_occupation(FROM synset, TO synset|FROM synset, TO word|FROM word, TO synset|FROM word, TO word) WITH REVERSE_EDGE=\"reverse_dbpedia_occupation\"\n",
    "CREATE DIRECTED EDGE dbpedia_product(FROM synset, TO synset|FROM synset, TO word|FROM word, TO synset|FROM word, TO word) WITH REVERSE_EDGE=\"reverse_dbpedia_product\"\n",
    "\n",
    "  ''')\n",
    "print(results)"
   ]
  },
  {
   "cell_type": "markdown",
   "metadata": {
    "id": "QtAieHUn3KSp"
   },
   "source": [
    "## ConceptNet"
   ]
  },
  {
   "cell_type": "markdown",
   "metadata": {
    "id": "bMz6fxfx59Xz"
   },
   "source": [
    "## Create ConceptNet Graph"
   ]
  },
  {
   "cell_type": "markdown",
   "metadata": {
    "id": "5yCI3pc3A1ye"
   },
   "source": [
    "- generate the edges for the relation types included: **['Antonym','Synonym','RelatedTo']** to be included in the graph."
   ]
  },
  {
   "cell_type": "code",
   "execution_count": 43,
   "metadata": {
    "colab": {
     "base_uri": "https://localhost:8080/"
    },
    "executionInfo": {
     "elapsed": 32,
     "status": "ok",
     "timestamp": 1645429932420,
     "user": {
      "displayName": "Sudha Vijayakumar",
      "photoUrl": "https://lh3.googleusercontent.com/a/default-user=s64",
      "userId": "06644857756484093013"
     },
     "user_tz": 480
    },
    "id": "98SpRc_zAzRY",
    "outputId": "5fa0e2a2-84ee-455d-9fba-5604b856b42e"
   },
   "outputs": [
    {
     "name": "stdout",
     "output_type": "stream",
     "text": [
      "41\n",
      "Attribute\n",
      "InSynset\n",
      "Domain\n",
      "SimilarTo\n",
      "AlsoSee\n",
      "IsA\n",
      "PartOf\n",
      "Entailment\n",
      "VerbGroup\n",
      "Cause\n",
      "Antonym\n",
      "AtLocation\n",
      "CapableOf\n",
      "Causes\n",
      "CausesDesire\n",
      "CreatedBy\n",
      "DefinedAs\n",
      "DerivedFrom\n",
      "Desires\n",
      "DistinctFrom\n",
      "Entails\n",
      "EtymologicallyDerivedFrom\n",
      "EtymologicallyRelatedTo\n",
      "FormOf\n",
      "HasA\n",
      "HasContext\n",
      "HasFirstSubevent\n",
      "HasLastSubevent\n",
      "HasPrerequisite\n",
      "HasProperty\n",
      "HasSubevent\n",
      "InstanceOf\n",
      "LocatedNear\n",
      "MadeOf\n",
      "MannerOf\n",
      "MotivatedByGoal\n",
      "NotCapableOf\n",
      "NotDesires\n",
      "NotHasProperty\n",
      "ReceivesAction\n",
      "RelatedTo\n"
     ]
    }
   ],
   "source": [
    "rel = rel_type['type']\n",
    "print(len(rel))\n",
    "str_=\"\"\n",
    "# for r in rel:\n",
    "for r in rel_included:\n",
    "  if '/' in r:\n",
    "    r=r.replace('/','_')\n",
    "  str_+=r+\"\\n\"\n",
    "print(str_.strip('\\n'))"
   ]
  },
  {
   "cell_type": "markdown",
   "metadata": {
    "id": "Y4Ilw8J8A8EY"
   },
   "source": [
    "- Copy & paste the above after EDGE: is_pos_of."
   ]
  },
  {
   "cell_type": "code",
   "execution_count": 44,
   "metadata": {
    "colab": {
     "base_uri": "https://localhost:8080/"
    },
    "executionInfo": {
     "elapsed": 9852,
     "status": "ok",
     "timestamp": 1645429942243,
     "user": {
      "displayName": "Sudha Vijayakumar",
      "photoUrl": "https://lh3.googleusercontent.com/a/default-user=s64",
      "userId": "06644857756484093013"
     },
     "user_tz": 480
    },
    "id": "-cgC8b7OcZDd",
    "outputId": "291fb92f-28c7-4a9f-8dac-27ff3bfd4308"
   },
   "outputs": [
    {
     "name": "stdout",
     "output_type": "stream",
     "text": [
      "Stopping GPE GSE RESTPP\n",
      "Successfully stopped GPE GSE RESTPP in 30.402 seconds\n",
      "Starting GPE GSE RESTPP\n",
      "Successfully started GPE GSE RESTPP in 0.026 seconds\n",
      "The graph ConceptNet is created.\n"
     ]
    }
   ],
   "source": [
    "results = conn.gsql('CREATE GRAPH ConceptNet(synset, word, part_of_speech,has_pos,is_pos_of,Attribute,InSynset,Domain,SimilarTo,AlsoSee,IsA,PartOf,Entailment,VerbGroup,Cause,Antonym,AtLocation,CapableOf,Causes,CausesDesire,CreatedBy,DefinedAs,DerivedFrom,Desires,DistinctFrom,Entails,EtymologicallyDerivedFrom,EtymologicallyRelatedTo,FormOf,HasA,HasContext,HasFirstSubevent,HasLastSubevent,HasPrerequisite,HasProperty,HasSubevent,InstanceOf,LocatedNear,MadeOf,MannerOf,MotivatedByGoal,NotCapableOf,NotDesires,NotHasProperty,ReceivesAction,RelatedTo,SymbolOf,Synonym,UsedFor,dbpedia_capital,dbpedia_field,dbpedia_genre,dbpedia_genus,dbpedia_influencedBy,dbpedia_knownFor,dbpedia_language,dbpedia_leader,dbpedia_occupation,dbpedia_product)')\n",
    "print(results)"
   ]
  },
  {
   "cell_type": "markdown",
   "metadata": {
    "id": "4ki_0EVABAyt"
   },
   "source": [
    "- Generate AuthToken to update the graph"
   ]
  },
  {
   "cell_type": "code",
   "execution_count": 45,
   "metadata": {
    "colab": {
     "base_uri": "https://localhost:8080/"
    },
    "executionInfo": {
     "elapsed": 4123,
     "status": "ok",
     "timestamp": 1645429946341,
     "user": {
      "displayName": "Sudha Vijayakumar",
      "photoUrl": "https://lh3.googleusercontent.com/a/default-user=s64",
      "userId": "06644857756484093013"
     },
     "user_tz": 480
    },
    "id": "SbxyEaptc2Ri",
    "outputId": "19c5fa01-4dc7-4e62-c8f8-7613bcbd5152"
   },
   "outputs": [
    {
     "name": "stdout",
     "output_type": "stream",
     "text": [
      "nv234ujgg0mvecam65mqmte1ndfmipcv\n",
      "5oc81evon5ftmjsbaai2ar6jtvidt6ig\n"
     ]
    }
   ],
   "source": [
    "conn.graphname=\"ConceptNet\"\n",
    "secret = conn.createSecret()\n",
    "print(secret)\n",
    "authToken = conn.getToken(secret)\n",
    "authToken = authToken[0]\n",
    "print(authToken)\n",
    "# authToken = 'rc7reopbis1667ksgcppq5v5fb99p6s1'\n",
    "conn = tg.TigerGraphConnection(host=hostName, graphname=\"ConceptNet\", username=userName, password=password, apiToken=authToken)\n",
    "\n",
    "def pprint(string):\n",
    "  print(json.dumps(string, indent=2))"
   ]
  },
  {
   "cell_type": "markdown",
   "metadata": {
    "id": "MTWWoepV6Dc0"
   },
   "source": [
    "## Create Loading Jobs"
   ]
  },
  {
   "cell_type": "markdown",
   "metadata": {
    "id": "ARnlCqlxBKLt"
   },
   "source": [
    "- Generate edge queries for the relation types included: **['Antonym','Synonym','RelatedTo']** to include in the load job gsql.\n",
    "\n",
    "- Here it's important to note that the `$0`, `$1` values line up with the columns of your data.\n",
    "In this example:\n",
    "  - `$0` is the `uri` column,\n",
    "  - `$1` is `id`,\n",
    "  - `$2` is `word`\n",
    "  - and so on"
   ]
  },
  {
   "cell_type": "code",
   "execution_count": 46,
   "metadata": {
    "colab": {
     "base_uri": "https://localhost:8080/"
    },
    "executionInfo": {
     "elapsed": 29,
     "status": "ok",
     "timestamp": 1645429946342,
     "user": {
      "displayName": "Sudha Vijayakumar",
      "photoUrl": "https://lh3.googleusercontent.com/a/default-user=s64",
      "userId": "06644857756484093013"
     },
     "user_tz": 480
    },
    "id": "xy0KKV29B0iY",
    "outputId": "b169a476-a200-4e95-ec28-d686321d2777"
   },
   "outputs": [
    {
     "name": "stdout",
     "output_type": "stream",
     "text": [
      "LOAD MyDataSource TO EDGE  Attribute VALUES($0 synset, $1 synset) WHERE $4 == \"Attribute\" USING SEPARATOR=\",\", HEADER=\"true\", EOL=\"\\n\";\n",
      "LOAD MyDataSource TO EDGE  Attribute VALUES($0 synset, $1 word) WHERE $4 == \"Attribute\" USING SEPARATOR=\",\", HEADER=\"true\", EOL=\"\\n\";\n",
      "LOAD MyDataSource TO EDGE  Attribute VALUES($0 word, $1 synset) WHERE $4 == \"Attribute\" USING SEPARATOR=\",\", HEADER=\"true\", EOL=\"\\n\";\n",
      "LOAD MyDataSource TO EDGE  Attribute VALUES($0 word, $1 word) WHERE $4 == \"Attribute\" USING SEPARATOR=\",\", HEADER=\"true\", EOL=\"\\n\";\n",
      "LOAD MyDataSource TO EDGE  InSynset VALUES($0 synset, $1 synset) WHERE $4 == \"InSynset\" USING SEPARATOR=\",\", HEADER=\"true\", EOL=\"\\n\";\n",
      "LOAD MyDataSource TO EDGE  InSynset VALUES($0 synset, $1 word) WHERE $4 == \"InSynset\" USING SEPARATOR=\",\", HEADER=\"true\", EOL=\"\\n\";\n",
      "LOAD MyDataSource TO EDGE  InSynset VALUES($0 word, $1 synset) WHERE $4 == \"InSynset\" USING SEPARATOR=\",\", HEADER=\"true\", EOL=\"\\n\";\n",
      "LOAD MyDataSource TO EDGE  InSynset VALUES($0 word, $1 word) WHERE $4 == \"InSynset\" USING SEPARATOR=\",\", HEADER=\"true\", EOL=\"\\n\";\n",
      "LOAD MyDataSource TO EDGE  Domain VALUES($0 synset, $1 synset) WHERE $4 == \"Domain\" USING SEPARATOR=\",\", HEADER=\"true\", EOL=\"\\n\";\n",
      "LOAD MyDataSource TO EDGE  Domain VALUES($0 synset, $1 word) WHERE $4 == \"Domain\" USING SEPARATOR=\",\", HEADER=\"true\", EOL=\"\\n\";\n",
      "LOAD MyDataSource TO EDGE  Domain VALUES($0 word, $1 synset) WHERE $4 == \"Domain\" USING SEPARATOR=\",\", HEADER=\"true\", EOL=\"\\n\";\n",
      "LOAD MyDataSource TO EDGE  Domain VALUES($0 word, $1 word) WHERE $4 == \"Domain\" USING SEPARATOR=\",\", HEADER=\"true\", EOL=\"\\n\";\n",
      "LOAD MyDataSource TO EDGE  SimilarTo VALUES($0 synset, $1 synset) WHERE $4 == \"SimilarTo\" USING SEPARATOR=\",\", HEADER=\"true\", EOL=\"\\n\";\n",
      "LOAD MyDataSource TO EDGE  SimilarTo VALUES($0 synset, $1 word) WHERE $4 == \"SimilarTo\" USING SEPARATOR=\",\", HEADER=\"true\", EOL=\"\\n\";\n",
      "LOAD MyDataSource TO EDGE  SimilarTo VALUES($0 word, $1 synset) WHERE $4 == \"SimilarTo\" USING SEPARATOR=\",\", HEADER=\"true\", EOL=\"\\n\";\n",
      "LOAD MyDataSource TO EDGE  SimilarTo VALUES($0 word, $1 word) WHERE $4 == \"SimilarTo\" USING SEPARATOR=\",\", HEADER=\"true\", EOL=\"\\n\";\n",
      "LOAD MyDataSource TO EDGE  AlsoSee VALUES($0 synset, $1 synset) WHERE $4 == \"AlsoSee\" USING SEPARATOR=\",\", HEADER=\"true\", EOL=\"\\n\";\n",
      "LOAD MyDataSource TO EDGE  AlsoSee VALUES($0 synset, $1 word) WHERE $4 == \"AlsoSee\" USING SEPARATOR=\",\", HEADER=\"true\", EOL=\"\\n\";\n",
      "LOAD MyDataSource TO EDGE  AlsoSee VALUES($0 word, $1 synset) WHERE $4 == \"AlsoSee\" USING SEPARATOR=\",\", HEADER=\"true\", EOL=\"\\n\";\n",
      "LOAD MyDataSource TO EDGE  AlsoSee VALUES($0 word, $1 word) WHERE $4 == \"AlsoSee\" USING SEPARATOR=\",\", HEADER=\"true\", EOL=\"\\n\";\n",
      "LOAD MyDataSource TO EDGE  IsA VALUES($0 synset, $1 synset) WHERE $4 == \"IsA\" USING SEPARATOR=\",\", HEADER=\"true\", EOL=\"\\n\";\n",
      "LOAD MyDataSource TO EDGE  IsA VALUES($0 synset, $1 word) WHERE $4 == \"IsA\" USING SEPARATOR=\",\", HEADER=\"true\", EOL=\"\\n\";\n",
      "LOAD MyDataSource TO EDGE  IsA VALUES($0 word, $1 synset) WHERE $4 == \"IsA\" USING SEPARATOR=\",\", HEADER=\"true\", EOL=\"\\n\";\n",
      "LOAD MyDataSource TO EDGE  IsA VALUES($0 word, $1 word) WHERE $4 == \"IsA\" USING SEPARATOR=\",\", HEADER=\"true\", EOL=\"\\n\";\n",
      "LOAD MyDataSource TO EDGE  PartOf VALUES($0 synset, $1 synset) WHERE $4 == \"PartOf\" USING SEPARATOR=\",\", HEADER=\"true\", EOL=\"\\n\";\n",
      "LOAD MyDataSource TO EDGE  PartOf VALUES($0 synset, $1 word) WHERE $4 == \"PartOf\" USING SEPARATOR=\",\", HEADER=\"true\", EOL=\"\\n\";\n",
      "LOAD MyDataSource TO EDGE  PartOf VALUES($0 word, $1 synset) WHERE $4 == \"PartOf\" USING SEPARATOR=\",\", HEADER=\"true\", EOL=\"\\n\";\n",
      "LOAD MyDataSource TO EDGE  PartOf VALUES($0 word, $1 word) WHERE $4 == \"PartOf\" USING SEPARATOR=\",\", HEADER=\"true\", EOL=\"\\n\";\n",
      "LOAD MyDataSource TO EDGE  Entailment VALUES($0 synset, $1 synset) WHERE $4 == \"Entailment\" USING SEPARATOR=\",\", HEADER=\"true\", EOL=\"\\n\";\n",
      "LOAD MyDataSource TO EDGE  Entailment VALUES($0 synset, $1 word) WHERE $4 == \"Entailment\" USING SEPARATOR=\",\", HEADER=\"true\", EOL=\"\\n\";\n",
      "LOAD MyDataSource TO EDGE  Entailment VALUES($0 word, $1 synset) WHERE $4 == \"Entailment\" USING SEPARATOR=\",\", HEADER=\"true\", EOL=\"\\n\";\n",
      "LOAD MyDataSource TO EDGE  Entailment VALUES($0 word, $1 word) WHERE $4 == \"Entailment\" USING SEPARATOR=\",\", HEADER=\"true\", EOL=\"\\n\";\n",
      "LOAD MyDataSource TO EDGE  VerbGroup VALUES($0 synset, $1 synset) WHERE $4 == \"VerbGroup\" USING SEPARATOR=\",\", HEADER=\"true\", EOL=\"\\n\";\n",
      "LOAD MyDataSource TO EDGE  VerbGroup VALUES($0 synset, $1 word) WHERE $4 == \"VerbGroup\" USING SEPARATOR=\",\", HEADER=\"true\", EOL=\"\\n\";\n",
      "LOAD MyDataSource TO EDGE  VerbGroup VALUES($0 word, $1 synset) WHERE $4 == \"VerbGroup\" USING SEPARATOR=\",\", HEADER=\"true\", EOL=\"\\n\";\n",
      "LOAD MyDataSource TO EDGE  VerbGroup VALUES($0 word, $1 word) WHERE $4 == \"VerbGroup\" USING SEPARATOR=\",\", HEADER=\"true\", EOL=\"\\n\";\n",
      "LOAD MyDataSource TO EDGE  Cause VALUES($0 synset, $1 synset) WHERE $4 == \"Cause\" USING SEPARATOR=\",\", HEADER=\"true\", EOL=\"\\n\";\n",
      "LOAD MyDataSource TO EDGE  Cause VALUES($0 synset, $1 word) WHERE $4 == \"Cause\" USING SEPARATOR=\",\", HEADER=\"true\", EOL=\"\\n\";\n",
      "LOAD MyDataSource TO EDGE  Cause VALUES($0 word, $1 synset) WHERE $4 == \"Cause\" USING SEPARATOR=\",\", HEADER=\"true\", EOL=\"\\n\";\n",
      "LOAD MyDataSource TO EDGE  Cause VALUES($0 word, $1 word) WHERE $4 == \"Cause\" USING SEPARATOR=\",\", HEADER=\"true\", EOL=\"\\n\";\n",
      "LOAD MyDataSource TO EDGE  Antonym VALUES($0 synset, $1 synset) WHERE $4 == \"Antonym\" USING SEPARATOR=\",\", HEADER=\"true\", EOL=\"\\n\";\n",
      "LOAD MyDataSource TO EDGE  Antonym VALUES($0 synset, $1 word) WHERE $4 == \"Antonym\" USING SEPARATOR=\",\", HEADER=\"true\", EOL=\"\\n\";\n",
      "LOAD MyDataSource TO EDGE  Antonym VALUES($0 word, $1 synset) WHERE $4 == \"Antonym\" USING SEPARATOR=\",\", HEADER=\"true\", EOL=\"\\n\";\n",
      "LOAD MyDataSource TO EDGE  Antonym VALUES($0 word, $1 word) WHERE $4 == \"Antonym\" USING SEPARATOR=\",\", HEADER=\"true\", EOL=\"\\n\";\n",
      "LOAD MyDataSource TO EDGE  AtLocation VALUES($0 synset, $1 synset) WHERE $4 == \"AtLocation\" USING SEPARATOR=\",\", HEADER=\"true\", EOL=\"\\n\";\n",
      "LOAD MyDataSource TO EDGE  AtLocation VALUES($0 synset, $1 word) WHERE $4 == \"AtLocation\" USING SEPARATOR=\",\", HEADER=\"true\", EOL=\"\\n\";\n",
      "LOAD MyDataSource TO EDGE  AtLocation VALUES($0 word, $1 synset) WHERE $4 == \"AtLocation\" USING SEPARATOR=\",\", HEADER=\"true\", EOL=\"\\n\";\n",
      "LOAD MyDataSource TO EDGE  AtLocation VALUES($0 word, $1 word) WHERE $4 == \"AtLocation\" USING SEPARATOR=\",\", HEADER=\"true\", EOL=\"\\n\";\n",
      "LOAD MyDataSource TO EDGE  CapableOf VALUES($0 synset, $1 synset) WHERE $4 == \"CapableOf\" USING SEPARATOR=\",\", HEADER=\"true\", EOL=\"\\n\";\n",
      "LOAD MyDataSource TO EDGE  CapableOf VALUES($0 synset, $1 word) WHERE $4 == \"CapableOf\" USING SEPARATOR=\",\", HEADER=\"true\", EOL=\"\\n\";\n",
      "LOAD MyDataSource TO EDGE  CapableOf VALUES($0 word, $1 synset) WHERE $4 == \"CapableOf\" USING SEPARATOR=\",\", HEADER=\"true\", EOL=\"\\n\";\n",
      "LOAD MyDataSource TO EDGE  CapableOf VALUES($0 word, $1 word) WHERE $4 == \"CapableOf\" USING SEPARATOR=\",\", HEADER=\"true\", EOL=\"\\n\";\n",
      "LOAD MyDataSource TO EDGE  Causes VALUES($0 synset, $1 synset) WHERE $4 == \"Causes\" USING SEPARATOR=\",\", HEADER=\"true\", EOL=\"\\n\";\n",
      "LOAD MyDataSource TO EDGE  Causes VALUES($0 synset, $1 word) WHERE $4 == \"Causes\" USING SEPARATOR=\",\", HEADER=\"true\", EOL=\"\\n\";\n",
      "LOAD MyDataSource TO EDGE  Causes VALUES($0 word, $1 synset) WHERE $4 == \"Causes\" USING SEPARATOR=\",\", HEADER=\"true\", EOL=\"\\n\";\n",
      "LOAD MyDataSource TO EDGE  Causes VALUES($0 word, $1 word) WHERE $4 == \"Causes\" USING SEPARATOR=\",\", HEADER=\"true\", EOL=\"\\n\";\n",
      "LOAD MyDataSource TO EDGE  CausesDesire VALUES($0 synset, $1 synset) WHERE $4 == \"CausesDesire\" USING SEPARATOR=\",\", HEADER=\"true\", EOL=\"\\n\";\n",
      "LOAD MyDataSource TO EDGE  CausesDesire VALUES($0 synset, $1 word) WHERE $4 == \"CausesDesire\" USING SEPARATOR=\",\", HEADER=\"true\", EOL=\"\\n\";\n",
      "LOAD MyDataSource TO EDGE  CausesDesire VALUES($0 word, $1 synset) WHERE $4 == \"CausesDesire\" USING SEPARATOR=\",\", HEADER=\"true\", EOL=\"\\n\";\n",
      "LOAD MyDataSource TO EDGE  CausesDesire VALUES($0 word, $1 word) WHERE $4 == \"CausesDesire\" USING SEPARATOR=\",\", HEADER=\"true\", EOL=\"\\n\";\n",
      "LOAD MyDataSource TO EDGE  CreatedBy VALUES($0 synset, $1 synset) WHERE $4 == \"CreatedBy\" USING SEPARATOR=\",\", HEADER=\"true\", EOL=\"\\n\";\n",
      "LOAD MyDataSource TO EDGE  CreatedBy VALUES($0 synset, $1 word) WHERE $4 == \"CreatedBy\" USING SEPARATOR=\",\", HEADER=\"true\", EOL=\"\\n\";\n",
      "LOAD MyDataSource TO EDGE  CreatedBy VALUES($0 word, $1 synset) WHERE $4 == \"CreatedBy\" USING SEPARATOR=\",\", HEADER=\"true\", EOL=\"\\n\";\n",
      "LOAD MyDataSource TO EDGE  CreatedBy VALUES($0 word, $1 word) WHERE $4 == \"CreatedBy\" USING SEPARATOR=\",\", HEADER=\"true\", EOL=\"\\n\";\n",
      "LOAD MyDataSource TO EDGE  DefinedAs VALUES($0 synset, $1 synset) WHERE $4 == \"DefinedAs\" USING SEPARATOR=\",\", HEADER=\"true\", EOL=\"\\n\";\n",
      "LOAD MyDataSource TO EDGE  DefinedAs VALUES($0 synset, $1 word) WHERE $4 == \"DefinedAs\" USING SEPARATOR=\",\", HEADER=\"true\", EOL=\"\\n\";\n",
      "LOAD MyDataSource TO EDGE  DefinedAs VALUES($0 word, $1 synset) WHERE $4 == \"DefinedAs\" USING SEPARATOR=\",\", HEADER=\"true\", EOL=\"\\n\";\n",
      "LOAD MyDataSource TO EDGE  DefinedAs VALUES($0 word, $1 word) WHERE $4 == \"DefinedAs\" USING SEPARATOR=\",\", HEADER=\"true\", EOL=\"\\n\";\n",
      "LOAD MyDataSource TO EDGE  DerivedFrom VALUES($0 synset, $1 synset) WHERE $4 == \"DerivedFrom\" USING SEPARATOR=\",\", HEADER=\"true\", EOL=\"\\n\";\n",
      "LOAD MyDataSource TO EDGE  DerivedFrom VALUES($0 synset, $1 word) WHERE $4 == \"DerivedFrom\" USING SEPARATOR=\",\", HEADER=\"true\", EOL=\"\\n\";\n",
      "LOAD MyDataSource TO EDGE  DerivedFrom VALUES($0 word, $1 synset) WHERE $4 == \"DerivedFrom\" USING SEPARATOR=\",\", HEADER=\"true\", EOL=\"\\n\";\n",
      "LOAD MyDataSource TO EDGE  DerivedFrom VALUES($0 word, $1 word) WHERE $4 == \"DerivedFrom\" USING SEPARATOR=\",\", HEADER=\"true\", EOL=\"\\n\";\n",
      "LOAD MyDataSource TO EDGE  Desires VALUES($0 synset, $1 synset) WHERE $4 == \"Desires\" USING SEPARATOR=\",\", HEADER=\"true\", EOL=\"\\n\";\n",
      "LOAD MyDataSource TO EDGE  Desires VALUES($0 synset, $1 word) WHERE $4 == \"Desires\" USING SEPARATOR=\",\", HEADER=\"true\", EOL=\"\\n\";\n",
      "LOAD MyDataSource TO EDGE  Desires VALUES($0 word, $1 synset) WHERE $4 == \"Desires\" USING SEPARATOR=\",\", HEADER=\"true\", EOL=\"\\n\";\n",
      "LOAD MyDataSource TO EDGE  Desires VALUES($0 word, $1 word) WHERE $4 == \"Desires\" USING SEPARATOR=\",\", HEADER=\"true\", EOL=\"\\n\";\n",
      "LOAD MyDataSource TO EDGE  DistinctFrom VALUES($0 synset, $1 synset) WHERE $4 == \"DistinctFrom\" USING SEPARATOR=\",\", HEADER=\"true\", EOL=\"\\n\";\n",
      "LOAD MyDataSource TO EDGE  DistinctFrom VALUES($0 synset, $1 word) WHERE $4 == \"DistinctFrom\" USING SEPARATOR=\",\", HEADER=\"true\", EOL=\"\\n\";\n",
      "LOAD MyDataSource TO EDGE  DistinctFrom VALUES($0 word, $1 synset) WHERE $4 == \"DistinctFrom\" USING SEPARATOR=\",\", HEADER=\"true\", EOL=\"\\n\";\n",
      "LOAD MyDataSource TO EDGE  DistinctFrom VALUES($0 word, $1 word) WHERE $4 == \"DistinctFrom\" USING SEPARATOR=\",\", HEADER=\"true\", EOL=\"\\n\";\n",
      "LOAD MyDataSource TO EDGE  Entails VALUES($0 synset, $1 synset) WHERE $4 == \"Entails\" USING SEPARATOR=\",\", HEADER=\"true\", EOL=\"\\n\";\n",
      "LOAD MyDataSource TO EDGE  Entails VALUES($0 synset, $1 word) WHERE $4 == \"Entails\" USING SEPARATOR=\",\", HEADER=\"true\", EOL=\"\\n\";\n",
      "LOAD MyDataSource TO EDGE  Entails VALUES($0 word, $1 synset) WHERE $4 == \"Entails\" USING SEPARATOR=\",\", HEADER=\"true\", EOL=\"\\n\";\n",
      "LOAD MyDataSource TO EDGE  Entails VALUES($0 word, $1 word) WHERE $4 == \"Entails\" USING SEPARATOR=\",\", HEADER=\"true\", EOL=\"\\n\";\n",
      "LOAD MyDataSource TO EDGE  EtymologicallyDerivedFrom VALUES($0 synset, $1 synset) WHERE $4 == \"EtymologicallyDerivedFrom\" USING SEPARATOR=\",\", HEADER=\"true\", EOL=\"\\n\";\n",
      "LOAD MyDataSource TO EDGE  EtymologicallyDerivedFrom VALUES($0 synset, $1 word) WHERE $4 == \"EtymologicallyDerivedFrom\" USING SEPARATOR=\",\", HEADER=\"true\", EOL=\"\\n\";\n",
      "LOAD MyDataSource TO EDGE  EtymologicallyDerivedFrom VALUES($0 word, $1 synset) WHERE $4 == \"EtymologicallyDerivedFrom\" USING SEPARATOR=\",\", HEADER=\"true\", EOL=\"\\n\";\n",
      "LOAD MyDataSource TO EDGE  EtymologicallyDerivedFrom VALUES($0 word, $1 word) WHERE $4 == \"EtymologicallyDerivedFrom\" USING SEPARATOR=\",\", HEADER=\"true\", EOL=\"\\n\";\n",
      "LOAD MyDataSource TO EDGE  EtymologicallyRelatedTo VALUES($0 synset, $1 synset) WHERE $4 == \"EtymologicallyRelatedTo\" USING SEPARATOR=\",\", HEADER=\"true\", EOL=\"\\n\";\n",
      "LOAD MyDataSource TO EDGE  EtymologicallyRelatedTo VALUES($0 synset, $1 word) WHERE $4 == \"EtymologicallyRelatedTo\" USING SEPARATOR=\",\", HEADER=\"true\", EOL=\"\\n\";\n",
      "LOAD MyDataSource TO EDGE  EtymologicallyRelatedTo VALUES($0 word, $1 synset) WHERE $4 == \"EtymologicallyRelatedTo\" USING SEPARATOR=\",\", HEADER=\"true\", EOL=\"\\n\";\n",
      "LOAD MyDataSource TO EDGE  EtymologicallyRelatedTo VALUES($0 word, $1 word) WHERE $4 == \"EtymologicallyRelatedTo\" USING SEPARATOR=\",\", HEADER=\"true\", EOL=\"\\n\";\n",
      "LOAD MyDataSource TO EDGE  FormOf VALUES($0 synset, $1 synset) WHERE $4 == \"FormOf\" USING SEPARATOR=\",\", HEADER=\"true\", EOL=\"\\n\";\n",
      "LOAD MyDataSource TO EDGE  FormOf VALUES($0 synset, $1 word) WHERE $4 == \"FormOf\" USING SEPARATOR=\",\", HEADER=\"true\", EOL=\"\\n\";\n",
      "LOAD MyDataSource TO EDGE  FormOf VALUES($0 word, $1 synset) WHERE $4 == \"FormOf\" USING SEPARATOR=\",\", HEADER=\"true\", EOL=\"\\n\";\n",
      "LOAD MyDataSource TO EDGE  FormOf VALUES($0 word, $1 word) WHERE $4 == \"FormOf\" USING SEPARATOR=\",\", HEADER=\"true\", EOL=\"\\n\";\n",
      "LOAD MyDataSource TO EDGE  HasA VALUES($0 synset, $1 synset) WHERE $4 == \"HasA\" USING SEPARATOR=\",\", HEADER=\"true\", EOL=\"\\n\";\n",
      "LOAD MyDataSource TO EDGE  HasA VALUES($0 synset, $1 word) WHERE $4 == \"HasA\" USING SEPARATOR=\",\", HEADER=\"true\", EOL=\"\\n\";\n",
      "LOAD MyDataSource TO EDGE  HasA VALUES($0 word, $1 synset) WHERE $4 == \"HasA\" USING SEPARATOR=\",\", HEADER=\"true\", EOL=\"\\n\";\n",
      "LOAD MyDataSource TO EDGE  HasA VALUES($0 word, $1 word) WHERE $4 == \"HasA\" USING SEPARATOR=\",\", HEADER=\"true\", EOL=\"\\n\";\n",
      "LOAD MyDataSource TO EDGE  HasContext VALUES($0 synset, $1 synset) WHERE $4 == \"HasContext\" USING SEPARATOR=\",\", HEADER=\"true\", EOL=\"\\n\";\n",
      "LOAD MyDataSource TO EDGE  HasContext VALUES($0 synset, $1 word) WHERE $4 == \"HasContext\" USING SEPARATOR=\",\", HEADER=\"true\", EOL=\"\\n\";\n",
      "LOAD MyDataSource TO EDGE  HasContext VALUES($0 word, $1 synset) WHERE $4 == \"HasContext\" USING SEPARATOR=\",\", HEADER=\"true\", EOL=\"\\n\";\n",
      "LOAD MyDataSource TO EDGE  HasContext VALUES($0 word, $1 word) WHERE $4 == \"HasContext\" USING SEPARATOR=\",\", HEADER=\"true\", EOL=\"\\n\";\n",
      "LOAD MyDataSource TO EDGE  HasFirstSubevent VALUES($0 synset, $1 synset) WHERE $4 == \"HasFirstSubevent\" USING SEPARATOR=\",\", HEADER=\"true\", EOL=\"\\n\";\n",
      "LOAD MyDataSource TO EDGE  HasFirstSubevent VALUES($0 synset, $1 word) WHERE $4 == \"HasFirstSubevent\" USING SEPARATOR=\",\", HEADER=\"true\", EOL=\"\\n\";\n",
      "LOAD MyDataSource TO EDGE  HasFirstSubevent VALUES($0 word, $1 synset) WHERE $4 == \"HasFirstSubevent\" USING SEPARATOR=\",\", HEADER=\"true\", EOL=\"\\n\";\n",
      "LOAD MyDataSource TO EDGE  HasFirstSubevent VALUES($0 word, $1 word) WHERE $4 == \"HasFirstSubevent\" USING SEPARATOR=\",\", HEADER=\"true\", EOL=\"\\n\";\n",
      "LOAD MyDataSource TO EDGE  HasLastSubevent VALUES($0 synset, $1 synset) WHERE $4 == \"HasLastSubevent\" USING SEPARATOR=\",\", HEADER=\"true\", EOL=\"\\n\";\n",
      "LOAD MyDataSource TO EDGE  HasLastSubevent VALUES($0 synset, $1 word) WHERE $4 == \"HasLastSubevent\" USING SEPARATOR=\",\", HEADER=\"true\", EOL=\"\\n\";\n",
      "LOAD MyDataSource TO EDGE  HasLastSubevent VALUES($0 word, $1 synset) WHERE $4 == \"HasLastSubevent\" USING SEPARATOR=\",\", HEADER=\"true\", EOL=\"\\n\";\n",
      "LOAD MyDataSource TO EDGE  HasLastSubevent VALUES($0 word, $1 word) WHERE $4 == \"HasLastSubevent\" USING SEPARATOR=\",\", HEADER=\"true\", EOL=\"\\n\";\n",
      "LOAD MyDataSource TO EDGE  HasPrerequisite VALUES($0 synset, $1 synset) WHERE $4 == \"HasPrerequisite\" USING SEPARATOR=\",\", HEADER=\"true\", EOL=\"\\n\";\n",
      "LOAD MyDataSource TO EDGE  HasPrerequisite VALUES($0 synset, $1 word) WHERE $4 == \"HasPrerequisite\" USING SEPARATOR=\",\", HEADER=\"true\", EOL=\"\\n\";\n",
      "LOAD MyDataSource TO EDGE  HasPrerequisite VALUES($0 word, $1 synset) WHERE $4 == \"HasPrerequisite\" USING SEPARATOR=\",\", HEADER=\"true\", EOL=\"\\n\";\n",
      "LOAD MyDataSource TO EDGE  HasPrerequisite VALUES($0 word, $1 word) WHERE $4 == \"HasPrerequisite\" USING SEPARATOR=\",\", HEADER=\"true\", EOL=\"\\n\";\n",
      "LOAD MyDataSource TO EDGE  HasProperty VALUES($0 synset, $1 synset) WHERE $4 == \"HasProperty\" USING SEPARATOR=\",\", HEADER=\"true\", EOL=\"\\n\";\n",
      "LOAD MyDataSource TO EDGE  HasProperty VALUES($0 synset, $1 word) WHERE $4 == \"HasProperty\" USING SEPARATOR=\",\", HEADER=\"true\", EOL=\"\\n\";\n",
      "LOAD MyDataSource TO EDGE  HasProperty VALUES($0 word, $1 synset) WHERE $4 == \"HasProperty\" USING SEPARATOR=\",\", HEADER=\"true\", EOL=\"\\n\";\n",
      "LOAD MyDataSource TO EDGE  HasProperty VALUES($0 word, $1 word) WHERE $4 == \"HasProperty\" USING SEPARATOR=\",\", HEADER=\"true\", EOL=\"\\n\";\n",
      "LOAD MyDataSource TO EDGE  HasSubevent VALUES($0 synset, $1 synset) WHERE $4 == \"HasSubevent\" USING SEPARATOR=\",\", HEADER=\"true\", EOL=\"\\n\";\n",
      "LOAD MyDataSource TO EDGE  HasSubevent VALUES($0 synset, $1 word) WHERE $4 == \"HasSubevent\" USING SEPARATOR=\",\", HEADER=\"true\", EOL=\"\\n\";\n",
      "LOAD MyDataSource TO EDGE  HasSubevent VALUES($0 word, $1 synset) WHERE $4 == \"HasSubevent\" USING SEPARATOR=\",\", HEADER=\"true\", EOL=\"\\n\";\n",
      "LOAD MyDataSource TO EDGE  HasSubevent VALUES($0 word, $1 word) WHERE $4 == \"HasSubevent\" USING SEPARATOR=\",\", HEADER=\"true\", EOL=\"\\n\";\n",
      "LOAD MyDataSource TO EDGE  InstanceOf VALUES($0 synset, $1 synset) WHERE $4 == \"InstanceOf\" USING SEPARATOR=\",\", HEADER=\"true\", EOL=\"\\n\";\n",
      "LOAD MyDataSource TO EDGE  InstanceOf VALUES($0 synset, $1 word) WHERE $4 == \"InstanceOf\" USING SEPARATOR=\",\", HEADER=\"true\", EOL=\"\\n\";\n",
      "LOAD MyDataSource TO EDGE  InstanceOf VALUES($0 word, $1 synset) WHERE $4 == \"InstanceOf\" USING SEPARATOR=\",\", HEADER=\"true\", EOL=\"\\n\";\n",
      "LOAD MyDataSource TO EDGE  InstanceOf VALUES($0 word, $1 word) WHERE $4 == \"InstanceOf\" USING SEPARATOR=\",\", HEADER=\"true\", EOL=\"\\n\";\n",
      "LOAD MyDataSource TO EDGE  LocatedNear VALUES($0 synset, $1 synset) WHERE $4 == \"LocatedNear\" USING SEPARATOR=\",\", HEADER=\"true\", EOL=\"\\n\";\n",
      "LOAD MyDataSource TO EDGE  LocatedNear VALUES($0 synset, $1 word) WHERE $4 == \"LocatedNear\" USING SEPARATOR=\",\", HEADER=\"true\", EOL=\"\\n\";\n",
      "LOAD MyDataSource TO EDGE  LocatedNear VALUES($0 word, $1 synset) WHERE $4 == \"LocatedNear\" USING SEPARATOR=\",\", HEADER=\"true\", EOL=\"\\n\";\n",
      "LOAD MyDataSource TO EDGE  LocatedNear VALUES($0 word, $1 word) WHERE $4 == \"LocatedNear\" USING SEPARATOR=\",\", HEADER=\"true\", EOL=\"\\n\";\n",
      "LOAD MyDataSource TO EDGE  MadeOf VALUES($0 synset, $1 synset) WHERE $4 == \"MadeOf\" USING SEPARATOR=\",\", HEADER=\"true\", EOL=\"\\n\";\n",
      "LOAD MyDataSource TO EDGE  MadeOf VALUES($0 synset, $1 word) WHERE $4 == \"MadeOf\" USING SEPARATOR=\",\", HEADER=\"true\", EOL=\"\\n\";\n",
      "LOAD MyDataSource TO EDGE  MadeOf VALUES($0 word, $1 synset) WHERE $4 == \"MadeOf\" USING SEPARATOR=\",\", HEADER=\"true\", EOL=\"\\n\";\n",
      "LOAD MyDataSource TO EDGE  MadeOf VALUES($0 word, $1 word) WHERE $4 == \"MadeOf\" USING SEPARATOR=\",\", HEADER=\"true\", EOL=\"\\n\";\n",
      "LOAD MyDataSource TO EDGE  MannerOf VALUES($0 synset, $1 synset) WHERE $4 == \"MannerOf\" USING SEPARATOR=\",\", HEADER=\"true\", EOL=\"\\n\";\n",
      "LOAD MyDataSource TO EDGE  MannerOf VALUES($0 synset, $1 word) WHERE $4 == \"MannerOf\" USING SEPARATOR=\",\", HEADER=\"true\", EOL=\"\\n\";\n",
      "LOAD MyDataSource TO EDGE  MannerOf VALUES($0 word, $1 synset) WHERE $4 == \"MannerOf\" USING SEPARATOR=\",\", HEADER=\"true\", EOL=\"\\n\";\n",
      "LOAD MyDataSource TO EDGE  MannerOf VALUES($0 word, $1 word) WHERE $4 == \"MannerOf\" USING SEPARATOR=\",\", HEADER=\"true\", EOL=\"\\n\";\n",
      "LOAD MyDataSource TO EDGE  MotivatedByGoal VALUES($0 synset, $1 synset) WHERE $4 == \"MotivatedByGoal\" USING SEPARATOR=\",\", HEADER=\"true\", EOL=\"\\n\";\n",
      "LOAD MyDataSource TO EDGE  MotivatedByGoal VALUES($0 synset, $1 word) WHERE $4 == \"MotivatedByGoal\" USING SEPARATOR=\",\", HEADER=\"true\", EOL=\"\\n\";\n",
      "LOAD MyDataSource TO EDGE  MotivatedByGoal VALUES($0 word, $1 synset) WHERE $4 == \"MotivatedByGoal\" USING SEPARATOR=\",\", HEADER=\"true\", EOL=\"\\n\";\n",
      "LOAD MyDataSource TO EDGE  MotivatedByGoal VALUES($0 word, $1 word) WHERE $4 == \"MotivatedByGoal\" USING SEPARATOR=\",\", HEADER=\"true\", EOL=\"\\n\";\n",
      "LOAD MyDataSource TO EDGE  NotCapableOf VALUES($0 synset, $1 synset) WHERE $4 == \"NotCapableOf\" USING SEPARATOR=\",\", HEADER=\"true\", EOL=\"\\n\";\n",
      "LOAD MyDataSource TO EDGE  NotCapableOf VALUES($0 synset, $1 word) WHERE $4 == \"NotCapableOf\" USING SEPARATOR=\",\", HEADER=\"true\", EOL=\"\\n\";\n",
      "LOAD MyDataSource TO EDGE  NotCapableOf VALUES($0 word, $1 synset) WHERE $4 == \"NotCapableOf\" USING SEPARATOR=\",\", HEADER=\"true\", EOL=\"\\n\";\n",
      "LOAD MyDataSource TO EDGE  NotCapableOf VALUES($0 word, $1 word) WHERE $4 == \"NotCapableOf\" USING SEPARATOR=\",\", HEADER=\"true\", EOL=\"\\n\";\n",
      "LOAD MyDataSource TO EDGE  NotDesires VALUES($0 synset, $1 synset) WHERE $4 == \"NotDesires\" USING SEPARATOR=\",\", HEADER=\"true\", EOL=\"\\n\";\n",
      "LOAD MyDataSource TO EDGE  NotDesires VALUES($0 synset, $1 word) WHERE $4 == \"NotDesires\" USING SEPARATOR=\",\", HEADER=\"true\", EOL=\"\\n\";\n",
      "LOAD MyDataSource TO EDGE  NotDesires VALUES($0 word, $1 synset) WHERE $4 == \"NotDesires\" USING SEPARATOR=\",\", HEADER=\"true\", EOL=\"\\n\";\n",
      "LOAD MyDataSource TO EDGE  NotDesires VALUES($0 word, $1 word) WHERE $4 == \"NotDesires\" USING SEPARATOR=\",\", HEADER=\"true\", EOL=\"\\n\";\n",
      "LOAD MyDataSource TO EDGE  NotHasProperty VALUES($0 synset, $1 synset) WHERE $4 == \"NotHasProperty\" USING SEPARATOR=\",\", HEADER=\"true\", EOL=\"\\n\";\n",
      "LOAD MyDataSource TO EDGE  NotHasProperty VALUES($0 synset, $1 word) WHERE $4 == \"NotHasProperty\" USING SEPARATOR=\",\", HEADER=\"true\", EOL=\"\\n\";\n",
      "LOAD MyDataSource TO EDGE  NotHasProperty VALUES($0 word, $1 synset) WHERE $4 == \"NotHasProperty\" USING SEPARATOR=\",\", HEADER=\"true\", EOL=\"\\n\";\n",
      "LOAD MyDataSource TO EDGE  NotHasProperty VALUES($0 word, $1 word) WHERE $4 == \"NotHasProperty\" USING SEPARATOR=\",\", HEADER=\"true\", EOL=\"\\n\";\n",
      "LOAD MyDataSource TO EDGE  ReceivesAction VALUES($0 synset, $1 synset) WHERE $4 == \"ReceivesAction\" USING SEPARATOR=\",\", HEADER=\"true\", EOL=\"\\n\";\n",
      "LOAD MyDataSource TO EDGE  ReceivesAction VALUES($0 synset, $1 word) WHERE $4 == \"ReceivesAction\" USING SEPARATOR=\",\", HEADER=\"true\", EOL=\"\\n\";\n",
      "LOAD MyDataSource TO EDGE  ReceivesAction VALUES($0 word, $1 synset) WHERE $4 == \"ReceivesAction\" USING SEPARATOR=\",\", HEADER=\"true\", EOL=\"\\n\";\n",
      "LOAD MyDataSource TO EDGE  ReceivesAction VALUES($0 word, $1 word) WHERE $4 == \"ReceivesAction\" USING SEPARATOR=\",\", HEADER=\"true\", EOL=\"\\n\";\n",
      "LOAD MyDataSource TO EDGE  RelatedTo VALUES($0 synset, $1 synset) WHERE $4 == \"RelatedTo\" USING SEPARATOR=\",\", HEADER=\"true\", EOL=\"\\n\";\n",
      "LOAD MyDataSource TO EDGE  RelatedTo VALUES($0 synset, $1 word) WHERE $4 == \"RelatedTo\" USING SEPARATOR=\",\", HEADER=\"true\", EOL=\"\\n\";\n",
      "LOAD MyDataSource TO EDGE  RelatedTo VALUES($0 word, $1 synset) WHERE $4 == \"RelatedTo\" USING SEPARATOR=\",\", HEADER=\"true\", EOL=\"\\n\";\n",
      "LOAD MyDataSource TO EDGE  RelatedTo VALUES($0 word, $1 word) WHERE $4 == \"RelatedTo\" USING SEPARATOR=\",\", HEADER=\"true\", EOL=\"\\n\";\n",
      "\n"
     ]
    }
   ],
   "source": [
    "rel_type = pd.read_csv(root+'encoded/type_rel.csv')\n",
    "rel = rel_type['type']\n",
    "\n",
    "\n",
    "str_=\"\"\n",
    "# for r in rel:\n",
    "for r in rel_included:\n",
    "  orig=r\n",
    "  if '/' in r:\n",
    "    r = r.replace('/','_')\n",
    "  str_+=\"LOAD MyDataSource TO EDGE  \"+r+\" VALUES($0 synset, $1 synset) WHERE $4 == \\\"\"+orig+\"\\\" USING SEPARATOR=\\\",\\\"\"\", HEADER=\\\"true\\\", EOL=\"\"\\\"\\\\n\"\"\"\n",
    "  str_+=\"\\\";\\n\"\n",
    "  str_+=\"LOAD MyDataSource TO EDGE  \"+r+\" VALUES($0 synset, $1 word) WHERE $4 == \\\"\"+orig+\"\\\" USING SEPARATOR=\\\",\\\"\"\", HEADER=\\\"true\\\", EOL=\"\"\\\"\\\\n\"\"\"\n",
    "  str_+=\"\\\";\\n\"\n",
    "  str_+=\"LOAD MyDataSource TO EDGE  \"+r+\" VALUES($0 word, $1 synset) WHERE $4 == \\\"\"+orig+\"\\\" USING SEPARATOR=\\\",\\\"\"\", HEADER=\\\"true\\\", EOL=\"\"\\\"\\\\n\"\"\"\n",
    "  str_+=\"\\\";\\n\"\n",
    "  str_+=\"LOAD MyDataSource TO EDGE  \"+r+\" VALUES($0 word, $1 word) WHERE $4 == \\\"\"+orig+\"\\\" USING SEPARATOR=\\\",\\\"\"\", HEADER=\\\"true\\\", EOL=\"\"\\\"\\\\n\"\"\"\n",
    "  str_+=\"\\\";\\n\"\n",
    "print(str_)"
   ]
  },
  {
   "cell_type": "markdown",
   "metadata": {
    "id": "cvmRFneVqFx-"
   },
   "source": [
    "- Copy & Paste the above inside load_job_relationships gsql block."
   ]
  },
  {
   "cell_type": "code",
   "execution_count": 47,
   "metadata": {
    "colab": {
     "base_uri": "https://localhost:8080/"
    },
    "executionInfo": {
     "elapsed": 29927,
     "status": "ok",
     "timestamp": 1645429976245,
     "user": {
      "displayName": "Sudha Vijayakumar",
      "photoUrl": "https://lh3.googleusercontent.com/a/default-user=s64",
      "userId": "06644857756484093013"
     },
     "user_tz": 480
    },
    "id": "22W6W58idFW5",
    "outputId": "b2ff932c-230e-42ff-c684-9e6d97faeac3"
   },
   "outputs": [
    {
     "name": "stdout",
     "output_type": "stream",
     "text": [
      "Using graph 'ConceptNet'\n",
      "Successfully created loading jobs: [load_job_relationships].\n",
      "Successfully created loading jobs: [load_job_pos_wn].\n",
      "Successfully created loading jobs: [load_job_synsets_encoded].\n",
      "Successfully created loading jobs: [load_job_words_encoded].\n"
     ]
    }
   ],
   "source": [
    "results = conn.gsql('''\n",
    "  USE GRAPH ConceptNet\n",
    "  BEGIN\n",
    "\n",
    "  CREATE LOADING JOB load_job_relationships FOR GRAPH ConceptNet {\n",
    "        DEFINE FILENAME MyDataSource;\n",
    "\n",
    "LOAD MyDataSource TO EDGE  Attribute VALUES($0 synset, $1 synset) WHERE $4 == \"Attribute\" USING SEPARATOR=\",\", HEADER=\"true\", EOL=\"\\n\";\n",
    "LOAD MyDataSource TO EDGE  Attribute VALUES($0 synset, $1 word) WHERE $4 == \"Attribute\" USING SEPARATOR=\",\", HEADER=\"true\", EOL=\"\\n\";\n",
    "LOAD MyDataSource TO EDGE  Attribute VALUES($0 word, $1 synset) WHERE $4 == \"Attribute\" USING SEPARATOR=\",\", HEADER=\"true\", EOL=\"\\n\";\n",
    "LOAD MyDataSource TO EDGE  Attribute VALUES($0 word, $1 word) WHERE $4 == \"Attribute\" USING SEPARATOR=\",\", HEADER=\"true\", EOL=\"\\n\";\n",
    "LOAD MyDataSource TO EDGE  InSynset VALUES($0 synset, $1 synset) WHERE $4 == \"InSynset\" USING SEPARATOR=\",\", HEADER=\"true\", EOL=\"\\n\";\n",
    "LOAD MyDataSource TO EDGE  InSynset VALUES($0 synset, $1 word) WHERE $4 == \"InSynset\" USING SEPARATOR=\",\", HEADER=\"true\", EOL=\"\\n\";\n",
    "LOAD MyDataSource TO EDGE  InSynset VALUES($0 word, $1 synset) WHERE $4 == \"InSynset\" USING SEPARATOR=\",\", HEADER=\"true\", EOL=\"\\n\";\n",
    "LOAD MyDataSource TO EDGE  InSynset VALUES($0 word, $1 word) WHERE $4 == \"InSynset\" USING SEPARATOR=\",\", HEADER=\"true\", EOL=\"\\n\";\n",
    "LOAD MyDataSource TO EDGE  Domain VALUES($0 synset, $1 synset) WHERE $4 == \"Domain\" USING SEPARATOR=\",\", HEADER=\"true\", EOL=\"\\n\";\n",
    "LOAD MyDataSource TO EDGE  Domain VALUES($0 synset, $1 word) WHERE $4 == \"Domain\" USING SEPARATOR=\",\", HEADER=\"true\", EOL=\"\\n\";\n",
    "LOAD MyDataSource TO EDGE  Domain VALUES($0 word, $1 synset) WHERE $4 == \"Domain\" USING SEPARATOR=\",\", HEADER=\"true\", EOL=\"\\n\";\n",
    "LOAD MyDataSource TO EDGE  Domain VALUES($0 word, $1 word) WHERE $4 == \"Domain\" USING SEPARATOR=\",\", HEADER=\"true\", EOL=\"\\n\";\n",
    "LOAD MyDataSource TO EDGE  SimilarTo VALUES($0 synset, $1 synset) WHERE $4 == \"SimilarTo\" USING SEPARATOR=\",\", HEADER=\"true\", EOL=\"\\n\";\n",
    "LOAD MyDataSource TO EDGE  SimilarTo VALUES($0 synset, $1 word) WHERE $4 == \"SimilarTo\" USING SEPARATOR=\",\", HEADER=\"true\", EOL=\"\\n\";\n",
    "LOAD MyDataSource TO EDGE  SimilarTo VALUES($0 word, $1 synset) WHERE $4 == \"SimilarTo\" USING SEPARATOR=\",\", HEADER=\"true\", EOL=\"\\n\";\n",
    "LOAD MyDataSource TO EDGE  SimilarTo VALUES($0 word, $1 word) WHERE $4 == \"SimilarTo\" USING SEPARATOR=\",\", HEADER=\"true\", EOL=\"\\n\";\n",
    "LOAD MyDataSource TO EDGE  AlsoSee VALUES($0 synset, $1 synset) WHERE $4 == \"AlsoSee\" USING SEPARATOR=\",\", HEADER=\"true\", EOL=\"\\n\";\n",
    "LOAD MyDataSource TO EDGE  AlsoSee VALUES($0 synset, $1 word) WHERE $4 == \"AlsoSee\" USING SEPARATOR=\",\", HEADER=\"true\", EOL=\"\\n\";\n",
    "LOAD MyDataSource TO EDGE  AlsoSee VALUES($0 word, $1 synset) WHERE $4 == \"AlsoSee\" USING SEPARATOR=\",\", HEADER=\"true\", EOL=\"\\n\";\n",
    "LOAD MyDataSource TO EDGE  AlsoSee VALUES($0 word, $1 word) WHERE $4 == \"AlsoSee\" USING SEPARATOR=\",\", HEADER=\"true\", EOL=\"\\n\";\n",
    "LOAD MyDataSource TO EDGE  IsA VALUES($0 synset, $1 synset) WHERE $4 == \"IsA\" USING SEPARATOR=\",\", HEADER=\"true\", EOL=\"\\n\";\n",
    "LOAD MyDataSource TO EDGE  IsA VALUES($0 synset, $1 word) WHERE $4 == \"IsA\" USING SEPARATOR=\",\", HEADER=\"true\", EOL=\"\\n\";\n",
    "LOAD MyDataSource TO EDGE  IsA VALUES($0 word, $1 synset) WHERE $4 == \"IsA\" USING SEPARATOR=\",\", HEADER=\"true\", EOL=\"\\n\";\n",
    "LOAD MyDataSource TO EDGE  IsA VALUES($0 word, $1 word) WHERE $4 == \"IsA\" USING SEPARATOR=\",\", HEADER=\"true\", EOL=\"\\n\";\n",
    "LOAD MyDataSource TO EDGE  PartOf VALUES($0 synset, $1 synset) WHERE $4 == \"PartOf\" USING SEPARATOR=\",\", HEADER=\"true\", EOL=\"\\n\";\n",
    "LOAD MyDataSource TO EDGE  PartOf VALUES($0 synset, $1 word) WHERE $4 == \"PartOf\" USING SEPARATOR=\",\", HEADER=\"true\", EOL=\"\\n\";\n",
    "LOAD MyDataSource TO EDGE  PartOf VALUES($0 word, $1 synset) WHERE $4 == \"PartOf\" USING SEPARATOR=\",\", HEADER=\"true\", EOL=\"\\n\";\n",
    "LOAD MyDataSource TO EDGE  PartOf VALUES($0 word, $1 word) WHERE $4 == \"PartOf\" USING SEPARATOR=\",\", HEADER=\"true\", EOL=\"\\n\";\n",
    "LOAD MyDataSource TO EDGE  Entailment VALUES($0 synset, $1 synset) WHERE $4 == \"Entailment\" USING SEPARATOR=\",\", HEADER=\"true\", EOL=\"\\n\";\n",
    "LOAD MyDataSource TO EDGE  Entailment VALUES($0 synset, $1 word) WHERE $4 == \"Entailment\" USING SEPARATOR=\",\", HEADER=\"true\", EOL=\"\\n\";\n",
    "LOAD MyDataSource TO EDGE  Entailment VALUES($0 word, $1 synset) WHERE $4 == \"Entailment\" USING SEPARATOR=\",\", HEADER=\"true\", EOL=\"\\n\";\n",
    "LOAD MyDataSource TO EDGE  Entailment VALUES($0 word, $1 word) WHERE $4 == \"Entailment\" USING SEPARATOR=\",\", HEADER=\"true\", EOL=\"\\n\";\n",
    "LOAD MyDataSource TO EDGE  VerbGroup VALUES($0 synset, $1 synset) WHERE $4 == \"VerbGroup\" USING SEPARATOR=\",\", HEADER=\"true\", EOL=\"\\n\";\n",
    "LOAD MyDataSource TO EDGE  VerbGroup VALUES($0 synset, $1 word) WHERE $4 == \"VerbGroup\" USING SEPARATOR=\",\", HEADER=\"true\", EOL=\"\\n\";\n",
    "LOAD MyDataSource TO EDGE  VerbGroup VALUES($0 word, $1 synset) WHERE $4 == \"VerbGroup\" USING SEPARATOR=\",\", HEADER=\"true\", EOL=\"\\n\";\n",
    "LOAD MyDataSource TO EDGE  VerbGroup VALUES($0 word, $1 word) WHERE $4 == \"VerbGroup\" USING SEPARATOR=\",\", HEADER=\"true\", EOL=\"\\n\";\n",
    "LOAD MyDataSource TO EDGE  Cause VALUES($0 synset, $1 synset) WHERE $4 == \"Cause\" USING SEPARATOR=\",\", HEADER=\"true\", EOL=\"\\n\";\n",
    "LOAD MyDataSource TO EDGE  Cause VALUES($0 synset, $1 word) WHERE $4 == \"Cause\" USING SEPARATOR=\",\", HEADER=\"true\", EOL=\"\\n\";\n",
    "LOAD MyDataSource TO EDGE  Cause VALUES($0 word, $1 synset) WHERE $4 == \"Cause\" USING SEPARATOR=\",\", HEADER=\"true\", EOL=\"\\n\";\n",
    "LOAD MyDataSource TO EDGE  Cause VALUES($0 word, $1 word) WHERE $4 == \"Cause\" USING SEPARATOR=\",\", HEADER=\"true\", EOL=\"\\n\";\n",
    "LOAD MyDataSource TO EDGE  Antonym VALUES($0 synset, $1 synset) WHERE $4 == \"Antonym\" USING SEPARATOR=\",\", HEADER=\"true\", EOL=\"\\n\";\n",
    "LOAD MyDataSource TO EDGE  Antonym VALUES($0 synset, $1 word) WHERE $4 == \"Antonym\" USING SEPARATOR=\",\", HEADER=\"true\", EOL=\"\\n\";\n",
    "LOAD MyDataSource TO EDGE  Antonym VALUES($0 word, $1 synset) WHERE $4 == \"Antonym\" USING SEPARATOR=\",\", HEADER=\"true\", EOL=\"\\n\";\n",
    "LOAD MyDataSource TO EDGE  Antonym VALUES($0 word, $1 word) WHERE $4 == \"Antonym\" USING SEPARATOR=\",\", HEADER=\"true\", EOL=\"\\n\";\n",
    "LOAD MyDataSource TO EDGE  AtLocation VALUES($0 synset, $1 synset) WHERE $4 == \"AtLocation\" USING SEPARATOR=\",\", HEADER=\"true\", EOL=\"\\n\";\n",
    "LOAD MyDataSource TO EDGE  AtLocation VALUES($0 synset, $1 word) WHERE $4 == \"AtLocation\" USING SEPARATOR=\",\", HEADER=\"true\", EOL=\"\\n\";\n",
    "LOAD MyDataSource TO EDGE  AtLocation VALUES($0 word, $1 synset) WHERE $4 == \"AtLocation\" USING SEPARATOR=\",\", HEADER=\"true\", EOL=\"\\n\";\n",
    "LOAD MyDataSource TO EDGE  AtLocation VALUES($0 word, $1 word) WHERE $4 == \"AtLocation\" USING SEPARATOR=\",\", HEADER=\"true\", EOL=\"\\n\";\n",
    "LOAD MyDataSource TO EDGE  CapableOf VALUES($0 synset, $1 synset) WHERE $4 == \"CapableOf\" USING SEPARATOR=\",\", HEADER=\"true\", EOL=\"\\n\";\n",
    "LOAD MyDataSource TO EDGE  CapableOf VALUES($0 synset, $1 word) WHERE $4 == \"CapableOf\" USING SEPARATOR=\",\", HEADER=\"true\", EOL=\"\\n\";\n",
    "LOAD MyDataSource TO EDGE  CapableOf VALUES($0 word, $1 synset) WHERE $4 == \"CapableOf\" USING SEPARATOR=\",\", HEADER=\"true\", EOL=\"\\n\";\n",
    "LOAD MyDataSource TO EDGE  CapableOf VALUES($0 word, $1 word) WHERE $4 == \"CapableOf\" USING SEPARATOR=\",\", HEADER=\"true\", EOL=\"\\n\";\n",
    "LOAD MyDataSource TO EDGE  Causes VALUES($0 synset, $1 synset) WHERE $4 == \"Causes\" USING SEPARATOR=\",\", HEADER=\"true\", EOL=\"\\n\";\n",
    "LOAD MyDataSource TO EDGE  Causes VALUES($0 synset, $1 word) WHERE $4 == \"Causes\" USING SEPARATOR=\",\", HEADER=\"true\", EOL=\"\\n\";\n",
    "LOAD MyDataSource TO EDGE  Causes VALUES($0 word, $1 synset) WHERE $4 == \"Causes\" USING SEPARATOR=\",\", HEADER=\"true\", EOL=\"\\n\";\n",
    "LOAD MyDataSource TO EDGE  Causes VALUES($0 word, $1 word) WHERE $4 == \"Causes\" USING SEPARATOR=\",\", HEADER=\"true\", EOL=\"\\n\";\n",
    "LOAD MyDataSource TO EDGE  CausesDesire VALUES($0 synset, $1 synset) WHERE $4 == \"CausesDesire\" USING SEPARATOR=\",\", HEADER=\"true\", EOL=\"\\n\";\n",
    "LOAD MyDataSource TO EDGE  CausesDesire VALUES($0 synset, $1 word) WHERE $4 == \"CausesDesire\" USING SEPARATOR=\",\", HEADER=\"true\", EOL=\"\\n\";\n",
    "LOAD MyDataSource TO EDGE  CausesDesire VALUES($0 word, $1 synset) WHERE $4 == \"CausesDesire\" USING SEPARATOR=\",\", HEADER=\"true\", EOL=\"\\n\";\n",
    "LOAD MyDataSource TO EDGE  CausesDesire VALUES($0 word, $1 word) WHERE $4 == \"CausesDesire\" USING SEPARATOR=\",\", HEADER=\"true\", EOL=\"\\n\";\n",
    "LOAD MyDataSource TO EDGE  CreatedBy VALUES($0 synset, $1 synset) WHERE $4 == \"CreatedBy\" USING SEPARATOR=\",\", HEADER=\"true\", EOL=\"\\n\";\n",
    "LOAD MyDataSource TO EDGE  CreatedBy VALUES($0 synset, $1 word) WHERE $4 == \"CreatedBy\" USING SEPARATOR=\",\", HEADER=\"true\", EOL=\"\\n\";\n",
    "LOAD MyDataSource TO EDGE  CreatedBy VALUES($0 word, $1 synset) WHERE $4 == \"CreatedBy\" USING SEPARATOR=\",\", HEADER=\"true\", EOL=\"\\n\";\n",
    "LOAD MyDataSource TO EDGE  CreatedBy VALUES($0 word, $1 word) WHERE $4 == \"CreatedBy\" USING SEPARATOR=\",\", HEADER=\"true\", EOL=\"\\n\";\n",
    "LOAD MyDataSource TO EDGE  DefinedAs VALUES($0 synset, $1 synset) WHERE $4 == \"DefinedAs\" USING SEPARATOR=\",\", HEADER=\"true\", EOL=\"\\n\";\n",
    "LOAD MyDataSource TO EDGE  DefinedAs VALUES($0 synset, $1 word) WHERE $4 == \"DefinedAs\" USING SEPARATOR=\",\", HEADER=\"true\", EOL=\"\\n\";\n",
    "LOAD MyDataSource TO EDGE  DefinedAs VALUES($0 word, $1 synset) WHERE $4 == \"DefinedAs\" USING SEPARATOR=\",\", HEADER=\"true\", EOL=\"\\n\";\n",
    "LOAD MyDataSource TO EDGE  DefinedAs VALUES($0 word, $1 word) WHERE $4 == \"DefinedAs\" USING SEPARATOR=\",\", HEADER=\"true\", EOL=\"\\n\";\n",
    "LOAD MyDataSource TO EDGE  DerivedFrom VALUES($0 synset, $1 synset) WHERE $4 == \"DerivedFrom\" USING SEPARATOR=\",\", HEADER=\"true\", EOL=\"\\n\";\n",
    "LOAD MyDataSource TO EDGE  DerivedFrom VALUES($0 synset, $1 word) WHERE $4 == \"DerivedFrom\" USING SEPARATOR=\",\", HEADER=\"true\", EOL=\"\\n\";\n",
    "LOAD MyDataSource TO EDGE  DerivedFrom VALUES($0 word, $1 synset) WHERE $4 == \"DerivedFrom\" USING SEPARATOR=\",\", HEADER=\"true\", EOL=\"\\n\";\n",
    "LOAD MyDataSource TO EDGE  DerivedFrom VALUES($0 word, $1 word) WHERE $4 == \"DerivedFrom\" USING SEPARATOR=\",\", HEADER=\"true\", EOL=\"\\n\";\n",
    "LOAD MyDataSource TO EDGE  Desires VALUES($0 synset, $1 synset) WHERE $4 == \"Desires\" USING SEPARATOR=\",\", HEADER=\"true\", EOL=\"\\n\";\n",
    "LOAD MyDataSource TO EDGE  Desires VALUES($0 synset, $1 word) WHERE $4 == \"Desires\" USING SEPARATOR=\",\", HEADER=\"true\", EOL=\"\\n\";\n",
    "LOAD MyDataSource TO EDGE  Desires VALUES($0 word, $1 synset) WHERE $4 == \"Desires\" USING SEPARATOR=\",\", HEADER=\"true\", EOL=\"\\n\";\n",
    "LOAD MyDataSource TO EDGE  Desires VALUES($0 word, $1 word) WHERE $4 == \"Desires\" USING SEPARATOR=\",\", HEADER=\"true\", EOL=\"\\n\";\n",
    "LOAD MyDataSource TO EDGE  DistinctFrom VALUES($0 synset, $1 synset) WHERE $4 == \"DistinctFrom\" USING SEPARATOR=\",\", HEADER=\"true\", EOL=\"\\n\";\n",
    "LOAD MyDataSource TO EDGE  DistinctFrom VALUES($0 synset, $1 word) WHERE $4 == \"DistinctFrom\" USING SEPARATOR=\",\", HEADER=\"true\", EOL=\"\\n\";\n",
    "LOAD MyDataSource TO EDGE  DistinctFrom VALUES($0 word, $1 synset) WHERE $4 == \"DistinctFrom\" USING SEPARATOR=\",\", HEADER=\"true\", EOL=\"\\n\";\n",
    "LOAD MyDataSource TO EDGE  DistinctFrom VALUES($0 word, $1 word) WHERE $4 == \"DistinctFrom\" USING SEPARATOR=\",\", HEADER=\"true\", EOL=\"\\n\";\n",
    "LOAD MyDataSource TO EDGE  Entails VALUES($0 synset, $1 synset) WHERE $4 == \"Entails\" USING SEPARATOR=\",\", HEADER=\"true\", EOL=\"\\n\";\n",
    "LOAD MyDataSource TO EDGE  Entails VALUES($0 synset, $1 word) WHERE $4 == \"Entails\" USING SEPARATOR=\",\", HEADER=\"true\", EOL=\"\\n\";\n",
    "LOAD MyDataSource TO EDGE  Entails VALUES($0 word, $1 synset) WHERE $4 == \"Entails\" USING SEPARATOR=\",\", HEADER=\"true\", EOL=\"\\n\";\n",
    "LOAD MyDataSource TO EDGE  Entails VALUES($0 word, $1 word) WHERE $4 == \"Entails\" USING SEPARATOR=\",\", HEADER=\"true\", EOL=\"\\n\";\n",
    "LOAD MyDataSource TO EDGE  EtymologicallyDerivedFrom VALUES($0 synset, $1 synset) WHERE $4 == \"EtymologicallyDerivedFrom\" USING SEPARATOR=\",\", HEADER=\"true\", EOL=\"\\n\";\n",
    "LOAD MyDataSource TO EDGE  EtymologicallyDerivedFrom VALUES($0 synset, $1 word) WHERE $4 == \"EtymologicallyDerivedFrom\" USING SEPARATOR=\",\", HEADER=\"true\", EOL=\"\\n\";\n",
    "LOAD MyDataSource TO EDGE  EtymologicallyDerivedFrom VALUES($0 word, $1 synset) WHERE $4 == \"EtymologicallyDerivedFrom\" USING SEPARATOR=\",\", HEADER=\"true\", EOL=\"\\n\";\n",
    "LOAD MyDataSource TO EDGE  EtymologicallyDerivedFrom VALUES($0 word, $1 word) WHERE $4 == \"EtymologicallyDerivedFrom\" USING SEPARATOR=\",\", HEADER=\"true\", EOL=\"\\n\";\n",
    "LOAD MyDataSource TO EDGE  EtymologicallyRelatedTo VALUES($0 synset, $1 synset) WHERE $4 == \"EtymologicallyRelatedTo\" USING SEPARATOR=\",\", HEADER=\"true\", EOL=\"\\n\";\n",
    "LOAD MyDataSource TO EDGE  EtymologicallyRelatedTo VALUES($0 synset, $1 word) WHERE $4 == \"EtymologicallyRelatedTo\" USING SEPARATOR=\",\", HEADER=\"true\", EOL=\"\\n\";\n",
    "LOAD MyDataSource TO EDGE  EtymologicallyRelatedTo VALUES($0 word, $1 synset) WHERE $4 == \"EtymologicallyRelatedTo\" USING SEPARATOR=\",\", HEADER=\"true\", EOL=\"\\n\";\n",
    "LOAD MyDataSource TO EDGE  EtymologicallyRelatedTo VALUES($0 word, $1 word) WHERE $4 == \"EtymologicallyRelatedTo\" USING SEPARATOR=\",\", HEADER=\"true\", EOL=\"\\n\";\n",
    "LOAD MyDataSource TO EDGE  FormOf VALUES($0 synset, $1 synset) WHERE $4 == \"FormOf\" USING SEPARATOR=\",\", HEADER=\"true\", EOL=\"\\n\";\n",
    "LOAD MyDataSource TO EDGE  FormOf VALUES($0 synset, $1 word) WHERE $4 == \"FormOf\" USING SEPARATOR=\",\", HEADER=\"true\", EOL=\"\\n\";\n",
    "LOAD MyDataSource TO EDGE  FormOf VALUES($0 word, $1 synset) WHERE $4 == \"FormOf\" USING SEPARATOR=\",\", HEADER=\"true\", EOL=\"\\n\";\n",
    "LOAD MyDataSource TO EDGE  FormOf VALUES($0 word, $1 word) WHERE $4 == \"FormOf\" USING SEPARATOR=\",\", HEADER=\"true\", EOL=\"\\n\";\n",
    "LOAD MyDataSource TO EDGE  HasA VALUES($0 synset, $1 synset) WHERE $4 == \"HasA\" USING SEPARATOR=\",\", HEADER=\"true\", EOL=\"\\n\";\n",
    "LOAD MyDataSource TO EDGE  HasA VALUES($0 synset, $1 word) WHERE $4 == \"HasA\" USING SEPARATOR=\",\", HEADER=\"true\", EOL=\"\\n\";\n",
    "LOAD MyDataSource TO EDGE  HasA VALUES($0 word, $1 synset) WHERE $4 == \"HasA\" USING SEPARATOR=\",\", HEADER=\"true\", EOL=\"\\n\";\n",
    "LOAD MyDataSource TO EDGE  HasA VALUES($0 word, $1 word) WHERE $4 == \"HasA\" USING SEPARATOR=\",\", HEADER=\"true\", EOL=\"\\n\";\n",
    "LOAD MyDataSource TO EDGE  HasContext VALUES($0 synset, $1 synset) WHERE $4 == \"HasContext\" USING SEPARATOR=\",\", HEADER=\"true\", EOL=\"\\n\";\n",
    "LOAD MyDataSource TO EDGE  HasContext VALUES($0 synset, $1 word) WHERE $4 == \"HasContext\" USING SEPARATOR=\",\", HEADER=\"true\", EOL=\"\\n\";\n",
    "LOAD MyDataSource TO EDGE  HasContext VALUES($0 word, $1 synset) WHERE $4 == \"HasContext\" USING SEPARATOR=\",\", HEADER=\"true\", EOL=\"\\n\";\n",
    "LOAD MyDataSource TO EDGE  HasContext VALUES($0 word, $1 word) WHERE $4 == \"HasContext\" USING SEPARATOR=\",\", HEADER=\"true\", EOL=\"\\n\";\n",
    "LOAD MyDataSource TO EDGE  HasFirstSubevent VALUES($0 synset, $1 synset) WHERE $4 == \"HasFirstSubevent\" USING SEPARATOR=\",\", HEADER=\"true\", EOL=\"\\n\";\n",
    "LOAD MyDataSource TO EDGE  HasFirstSubevent VALUES($0 synset, $1 word) WHERE $4 == \"HasFirstSubevent\" USING SEPARATOR=\",\", HEADER=\"true\", EOL=\"\\n\";\n",
    "LOAD MyDataSource TO EDGE  HasFirstSubevent VALUES($0 word, $1 synset) WHERE $4 == \"HasFirstSubevent\" USING SEPARATOR=\",\", HEADER=\"true\", EOL=\"\\n\";\n",
    "LOAD MyDataSource TO EDGE  HasFirstSubevent VALUES($0 word, $1 word) WHERE $4 == \"HasFirstSubevent\" USING SEPARATOR=\",\", HEADER=\"true\", EOL=\"\\n\";\n",
    "LOAD MyDataSource TO EDGE  HasLastSubevent VALUES($0 synset, $1 synset) WHERE $4 == \"HasLastSubevent\" USING SEPARATOR=\",\", HEADER=\"true\", EOL=\"\\n\";\n",
    "LOAD MyDataSource TO EDGE  HasLastSubevent VALUES($0 synset, $1 word) WHERE $4 == \"HasLastSubevent\" USING SEPARATOR=\",\", HEADER=\"true\", EOL=\"\\n\";\n",
    "LOAD MyDataSource TO EDGE  HasLastSubevent VALUES($0 word, $1 synset) WHERE $4 == \"HasLastSubevent\" USING SEPARATOR=\",\", HEADER=\"true\", EOL=\"\\n\";\n",
    "LOAD MyDataSource TO EDGE  HasLastSubevent VALUES($0 word, $1 word) WHERE $4 == \"HasLastSubevent\" USING SEPARATOR=\",\", HEADER=\"true\", EOL=\"\\n\";\n",
    "LOAD MyDataSource TO EDGE  HasPrerequisite VALUES($0 synset, $1 synset) WHERE $4 == \"HasPrerequisite\" USING SEPARATOR=\",\", HEADER=\"true\", EOL=\"\\n\";\n",
    "LOAD MyDataSource TO EDGE  HasPrerequisite VALUES($0 synset, $1 word) WHERE $4 == \"HasPrerequisite\" USING SEPARATOR=\",\", HEADER=\"true\", EOL=\"\\n\";\n",
    "LOAD MyDataSource TO EDGE  HasPrerequisite VALUES($0 word, $1 synset) WHERE $4 == \"HasPrerequisite\" USING SEPARATOR=\",\", HEADER=\"true\", EOL=\"\\n\";\n",
    "LOAD MyDataSource TO EDGE  HasPrerequisite VALUES($0 word, $1 word) WHERE $4 == \"HasPrerequisite\" USING SEPARATOR=\",\", HEADER=\"true\", EOL=\"\\n\";\n",
    "LOAD MyDataSource TO EDGE  HasProperty VALUES($0 synset, $1 synset) WHERE $4 == \"HasProperty\" USING SEPARATOR=\",\", HEADER=\"true\", EOL=\"\\n\";\n",
    "LOAD MyDataSource TO EDGE  HasProperty VALUES($0 synset, $1 word) WHERE $4 == \"HasProperty\" USING SEPARATOR=\",\", HEADER=\"true\", EOL=\"\\n\";\n",
    "LOAD MyDataSource TO EDGE  HasProperty VALUES($0 word, $1 synset) WHERE $4 == \"HasProperty\" USING SEPARATOR=\",\", HEADER=\"true\", EOL=\"\\n\";\n",
    "LOAD MyDataSource TO EDGE  HasProperty VALUES($0 word, $1 word) WHERE $4 == \"HasProperty\" USING SEPARATOR=\",\", HEADER=\"true\", EOL=\"\\n\";\n",
    "LOAD MyDataSource TO EDGE  HasSubevent VALUES($0 synset, $1 synset) WHERE $4 == \"HasSubevent\" USING SEPARATOR=\",\", HEADER=\"true\", EOL=\"\\n\";\n",
    "LOAD MyDataSource TO EDGE  HasSubevent VALUES($0 synset, $1 word) WHERE $4 == \"HasSubevent\" USING SEPARATOR=\",\", HEADER=\"true\", EOL=\"\\n\";\n",
    "LOAD MyDataSource TO EDGE  HasSubevent VALUES($0 word, $1 synset) WHERE $4 == \"HasSubevent\" USING SEPARATOR=\",\", HEADER=\"true\", EOL=\"\\n\";\n",
    "LOAD MyDataSource TO EDGE  HasSubevent VALUES($0 word, $1 word) WHERE $4 == \"HasSubevent\" USING SEPARATOR=\",\", HEADER=\"true\", EOL=\"\\n\";\n",
    "LOAD MyDataSource TO EDGE  InstanceOf VALUES($0 synset, $1 synset) WHERE $4 == \"InstanceOf\" USING SEPARATOR=\",\", HEADER=\"true\", EOL=\"\\n\";\n",
    "LOAD MyDataSource TO EDGE  InstanceOf VALUES($0 synset, $1 word) WHERE $4 == \"InstanceOf\" USING SEPARATOR=\",\", HEADER=\"true\", EOL=\"\\n\";\n",
    "LOAD MyDataSource TO EDGE  InstanceOf VALUES($0 word, $1 synset) WHERE $4 == \"InstanceOf\" USING SEPARATOR=\",\", HEADER=\"true\", EOL=\"\\n\";\n",
    "LOAD MyDataSource TO EDGE  InstanceOf VALUES($0 word, $1 word) WHERE $4 == \"InstanceOf\" USING SEPARATOR=\",\", HEADER=\"true\", EOL=\"\\n\";\n",
    "LOAD MyDataSource TO EDGE  LocatedNear VALUES($0 synset, $1 synset) WHERE $4 == \"LocatedNear\" USING SEPARATOR=\",\", HEADER=\"true\", EOL=\"\\n\";\n",
    "LOAD MyDataSource TO EDGE  LocatedNear VALUES($0 synset, $1 word) WHERE $4 == \"LocatedNear\" USING SEPARATOR=\",\", HEADER=\"true\", EOL=\"\\n\";\n",
    "LOAD MyDataSource TO EDGE  LocatedNear VALUES($0 word, $1 synset) WHERE $4 == \"LocatedNear\" USING SEPARATOR=\",\", HEADER=\"true\", EOL=\"\\n\";\n",
    "LOAD MyDataSource TO EDGE  LocatedNear VALUES($0 word, $1 word) WHERE $4 == \"LocatedNear\" USING SEPARATOR=\",\", HEADER=\"true\", EOL=\"\\n\";\n",
    "LOAD MyDataSource TO EDGE  MadeOf VALUES($0 synset, $1 synset) WHERE $4 == \"MadeOf\" USING SEPARATOR=\",\", HEADER=\"true\", EOL=\"\\n\";\n",
    "LOAD MyDataSource TO EDGE  MadeOf VALUES($0 synset, $1 word) WHERE $4 == \"MadeOf\" USING SEPARATOR=\",\", HEADER=\"true\", EOL=\"\\n\";\n",
    "LOAD MyDataSource TO EDGE  MadeOf VALUES($0 word, $1 synset) WHERE $4 == \"MadeOf\" USING SEPARATOR=\",\", HEADER=\"true\", EOL=\"\\n\";\n",
    "LOAD MyDataSource TO EDGE  MadeOf VALUES($0 word, $1 word) WHERE $4 == \"MadeOf\" USING SEPARATOR=\",\", HEADER=\"true\", EOL=\"\\n\";\n",
    "LOAD MyDataSource TO EDGE  MannerOf VALUES($0 synset, $1 synset) WHERE $4 == \"MannerOf\" USING SEPARATOR=\",\", HEADER=\"true\", EOL=\"\\n\";\n",
    "LOAD MyDataSource TO EDGE  MannerOf VALUES($0 synset, $1 word) WHERE $4 == \"MannerOf\" USING SEPARATOR=\",\", HEADER=\"true\", EOL=\"\\n\";\n",
    "LOAD MyDataSource TO EDGE  MannerOf VALUES($0 word, $1 synset) WHERE $4 == \"MannerOf\" USING SEPARATOR=\",\", HEADER=\"true\", EOL=\"\\n\";\n",
    "LOAD MyDataSource TO EDGE  MannerOf VALUES($0 word, $1 word) WHERE $4 == \"MannerOf\" USING SEPARATOR=\",\", HEADER=\"true\", EOL=\"\\n\";\n",
    "LOAD MyDataSource TO EDGE  MotivatedByGoal VALUES($0 synset, $1 synset) WHERE $4 == \"MotivatedByGoal\" USING SEPARATOR=\",\", HEADER=\"true\", EOL=\"\\n\";\n",
    "LOAD MyDataSource TO EDGE  MotivatedByGoal VALUES($0 synset, $1 word) WHERE $4 == \"MotivatedByGoal\" USING SEPARATOR=\",\", HEADER=\"true\", EOL=\"\\n\";\n",
    "LOAD MyDataSource TO EDGE  MotivatedByGoal VALUES($0 word, $1 synset) WHERE $4 == \"MotivatedByGoal\" USING SEPARATOR=\",\", HEADER=\"true\", EOL=\"\\n\";\n",
    "LOAD MyDataSource TO EDGE  MotivatedByGoal VALUES($0 word, $1 word) WHERE $4 == \"MotivatedByGoal\" USING SEPARATOR=\",\", HEADER=\"true\", EOL=\"\\n\";\n",
    "LOAD MyDataSource TO EDGE  NotCapableOf VALUES($0 synset, $1 synset) WHERE $4 == \"NotCapableOf\" USING SEPARATOR=\",\", HEADER=\"true\", EOL=\"\\n\";\n",
    "LOAD MyDataSource TO EDGE  NotCapableOf VALUES($0 synset, $1 word) WHERE $4 == \"NotCapableOf\" USING SEPARATOR=\",\", HEADER=\"true\", EOL=\"\\n\";\n",
    "LOAD MyDataSource TO EDGE  NotCapableOf VALUES($0 word, $1 synset) WHERE $4 == \"NotCapableOf\" USING SEPARATOR=\",\", HEADER=\"true\", EOL=\"\\n\";\n",
    "LOAD MyDataSource TO EDGE  NotCapableOf VALUES($0 word, $1 word) WHERE $4 == \"NotCapableOf\" USING SEPARATOR=\",\", HEADER=\"true\", EOL=\"\\n\";\n",
    "LOAD MyDataSource TO EDGE  NotDesires VALUES($0 synset, $1 synset) WHERE $4 == \"NotDesires\" USING SEPARATOR=\",\", HEADER=\"true\", EOL=\"\\n\";\n",
    "LOAD MyDataSource TO EDGE  NotDesires VALUES($0 synset, $1 word) WHERE $4 == \"NotDesires\" USING SEPARATOR=\",\", HEADER=\"true\", EOL=\"\\n\";\n",
    "LOAD MyDataSource TO EDGE  NotDesires VALUES($0 word, $1 synset) WHERE $4 == \"NotDesires\" USING SEPARATOR=\",\", HEADER=\"true\", EOL=\"\\n\";\n",
    "LOAD MyDataSource TO EDGE  NotDesires VALUES($0 word, $1 word) WHERE $4 == \"NotDesires\" USING SEPARATOR=\",\", HEADER=\"true\", EOL=\"\\n\";\n",
    "LOAD MyDataSource TO EDGE  NotHasProperty VALUES($0 synset, $1 synset) WHERE $4 == \"NotHasProperty\" USING SEPARATOR=\",\", HEADER=\"true\", EOL=\"\\n\";\n",
    "LOAD MyDataSource TO EDGE  NotHasProperty VALUES($0 synset, $1 word) WHERE $4 == \"NotHasProperty\" USING SEPARATOR=\",\", HEADER=\"true\", EOL=\"\\n\";\n",
    "LOAD MyDataSource TO EDGE  NotHasProperty VALUES($0 word, $1 synset) WHERE $4 == \"NotHasProperty\" USING SEPARATOR=\",\", HEADER=\"true\", EOL=\"\\n\";\n",
    "LOAD MyDataSource TO EDGE  NotHasProperty VALUES($0 word, $1 word) WHERE $4 == \"NotHasProperty\" USING SEPARATOR=\",\", HEADER=\"true\", EOL=\"\\n\";\n",
    "LOAD MyDataSource TO EDGE  ReceivesAction VALUES($0 synset, $1 synset) WHERE $4 == \"ReceivesAction\" USING SEPARATOR=\",\", HEADER=\"true\", EOL=\"\\n\";\n",
    "LOAD MyDataSource TO EDGE  ReceivesAction VALUES($0 synset, $1 word) WHERE $4 == \"ReceivesAction\" USING SEPARATOR=\",\", HEADER=\"true\", EOL=\"\\n\";\n",
    "LOAD MyDataSource TO EDGE  ReceivesAction VALUES($0 word, $1 synset) WHERE $4 == \"ReceivesAction\" USING SEPARATOR=\",\", HEADER=\"true\", EOL=\"\\n\";\n",
    "LOAD MyDataSource TO EDGE  ReceivesAction VALUES($0 word, $1 word) WHERE $4 == \"ReceivesAction\" USING SEPARATOR=\",\", HEADER=\"true\", EOL=\"\\n\";\n",
    "LOAD MyDataSource TO EDGE  RelatedTo VALUES($0 synset, $1 synset) WHERE $4 == \"RelatedTo\" USING SEPARATOR=\",\", HEADER=\"true\", EOL=\"\\n\";\n",
    "LOAD MyDataSource TO EDGE  RelatedTo VALUES($0 synset, $1 word) WHERE $4 == \"RelatedTo\" USING SEPARATOR=\",\", HEADER=\"true\", EOL=\"\\n\";\n",
    "LOAD MyDataSource TO EDGE  RelatedTo VALUES($0 word, $1 synset) WHERE $4 == \"RelatedTo\" USING SEPARATOR=\",\", HEADER=\"true\", EOL=\"\\n\";\n",
    "LOAD MyDataSource TO EDGE  RelatedTo VALUES($0 word, $1 word) WHERE $4 == \"RelatedTo\" USING SEPARATOR=\",\", HEADER=\"true\", EOL=\"\\n\";\n",
    "LOAD MyDataSource TO EDGE  SymbolOf VALUES($0 synset, $1 synset) WHERE $4 == \"SymbolOf\" USING SEPARATOR=\",\", HEADER=\"true\", EOL=\"\\n\";\n",
    "LOAD MyDataSource TO EDGE  SymbolOf VALUES($0 synset, $1 word) WHERE $4 == \"SymbolOf\" USING SEPARATOR=\",\", HEADER=\"true\", EOL=\"\\n\";\n",
    "LOAD MyDataSource TO EDGE  SymbolOf VALUES($0 word, $1 synset) WHERE $4 == \"SymbolOf\" USING SEPARATOR=\",\", HEADER=\"true\", EOL=\"\\n\";\n",
    "LOAD MyDataSource TO EDGE  SymbolOf VALUES($0 word, $1 word) WHERE $4 == \"SymbolOf\" USING SEPARATOR=\",\", HEADER=\"true\", EOL=\"\\n\";\n",
    "LOAD MyDataSource TO EDGE  Synonym VALUES($0 synset, $1 synset) WHERE $4 == \"Synonym\" USING SEPARATOR=\",\", HEADER=\"true\", EOL=\"\\n\";\n",
    "LOAD MyDataSource TO EDGE  Synonym VALUES($0 synset, $1 word) WHERE $4 == \"Synonym\" USING SEPARATOR=\",\", HEADER=\"true\", EOL=\"\\n\";\n",
    "LOAD MyDataSource TO EDGE  Synonym VALUES($0 word, $1 synset) WHERE $4 == \"Synonym\" USING SEPARATOR=\",\", HEADER=\"true\", EOL=\"\\n\";\n",
    "LOAD MyDataSource TO EDGE  Synonym VALUES($0 word, $1 word) WHERE $4 == \"Synonym\" USING SEPARATOR=\",\", HEADER=\"true\", EOL=\"\\n\";\n",
    "LOAD MyDataSource TO EDGE  UsedFor VALUES($0 synset, $1 synset) WHERE $4 == \"UsedFor\" USING SEPARATOR=\",\", HEADER=\"true\", EOL=\"\\n\";\n",
    "LOAD MyDataSource TO EDGE  UsedFor VALUES($0 synset, $1 word) WHERE $4 == \"UsedFor\" USING SEPARATOR=\",\", HEADER=\"true\", EOL=\"\\n\";\n",
    "LOAD MyDataSource TO EDGE  UsedFor VALUES($0 word, $1 synset) WHERE $4 == \"UsedFor\" USING SEPARATOR=\",\", HEADER=\"true\", EOL=\"\\n\";\n",
    "LOAD MyDataSource TO EDGE  UsedFor VALUES($0 word, $1 word) WHERE $4 == \"UsedFor\" USING SEPARATOR=\",\", HEADER=\"true\", EOL=\"\\n\";\n",
    "LOAD MyDataSource TO EDGE  dbpedia_capital VALUES($0 synset, $1 synset) WHERE $4 == \"dbpedia/capital\" USING SEPARATOR=\",\", HEADER=\"true\", EOL=\"\\n\";\n",
    "LOAD MyDataSource TO EDGE  dbpedia_capital VALUES($0 synset, $1 word) WHERE $4 == \"dbpedia/capital\" USING SEPARATOR=\",\", HEADER=\"true\", EOL=\"\\n\";\n",
    "LOAD MyDataSource TO EDGE  dbpedia_capital VALUES($0 word, $1 synset) WHERE $4 == \"dbpedia/capital\" USING SEPARATOR=\",\", HEADER=\"true\", EOL=\"\\n\";\n",
    "LOAD MyDataSource TO EDGE  dbpedia_capital VALUES($0 word, $1 word) WHERE $4 == \"dbpedia/capital\" USING SEPARATOR=\",\", HEADER=\"true\", EOL=\"\\n\";\n",
    "LOAD MyDataSource TO EDGE  dbpedia_field VALUES($0 synset, $1 synset) WHERE $4 == \"dbpedia/field\" USING SEPARATOR=\",\", HEADER=\"true\", EOL=\"\\n\";\n",
    "LOAD MyDataSource TO EDGE  dbpedia_field VALUES($0 synset, $1 word) WHERE $4 == \"dbpedia/field\" USING SEPARATOR=\",\", HEADER=\"true\", EOL=\"\\n\";\n",
    "LOAD MyDataSource TO EDGE  dbpedia_field VALUES($0 word, $1 synset) WHERE $4 == \"dbpedia/field\" USING SEPARATOR=\",\", HEADER=\"true\", EOL=\"\\n\";\n",
    "LOAD MyDataSource TO EDGE  dbpedia_field VALUES($0 word, $1 word) WHERE $4 == \"dbpedia/field\" USING SEPARATOR=\",\", HEADER=\"true\", EOL=\"\\n\";\n",
    "LOAD MyDataSource TO EDGE  dbpedia_genre VALUES($0 synset, $1 synset) WHERE $4 == \"dbpedia/genre\" USING SEPARATOR=\",\", HEADER=\"true\", EOL=\"\\n\";\n",
    "LOAD MyDataSource TO EDGE  dbpedia_genre VALUES($0 synset, $1 word) WHERE $4 == \"dbpedia/genre\" USING SEPARATOR=\",\", HEADER=\"true\", EOL=\"\\n\";\n",
    "LOAD MyDataSource TO EDGE  dbpedia_genre VALUES($0 word, $1 synset) WHERE $4 == \"dbpedia/genre\" USING SEPARATOR=\",\", HEADER=\"true\", EOL=\"\\n\";\n",
    "LOAD MyDataSource TO EDGE  dbpedia_genre VALUES($0 word, $1 word) WHERE $4 == \"dbpedia/genre\" USING SEPARATOR=\",\", HEADER=\"true\", EOL=\"\\n\";\n",
    "LOAD MyDataSource TO EDGE  dbpedia_genus VALUES($0 synset, $1 synset) WHERE $4 == \"dbpedia/genus\" USING SEPARATOR=\",\", HEADER=\"true\", EOL=\"\\n\";\n",
    "LOAD MyDataSource TO EDGE  dbpedia_genus VALUES($0 synset, $1 word) WHERE $4 == \"dbpedia/genus\" USING SEPARATOR=\",\", HEADER=\"true\", EOL=\"\\n\";\n",
    "LOAD MyDataSource TO EDGE  dbpedia_genus VALUES($0 word, $1 synset) WHERE $4 == \"dbpedia/genus\" USING SEPARATOR=\",\", HEADER=\"true\", EOL=\"\\n\";\n",
    "LOAD MyDataSource TO EDGE  dbpedia_genus VALUES($0 word, $1 word) WHERE $4 == \"dbpedia/genus\" USING SEPARATOR=\",\", HEADER=\"true\", EOL=\"\\n\";\n",
    "LOAD MyDataSource TO EDGE  dbpedia_influencedBy VALUES($0 synset, $1 synset) WHERE $4 == \"dbpedia/influencedBy\" USING SEPARATOR=\",\", HEADER=\"true\", EOL=\"\\n\";\n",
    "LOAD MyDataSource TO EDGE  dbpedia_influencedBy VALUES($0 synset, $1 word) WHERE $4 == \"dbpedia/influencedBy\" USING SEPARATOR=\",\", HEADER=\"true\", EOL=\"\\n\";\n",
    "LOAD MyDataSource TO EDGE  dbpedia_influencedBy VALUES($0 word, $1 synset) WHERE $4 == \"dbpedia/influencedBy\" USING SEPARATOR=\",\", HEADER=\"true\", EOL=\"\\n\";\n",
    "LOAD MyDataSource TO EDGE  dbpedia_influencedBy VALUES($0 word, $1 word) WHERE $4 == \"dbpedia/influencedBy\" USING SEPARATOR=\",\", HEADER=\"true\", EOL=\"\\n\";\n",
    "LOAD MyDataSource TO EDGE  dbpedia_knownFor VALUES($0 synset, $1 synset) WHERE $4 == \"dbpedia/knownFor\" USING SEPARATOR=\",\", HEADER=\"true\", EOL=\"\\n\";\n",
    "LOAD MyDataSource TO EDGE  dbpedia_knownFor VALUES($0 synset, $1 word) WHERE $4 == \"dbpedia/knownFor\" USING SEPARATOR=\",\", HEADER=\"true\", EOL=\"\\n\";\n",
    "LOAD MyDataSource TO EDGE  dbpedia_knownFor VALUES($0 word, $1 synset) WHERE $4 == \"dbpedia/knownFor\" USING SEPARATOR=\",\", HEADER=\"true\", EOL=\"\\n\";\n",
    "LOAD MyDataSource TO EDGE  dbpedia_knownFor VALUES($0 word, $1 word) WHERE $4 == \"dbpedia/knownFor\" USING SEPARATOR=\",\", HEADER=\"true\", EOL=\"\\n\";\n",
    "LOAD MyDataSource TO EDGE  dbpedia_language VALUES($0 synset, $1 synset) WHERE $4 == \"dbpedia/language\" USING SEPARATOR=\",\", HEADER=\"true\", EOL=\"\\n\";\n",
    "LOAD MyDataSource TO EDGE  dbpedia_language VALUES($0 synset, $1 word) WHERE $4 == \"dbpedia/language\" USING SEPARATOR=\",\", HEADER=\"true\", EOL=\"\\n\";\n",
    "LOAD MyDataSource TO EDGE  dbpedia_language VALUES($0 word, $1 synset) WHERE $4 == \"dbpedia/language\" USING SEPARATOR=\",\", HEADER=\"true\", EOL=\"\\n\";\n",
    "LOAD MyDataSource TO EDGE  dbpedia_language VALUES($0 word, $1 word) WHERE $4 == \"dbpedia/language\" USING SEPARATOR=\",\", HEADER=\"true\", EOL=\"\\n\";\n",
    "LOAD MyDataSource TO EDGE  dbpedia_leader VALUES($0 synset, $1 synset) WHERE $4 == \"dbpedia/leader\" USING SEPARATOR=\",\", HEADER=\"true\", EOL=\"\\n\";\n",
    "LOAD MyDataSource TO EDGE  dbpedia_leader VALUES($0 synset, $1 word) WHERE $4 == \"dbpedia/leader\" USING SEPARATOR=\",\", HEADER=\"true\", EOL=\"\\n\";\n",
    "LOAD MyDataSource TO EDGE  dbpedia_leader VALUES($0 word, $1 synset) WHERE $4 == \"dbpedia/leader\" USING SEPARATOR=\",\", HEADER=\"true\", EOL=\"\\n\";\n",
    "LOAD MyDataSource TO EDGE  dbpedia_leader VALUES($0 word, $1 word) WHERE $4 == \"dbpedia/leader\" USING SEPARATOR=\",\", HEADER=\"true\", EOL=\"\\n\";\n",
    "LOAD MyDataSource TO EDGE  dbpedia_occupation VALUES($0 synset, $1 synset) WHERE $4 == \"dbpedia/occupation\" USING SEPARATOR=\",\", HEADER=\"true\", EOL=\"\\n\";\n",
    "LOAD MyDataSource TO EDGE  dbpedia_occupation VALUES($0 synset, $1 word) WHERE $4 == \"dbpedia/occupation\" USING SEPARATOR=\",\", HEADER=\"true\", EOL=\"\\n\";\n",
    "LOAD MyDataSource TO EDGE  dbpedia_occupation VALUES($0 word, $1 synset) WHERE $4 == \"dbpedia/occupation\" USING SEPARATOR=\",\", HEADER=\"true\", EOL=\"\\n\";\n",
    "LOAD MyDataSource TO EDGE  dbpedia_occupation VALUES($0 word, $1 word) WHERE $4 == \"dbpedia/occupation\" USING SEPARATOR=\",\", HEADER=\"true\", EOL=\"\\n\";\n",
    "LOAD MyDataSource TO EDGE  dbpedia_product VALUES($0 synset, $1 synset) WHERE $4 == \"dbpedia/product\" USING SEPARATOR=\",\", HEADER=\"true\", EOL=\"\\n\";\n",
    "LOAD MyDataSource TO EDGE  dbpedia_product VALUES($0 synset, $1 word) WHERE $4 == \"dbpedia/product\" USING SEPARATOR=\",\", HEADER=\"true\", EOL=\"\\n\";\n",
    "LOAD MyDataSource TO EDGE  dbpedia_product VALUES($0 word, $1 synset) WHERE $4 == \"dbpedia/product\" USING SEPARATOR=\",\", HEADER=\"true\", EOL=\"\\n\";\n",
    "LOAD MyDataSource TO EDGE  dbpedia_product VALUES($0 word, $1 word) WHERE $4 == \"dbpedia/product\" USING SEPARATOR=\",\", HEADER=\"true\", EOL=\"\\n\";\n",
    "      }\n",
    "\n",
    "\n",
    "  CREATE LOADING JOB load_job_pos_wn FOR GRAPH ConceptNet {\n",
    "        DEFINE FILENAME MyDataSource;\n",
    "        LOAD MyDataSource TO VERTEX part_of_speech VALUES($2, $1) USING SEPARATOR=\",\", HEADER=\"true\", EOL=\"\\n\";\n",
    "      }\n",
    "\n",
    "\n",
    "  CREATE LOADING JOB load_job_synsets_encoded FOR GRAPH ConceptNet {\n",
    "        DEFINE FILENAME MyDataSource;\n",
    "        LOAD MyDataSource TO VERTEX synset VALUES($0, $2, $1, $4) USING SEPARATOR=\",\", HEADER=\"true\", EOL=\"\\n\", QUOTE=\"double\";\n",
    "      }\n",
    "\n",
    "  CREATE LOADING JOB load_job_words_encoded FOR GRAPH ConceptNet {\n",
    "        DEFINE FILENAME MyDataSource;\n",
    "        LOAD MyDataSource TO VERTEX word VALUES($0, $1, $2, $3, $4) USING SEPARATOR=\",\", HEADER=\"true\", EOL=\"\\n\", QUOTE=\"double\";\n",
    "        LOAD MyDataSource TO EDGE has_pos VALUES($0 word, $2 part_of_speech) USING SEPARATOR=\",\", HEADER=\"true\", EOL=\"\\n\", QUOTE=\"double\";\n",
    "        LOAD MyDataSource TO EDGE is_pos_of VALUES($2 part_of_speech, $0 word) USING SEPARATOR=\",\", HEADER=\"true\", EOL=\"\\n\", QUOTE=\"double\";\n",
    "        LOAD MyDataSource TO EDGE has_pos VALUES($0 synset, $2 part_of_speech) USING SEPARATOR=\",\", HEADER=\"true\", EOL=\"\\n\", QUOTE=\"double\";\n",
    "        LOAD MyDataSource TO EDGE is_pos_of VALUES($2 part_of_speech, $0 synset) USING SEPARATOR=\",\", HEADER=\"true\", EOL=\"\\n\", QUOTE=\"double\";\n",
    "      }\n",
    "\n",
    "\n",
    "  END\n",
    "  ''')\n",
    "print(results)"
   ]
  },
  {
   "cell_type": "markdown",
   "metadata": {
    "id": "Nm8hvEJo7YqM"
   },
   "source": [
    "## Load Data"
   ]
  },
  {
   "cell_type": "markdown",
   "metadata": {
    "id": "K1yUUv7k5soZ"
   },
   "source": [
    "### load relationships"
   ]
  },
  {
   "cell_type": "code",
   "execution_count": 48,
   "metadata": {
    "colab": {
     "base_uri": "https://localhost:8080/"
    },
    "executionInfo": {
     "elapsed": 53059,
     "status": "ok",
     "timestamp": 1645430029279,
     "user": {
      "displayName": "Sudha Vijayakumar",
      "photoUrl": "https://lh3.googleusercontent.com/a/default-user=s64",
      "userId": "06644857756484093013"
     },
     "user_tz": 480
    },
    "id": "UWtWVHGg2O-p",
    "outputId": "9ea5ea64-db1a-499d-e805-805b337a64cf"
   },
   "outputs": [],
   "source": [
    "# Load the posts file wiht the 'load_words' job\n",
    "load_words = root+'relationships.csv'\n",
    "results = conn.uploadFile(load_words, timeout=1000000,fileTag='MyDataSource', jobName='load_job_relationships')\n",
    "# print(json.dumps(results, indent=2))"
   ]
  },
  {
   "cell_type": "markdown",
   "metadata": {
    "id": "MZtPuJFTz18V"
   },
   "source": [
    "### load pos"
   ]
  },
  {
   "cell_type": "code",
   "execution_count": 49,
   "metadata": {
    "colab": {
     "base_uri": "https://localhost:8080/"
    },
    "executionInfo": {
     "elapsed": 708,
     "status": "ok",
     "timestamp": 1645430029974,
     "user": {
      "displayName": "Sudha Vijayakumar",
      "photoUrl": "https://lh3.googleusercontent.com/a/default-user=s64",
      "userId": "06644857756484093013"
     },
     "user_tz": 480
    },
    "id": "EU19agwpRIV-",
    "outputId": "b39a3c9e-c7f3-42fa-c798-26ab1d88c4c3"
   },
   "outputs": [
    {
     "name": "stdout",
     "output_type": "stream",
     "text": [
      "[\n",
      "  {\n",
      "    \"sourceFileName\": \"Online_POST\",\n",
      "    \"statistics\": {\n",
      "      \"validLine\": 6,\n",
      "      \"rejectLine\": 0,\n",
      "      \"failedConditionLine\": 0,\n",
      "      \"notEnoughToken\": 0,\n",
      "      \"invalidJson\": 0,\n",
      "      \"oversizeToken\": 0,\n",
      "      \"vertex\": [\n",
      "        {\n",
      "          \"typeName\": \"part_of_speech\",\n",
      "          \"validObject\": 6,\n",
      "          \"noIdFound\": 0,\n",
      "          \"invalidAttribute\": 0,\n",
      "          \"invalidVertexType\": 0,\n",
      "          \"invalidPrimaryId\": 0,\n",
      "          \"invalidSecondaryId\": 0,\n",
      "          \"incorrectFixedBinaryLength\": 0\n",
      "        }\n",
      "      ],\n",
      "      \"edge\": [],\n",
      "      \"deleteVertex\": [],\n",
      "      \"deleteEdge\": []\n",
      "    }\n",
      "  }\n",
      "]\n"
     ]
    }
   ],
   "source": [
    "# Load the posts file wiht the 'load_words' job\n",
    "load_words = root+'encoded/pos_wn.csv'\n",
    "results = conn.uploadFile(load_words, timeout=100000,fileTag='MyDataSource', jobName='load_job_pos_wn')\n",
    "print(json.dumps(results, indent=2))"
   ]
  },
  {
   "cell_type": "markdown",
   "metadata": {
    "id": "jp_VKwTI5vfz"
   },
   "source": [
    "### load words and synsets"
   ]
  },
  {
   "cell_type": "code",
   "execution_count": 51,
   "metadata": {
    "colab": {
     "base_uri": "https://localhost:8080/"
    },
    "executionInfo": {
     "elapsed": 3609,
     "status": "ok",
     "timestamp": 1645430033581,
     "user": {
      "displayName": "Sudha Vijayakumar",
      "photoUrl": "https://lh3.googleusercontent.com/a/default-user=s64",
      "userId": "06644857756484093013"
     },
     "user_tz": 480
    },
    "id": "6y_PfFAT2PCC",
    "outputId": "b486bdaf-ba12-4bad-e139-1ef0c582e512"
   },
   "outputs": [
    {
     "name": "stdout",
     "output_type": "stream",
     "text": [
      "[\n",
      "  {\n",
      "    \"sourceFileName\": \"Online_POST\",\n",
      "    \"statistics\": {\n",
      "      \"validLine\": 117660,\n",
      "      \"rejectLine\": 0,\n",
      "      \"failedConditionLine\": 0,\n",
      "      \"notEnoughToken\": 0,\n",
      "      \"invalidJson\": 0,\n",
      "      \"oversizeToken\": 0,\n",
      "      \"vertex\": [\n",
      "        {\n",
      "          \"typeName\": \"synset\",\n",
      "          \"validObject\": 117659,\n",
      "          \"noIdFound\": 1,\n",
      "          \"invalidAttribute\": 0,\n",
      "          \"invalidVertexType\": 0,\n",
      "          \"invalidPrimaryId\": 0,\n",
      "          \"invalidSecondaryId\": 0,\n",
      "          \"incorrectFixedBinaryLength\": 0\n",
      "        }\n",
      "      ],\n",
      "      \"edge\": [],\n",
      "      \"deleteVertex\": [],\n",
      "      \"deleteEdge\": []\n",
      "    }\n",
      "  }\n",
      "]\n"
     ]
    }
   ],
   "source": [
    "# Load the posts file wiht the 'load_edges' job\n",
    "load_edges = root+'encoded/synsets-encoded.csv'\n",
    "results = conn.uploadFile(load_edges, timeout=100000, fileTag='MyDataSource', jobName='load_job_synsets_encoded')\n",
    "print(json.dumps(results, indent=2))"
   ]
  },
  {
   "cell_type": "code",
   "execution_count": 52,
   "metadata": {
    "colab": {
     "base_uri": "https://localhost:8080/"
    },
    "executionInfo": {
     "elapsed": 39893,
     "status": "ok",
     "timestamp": 1645430073455,
     "user": {
      "displayName": "Sudha Vijayakumar",
      "photoUrl": "https://lh3.googleusercontent.com/a/default-user=s64",
      "userId": "06644857756484093013"
     },
     "user_tz": 480
    },
    "id": "4VJAcr4pRrbW",
    "outputId": "0a54ef8c-b496-41d1-b69d-7da4d7bf8db3"
   },
   "outputs": [
    {
     "name": "stdout",
     "output_type": "stream",
     "text": [
      "[\n",
      "  {\n",
      "    \"sourceFileName\": \"Online_POST\",\n",
      "    \"statistics\": {\n",
      "      \"validLine\": 1530137,\n",
      "      \"rejectLine\": 0,\n",
      "      \"failedConditionLine\": 0,\n",
      "      \"notEnoughToken\": 0,\n",
      "      \"invalidJson\": 0,\n",
      "      \"oversizeToken\": 0,\n",
      "      \"vertex\": [\n",
      "        {\n",
      "          \"typeName\": \"word\",\n",
      "          \"validObject\": 1530135,\n",
      "          \"noIdFound\": 2,\n",
      "          \"invalidAttribute\": 0,\n",
      "          \"invalidVertexType\": 0,\n",
      "          \"invalidPrimaryId\": 0,\n",
      "          \"invalidSecondaryId\": 0,\n",
      "          \"incorrectFixedBinaryLength\": 0\n",
      "        }\n",
      "      ],\n",
      "      \"edge\": [\n",
      "        {\n",
      "          \"typeName\": \"has_pos\",\n",
      "          \"validObject\": 1530135,\n",
      "          \"noIdFound\": 2,\n",
      "          \"invalidAttribute\": 0,\n",
      "          \"invalidVertexType\": 0,\n",
      "          \"invalidPrimaryId\": 0,\n",
      "          \"invalidSecondaryId\": 0,\n",
      "          \"incorrectFixedBinaryLength\": 0\n",
      "        },\n",
      "        {\n",
      "          \"typeName\": \"has_pos\",\n",
      "          \"validObject\": 1530135,\n",
      "          \"noIdFound\": 2,\n",
      "          \"invalidAttribute\": 0,\n",
      "          \"invalidVertexType\": 0,\n",
      "          \"invalidPrimaryId\": 0,\n",
      "          \"invalidSecondaryId\": 0,\n",
      "          \"incorrectFixedBinaryLength\": 0\n",
      "        },\n",
      "        {\n",
      "          \"typeName\": \"is_pos_of\",\n",
      "          \"validObject\": 1530135,\n",
      "          \"noIdFound\": 2,\n",
      "          \"invalidAttribute\": 0,\n",
      "          \"invalidVertexType\": 0,\n",
      "          \"invalidPrimaryId\": 0,\n",
      "          \"invalidSecondaryId\": 0,\n",
      "          \"incorrectFixedBinaryLength\": 0\n",
      "        },\n",
      "        {\n",
      "          \"typeName\": \"is_pos_of\",\n",
      "          \"validObject\": 1530135,\n",
      "          \"noIdFound\": 2,\n",
      "          \"invalidAttribute\": 0,\n",
      "          \"invalidVertexType\": 0,\n",
      "          \"invalidPrimaryId\": 0,\n",
      "          \"invalidSecondaryId\": 0,\n",
      "          \"incorrectFixedBinaryLength\": 0\n",
      "        }\n",
      "      ],\n",
      "      \"deleteVertex\": [],\n",
      "      \"deleteEdge\": []\n",
      "    }\n",
      "  }\n",
      "]\n"
     ]
    }
   ],
   "source": [
    "# Load the posts file wiht the 'load_edges' job\n",
    "load_edges = root+'encoded/words_encoded.csv'\n",
    "results = conn.uploadFile(load_edges, timeout=100000, fileTag='MyDataSource', jobName='load_job_words_encoded')\n",
    "print(json.dumps(results, indent=2))"
   ]
  },
  {
   "cell_type": "markdown",
   "metadata": {
    "id": "gAFCKYK61nzx"
   },
   "source": [
    "## Exploring the Graph"
   ]
  },
  {
   "cell_type": "markdown",
   "metadata": {
    "id": "4rJ_Vedw7oms"
   },
   "source": [
    "### Get Vertex and Edge Schema"
   ]
  },
  {
   "cell_type": "code",
   "execution_count": 53,
   "metadata": {
    "colab": {
     "base_uri": "https://localhost:8080/"
    },
    "executionInfo": {
     "elapsed": 1099,
     "status": "ok",
     "timestamp": 1645430074533,
     "user": {
      "displayName": "Sudha Vijayakumar",
      "photoUrl": "https://lh3.googleusercontent.com/a/default-user=s64",
      "userId": "06644857756484093013"
     },
     "user_tz": 480
    },
    "id": "g9F25xMY1p0p",
    "outputId": "f9a9141d-1efd-4564-9c00-f72d17dae751"
   },
   "outputs": [
    {
     "name": "stdout",
     "output_type": "stream",
     "text": [
      "Verticies: ['synset', 'word', 'part_of_speech']\n",
      "Edges: ['has_pos', 'is_pos_of', 'Attribute', 'InSynset', 'Domain', 'SimilarTo', 'AlsoSee', 'IsA', 'PartOf', 'Entailment', 'VerbGroup', 'Cause', 'Antonym', 'AtLocation', 'CapableOf', 'Causes', 'CausesDesire', 'CreatedBy', 'DefinedAs', 'DerivedFrom', 'Desires', 'DistinctFrom', 'Entails', 'EtymologicallyDerivedFrom', 'EtymologicallyRelatedTo', 'FormOf', 'HasA', 'HasContext', 'HasFirstSubevent', 'HasLastSubevent', 'HasPrerequisite', 'HasProperty', 'HasSubevent', 'InstanceOf', 'LocatedNear', 'MadeOf', 'MannerOf', 'MotivatedByGoal', 'NotCapableOf', 'NotDesires', 'NotHasProperty', 'ReceivesAction', 'RelatedTo', 'SymbolOf', 'Synonym', 'UsedFor', 'dbpedia_capital', 'dbpedia_field', 'dbpedia_genre', 'dbpedia_genus', 'dbpedia_influencedBy', 'dbpedia_knownFor', 'dbpedia_language', 'dbpedia_leader', 'dbpedia_occupation', 'dbpedia_product']\n"
     ]
    }
   ],
   "source": [
    "results = conn.getVertexTypes()\n",
    "print(f\"Verticies: {results}\")\n",
    "vertices = results\n",
    "\n",
    "results = conn.getEdgeTypes()\n",
    "print(f\"Edges: {results}\")\n",
    "edges = results"
   ]
  },
  {
   "cell_type": "code",
   "execution_count": 54,
   "metadata": {
    "colab": {
     "base_uri": "https://localhost:8080/"
    },
    "executionInfo": {
     "elapsed": 7,
     "status": "ok",
     "timestamp": 1645430074534,
     "user": {
      "displayName": "Sudha Vijayakumar",
      "photoUrl": "https://lh3.googleusercontent.com/a/default-user=s64",
      "userId": "06644857756484093013"
     },
     "user_tz": 480
    },
    "id": "RrWUEQ7p2TOK",
    "outputId": "ef85eede-ba6a-4264-e47b-382830e873ce"
   },
   "outputs": [
    {
     "name": "stdout",
     "output_type": "stream",
     "text": [
      "Results for Post vertex\n",
      "{\n",
      "  \"Config\": {\n",
      "    \"TAGGABLE\": false,\n",
      "    \"STATS\": \"OUTDEGREE_BY_EDGETYPE\",\n",
      "    \"PRIMARY_ID_AS_ATTRIBUTE\": true\n",
      "  },\n",
      "  \"Attributes\": [\n",
      "    {\n",
      "      \"AttributeType\": {\n",
      "        \"Name\": \"STRING\"\n",
      "      },\n",
      "      \"IsPartOfCompositeKey\": false,\n",
      "      \"PrimaryIdAsAttribute\": false,\n",
      "      \"AttributeName\": \"name\",\n",
      "      \"HasIndex\": false,\n",
      "      \"internalAttribute\": false,\n",
      "      \"IsPrimaryKey\": false\n",
      "    },\n",
      "    {\n",
      "      \"AttributeType\": {\n",
      "        \"Name\": \"STRING\"\n",
      "      },\n",
      "      \"IsPartOfCompositeKey\": false,\n",
      "      \"PrimaryIdAsAttribute\": false,\n",
      "      \"AttributeName\": \"pos\",\n",
      "      \"HasIndex\": false,\n",
      "      \"internalAttribute\": false,\n",
      "      \"IsPrimaryKey\": false\n",
      "    },\n",
      "    {\n",
      "      \"AttributeType\": {\n",
      "        \"Name\": \"STRING\"\n",
      "      },\n",
      "      \"IsPartOfCompositeKey\": false,\n",
      "      \"PrimaryIdAsAttribute\": false,\n",
      "      \"AttributeName\": \"conceptUri\",\n",
      "      \"HasIndex\": false,\n",
      "      \"internalAttribute\": false,\n",
      "      \"IsPrimaryKey\": false\n",
      "    },\n",
      "    {\n",
      "      \"AttributeType\": {\n",
      "        \"Name\": \"STRING\"\n",
      "      },\n",
      "      \"IsPartOfCompositeKey\": false,\n",
      "      \"PrimaryIdAsAttribute\": false,\n",
      "      \"AttributeName\": \"label\",\n",
      "      \"HasIndex\": false,\n",
      "      \"internalAttribute\": false,\n",
      "      \"IsPrimaryKey\": false\n",
      "    }\n",
      "  ],\n",
      "  \"PrimaryId\": {\n",
      "    \"AttributeType\": {\n",
      "      \"Name\": \"STRING\"\n",
      "    },\n",
      "    \"IsPartOfCompositeKey\": false,\n",
      "    \"PrimaryIdAsAttribute\": true,\n",
      "    \"AttributeName\": \"id\",\n",
      "    \"HasIndex\": false,\n",
      "    \"internalAttribute\": false,\n",
      "    \"IsPrimaryKey\": false\n",
      "  },\n",
      "  \"Name\": \"word\"\n",
      "}\n",
      "-----------------\n",
      "Results for liked edge\n",
      "{}\n"
     ]
    }
   ],
   "source": [
    "\n",
    "print(f\"Results for Post vertex\")\n",
    "pprint(conn.getVertexType(\"word\"))\n",
    "\n",
    "print(\"-----------------\")\n",
    "print(f\"Results for liked edge\")\n",
    "pprint(conn.getEdgeType(\"type\"))\n"
   ]
  },
  {
   "cell_type": "markdown",
   "metadata": {
    "id": "jWUaoSAa5ir6"
   },
   "source": [
    "## Counting Data"
   ]
  },
  {
   "cell_type": "code",
   "execution_count": 55,
   "metadata": {
    "colab": {
     "base_uri": "https://localhost:8080/"
    },
    "executionInfo": {
     "elapsed": 8927,
     "status": "ok",
     "timestamp": 1645430083457,
     "user": {
      "displayName": "Sudha Vijayakumar",
      "photoUrl": "https://lh3.googleusercontent.com/a/default-user=s64",
      "userId": "06644857756484093013"
     },
     "user_tz": 480
    },
    "id": "rkFt8Y9I3kYp",
    "outputId": "cc2e33b6-1179-4fe3-eefa-e0b6420a4b98"
   },
   "outputs": [
    {
     "name": "stdout",
     "output_type": "stream",
     "text": [
      "Vertex Counts\n",
      "There are 1765187 synset vertices in the graph\n",
      "There are 1647764 word vertices in the graph\n",
      "There are 8 part_of_speech vertices in the graph\n",
      "--------------\n",
      "Edge Counts\n",
      "There are 1793122 has_pos edges in the graph\n",
      "There are 3060270 is_pos_of edges in the graph\n",
      "There are 2556 Attribute edges in the graph\n",
      "There are 827764 InSynset edges in the graph\n",
      "There are 35816 Domain edges in the graph\n",
      "There are 120088 SimilarTo edges in the graph\n",
      "There are 5788 AlsoSee edges in the graph\n",
      "There are 1255492 IsA edges in the graph\n",
      "There are 140344 PartOf edges in the graph\n",
      "There are 1632 Entailment edges in the graph\n",
      "There are 3496 VerbGroup edges in the graph\n",
      "There are 880 Cause edges in the graph\n",
      "There are 72080 Antonym edges in the graph\n",
      "There are 110744 AtLocation edges in the graph\n",
      "There are 90704 CapableOf edges in the graph\n",
      "There are 67156 Causes edges in the graph\n",
      "There are 18752 CausesDesire edges in the graph\n",
      "There are 1048 CreatedBy edges in the graph\n",
      "There are 8680 DefinedAs edges in the graph\n",
      "There are 707288 DerivedFrom edges in the graph\n",
      "There are 12680 Desires edges in the graph\n",
      "There are 12436 DistinctFrom edges in the graph\n",
      "There are 1612 Entails edges in the graph\n",
      "There are 168 EtymologicallyDerivedFrom edges in the graph\n",
      "There are 112892 EtymologicallyRelatedTo edges in the graph\n",
      "There are 1411784 FormOf edges in the graph\n",
      "There are 22128 HasA edges in the graph\n",
      "There are 827632 HasContext edges in the graph\n",
      "There are 13380 HasFirstSubevent edges in the graph\n",
      "There are 11488 HasLastSubevent edges in the graph\n",
      "There are 90780 HasPrerequisite edges in the graph\n",
      "There are 33712 HasProperty edges in the graph\n",
      "There are 100848 HasSubevent edges in the graph\n",
      "There are 5728 InstanceOf edges in the graph\n",
      "There are 196 LocatedNear edges in the graph\n",
      "There are 2176 MadeOf edges in the graph\n",
      "There are 49548 MannerOf edges in the graph\n",
      "There are 37936 MotivatedByGoal edges in the graph\n",
      "There are 1316 NotCapableOf edges in the graph\n",
      "There are 11544 NotDesires edges in the graph\n",
      "There are 1288 NotHasProperty edges in the graph\n",
      "There are 24144 ReceivesAction edges in the graph\n",
      "There are 6301092 RelatedTo edges in the graph\n",
      "There are 16 SymbolOf edges in the graph\n",
      "There are 860264 Synonym edges in the graph\n",
      "There are 159024 UsedFor edges in the graph\n",
      "There are 1760 dbpedia_capital edges in the graph\n",
      "There are 2572 dbpedia_field edges in the graph\n",
      "There are 15080 dbpedia_genre edges in the graph\n",
      "There are 11740 dbpedia_genus edges in the graph\n",
      "There are 5072 dbpedia_influencedBy edges in the graph\n",
      "There are 2400 dbpedia_knownFor edges in the graph\n",
      "There are 3620 dbpedia_language edges in the graph\n",
      "There are 336 dbpedia_leader edges in the graph\n",
      "There are 4172 dbpedia_occupation edges in the graph\n",
      "There are 1972 dbpedia_product edges in the graph\n"
     ]
    }
   ],
   "source": [
    "print(\"Vertex Counts\")\n",
    "for vertex in vertices:\n",
    "  print(f\"There are {conn.getVertexCount(vertex)} {vertex} vertices in the graph\")\n",
    "\n",
    "print(\"--------------\")\n",
    "print(\"Edge Counts\")\n",
    "for edge in edges:\n",
    "  print(f\"There are {conn.getEdgeCount(edge)} {edge} edges in the graph\")"
   ]
  },
  {
   "cell_type": "markdown",
   "metadata": {
    "id": "1J9PbEfeJZdY"
   },
   "source": [
    "# Clear the Whole Graph\n",
    "DANGER ZONE"
   ]
  },
  {
   "cell_type": "code",
   "execution_count": null,
   "metadata": {
    "colab": {
     "base_uri": "https://localhost:8080/",
     "height": 89
    },
    "executionInfo": {
     "elapsed": 35033,
     "status": "ok",
     "timestamp": 1645432641793,
     "user": {
      "displayName": "Sudha Vijayakumar",
      "photoUrl": "https://lh3.googleusercontent.com/a/default-user=s64",
      "userId": "06644857756484093013"
     },
     "user_tz": 480
    },
    "id": "2uNaRku7ixVK",
    "outputId": "3f255ce4-9b54-4f29-b14b-88407850fdaf"
   },
   "outputs": [],
   "source": [
    "# conn.gsql('''\n",
    "# USE GLOBAL\n",
    "# DROP ALL\n",
    "# ''')"
   ]
  },
  {
   "cell_type": "code",
   "execution_count": null,
   "metadata": {},
   "outputs": [],
   "source": []
  }
 ],
 "metadata": {
  "accelerator": "GPU",
  "colab": {
   "collapsed_sections": [
    "K1yUUv7k5soZ",
    "gAFCKYK61nzx",
    "4rJ_Vedw7oms",
    "jWUaoSAa5ir6"
   ],
   "name": "LanguageModel_CN_UniqueEdge.ipynb",
   "provenance": [
    {
     "file_id": "1HWeFVqTxkOsPxtEp_wwLNQiLlOqsKS5L",
     "timestamp": 1644652529965
    },
    {
     "file_id": "15tSSqBjkhQZ_CZ53Y5kug7017-RqwxYc",
     "timestamp": 1644531582665
    },
    {
     "file_id": "1JhYcnGVWT51KswcXZzyPzKqCoPP5htcC",
     "timestamp": 1644360292961
    },
    {
     "file_id": "1k5QkLupaKnOIRrq3Aj1E82mtkT9uQZhO",
     "timestamp": 1628101159582
    }
   ]
  },
  "kernelspec": {
   "display_name": "Python 3",
   "language": "python",
   "name": "python3"
  },
  "language_info": {
   "codemirror_mode": {
    "name": "ipython",
    "version": 3
   },
   "file_extension": ".py",
   "mimetype": "text/x-python",
   "name": "python",
   "nbconvert_exporter": "python",
   "pygments_lexer": "ipython3",
   "version": "3.8.8"
  }
 },
 "nbformat": 4,
 "nbformat_minor": 4
}
